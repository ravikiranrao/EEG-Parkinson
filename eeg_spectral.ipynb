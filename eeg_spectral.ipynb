{
 "cells": [
  {
   "cell_type": "markdown",
   "metadata": {
    "pycharm": {
     "name": "#%% md\n"
    }
   },
   "source": [
    "This file is used for generating Spectral Power Vectors (SPV) from *Raw* features. The *Raw* EEG features are obtained using `matlab_files/eeg_csp_raw_run.m`. Refer Section III C(1) in the paper for feature extraction method. The highlighted part in the following image indicate the pipeline of the current file.\n",
    "\n",
    "Note: The configurations, like hyperparameter values, present in this file are not the final configurations as reported in the paper. The present configurations are maybe mutated for additional experiments. However, results reported in the paper can be reproduced by plugging in the appropriate configurations as mentioned in the paper. In this code `NC` means Normal Controls (equivalent to `HC` as referred in the paper)\n",
    "\n",
    "![Generating Spectral Power Vectors from EEG Signals](images/raw_SPV.png)"
   ]
  },
  {
   "cell_type": "markdown",
   "metadata": {
    "pycharm": {
     "name": "#%% md\n"
    }
   },
   "source": [
    "(Optional) Mount Gdrive on Google Colab"
   ]
  },
  {
   "cell_type": "code",
   "execution_count": null,
   "metadata": {
    "pycharm": {
     "name": "#%%\n"
    }
   },
   "outputs": [
    {
     "name": "stdout",
     "output_type": "stream",
     "text": [
      "Mounted at /content/drive\n"
     ]
    }
   ],
   "source": [
    "from google.colab import drive\n",
    "drive.mount('/content/drive')"
   ]
  },
  {
   "cell_type": "markdown",
   "metadata": {
    "id": "82UyFVxYe-Sh",
    "pycharm": {
     "name": "#%% md\n"
    }
   },
   "source": [
    "# Imports"
   ]
  },
  {
   "cell_type": "code",
   "execution_count": null,
   "metadata": {
    "id": "z9EN2APww_hy",
    "pycharm": {
     "name": "#%%\n"
    }
   },
   "outputs": [],
   "source": [
    "from scipy.signal import butter\n",
    "from scipy.signal import filtfilt\n",
    "from scipy.signal import iirfilter, lfilter\n",
    "from scipy.fft import fft\n",
    "import os\n",
    "import xlrd\n",
    "import pandas as pd\n",
    "import numpy as np\n",
    "from scipy.io import loadmat, savemat\n",
    "from math import floor\n",
    "from tqdm.notebook import tqdm\n",
    "from sklearn.decomposition import PCA\n",
    "from sklearn.model_selection import RepeatedKFold\n",
    "from sklearn.model_selection import cross_val_score, GridSearchCV\n",
    "from sklearn.model_selection import train_test_split, cross_val_predict\n",
    "from sklearn.metrics import confusion_matrix\n",
    "from sklearn.metrics import classification_report, accuracy_score, make_scorer\n",
    "from sklearn.model_selection import KFold\n",
    "from sklearn.model_selection import GridSearchCV \n",
    "from sklearn.svm import SVC\n",
    "from sklearn.naive_bayes import GaussianNB\n",
    "import os\n",
    "import pandas as pd\n",
    "from math import floor\n",
    "import numpy as np\n",
    "from scipy.stats import sem\n",
    "from numpy import mean\n",
    "from numpy import std\n",
    "from sklearn.datasets import make_classification\n",
    "from matplotlib import pyplot"
   ]
  },
  {
   "cell_type": "markdown",
   "metadata": {
    "pycharm": {
     "name": "#%% md\n"
    }
   },
   "source": [
    "# Signal Processing"
   ]
  },
  {
   "cell_type": "code",
   "execution_count": null,
   "metadata": {
    "id": "4hMBbbF4xDWN",
    "pycharm": {
     "name": "#%%\n"
    }
   },
   "outputs": [],
   "source": [
    "def amplitude_reduction(data, threshold):\n",
    "  data[data >= threshold] = 0\n",
    "  data[data <= -threshold] = 0\n",
    "  #normalized = (data-min(data))/(max(data)-min(data)) # normalize\n",
    "  return data\n",
    "\n",
    "# butter band_pass_filter\n",
    "def butter_bandpass_filter(data, lowcut, highcut, fs, order=7):\n",
    "    nyq = 0.5 * fs\n",
    "    low = lowcut / nyq\n",
    "    high = highcut / nyq\n",
    "    b, a = butter(order, [low, high], btype='band')\n",
    "    #b, a = iirfilter(N=order, Wn = [low, high], btype='bandpass', ftype='butter', fs=fs)\n",
    "    out = lfilter(b, a, data)\n",
    "    #data = amplitude_reduction(data, 85) # amplitude thresholding\n",
    "    #out = filtfilt(b, a, data)\n",
    "    return out\n",
    "\n",
    "# alpha spectral band\n",
    "def alpha_BP(data):\n",
    "    return butter_bandpass_filter(data, 8, 13, 128)\n",
    "\n",
    "# Beta spectral band\n",
    "def beta_BP(data):\n",
    "    return butter_bandpass_filter(data, 13, 30, 128)\n",
    "\n",
    "# Gamma spectral band\n",
    "def gamma_BP(data):\n",
    "    return butter_bandpass_filter(data, 30, 49, 128)\n",
    "\n",
    "\n",
    "# Band power AKA sum of squares of Fast Fourier Transform (FFT) coefficients\n",
    "\n",
    "def average_intensity(band):\n",
    "    return sum(np.square(abs(band)))\n",
    "\n",
    "\n",
    "# Alpha Beta Gamma Calculation\n",
    "def alpha_beta_gamma_calc(data_eeg,max_channel):\n",
    "    alphas = []\n",
    "    betas = []\n",
    "    gammas = []\n",
    "\n",
    "    for i in range(0,max_channel,1):\n",
    "        data = data_eeg[i,:]\n",
    "        alphas.append(average_intensity(fft(alpha_BP(data))))\n",
    "        betas.append(average_intensity(fft(beta_BP(data))))\n",
    "        gammas.append(average_intensity(fft(gamma_BP(data))))\n",
    "\n",
    "    return np.concatenate((alphas,betas, gammas), axis=None)\n",
    "\n",
    "\n",
    "# Feature Extraction Function\n",
    "def feature_eeg_xl(dir, seconds, sampling_rate):\n",
    "    final_feature_mat = []\n",
    "    y_pd_nc = []\n",
    "    y_emotions = []\n",
    "    for root, dire, filename in tqdm(sorted(os.walk(dir))):\n",
    "      for files in (filename):\n",
    "        if files.endswith(\".xls\") or files.endswith(\".xlsx\"): \n",
    "            #print('Genrating Features for file = ',root, dire, files)\n",
    "            M_data = pd.read_excel(os.path.join(root, files), header=None)\n",
    "            eeg_data = np.transpose(M_data.to_numpy())\n",
    "            epochs = floor(eeg_data.shape[1]/(seconds*sampling_rate))\n",
    "            for i in range(epochs):\n",
    "              eeg_split_data = eeg_data[:, (i)*seconds*sampling_rate:(i+1)*seconds*sampling_rate]\n",
    "              final_feature_mat.append(alpha_beta_gamma_calc(eeg_split_data, 14))\n",
    "        else:\n",
    "            continue\n",
    "    return np.array(final_feature_mat)"
   ]
  },
  {
   "cell_type": "markdown",
   "metadata": {
    "pycharm": {
     "name": "#%% md\n"
    }
   },
   "source": [
    "# Feature Extraction"
   ]
  },
  {
   "cell_type": "code",
   "execution_count": null,
   "metadata": {
    "colab": {
     "base_uri": "https://localhost:8080/",
     "height": 605,
     "referenced_widgets": [
      "cb62e652d68d4ef880a0a51d6326c073",
      "5514ffe2bbce4446b866295c8d17d342",
      "84cf3831ab9e47babc73a9b679390927",
      "ac7ad5f0c36348d49c6e59fac5283779",
      "dd8c41f04fae468dba910b03b628c1f1",
      "b8223bf5ac9d40b1aac927e49ec1e2c6",
      "7aa22614169c41da8d60c27cc5df14f4",
      "32c71be891cb44678b652b9e0216a506",
      "5b76bdabf2af4398b8a4c034d9cc6841",
      "a04b645faefa4c2dae723e1f0b13267f",
      "5951777ccd6f43dca3fec502886e1570",
      "5c02aca2b2ca4d43935ab91ad75dcb39",
      "a2e864a8bc7e413895e5c19b8d526943",
      "f0c2b8fe1dde44ee9e7604336fe9e9b8",
      "d14a1630786c4e04902323e0bb458725",
      "84635ce05bf6423f9d0c781a39958e9a",
      "2697b81dec0542c589af6d50ded638d4",
      "ac4764f6b1c6420faeb3bd72a722f8dd",
      "9327ac9f550a45df8fa2d71e22b39113",
      "73e2f01975d94375900a037011d8f8fc",
      "b7f1b393d5d44fd9932c29a009ec783f",
      "dcb5e59be1b047d38c6e79a95a02bc1c",
      "889ca5f05f1a49a1bbd0fe6c6fa9e3dd",
      "8771bf781e2f485ebb56616ac2fe4739",
      "99efccdafa344fa39913021b1eb18d95",
      "178fc5f124614e67b8e910db47daa695",
      "a3072c1987404b9cad413e14c60c9d3a",
      "f719bf60952546ecae11405ab9cdce86",
      "04ecca386b8c4fa88239429c4777b83f",
      "5c4593eff5904e3e8605719c2de253ac",
      "6f8457f2d56e40588a87ea4e54b719b9",
      "258d8cf232864b7a90e5d4dde35aa3c2",
      "3b9f96a195134e8383678310a4a310cc",
      "51cf0cd025db43bd86259be6664c2ad5",
      "69075bf3be514412ae67245fd90411e4",
      "f5a956aa64494c0cbb6a31fbefadc233",
      "12333f4368a74f129446170057731ba5",
      "13683cbcb4a240eea4c0469e51466103",
      "18af025ecae94fb7b2a4c7ab94b0e388",
      "94ec0689e43046179a18863a3423f1cd",
      "a42ef756f0ad4994a42339276d525c58",
      "c8850acb0d8743c6ae8b7f1cbc1a934e",
      "1846e49f7a9e420ab8d35ab9c9305bbc",
      "8ae41224663d42d9bec8e3d4c6b82dff",
      "21ce21b266e147c6bc9fb50c763e2aac",
      "89464591bbcc4438aff8c95c168ae92a",
      "a819e58a8f264b1480d0b0eb83892003",
      "397117ad727145d89354e30b5170a3e2",
      "496df9f339d04b4da78904c7c6ba015b",
      "1ba9bcc8d7004d6c834399189d576a00",
      "430ee18d937b4f12b2d55baa6af0376e",
      "fb652dd204db41328df440b9993a3ccb",
      "b096f55e4c7f4f4fb3b51461a7ac49d6",
      "8666149309c04c26990b38447d75cf08",
      "959bba2b78084a3e981a0e27ff3d1b78",
      "5f8f94227fb54a7c99ad3b900b66937c",
      "07514b36a3cb4cbc85545ab94857473c",
      "7fe9581c36ce4f8f8d981d0e7da213dc",
      "e75bc5181c90441d8de9da03d0e8f55b",
      "a55da349f0104966b14a18c06e8fd337",
      "46d989db78e3457794c3d2c16e11626d",
      "a02898ab4f7e4bc7827a8b2f03576762",
      "6a93fd0637dc48d38c2abcb20551b28e",
      "fb7fab8dd5be4502acc385fc3dfdce93",
      "bb5bebc975ec486ba6795f5b78ca3ef9",
      "ecb0bb006215412b9dcbf82fdf54c784",
      "b4419b27be334ad48132c68cedb17b08",
      "150f8a02acb5433db769fdfa06168384",
      "b269202749724633a2acd690c8e46956",
      "3161167607b04278940d9264369132a8",
      "b19352cd25344b0e87f01e07721bceff",
      "5be0dfe535e54a3fa2a1f1c58724866d",
      "0dea1fbfc6404541b68ecd402d5c5970",
      "c7507f071f834fe897cbf04b3f98186c",
      "08ef7f4ffa6146aca6c622c6c228ebf7",
      "ffe0627a07284fd0be9d9616581b7287",
      "ffa8a89568f24d2195a49dfa24a39a6f",
      "7805ee279a884888a7207475edf1b4f1",
      "71c4ba2400594dfab11df690937e71a0",
      "5b960929961b4acd9c75379e13b29d19",
      "19b6b5fde0174c33960c5736e838f592",
      "d87ab38b412046e296fd986bba7a3c45",
      "e01a6c6d11b943b5b0ac103c65882763",
      "267d1c943cbf4add9338c171171af458",
      "de89d5a36be247fc875b8159ffda0441",
      "4ac7156a3ebc46b9ab634ee52b8a9e49",
      "26734588ee894a2f8d29c6da7ab4a724",
      "b3fe4cae04e54cab835e0b75a48d11d8",
      "2b0743b5bf10417daf840b5dd62e4bbe",
      "5ecfcce2e17f4142808d2f94bcb10fab",
      "9bfc307c7f3a488dbb9057a8df524697",
      "959a7dfaa2a64a11912ad8217bc2641d",
      "77f377aa13c94c08849e0dfc39ba3b16",
      "e3e957b2d23d44f3bf05e2281ada1b8f",
      "336f6764e6ef44abbf9443ff9232ba81",
      "b2860935b4cb4c7bb171e374e63157a5"
     ]
    },
    "id": "cOBsLo24ScJY",
    "outputId": "3c3bc31c-ac89-4abf-e1ff-dca8aa80910a",
    "pycharm": {
     "is_executing": true,
     "name": "#%%\n"
    }
   },
   "outputs": [],
   "source": [
    "dir1 = \"/content/drive/MyDrive/PD_NC DATABASE_FINAL\"\n",
    "PD_NC = ['NC', 'PD']\n",
    "Emotions = ['E1','E2','E3','E4','E5','E6']\n",
    "#Emotions = ['E1']\n",
    "seconds = 5\n",
    "sampling_rate =128\n",
    "feature_mat = np.empty((0,42))\n",
    "y_vec_emot = np.array([])\n",
    "y_vec_pdnc = np.array([])\n",
    "subject_id = np.array([])\n",
    "\n",
    "for pdnc in PD_NC:\n",
    "  for emot in Emotions:\n",
    "    dir2 = os.path.join(dir1, pdnc, emot)\n",
    "    emot_mat = feature_eeg_xl(dir2, seconds, sampling_rate)\n",
    "    y_vec_emot = np.concatenate((y_vec_emot, [emot]*emot_mat.shape[0]), axis = None)\n",
    "    y_vec_pdnc = np.concatenate((y_vec_pdnc, [pdnc]*emot_mat.shape[0]), axis = None)\n",
    "    feature_mat = np.concatenate((feature_mat, emot_mat), axis = 0)\n",
    "    subject_id = np.concatenate((subject_id, emot_mat[1]), axis=None)"
   ]
  },
  {
   "cell_type": "code",
   "execution_count": null,
   "metadata": {
    "colab": {
     "base_uri": "https://localhost:8080/"
    },
    "id": "IFhahxgAhrMY",
    "outputId": "043b6947-1dc5-4320-959f-8e6da70f6441",
    "pycharm": {
     "is_executing": true,
     "name": "#%%\n"
    }
   },
   "outputs": [],
   "source": [
    "print(feature_mat.shape)\n",
    "print(y_vec_emot.shape)\n",
    "print(y_vec_pdnc.shape)\n",
    "print(subject_id.shape)"
   ]
  },
  {
   "cell_type": "code",
   "execution_count": null,
   "metadata": {
    "id": "foxOsqqR8ZAf",
    "pycharm": {
     "name": "#%%\n"
    }
   },
   "outputs": [],
   "source": [
    "full_feat = feature_mat"
   ]
  },
  {
   "cell_type": "markdown",
   "metadata": {
    "pycharm": {
     "name": "#%% md\n"
    }
   },
   "source": [
    "## Full PD-NC Labels"
   ]
  },
  {
   "cell_type": "code",
   "execution_count": null,
   "metadata": {
    "colab": {
     "base_uri": "https://localhost:8080/"
    },
    "id": "kcY-50daT8Ct",
    "outputId": "bfe71db3-f9a9-4263-8ca7-8a352b91f28c",
    "pycharm": {
     "is_executing": true,
     "name": "#%%\n"
    }
   },
   "outputs": [],
   "source": [
    "# Full PDNC labels\n",
    "df_y_pdnc = pd.DataFrame(y_vec_pdnc, dtype='string')\n",
    "labels_pdnc = {'PD':1, 'NC':0}\n",
    "df_y_pdnc = df_y_pdnc.replace(labels_pdnc)\n",
    "full_pdnc_labels = df_y_pdnc[0].to_numpy()\n",
    "full_pdnc_labels"
   ]
  },
  {
   "cell_type": "markdown",
   "metadata": {
    "pycharm": {
     "name": "#%% md\n"
    }
   },
   "source": [
    "## Full Multiclass labels"
   ]
  },
  {
   "cell_type": "code",
   "execution_count": null,
   "metadata": {
    "colab": {
     "base_uri": "https://localhost:8080/"
    },
    "id": "wCPtBVS98thA",
    "outputId": "60bcf624-6fea-40c9-cda1-70a7f6ac02e6",
    "pycharm": {
     "is_executing": true,
     "name": "#%%\n"
    }
   },
   "outputs": [],
   "source": [
    "# full multi labels\n",
    "df_y_multi = pd.DataFrame(y_vec_emot, dtype='string')\n",
    "labels_multi = {'E1': 1, 'E2':2, 'E3':3, 'E4':4, 'E5':5, 'E6':6}\n",
    "df_y_multi = df_y_multi.replace(labels_multi)\n",
    "full_multi_labels = df_y_multi[0].to_numpy()\n",
    "full_multi_labels"
   ]
  },
  {
   "cell_type": "markdown",
   "metadata": {
    "pycharm": {
     "name": "#%% md\n"
    }
   },
   "source": [
    "## Full HV-LV Labels"
   ]
  },
  {
   "cell_type": "code",
   "execution_count": null,
   "metadata": {
    "colab": {
     "base_uri": "https://localhost:8080/"
    },
    "id": "TkMgIWI5_tGi",
    "outputId": "83d6e605-b855-4b6b-a331-b0035a20e66a",
    "pycharm": {
     "is_executing": true,
     "name": "#%%\n"
    }
   },
   "outputs": [],
   "source": [
    "#full hvlv labels\n",
    "df_y_hvlv = pd.DataFrame(y_vec_emot, dtype='string')\n",
    "labels_hvlv = {'E1':0, 'E2':1, 'E3':0, 'E4':0, 'E5':1, 'E6':0}\n",
    "df_y_hvlv = df_y_hvlv.replace(labels_hvlv)\n",
    "full_hvlv_labels = df_y_hvlv[0].to_numpy()\n",
    "full_hvlv_labels"
   ]
  },
  {
   "cell_type": "markdown",
   "metadata": {
    "pycharm": {
     "name": "#%% md\n"
    }
   },
   "source": [
    "## Fl HA-LA Labels"
   ]
  },
  {
   "cell_type": "code",
   "execution_count": null,
   "metadata": {
    "colab": {
     "base_uri": "https://localhost:8080/"
    },
    "id": "L4KRMm1HAu4z",
    "outputId": "a984e994-bf49-4553-e16a-0b9d6ea69a4d",
    "pycharm": {
     "is_executing": true,
     "name": "#%%\n"
    }
   },
   "outputs": [],
   "source": [
    "# full hala labels\n",
    "\n",
    "df_y_hala = pd.DataFrame(y_vec_emot, dtype='string')\n",
    "labels_hala = {'E1':0, 'E2':1, 'E3':1, 'E4':1, 'E5':1, 'E6':1}\n",
    "df_y_hala = df_y_hala.replace(labels_hala)\n",
    "full_hala_labels = df_y_hala[0].to_numpy()\n",
    "full_hala_labels"
   ]
  },
  {
   "cell_type": "markdown",
   "metadata": {
    "pycharm": {
     "name": "#%% md\n"
    }
   },
   "source": [
    "## Sad data and Labels"
   ]
  },
  {
   "cell_type": "code",
   "execution_count": null,
   "metadata": {
    "colab": {
     "base_uri": "https://localhost:8080/"
    },
    "id": "gJTs-JaSA-wt",
    "outputId": "692afd35-f9fd-415e-9080-bb9c15e25d06",
    "pycharm": {
     "is_executing": true,
     "name": "#%%\n"
    }
   },
   "outputs": [],
   "source": [
    "# E1 data and labels\n",
    "\n",
    "df_E = pd.DataFrame(feature_mat)\n",
    "df_E[len(df_E.columns)] = df_y_pdnc\n",
    "df_E[len(df_E.columns)] = df_y_multi\n",
    "\n",
    "df_E1 = df_E.loc[df_E[43] == 1]\n",
    "\n",
    "E1_feat = df_E1.iloc[:, :42].to_numpy()\n",
    "E1_pdnc_labels = df_E1.iloc[:, 42].to_numpy()\n",
    "E1_subject_id = df_E1.iloc[:, 44].to_numpy()\n",
    "print(E1_feat)\n",
    "print(E1_pdnc_labels)"
   ]
  },
  {
   "cell_type": "markdown",
   "metadata": {
    "pycharm": {
     "name": "#%% md\n"
    }
   },
   "source": [
    "## Happy data labels"
   ]
  },
  {
   "cell_type": "code",
   "execution_count": null,
   "metadata": {
    "colab": {
     "base_uri": "https://localhost:8080/"
    },
    "id": "rYbw2gxpFKxo",
    "outputId": "69655af5-0e31-40e2-a5a8-f12ae4af6267",
    "pycharm": {
     "is_executing": true,
     "name": "#%%\n"
    }
   },
   "outputs": [],
   "source": [
    "# E2 data and labels\n",
    "df_E2 = df_E.loc[df_E[43] == 2]\n",
    "\n",
    "E2_feat = df_E2.iloc[:, :42].to_numpy()\n",
    "E2_pdnc_labels = df_E2.iloc[:, 42].to_numpy()\n",
    "E2_subject_id = df_E2.iloc[:, 44].to_numpy()\n",
    "print(E2_feat)\n",
    "print(E2_pdnc_labels)"
   ]
  },
  {
   "cell_type": "markdown",
   "metadata": {
    "pycharm": {
     "name": "#%% md\n"
    }
   },
   "source": [
    "## Fear data and labels"
   ]
  },
  {
   "cell_type": "code",
   "execution_count": null,
   "metadata": {
    "colab": {
     "base_uri": "https://localhost:8080/"
    },
    "id": "2lAr2aQ9F6pV",
    "outputId": "5478761c-29c8-4708-ed6b-a8cba8099cef",
    "pycharm": {
     "is_executing": true,
     "name": "#%%\n"
    }
   },
   "outputs": [],
   "source": [
    "# E3 data and labels\n",
    "df_E3 = df_E.loc[df_E[43] == 3]\n",
    "\n",
    "E3_feat = df_E3.iloc[:, :42].to_numpy()\n",
    "E3_pdnc_labels = df_E3.iloc[:, 42].to_numpy()\n",
    "E3_subject_id = df_E3.iloc[:, 44].to_numpy()\n",
    "print(E3_feat)\n",
    "print(E3_pdnc_labels)"
   ]
  },
  {
   "cell_type": "markdown",
   "metadata": {
    "pycharm": {
     "name": "#%% md\n"
    }
   },
   "source": [
    "## Disgust data and Labels"
   ]
  },
  {
   "cell_type": "code",
   "execution_count": null,
   "metadata": {
    "colab": {
     "base_uri": "https://localhost:8080/"
    },
    "id": "zTQxCm4TGJzu",
    "outputId": "6904a8d0-2ca6-46de-e05d-b05e1c0ec54e",
    "pycharm": {
     "is_executing": true,
     "name": "#%%\n"
    }
   },
   "outputs": [],
   "source": [
    "# E4 data and labels\n",
    "df_E4 = df_E.loc[df_E[43] == 4]\n",
    "\n",
    "E4_feat = df_E4.iloc[:, :42].to_numpy()\n",
    "E4_pdnc_labels = df_E4.iloc[:, 42].to_numpy()\n",
    "E4_subject_id = df_E4.iloc[:, 44].to_numpy()\n",
    "print(E4_feat)\n",
    "print(E4_pdnc_labels)"
   ]
  },
  {
   "cell_type": "markdown",
   "metadata": {
    "pycharm": {
     "name": "#%% md\n"
    }
   },
   "source": [
    "## Surprise data and Labels"
   ]
  },
  {
   "cell_type": "code",
   "execution_count": null,
   "metadata": {
    "colab": {
     "base_uri": "https://localhost:8080/"
    },
    "id": "6oiKIiiKGZAF",
    "outputId": "1f056ff4-e679-4839-dc1e-93a3c49f9880",
    "pycharm": {
     "is_executing": true,
     "name": "#%%\n"
    }
   },
   "outputs": [],
   "source": [
    "# E5 data and labels\n",
    "df_E5 = df_E.loc[df_E[43] == 5]\n",
    "\n",
    "E5_feat = df_E5.iloc[:, :42].to_numpy()\n",
    "E5_pdnc_labels = df_E5.iloc[:, 42].to_numpy()\n",
    "E5_subject_id = df_E5.iloc[:, 44].to_numpy()\n",
    "print(E5_feat)\n",
    "print(E5_pdnc_labels)"
   ]
  },
  {
   "cell_type": "markdown",
   "metadata": {
    "pycharm": {
     "name": "#%% md\n"
    }
   },
   "source": [
    "## Anger data and labels"
   ]
  },
  {
   "cell_type": "code",
   "execution_count": null,
   "metadata": {
    "colab": {
     "base_uri": "https://localhost:8080/"
    },
    "id": "7hz1IfbKGlr6",
    "outputId": "faba552f-23ad-4f18-fde1-f741339948b3",
    "pycharm": {
     "is_executing": true,
     "name": "#%%\n"
    }
   },
   "outputs": [],
   "source": [
    "# E6 data and labels\n",
    "df_E6 = df_E.loc[df_E[43] == 6]\n",
    "\n",
    "E6_feat = df_E6.iloc[:, :42].to_numpy()\n",
    "E6_pdnc_labels = df_E6.iloc[:, 42].to_numpy()\n",
    "E6_subject_id = df_E6.iloc[:, 44].to_numpy()\n",
    "print(E6_feat)\n",
    "print(E6_pdnc_labels)"
   ]
  },
  {
   "cell_type": "markdown",
   "metadata": {
    "pycharm": {
     "name": "#%% md\n"
    }
   },
   "source": [
    "## PD data and Labels"
   ]
  },
  {
   "cell_type": "code",
   "execution_count": null,
   "metadata": {
    "colab": {
     "base_uri": "https://localhost:8080/",
     "height": 439
    },
    "id": "sG9mny7IH2YC",
    "outputId": "666a929d-2963-4ae4-f086-47b9271f5ba0",
    "pycharm": {
     "is_executing": true,
     "name": "#%%\n"
    }
   },
   "outputs": [],
   "source": [
    "# PD features and labels\n",
    "\n",
    "df_E = pd.DataFrame(feature_mat)\n",
    "df_E[len(df_E.columns)] = df_y_pdnc\n",
    "df_E[len(df_E.columns)] = df_y_multi\n",
    "df_E[len(df_E.columns)] = df_y_hvlv\n",
    "df_E[len(df_E.columns)] = df_y_hala\n",
    "df_E[len(df_E.columns)] = subject_id\n",
    "df_E"
   ]
  },
  {
   "cell_type": "code",
   "execution_count": null,
   "metadata": {
    "id": "xL7dRrraIpww",
    "pycharm": {
     "name": "#%%\n"
    }
   },
   "outputs": [],
   "source": [
    "df_PD = df_E.loc[df_E[42] == 1] #rows with PD entry\n",
    "\n",
    "pd_feat = df_PD.iloc[:, :42].to_numpy()\n",
    "pd_multi_labels = df_PD.iloc[:, 43].to_numpy() #multi labels column\n",
    "pd_hvlv_labels = df_PD.iloc[:, 44].to_numpy() #hvlv labels\n",
    "pd_hala_labels = df_PD.iloc[:, 45].to_numpy() #hala labels\n",
    "pd_subject_id = df_PD.iloc[:, 46].to_numpy()"
   ]
  },
  {
   "cell_type": "markdown",
   "metadata": {
    "pycharm": {
     "name": "#%% md\n"
    }
   },
   "source": [
    "## HC data and labels"
   ]
  },
  {
   "cell_type": "code",
   "execution_count": null,
   "metadata": {
    "id": "C95pnI1BJzK8",
    "pycharm": {
     "name": "#%%\n"
    }
   },
   "outputs": [],
   "source": [
    "# NC feat and labels\n",
    "\n",
    "df_NC = df_E.loc[df_E[42] == 0] #rows with NC entry\n",
    "\n",
    "nc_feat = df_NC.iloc[:, :42].to_numpy()\n",
    "nc_multi_labels = df_NC.iloc[:, 43].to_numpy() #multi labels column\n",
    "nc_hvlv_labels = df_NC.iloc[:, 44].to_numpy() #hvlv labels\n",
    "nc_hala_labels = df_NC.iloc[:, 45].to_numpy() #hala labels\n",
    "nc_subject_id = df_NC.iloc[:, 46].to_numpy()"
   ]
  },
  {
   "cell_type": "code",
   "execution_count": null,
   "metadata": {
    "id": "-YeEyLy9KTBY",
    "pycharm": {
     "name": "#%%\n"
    }
   },
   "outputs": [],
   "source": [
    "# save all these to a .mat file\n",
    "\n",
    "savemat('/content/drive/MyDrive/EEG Analysis/Features/Spectral/spectral_feat_tensor_full_with_full_labels.mat',\n",
    "        {'full_feat': full_feat, 'full_pdnc_labels': full_pdnc_labels,\n",
    "         'full_hvlv_labels' : full_hvlv_labels, 'full_hala_labels':full_hala_labels,\n",
    "         'full_multi_labels':full_multi_labels, 'E1_feat':E1_feat, 'E1_pdnc_labels':E1_pdnc_labels,\n",
    "         'E2_feat':E2_feat, 'E2_pdnc_labels':E2_pdnc_labels, 'E3_feat':E3_feat,\n",
    "         'E3_pdnc_labels':E3_pdnc_labels, 'E4_feat':E4_feat, 'E4_pdnc_labels':E4_pdnc_labels,\n",
    "         'E5_feat':E5_feat, 'E5_pdnc_labels':E5_pdnc_labels, 'E6_feat':E6_feat,\n",
    "         'E6_pdnc_labels':E6_pdnc_labels, 'pd_feat':pd_feat, 'pd_hvlv_labels':pd_hvlv_labels,\n",
    "         'pd_hala_labels':pd_hala_labels, 'pd_multi_labels':pd_multi_labels, 'nc_feat':nc_feat,\n",
    "         'nc_hvlv_labels':nc_hvlv_labels, 'nc_hala_labels': nc_hala_labels,\n",
    "         'nc_multi_labels':nc_multi_labels, 'seconds':seconds, 'sampling_rate':sampling_rate, \n",
    "         'order':7, 'subject_id': subject_id, 'E1_subject_id': E1_subject_id, 'E2_subject_id':E2_subject_id,\n",
    "         'E3_subject_id': E3_subject_id, 'E4_subject_id': E4_subject_id, 'E5_subject_id':E5_subject_id,\n",
    "        'E6_subject_id': E6_subject_id, 'pd_subject_id': pd_subject_id, 'nc_subject_id': nc_subject_id})"
   ]
  },
  {
   "cell_type": "markdown",
   "metadata": {
    "id": "0Xbss8TkPPn2",
    "pycharm": {
     "name": "#%% md\n"
    }
   },
   "source": [
    "# Archive (Blackboard)"
   ]
  },
  {
   "cell_type": "code",
   "execution_count": null,
   "metadata": {
    "id": "rLxs7xzITMoX",
    "pycharm": {
     "name": "#%%\n"
    }
   },
   "outputs": [],
   "source": [
    "labels_class = {43: {'E1': 1, 'E2':2, 'E3':3, 'E4':4, 'E5':5, 'E6':6},42: {'PD': 1, 'NC':0}}\n",
    "df_y_pdnc = pd.DataFrame(y_vec_pdnc, dtype='string')\n",
    "df_y_emot = pd.DataFrame(y_vec_emot, dtype='string')"
   ]
  },
  {
   "cell_type": "code",
   "execution_count": null,
   "metadata": {
    "colab": {
     "base_uri": "https://localhost:8080/"
    },
    "id": "_PnBhAbAy5Co",
    "outputId": "c098506d-fb77-488d-ccd0-1fe29c787a0e",
    "pycharm": {
     "is_executing": true,
     "name": "#%%\n"
    }
   },
   "outputs": [],
   "source": [
    "#Write to csv\n",
    "df = pd.DataFrame(feature_mat)\n",
    "labels_class = {43: {'E1': 1, 'E2':2, 'E3':3, 'E4':4, 'E5':5, 'E6':6},42: {'PD': 0, 'NC':1}}\n",
    "df_y_pdnc = pd.DataFrame(y_vec_pdnc, dtype='string')\n",
    "df_y_emot = pd.DataFrame(y_vec_emot, dtype='string')\n",
    "\n",
    "df[len(df.columns)]=df_y_pdnc #add pdnc labels\n",
    "df[len(df.columns)]=df_y_emot #add emotions labels\n",
    "df_new = df.replace(labels_class)\n",
    "print(df_new.head())\n",
    "\n",
    "df_new.to_csv('/content/drive/MyDrive/EEG Analysis/Features/spectral_O7_feat_with_labels_full.csv', index=False, header=False)"
   ]
  },
  {
   "cell_type": "code",
   "execution_count": null,
   "metadata": {
    "id": "zItlAr68VoIM",
    "pycharm": {
     "name": "#%%\n"
    }
   },
   "outputs": [],
   "source": [
    "#E1 data\n",
    "dfE1 = df_new.loc[df_new[43] == 1]\n",
    "print(dfE1.head())\n",
    "dfE1.to_csv('/content/drive/MyDrive/EEG Analysis/spectral_feat_with_labels_E1.csv', index=False, header=False)"
   ]
  },
  {
   "cell_type": "code",
   "execution_count": null,
   "metadata": {
    "id": "q8xw8jdSXNcG",
    "pycharm": {
     "name": "#%%\n"
    }
   },
   "outputs": [],
   "source": [
    "#E2 data\n",
    "dfE2 = df_new.loc[df_new[43] == 2]\n",
    "print(dfE2.head())\n",
    "dfE2.to_csv('/content/drive/MyDrive/EEG Analysis/spectral_feat_with_labels_E2.csv', index=False, header=False)"
   ]
  },
  {
   "cell_type": "code",
   "execution_count": null,
   "metadata": {
    "id": "k-c6mf57XXOp",
    "pycharm": {
     "name": "#%%\n"
    }
   },
   "outputs": [],
   "source": [
    "#E3 data\n",
    "dfE3 = df_new.loc[df_new[43] == 3]\n",
    "print(dfE3.head())\n",
    "dfE3.to_csv('/content/drive/MyDrive/EEG Analysis/spectral_feat_with_labels_E3.csv', index=False, header=False)"
   ]
  },
  {
   "cell_type": "code",
   "execution_count": null,
   "metadata": {
    "id": "ioY82aNDXdeC",
    "pycharm": {
     "name": "#%%\n"
    }
   },
   "outputs": [],
   "source": [
    "#E4 data\n",
    "dfE4 = df_new.loc[df_new[43] == 4]\n",
    "print(dfE4.head())\n",
    "dfE4.to_csv('/content/drive/MyDrive/EEG Analysis/spectral_feat_with_labels_E4.csv', index=False, header=False)"
   ]
  },
  {
   "cell_type": "code",
   "execution_count": null,
   "metadata": {
    "id": "RsoQjTByXjpH",
    "pycharm": {
     "name": "#%%\n"
    }
   },
   "outputs": [],
   "source": [
    "#E5 data\n",
    "dfE5 = df_new.loc[df_new[43] == 5]\n",
    "print(dfE5.head())\n",
    "dfE5.to_csv('/content/drive/MyDrive/EEG Analysis/spectral_feat_with_labels_E5.csv', index=False, header=False)"
   ]
  },
  {
   "cell_type": "code",
   "execution_count": null,
   "metadata": {
    "id": "t_ppF14nXqTC",
    "pycharm": {
     "name": "#%%\n"
    }
   },
   "outputs": [],
   "source": [
    "#E6 data\n",
    "dfE6 = df_new.loc[df_new[43] == 6]\n",
    "print(dfE6.head())\n",
    "dfE6.to_csv('/content/drive/MyDrive/EEG Analysis/spectral_feat_with_labels_E6.csv', index=False, header=False)"
   ]
  },
  {
   "cell_type": "code",
   "execution_count": null,
   "metadata": {
    "id": "4tkyuYIAy0JR",
    "pycharm": {
     "name": "#%%\n"
    }
   },
   "outputs": [],
   "source": [
    "def reduce_dim(X, y, pca_thresh, Scaler):\n",
    "  y = np.ravel(y)\n",
    "  if Scaler==\"MinMax\":\n",
    "    from sklearn.preprocessing import MinMaxScaler\n",
    "    sc = MinMaxScaler()\n",
    "    X = sc.fit_transform(X)\n",
    "  elif Scaler==\"MaxAbs\":\n",
    "    from sklearn.preprocessing import MaxAbsScaler\n",
    "    sc = MaxAbsScaler()\n",
    "    X = sc.fit_transform(X)\n",
    "  elif Scaler == \"Standard\":\n",
    "    from sklearn.preprocessing import StandardScaler\n",
    "    sc = StandardScaler()\n",
    "    X = sc.fit_transform(X)\n",
    "  elif Scaler == \"Normalizer\":\n",
    "    from sklearn.preprocessing import Normalizer\n",
    "    sc = Normalizer()\n",
    "    X = sc.fit_transform(X)\n",
    "  else:\n",
    "    pass\n",
    "  if pca_thresh<1:\n",
    "    pca = PCA(pca_thresh)\n",
    "    X = pca.fit_transform(X)\n",
    "  return X, y\n",
    "\n",
    "def NB_classifier(X, y, cv, grid_search):\n",
    "  if grid_search:\n",
    "    nb_classifier = GaussianNB()\n",
    "    params_NB = {'var_smoothing': np.logspace(0,-9, num=100)}\n",
    "    gs_NB = GridSearchCV(estimator=nb_classifier, \n",
    "                         param_grid=params_NB, cv=cv,   # use any cross validation technique \n",
    "                         verbose=1,\n",
    "                         n_jobs=2,\n",
    "                         scoring='accuracy') \n",
    "    gs_NB.fit(X, y)\n",
    "    print(\"Best parameters:\",gs_NB.best_params_)\n",
    "    var_smoothing = gs_NB.best_params_.get('var_smoothing')\n",
    "  else:\n",
    "    var_smoothing = 1e-9\n",
    "  # your classifier, assume GaussianNB here for non-integer data X\n",
    "  estimator = GaussianNB(var_smoothing=var_smoothing)\n",
    "  # generate your cross-validation prediction with 10 fold Stratified sampling\n",
    "  y_pred = cross_val_predict(estimator, X, y, cv=cv)\n",
    "\n",
    "  # generate report\n",
    "  clf_report = classification_report(y, y_pred)\n",
    "  conf_mat = confusion_matrix(y, y_pred, labels = [1,0])\n",
    "  return clf_report, conf_mat\n",
    "\n",
    "def SVM_classifier(X, y, cv, kernel, grid_search):\n",
    "  if grid_search:\n",
    "    Cs = [0.001, 0.01, 0.1, 1, 10, 100]\n",
    "    gammas = [0.001, 0.01, 0.1, 1, 10]\n",
    "    p_grid = {'C': Cs, 'gamma' : gammas}\n",
    "    svm_classifier = SVC()\n",
    "    params_svm = GridSearchCV(estimator=svm_classifier, param_grid=p_grid,\n",
    "                              cv=cv, refit=True,verbose=1, scoring='accuracy', n_jobs = 8)\n",
    "    params_svm.fit(X, y)\n",
    "    print('Best parameters:',params_svm.best_params_)\n",
    "    C = params_svm.best_params_.get('C')\n",
    "    gamma = params_svm.best_params_.get('gamma')\n",
    "    estimator = SVC(kernel=kernel, C=C, gamma = gamma)\n",
    "    y_pred = cross_val_predict(estimator, X, y, cv=cv)\n",
    "    # generate report\n",
    "    clf_report = classification_report(y, y_pred)\n",
    "    conf_mat = confusion_matrix(y, y_pred, labels = [1,0])\n",
    "    return clf_report, conf_mat"
   ]
  },
  {
   "cell_type": "code",
   "execution_count": null,
   "metadata": {
    "id": "pAhgRcdd0R-q",
    "pycharm": {
     "name": "#%%\n"
    }
   },
   "outputs": [],
   "source": [
    "df = pd.read_csv('/content/drive/MyDrive/EEG Analysis/spectral_feat_with_labels_full.csv', header = None)\n",
    "dfx = df.iloc[:, :-2]\n",
    "dfy = df.iloc[:, -2]\n",
    "X_full,y_full = reduce_dim(dfx, dfy, 1, 'Normalizer')"
   ]
  },
  {
   "cell_type": "code",
   "execution_count": null,
   "metadata": {
    "id": "rZTJQszo0w8U",
    "pycharm": {
     "name": "#%%\n"
    }
   },
   "outputs": [],
   "source": [
    "clf_report, conf_mat = SVM_classifier(X_full, y_full, cv=10, kernel='linear', grid_search=1)\n",
    "print(clf_report)\n",
    "print(conf_mat)"
   ]
  },
  {
   "cell_type": "markdown",
   "metadata": {
    "id": "M2MbLOxQe6RA",
    "pycharm": {
     "name": "#%% md\n"
    }
   },
   "source": [
    "## Generate Tensor"
   ]
  },
  {
   "cell_type": "code",
   "execution_count": null,
   "metadata": {
    "id": "XlIhjG9xe1Z5",
    "pycharm": {
     "name": "#%%\n"
    }
   },
   "outputs": [],
   "source": [
    "# butter band_pass_filter\n",
    "def butter_bandpass_filter(data, lowcut, highcut, fs, order=5):\n",
    "    nyq = 0.5 * fs\n",
    "    low = lowcut / nyq\n",
    "    high = highcut / nyq\n",
    "    b, a = butter(order, [low, high], btype='band')\n",
    "    out = lfilter(b, a, data)\n",
    "    return out\n",
    "\n",
    "def theta_BP(data):\n",
    "    return butter_bandpass_filter(data, 4, 8, 128)\n",
    "\n",
    "def alpha_BP(data):\n",
    "    return butter_bandpass_filter(data, 8, 12, 128)\n",
    "\n",
    "def beta_BP(data):\n",
    "    return butter_bandpass_filter(data, 12, 30, 128)\n",
    "\n",
    "#band power AKA sum of squares of fft coeff\n",
    "\n",
    "def average_intensity(band):\n",
    "    return sum(np.square(abs(band)))\n",
    "\n",
    "\n",
    "# theta alpha beta calc\n",
    "def theta_alpha_beta_calc(data_eeg,max_channel,instance_no):\n",
    "    thetas = []\n",
    "    alphas = []\n",
    "    betas = []\n",
    "\n",
    "    for i in range(0,max_channel,1):\n",
    "        data = data_eeg[i,64:,instance_no]\n",
    "        thetas.append(average_intensity(fft(theta_BP(data))))\n",
    "        alphas.append(average_intensity(fft(alpha_BP(data))))\n",
    "        betas.append(average_intensity(fft(beta_BP(data))))\n",
    "\n",
    "    return np.concatenate((thetas,alphas,betas))\n",
    "\n",
    "\n",
    "# making feature matrics\n",
    "def feature_matrix_calc(eeg_data,max_instance):\n",
    "    feature_matrix = []\n",
    "    for j in range(0,max_instance,1):\n",
    "        feature_matrix.append(theta_alpha_beta_calc(eeg_data,14,j))\n",
    "    return np.array(feature_matrix)\n",
    "\n",
    "\n",
    "def feature_eeg(dir):\n",
    "\n",
    "    final_feature_mat = []\n",
    "    for filename in sorted(os.listdir(dir)):\n",
    "        if filename.endswith(\".mat\"): \n",
    "            print('Genrating Features for file = ',filename)\n",
    "            M_data = loadmat(os.path.join(dir, filename))\n",
    "            eeg_data = M_data[filename[:-4]]\n",
    "            final_feature_mat.append(feature_matrix_calc(eeg_data,eeg_data.shape[2]))\n",
    "        else:\n",
    "            continue\n",
    "    return np.array(final_feature_mat)"
   ]
  },
  {
   "cell_type": "code",
   "execution_count": null,
   "metadata": {
    "id": "FdC91EHl6tPs",
    "pycharm": {
     "name": "#%%\n"
    }
   },
   "outputs": [],
   "source": [
    "df = pd.read_csv('/content/drive/MyDrive/EEG Analysis/Features/Spectral/spectral_feat_with_labels_full.csv', header = None)"
   ]
  },
  {
   "cell_type": "code",
   "execution_count": null,
   "metadata": {
    "id": "n1w7jSpX7OJE",
    "pycharm": {
     "name": "#%%\n"
    }
   },
   "outputs": [],
   "source": [
    "dfx = df.iloc[:, :-2]\n",
    "dfpdnc = df.iloc[:, -2]\n",
    "dfemot = df.iloc[:,-1]"
   ]
  },
  {
   "cell_type": "code",
   "execution_count": null,
   "metadata": {
    "colab": {
     "base_uri": "https://localhost:8080/",
     "height": 224
    },
    "id": "dKKzoj9cCeAO",
    "outputId": "75360ac2-b932-424b-f9cb-e0cf23b96819",
    "pycharm": {
     "is_executing": true,
     "name": "#%%\n"
    }
   },
   "outputs": [],
   "source": [
    "df.head()"
   ]
  }
 ],
 "metadata": {
  "colab": {
   "collapsed_sections": [
    "0Xbss8TkPPn2",
    "M2MbLOxQe6RA"
   ],
   "name": "eeg_spectral.ipynb",
   "provenance": []
  },
  "kernelspec": {
   "display_name": "Python 3",
   "language": "python",
   "name": "python3"
  },
  "language_info": {
   "codemirror_mode": {
    "name": "ipython",
    "version": 3
   },
   "file_extension": ".py",
   "mimetype": "text/x-python",
   "name": "python",
   "nbconvert_exporter": "python",
   "pygments_lexer": "ipython3",
   "version": "3.8.5"
  },
  "widgets": {
   "application/vnd.jupyter.widget-state+json": {
    "04ecca386b8c4fa88239429c4777b83f": {
     "model_module": "@jupyter-widgets/controls",
     "model_name": "ProgressStyleModel",
     "state": {
      "_model_module": "@jupyter-widgets/controls",
      "_model_module_version": "1.5.0",
      "_model_name": "ProgressStyleModel",
      "_view_count": null,
      "_view_module": "@jupyter-widgets/base",
      "_view_module_version": "1.2.0",
      "_view_name": "StyleView",
      "bar_color": null,
      "description_width": "initial"
     }
    },
    "07514b36a3cb4cbc85545ab94857473c": {
     "model_module": "@jupyter-widgets/controls",
     "model_name": "HBoxModel",
     "state": {
      "_dom_classes": [],
      "_model_module": "@jupyter-widgets/controls",
      "_model_module_version": "1.5.0",
      "_model_name": "HBoxModel",
      "_view_count": null,
      "_view_module": "@jupyter-widgets/controls",
      "_view_module_version": "1.5.0",
      "_view_name": "HBoxView",
      "box_style": "",
      "children": [
       "IPY_MODEL_e75bc5181c90441d8de9da03d0e8f55b",
       "IPY_MODEL_a55da349f0104966b14a18c06e8fd337"
      ],
      "layout": "IPY_MODEL_7fe9581c36ce4f8f8d981d0e7da213dc"
     }
    },
    "08ef7f4ffa6146aca6c622c6c228ebf7": {
     "model_module": "@jupyter-widgets/controls",
     "model_name": "FloatProgressModel",
     "state": {
      "_dom_classes": [],
      "_model_module": "@jupyter-widgets/controls",
      "_model_module_version": "1.5.0",
      "_model_name": "FloatProgressModel",
      "_view_count": null,
      "_view_module": "@jupyter-widgets/controls",
      "_view_module_version": "1.5.0",
      "_view_name": "ProgressView",
      "bar_style": "success",
      "description": "100%",
      "description_tooltip": null,
      "layout": "IPY_MODEL_7805ee279a884888a7207475edf1b4f1",
      "max": 39,
      "min": 0,
      "orientation": "horizontal",
      "style": "IPY_MODEL_ffa8a89568f24d2195a49dfa24a39a6f",
      "value": 39
     }
    },
    "0dea1fbfc6404541b68ecd402d5c5970": {
     "model_module": "@jupyter-widgets/controls",
     "model_name": "HBoxModel",
     "state": {
      "_dom_classes": [],
      "_model_module": "@jupyter-widgets/controls",
      "_model_module_version": "1.5.0",
      "_model_name": "HBoxModel",
      "_view_count": null,
      "_view_module": "@jupyter-widgets/controls",
      "_view_module_version": "1.5.0",
      "_view_name": "HBoxView",
      "box_style": "",
      "children": [
       "IPY_MODEL_08ef7f4ffa6146aca6c622c6c228ebf7",
       "IPY_MODEL_ffe0627a07284fd0be9d9616581b7287"
      ],
      "layout": "IPY_MODEL_c7507f071f834fe897cbf04b3f98186c"
     }
    },
    "12333f4368a74f129446170057731ba5": {
     "model_module": "@jupyter-widgets/controls",
     "model_name": "ProgressStyleModel",
     "state": {
      "_model_module": "@jupyter-widgets/controls",
      "_model_module_version": "1.5.0",
      "_model_name": "ProgressStyleModel",
      "_view_count": null,
      "_view_module": "@jupyter-widgets/base",
      "_view_module_version": "1.2.0",
      "_view_name": "StyleView",
      "bar_color": null,
      "description_width": "initial"
     }
    },
    "13683cbcb4a240eea4c0469e51466103": {
     "model_module": "@jupyter-widgets/base",
     "model_name": "LayoutModel",
     "state": {
      "_model_module": "@jupyter-widgets/base",
      "_model_module_version": "1.2.0",
      "_model_name": "LayoutModel",
      "_view_count": null,
      "_view_module": "@jupyter-widgets/base",
      "_view_module_version": "1.2.0",
      "_view_name": "LayoutView",
      "align_content": null,
      "align_items": null,
      "align_self": null,
      "border": null,
      "bottom": null,
      "display": null,
      "flex": null,
      "flex_flow": null,
      "grid_area": null,
      "grid_auto_columns": null,
      "grid_auto_flow": null,
      "grid_auto_rows": null,
      "grid_column": null,
      "grid_gap": null,
      "grid_row": null,
      "grid_template_areas": null,
      "grid_template_columns": null,
      "grid_template_rows": null,
      "height": null,
      "justify_content": null,
      "justify_items": null,
      "left": null,
      "margin": null,
      "max_height": null,
      "max_width": null,
      "min_height": null,
      "min_width": null,
      "object_fit": null,
      "object_position": null,
      "order": null,
      "overflow": null,
      "overflow_x": null,
      "overflow_y": null,
      "padding": null,
      "right": null,
      "top": null,
      "visibility": null,
      "width": null
     }
    },
    "150f8a02acb5433db769fdfa06168384": {
     "model_module": "@jupyter-widgets/controls",
     "model_name": "HTMLModel",
     "state": {
      "_dom_classes": [],
      "_model_module": "@jupyter-widgets/controls",
      "_model_module_version": "1.5.0",
      "_model_name": "HTMLModel",
      "_view_count": null,
      "_view_module": "@jupyter-widgets/controls",
      "_view_module_version": "1.5.0",
      "_view_name": "HTMLView",
      "description": "",
      "description_tooltip": null,
      "layout": "IPY_MODEL_5be0dfe535e54a3fa2a1f1c58724866d",
      "placeholder": "​",
      "style": "IPY_MODEL_b19352cd25344b0e87f01e07721bceff",
      "value": " 21/21 [03:16&lt;00:00,  9.34s/it]"
     }
    },
    "178fc5f124614e67b8e910db47daa695": {
     "model_module": "@jupyter-widgets/base",
     "model_name": "LayoutModel",
     "state": {
      "_model_module": "@jupyter-widgets/base",
      "_model_module_version": "1.2.0",
      "_model_name": "LayoutModel",
      "_view_count": null,
      "_view_module": "@jupyter-widgets/base",
      "_view_module_version": "1.2.0",
      "_view_name": "LayoutView",
      "align_content": null,
      "align_items": null,
      "align_self": null,
      "border": null,
      "bottom": null,
      "display": null,
      "flex": null,
      "flex_flow": null,
      "grid_area": null,
      "grid_auto_columns": null,
      "grid_auto_flow": null,
      "grid_auto_rows": null,
      "grid_column": null,
      "grid_gap": null,
      "grid_row": null,
      "grid_template_areas": null,
      "grid_template_columns": null,
      "grid_template_rows": null,
      "height": null,
      "justify_content": null,
      "justify_items": null,
      "left": null,
      "margin": null,
      "max_height": null,
      "max_width": null,
      "min_height": null,
      "min_width": null,
      "object_fit": null,
      "object_position": null,
      "order": null,
      "overflow": null,
      "overflow_x": null,
      "overflow_y": null,
      "padding": null,
      "right": null,
      "top": null,
      "visibility": null,
      "width": null
     }
    },
    "1846e49f7a9e420ab8d35ab9c9305bbc": {
     "model_module": "@jupyter-widgets/controls",
     "model_name": "FloatProgressModel",
     "state": {
      "_dom_classes": [],
      "_model_module": "@jupyter-widgets/controls",
      "_model_module_version": "1.5.0",
      "_model_name": "FloatProgressModel",
      "_view_count": null,
      "_view_module": "@jupyter-widgets/controls",
      "_view_module_version": "1.5.0",
      "_view_name": "ProgressView",
      "bar_style": "success",
      "description": "100%",
      "description_tooltip": null,
      "layout": "IPY_MODEL_89464591bbcc4438aff8c95c168ae92a",
      "max": 21,
      "min": 0,
      "orientation": "horizontal",
      "style": "IPY_MODEL_21ce21b266e147c6bc9fb50c763e2aac",
      "value": 21
     }
    },
    "18af025ecae94fb7b2a4c7ab94b0e388": {
     "model_module": "@jupyter-widgets/controls",
     "model_name": "DescriptionStyleModel",
     "state": {
      "_model_module": "@jupyter-widgets/controls",
      "_model_module_version": "1.5.0",
      "_model_name": "DescriptionStyleModel",
      "_view_count": null,
      "_view_module": "@jupyter-widgets/base",
      "_view_module_version": "1.2.0",
      "_view_name": "StyleView",
      "description_width": ""
     }
    },
    "19b6b5fde0174c33960c5736e838f592": {
     "model_module": "@jupyter-widgets/controls",
     "model_name": "HBoxModel",
     "state": {
      "_dom_classes": [],
      "_model_module": "@jupyter-widgets/controls",
      "_model_module_version": "1.5.0",
      "_model_name": "HBoxModel",
      "_view_count": null,
      "_view_module": "@jupyter-widgets/controls",
      "_view_module_version": "1.5.0",
      "_view_name": "HBoxView",
      "box_style": "",
      "children": [
       "IPY_MODEL_e01a6c6d11b943b5b0ac103c65882763",
       "IPY_MODEL_267d1c943cbf4add9338c171171af458"
      ],
      "layout": "IPY_MODEL_d87ab38b412046e296fd986bba7a3c45"
     }
    },
    "1ba9bcc8d7004d6c834399189d576a00": {
     "model_module": "@jupyter-widgets/base",
     "model_name": "LayoutModel",
     "state": {
      "_model_module": "@jupyter-widgets/base",
      "_model_module_version": "1.2.0",
      "_model_name": "LayoutModel",
      "_view_count": null,
      "_view_module": "@jupyter-widgets/base",
      "_view_module_version": "1.2.0",
      "_view_name": "LayoutView",
      "align_content": null,
      "align_items": null,
      "align_self": null,
      "border": null,
      "bottom": null,
      "display": null,
      "flex": null,
      "flex_flow": null,
      "grid_area": null,
      "grid_auto_columns": null,
      "grid_auto_flow": null,
      "grid_auto_rows": null,
      "grid_column": null,
      "grid_gap": null,
      "grid_row": null,
      "grid_template_areas": null,
      "grid_template_columns": null,
      "grid_template_rows": null,
      "height": null,
      "justify_content": null,
      "justify_items": null,
      "left": null,
      "margin": null,
      "max_height": null,
      "max_width": null,
      "min_height": null,
      "min_width": null,
      "object_fit": null,
      "object_position": null,
      "order": null,
      "overflow": null,
      "overflow_x": null,
      "overflow_y": null,
      "padding": null,
      "right": null,
      "top": null,
      "visibility": null,
      "width": null
     }
    },
    "21ce21b266e147c6bc9fb50c763e2aac": {
     "model_module": "@jupyter-widgets/controls",
     "model_name": "ProgressStyleModel",
     "state": {
      "_model_module": "@jupyter-widgets/controls",
      "_model_module_version": "1.5.0",
      "_model_name": "ProgressStyleModel",
      "_view_count": null,
      "_view_module": "@jupyter-widgets/base",
      "_view_module_version": "1.2.0",
      "_view_name": "StyleView",
      "bar_color": null,
      "description_width": "initial"
     }
    },
    "258d8cf232864b7a90e5d4dde35aa3c2": {
     "model_module": "@jupyter-widgets/base",
     "model_name": "LayoutModel",
     "state": {
      "_model_module": "@jupyter-widgets/base",
      "_model_module_version": "1.2.0",
      "_model_name": "LayoutModel",
      "_view_count": null,
      "_view_module": "@jupyter-widgets/base",
      "_view_module_version": "1.2.0",
      "_view_name": "LayoutView",
      "align_content": null,
      "align_items": null,
      "align_self": null,
      "border": null,
      "bottom": null,
      "display": null,
      "flex": null,
      "flex_flow": null,
      "grid_area": null,
      "grid_auto_columns": null,
      "grid_auto_flow": null,
      "grid_auto_rows": null,
      "grid_column": null,
      "grid_gap": null,
      "grid_row": null,
      "grid_template_areas": null,
      "grid_template_columns": null,
      "grid_template_rows": null,
      "height": null,
      "justify_content": null,
      "justify_items": null,
      "left": null,
      "margin": null,
      "max_height": null,
      "max_width": null,
      "min_height": null,
      "min_width": null,
      "object_fit": null,
      "object_position": null,
      "order": null,
      "overflow": null,
      "overflow_x": null,
      "overflow_y": null,
      "padding": null,
      "right": null,
      "top": null,
      "visibility": null,
      "width": null
     }
    },
    "26734588ee894a2f8d29c6da7ab4a724": {
     "model_module": "@jupyter-widgets/controls",
     "model_name": "DescriptionStyleModel",
     "state": {
      "_model_module": "@jupyter-widgets/controls",
      "_model_module_version": "1.5.0",
      "_model_name": "DescriptionStyleModel",
      "_view_count": null,
      "_view_module": "@jupyter-widgets/base",
      "_view_module_version": "1.2.0",
      "_view_name": "StyleView",
      "description_width": ""
     }
    },
    "267d1c943cbf4add9338c171171af458": {
     "model_module": "@jupyter-widgets/controls",
     "model_name": "HTMLModel",
     "state": {
      "_dom_classes": [],
      "_model_module": "@jupyter-widgets/controls",
      "_model_module_version": "1.5.0",
      "_model_name": "HTMLModel",
      "_view_count": null,
      "_view_module": "@jupyter-widgets/controls",
      "_view_module_version": "1.5.0",
      "_view_name": "HTMLView",
      "description": "",
      "description_tooltip": null,
      "layout": "IPY_MODEL_b3fe4cae04e54cab835e0b75a48d11d8",
      "placeholder": "​",
      "style": "IPY_MODEL_26734588ee894a2f8d29c6da7ab4a724",
      "value": " 22/22 [03:14&lt;00:00,  8.85s/it]"
     }
    },
    "2697b81dec0542c589af6d50ded638d4": {
     "model_module": "@jupyter-widgets/controls",
     "model_name": "HBoxModel",
     "state": {
      "_dom_classes": [],
      "_model_module": "@jupyter-widgets/controls",
      "_model_module_version": "1.5.0",
      "_model_name": "HBoxModel",
      "_view_count": null,
      "_view_module": "@jupyter-widgets/controls",
      "_view_module_version": "1.5.0",
      "_view_name": "HBoxView",
      "box_style": "",
      "children": [
       "IPY_MODEL_9327ac9f550a45df8fa2d71e22b39113",
       "IPY_MODEL_73e2f01975d94375900a037011d8f8fc"
      ],
      "layout": "IPY_MODEL_ac4764f6b1c6420faeb3bd72a722f8dd"
     }
    },
    "2b0743b5bf10417daf840b5dd62e4bbe": {
     "model_module": "@jupyter-widgets/controls",
     "model_name": "HBoxModel",
     "state": {
      "_dom_classes": [],
      "_model_module": "@jupyter-widgets/controls",
      "_model_module_version": "1.5.0",
      "_model_name": "HBoxModel",
      "_view_count": null,
      "_view_module": "@jupyter-widgets/controls",
      "_view_module_version": "1.5.0",
      "_view_name": "HBoxView",
      "box_style": "",
      "children": [
       "IPY_MODEL_9bfc307c7f3a488dbb9057a8df524697",
       "IPY_MODEL_959a7dfaa2a64a11912ad8217bc2641d"
      ],
      "layout": "IPY_MODEL_5ecfcce2e17f4142808d2f94bcb10fab"
     }
    },
    "3161167607b04278940d9264369132a8": {
     "model_module": "@jupyter-widgets/base",
     "model_name": "LayoutModel",
     "state": {
      "_model_module": "@jupyter-widgets/base",
      "_model_module_version": "1.2.0",
      "_model_name": "LayoutModel",
      "_view_count": null,
      "_view_module": "@jupyter-widgets/base",
      "_view_module_version": "1.2.0",
      "_view_name": "LayoutView",
      "align_content": null,
      "align_items": null,
      "align_self": null,
      "border": null,
      "bottom": null,
      "display": null,
      "flex": null,
      "flex_flow": null,
      "grid_area": null,
      "grid_auto_columns": null,
      "grid_auto_flow": null,
      "grid_auto_rows": null,
      "grid_column": null,
      "grid_gap": null,
      "grid_row": null,
      "grid_template_areas": null,
      "grid_template_columns": null,
      "grid_template_rows": null,
      "height": null,
      "justify_content": null,
      "justify_items": null,
      "left": null,
      "margin": null,
      "max_height": null,
      "max_width": null,
      "min_height": null,
      "min_width": null,
      "object_fit": null,
      "object_position": null,
      "order": null,
      "overflow": null,
      "overflow_x": null,
      "overflow_y": null,
      "padding": null,
      "right": null,
      "top": null,
      "visibility": null,
      "width": null
     }
    },
    "32c71be891cb44678b652b9e0216a506": {
     "model_module": "@jupyter-widgets/base",
     "model_name": "LayoutModel",
     "state": {
      "_model_module": "@jupyter-widgets/base",
      "_model_module_version": "1.2.0",
      "_model_name": "LayoutModel",
      "_view_count": null,
      "_view_module": "@jupyter-widgets/base",
      "_view_module_version": "1.2.0",
      "_view_name": "LayoutView",
      "align_content": null,
      "align_items": null,
      "align_self": null,
      "border": null,
      "bottom": null,
      "display": null,
      "flex": null,
      "flex_flow": null,
      "grid_area": null,
      "grid_auto_columns": null,
      "grid_auto_flow": null,
      "grid_auto_rows": null,
      "grid_column": null,
      "grid_gap": null,
      "grid_row": null,
      "grid_template_areas": null,
      "grid_template_columns": null,
      "grid_template_rows": null,
      "height": null,
      "justify_content": null,
      "justify_items": null,
      "left": null,
      "margin": null,
      "max_height": null,
      "max_width": null,
      "min_height": null,
      "min_width": null,
      "object_fit": null,
      "object_position": null,
      "order": null,
      "overflow": null,
      "overflow_x": null,
      "overflow_y": null,
      "padding": null,
      "right": null,
      "top": null,
      "visibility": null,
      "width": null
     }
    },
    "336f6764e6ef44abbf9443ff9232ba81": {
     "model_module": "@jupyter-widgets/controls",
     "model_name": "DescriptionStyleModel",
     "state": {
      "_model_module": "@jupyter-widgets/controls",
      "_model_module_version": "1.5.0",
      "_model_name": "DescriptionStyleModel",
      "_view_count": null,
      "_view_module": "@jupyter-widgets/base",
      "_view_module_version": "1.2.0",
      "_view_name": "StyleView",
      "description_width": ""
     }
    },
    "397117ad727145d89354e30b5170a3e2": {
     "model_module": "@jupyter-widgets/base",
     "model_name": "LayoutModel",
     "state": {
      "_model_module": "@jupyter-widgets/base",
      "_model_module_version": "1.2.0",
      "_model_name": "LayoutModel",
      "_view_count": null,
      "_view_module": "@jupyter-widgets/base",
      "_view_module_version": "1.2.0",
      "_view_name": "LayoutView",
      "align_content": null,
      "align_items": null,
      "align_self": null,
      "border": null,
      "bottom": null,
      "display": null,
      "flex": null,
      "flex_flow": null,
      "grid_area": null,
      "grid_auto_columns": null,
      "grid_auto_flow": null,
      "grid_auto_rows": null,
      "grid_column": null,
      "grid_gap": null,
      "grid_row": null,
      "grid_template_areas": null,
      "grid_template_columns": null,
      "grid_template_rows": null,
      "height": null,
      "justify_content": null,
      "justify_items": null,
      "left": null,
      "margin": null,
      "max_height": null,
      "max_width": null,
      "min_height": null,
      "min_width": null,
      "object_fit": null,
      "object_position": null,
      "order": null,
      "overflow": null,
      "overflow_x": null,
      "overflow_y": null,
      "padding": null,
      "right": null,
      "top": null,
      "visibility": null,
      "width": null
     }
    },
    "3b9f96a195134e8383678310a4a310cc": {
     "model_module": "@jupyter-widgets/controls",
     "model_name": "HBoxModel",
     "state": {
      "_dom_classes": [],
      "_model_module": "@jupyter-widgets/controls",
      "_model_module_version": "1.5.0",
      "_model_name": "HBoxModel",
      "_view_count": null,
      "_view_module": "@jupyter-widgets/controls",
      "_view_module_version": "1.5.0",
      "_view_name": "HBoxView",
      "box_style": "",
      "children": [
       "IPY_MODEL_69075bf3be514412ae67245fd90411e4",
       "IPY_MODEL_f5a956aa64494c0cbb6a31fbefadc233"
      ],
      "layout": "IPY_MODEL_51cf0cd025db43bd86259be6664c2ad5"
     }
    },
    "430ee18d937b4f12b2d55baa6af0376e": {
     "model_module": "@jupyter-widgets/controls",
     "model_name": "FloatProgressModel",
     "state": {
      "_dom_classes": [],
      "_model_module": "@jupyter-widgets/controls",
      "_model_module_version": "1.5.0",
      "_model_name": "FloatProgressModel",
      "_view_count": null,
      "_view_module": "@jupyter-widgets/controls",
      "_view_module_version": "1.5.0",
      "_view_name": "ProgressView",
      "bar_style": "success",
      "description": "100%",
      "description_tooltip": null,
      "layout": "IPY_MODEL_8666149309c04c26990b38447d75cf08",
      "max": 21,
      "min": 0,
      "orientation": "horizontal",
      "style": "IPY_MODEL_b096f55e4c7f4f4fb3b51461a7ac49d6",
      "value": 21
     }
    },
    "46d989db78e3457794c3d2c16e11626d": {
     "model_module": "@jupyter-widgets/controls",
     "model_name": "ProgressStyleModel",
     "state": {
      "_model_module": "@jupyter-widgets/controls",
      "_model_module_version": "1.5.0",
      "_model_name": "ProgressStyleModel",
      "_view_count": null,
      "_view_module": "@jupyter-widgets/base",
      "_view_module_version": "1.2.0",
      "_view_name": "StyleView",
      "bar_color": null,
      "description_width": "initial"
     }
    },
    "496df9f339d04b4da78904c7c6ba015b": {
     "model_module": "@jupyter-widgets/controls",
     "model_name": "HBoxModel",
     "state": {
      "_dom_classes": [],
      "_model_module": "@jupyter-widgets/controls",
      "_model_module_version": "1.5.0",
      "_model_name": "HBoxModel",
      "_view_count": null,
      "_view_module": "@jupyter-widgets/controls",
      "_view_module_version": "1.5.0",
      "_view_name": "HBoxView",
      "box_style": "",
      "children": [
       "IPY_MODEL_430ee18d937b4f12b2d55baa6af0376e",
       "IPY_MODEL_fb652dd204db41328df440b9993a3ccb"
      ],
      "layout": "IPY_MODEL_1ba9bcc8d7004d6c834399189d576a00"
     }
    },
    "4ac7156a3ebc46b9ab634ee52b8a9e49": {
     "model_module": "@jupyter-widgets/base",
     "model_name": "LayoutModel",
     "state": {
      "_model_module": "@jupyter-widgets/base",
      "_model_module_version": "1.2.0",
      "_model_name": "LayoutModel",
      "_view_count": null,
      "_view_module": "@jupyter-widgets/base",
      "_view_module_version": "1.2.0",
      "_view_name": "LayoutView",
      "align_content": null,
      "align_items": null,
      "align_self": null,
      "border": null,
      "bottom": null,
      "display": null,
      "flex": null,
      "flex_flow": null,
      "grid_area": null,
      "grid_auto_columns": null,
      "grid_auto_flow": null,
      "grid_auto_rows": null,
      "grid_column": null,
      "grid_gap": null,
      "grid_row": null,
      "grid_template_areas": null,
      "grid_template_columns": null,
      "grid_template_rows": null,
      "height": null,
      "justify_content": null,
      "justify_items": null,
      "left": null,
      "margin": null,
      "max_height": null,
      "max_width": null,
      "min_height": null,
      "min_width": null,
      "object_fit": null,
      "object_position": null,
      "order": null,
      "overflow": null,
      "overflow_x": null,
      "overflow_y": null,
      "padding": null,
      "right": null,
      "top": null,
      "visibility": null,
      "width": null
     }
    },
    "51cf0cd025db43bd86259be6664c2ad5": {
     "model_module": "@jupyter-widgets/base",
     "model_name": "LayoutModel",
     "state": {
      "_model_module": "@jupyter-widgets/base",
      "_model_module_version": "1.2.0",
      "_model_name": "LayoutModel",
      "_view_count": null,
      "_view_module": "@jupyter-widgets/base",
      "_view_module_version": "1.2.0",
      "_view_name": "LayoutView",
      "align_content": null,
      "align_items": null,
      "align_self": null,
      "border": null,
      "bottom": null,
      "display": null,
      "flex": null,
      "flex_flow": null,
      "grid_area": null,
      "grid_auto_columns": null,
      "grid_auto_flow": null,
      "grid_auto_rows": null,
      "grid_column": null,
      "grid_gap": null,
      "grid_row": null,
      "grid_template_areas": null,
      "grid_template_columns": null,
      "grid_template_rows": null,
      "height": null,
      "justify_content": null,
      "justify_items": null,
      "left": null,
      "margin": null,
      "max_height": null,
      "max_width": null,
      "min_height": null,
      "min_width": null,
      "object_fit": null,
      "object_position": null,
      "order": null,
      "overflow": null,
      "overflow_x": null,
      "overflow_y": null,
      "padding": null,
      "right": null,
      "top": null,
      "visibility": null,
      "width": null
     }
    },
    "5514ffe2bbce4446b866295c8d17d342": {
     "model_module": "@jupyter-widgets/base",
     "model_name": "LayoutModel",
     "state": {
      "_model_module": "@jupyter-widgets/base",
      "_model_module_version": "1.2.0",
      "_model_name": "LayoutModel",
      "_view_count": null,
      "_view_module": "@jupyter-widgets/base",
      "_view_module_version": "1.2.0",
      "_view_name": "LayoutView",
      "align_content": null,
      "align_items": null,
      "align_self": null,
      "border": null,
      "bottom": null,
      "display": null,
      "flex": null,
      "flex_flow": null,
      "grid_area": null,
      "grid_auto_columns": null,
      "grid_auto_flow": null,
      "grid_auto_rows": null,
      "grid_column": null,
      "grid_gap": null,
      "grid_row": null,
      "grid_template_areas": null,
      "grid_template_columns": null,
      "grid_template_rows": null,
      "height": null,
      "justify_content": null,
      "justify_items": null,
      "left": null,
      "margin": null,
      "max_height": null,
      "max_width": null,
      "min_height": null,
      "min_width": null,
      "object_fit": null,
      "object_position": null,
      "order": null,
      "overflow": null,
      "overflow_x": null,
      "overflow_y": null,
      "padding": null,
      "right": null,
      "top": null,
      "visibility": null,
      "width": null
     }
    },
    "5951777ccd6f43dca3fec502886e1570": {
     "model_module": "@jupyter-widgets/controls",
     "model_name": "FloatProgressModel",
     "state": {
      "_dom_classes": [],
      "_model_module": "@jupyter-widgets/controls",
      "_model_module_version": "1.5.0",
      "_model_name": "FloatProgressModel",
      "_view_count": null,
      "_view_module": "@jupyter-widgets/controls",
      "_view_module_version": "1.5.0",
      "_view_name": "ProgressView",
      "bar_style": "success",
      "description": "100%",
      "description_tooltip": null,
      "layout": "IPY_MODEL_f0c2b8fe1dde44ee9e7604336fe9e9b8",
      "max": 21,
      "min": 0,
      "orientation": "horizontal",
      "style": "IPY_MODEL_a2e864a8bc7e413895e5c19b8d526943",
      "value": 21
     }
    },
    "5b76bdabf2af4398b8a4c034d9cc6841": {
     "model_module": "@jupyter-widgets/controls",
     "model_name": "HBoxModel",
     "state": {
      "_dom_classes": [],
      "_model_module": "@jupyter-widgets/controls",
      "_model_module_version": "1.5.0",
      "_model_name": "HBoxModel",
      "_view_count": null,
      "_view_module": "@jupyter-widgets/controls",
      "_view_module_version": "1.5.0",
      "_view_name": "HBoxView",
      "box_style": "",
      "children": [
       "IPY_MODEL_5951777ccd6f43dca3fec502886e1570",
       "IPY_MODEL_5c02aca2b2ca4d43935ab91ad75dcb39"
      ],
      "layout": "IPY_MODEL_a04b645faefa4c2dae723e1f0b13267f"
     }
    },
    "5b960929961b4acd9c75379e13b29d19": {
     "model_module": "@jupyter-widgets/base",
     "model_name": "LayoutModel",
     "state": {
      "_model_module": "@jupyter-widgets/base",
      "_model_module_version": "1.2.0",
      "_model_name": "LayoutModel",
      "_view_count": null,
      "_view_module": "@jupyter-widgets/base",
      "_view_module_version": "1.2.0",
      "_view_name": "LayoutView",
      "align_content": null,
      "align_items": null,
      "align_self": null,
      "border": null,
      "bottom": null,
      "display": null,
      "flex": null,
      "flex_flow": null,
      "grid_area": null,
      "grid_auto_columns": null,
      "grid_auto_flow": null,
      "grid_auto_rows": null,
      "grid_column": null,
      "grid_gap": null,
      "grid_row": null,
      "grid_template_areas": null,
      "grid_template_columns": null,
      "grid_template_rows": null,
      "height": null,
      "justify_content": null,
      "justify_items": null,
      "left": null,
      "margin": null,
      "max_height": null,
      "max_width": null,
      "min_height": null,
      "min_width": null,
      "object_fit": null,
      "object_position": null,
      "order": null,
      "overflow": null,
      "overflow_x": null,
      "overflow_y": null,
      "padding": null,
      "right": null,
      "top": null,
      "visibility": null,
      "width": null
     }
    },
    "5be0dfe535e54a3fa2a1f1c58724866d": {
     "model_module": "@jupyter-widgets/base",
     "model_name": "LayoutModel",
     "state": {
      "_model_module": "@jupyter-widgets/base",
      "_model_module_version": "1.2.0",
      "_model_name": "LayoutModel",
      "_view_count": null,
      "_view_module": "@jupyter-widgets/base",
      "_view_module_version": "1.2.0",
      "_view_name": "LayoutView",
      "align_content": null,
      "align_items": null,
      "align_self": null,
      "border": null,
      "bottom": null,
      "display": null,
      "flex": null,
      "flex_flow": null,
      "grid_area": null,
      "grid_auto_columns": null,
      "grid_auto_flow": null,
      "grid_auto_rows": null,
      "grid_column": null,
      "grid_gap": null,
      "grid_row": null,
      "grid_template_areas": null,
      "grid_template_columns": null,
      "grid_template_rows": null,
      "height": null,
      "justify_content": null,
      "justify_items": null,
      "left": null,
      "margin": null,
      "max_height": null,
      "max_width": null,
      "min_height": null,
      "min_width": null,
      "object_fit": null,
      "object_position": null,
      "order": null,
      "overflow": null,
      "overflow_x": null,
      "overflow_y": null,
      "padding": null,
      "right": null,
      "top": null,
      "visibility": null,
      "width": null
     }
    },
    "5c02aca2b2ca4d43935ab91ad75dcb39": {
     "model_module": "@jupyter-widgets/controls",
     "model_name": "HTMLModel",
     "state": {
      "_dom_classes": [],
      "_model_module": "@jupyter-widgets/controls",
      "_model_module_version": "1.5.0",
      "_model_name": "HTMLModel",
      "_view_count": null,
      "_view_module": "@jupyter-widgets/controls",
      "_view_module_version": "1.5.0",
      "_view_name": "HTMLView",
      "description": "",
      "description_tooltip": null,
      "layout": "IPY_MODEL_84635ce05bf6423f9d0c781a39958e9a",
      "placeholder": "​",
      "style": "IPY_MODEL_d14a1630786c4e04902323e0bb458725",
      "value": " 21/21 [03:14&lt;00:00,  9.25s/it]"
     }
    },
    "5c4593eff5904e3e8605719c2de253ac": {
     "model_module": "@jupyter-widgets/base",
     "model_name": "LayoutModel",
     "state": {
      "_model_module": "@jupyter-widgets/base",
      "_model_module_version": "1.2.0",
      "_model_name": "LayoutModel",
      "_view_count": null,
      "_view_module": "@jupyter-widgets/base",
      "_view_module_version": "1.2.0",
      "_view_name": "LayoutView",
      "align_content": null,
      "align_items": null,
      "align_self": null,
      "border": null,
      "bottom": null,
      "display": null,
      "flex": null,
      "flex_flow": null,
      "grid_area": null,
      "grid_auto_columns": null,
      "grid_auto_flow": null,
      "grid_auto_rows": null,
      "grid_column": null,
      "grid_gap": null,
      "grid_row": null,
      "grid_template_areas": null,
      "grid_template_columns": null,
      "grid_template_rows": null,
      "height": null,
      "justify_content": null,
      "justify_items": null,
      "left": null,
      "margin": null,
      "max_height": null,
      "max_width": null,
      "min_height": null,
      "min_width": null,
      "object_fit": null,
      "object_position": null,
      "order": null,
      "overflow": null,
      "overflow_x": null,
      "overflow_y": null,
      "padding": null,
      "right": null,
      "top": null,
      "visibility": null,
      "width": null
     }
    },
    "5ecfcce2e17f4142808d2f94bcb10fab": {
     "model_module": "@jupyter-widgets/base",
     "model_name": "LayoutModel",
     "state": {
      "_model_module": "@jupyter-widgets/base",
      "_model_module_version": "1.2.0",
      "_model_name": "LayoutModel",
      "_view_count": null,
      "_view_module": "@jupyter-widgets/base",
      "_view_module_version": "1.2.0",
      "_view_name": "LayoutView",
      "align_content": null,
      "align_items": null,
      "align_self": null,
      "border": null,
      "bottom": null,
      "display": null,
      "flex": null,
      "flex_flow": null,
      "grid_area": null,
      "grid_auto_columns": null,
      "grid_auto_flow": null,
      "grid_auto_rows": null,
      "grid_column": null,
      "grid_gap": null,
      "grid_row": null,
      "grid_template_areas": null,
      "grid_template_columns": null,
      "grid_template_rows": null,
      "height": null,
      "justify_content": null,
      "justify_items": null,
      "left": null,
      "margin": null,
      "max_height": null,
      "max_width": null,
      "min_height": null,
      "min_width": null,
      "object_fit": null,
      "object_position": null,
      "order": null,
      "overflow": null,
      "overflow_x": null,
      "overflow_y": null,
      "padding": null,
      "right": null,
      "top": null,
      "visibility": null,
      "width": null
     }
    },
    "5f8f94227fb54a7c99ad3b900b66937c": {
     "model_module": "@jupyter-widgets/base",
     "model_name": "LayoutModel",
     "state": {
      "_model_module": "@jupyter-widgets/base",
      "_model_module_version": "1.2.0",
      "_model_name": "LayoutModel",
      "_view_count": null,
      "_view_module": "@jupyter-widgets/base",
      "_view_module_version": "1.2.0",
      "_view_name": "LayoutView",
      "align_content": null,
      "align_items": null,
      "align_self": null,
      "border": null,
      "bottom": null,
      "display": null,
      "flex": null,
      "flex_flow": null,
      "grid_area": null,
      "grid_auto_columns": null,
      "grid_auto_flow": null,
      "grid_auto_rows": null,
      "grid_column": null,
      "grid_gap": null,
      "grid_row": null,
      "grid_template_areas": null,
      "grid_template_columns": null,
      "grid_template_rows": null,
      "height": null,
      "justify_content": null,
      "justify_items": null,
      "left": null,
      "margin": null,
      "max_height": null,
      "max_width": null,
      "min_height": null,
      "min_width": null,
      "object_fit": null,
      "object_position": null,
      "order": null,
      "overflow": null,
      "overflow_x": null,
      "overflow_y": null,
      "padding": null,
      "right": null,
      "top": null,
      "visibility": null,
      "width": null
     }
    },
    "69075bf3be514412ae67245fd90411e4": {
     "model_module": "@jupyter-widgets/controls",
     "model_name": "FloatProgressModel",
     "state": {
      "_dom_classes": [],
      "_model_module": "@jupyter-widgets/controls",
      "_model_module_version": "1.5.0",
      "_model_name": "FloatProgressModel",
      "_view_count": null,
      "_view_module": "@jupyter-widgets/controls",
      "_view_module_version": "1.5.0",
      "_view_name": "ProgressView",
      "bar_style": "success",
      "description": "100%",
      "description_tooltip": null,
      "layout": "IPY_MODEL_13683cbcb4a240eea4c0469e51466103",
      "max": 21,
      "min": 0,
      "orientation": "horizontal",
      "style": "IPY_MODEL_12333f4368a74f129446170057731ba5",
      "value": 21
     }
    },
    "6a93fd0637dc48d38c2abcb20551b28e": {
     "model_module": "@jupyter-widgets/controls",
     "model_name": "DescriptionStyleModel",
     "state": {
      "_model_module": "@jupyter-widgets/controls",
      "_model_module_version": "1.5.0",
      "_model_name": "DescriptionStyleModel",
      "_view_count": null,
      "_view_module": "@jupyter-widgets/base",
      "_view_module_version": "1.2.0",
      "_view_name": "StyleView",
      "description_width": ""
     }
    },
    "6f8457f2d56e40588a87ea4e54b719b9": {
     "model_module": "@jupyter-widgets/controls",
     "model_name": "DescriptionStyleModel",
     "state": {
      "_model_module": "@jupyter-widgets/controls",
      "_model_module_version": "1.5.0",
      "_model_name": "DescriptionStyleModel",
      "_view_count": null,
      "_view_module": "@jupyter-widgets/base",
      "_view_module_version": "1.2.0",
      "_view_name": "StyleView",
      "description_width": ""
     }
    },
    "71c4ba2400594dfab11df690937e71a0": {
     "model_module": "@jupyter-widgets/controls",
     "model_name": "DescriptionStyleModel",
     "state": {
      "_model_module": "@jupyter-widgets/controls",
      "_model_module_version": "1.5.0",
      "_model_name": "DescriptionStyleModel",
      "_view_count": null,
      "_view_module": "@jupyter-widgets/base",
      "_view_module_version": "1.2.0",
      "_view_name": "StyleView",
      "description_width": ""
     }
    },
    "73e2f01975d94375900a037011d8f8fc": {
     "model_module": "@jupyter-widgets/controls",
     "model_name": "HTMLModel",
     "state": {
      "_dom_classes": [],
      "_model_module": "@jupyter-widgets/controls",
      "_model_module_version": "1.5.0",
      "_model_name": "HTMLModel",
      "_view_count": null,
      "_view_module": "@jupyter-widgets/controls",
      "_view_module_version": "1.5.0",
      "_view_name": "HTMLView",
      "description": "",
      "description_tooltip": null,
      "layout": "IPY_MODEL_8771bf781e2f485ebb56616ac2fe4739",
      "placeholder": "​",
      "style": "IPY_MODEL_889ca5f05f1a49a1bbd0fe6c6fa9e3dd",
      "value": " 21/21 [03:10&lt;00:00,  9.06s/it]"
     }
    },
    "77f377aa13c94c08849e0dfc39ba3b16": {
     "model_module": "@jupyter-widgets/controls",
     "model_name": "ProgressStyleModel",
     "state": {
      "_model_module": "@jupyter-widgets/controls",
      "_model_module_version": "1.5.0",
      "_model_name": "ProgressStyleModel",
      "_view_count": null,
      "_view_module": "@jupyter-widgets/base",
      "_view_module_version": "1.2.0",
      "_view_name": "StyleView",
      "bar_color": null,
      "description_width": "initial"
     }
    },
    "7805ee279a884888a7207475edf1b4f1": {
     "model_module": "@jupyter-widgets/base",
     "model_name": "LayoutModel",
     "state": {
      "_model_module": "@jupyter-widgets/base",
      "_model_module_version": "1.2.0",
      "_model_name": "LayoutModel",
      "_view_count": null,
      "_view_module": "@jupyter-widgets/base",
      "_view_module_version": "1.2.0",
      "_view_name": "LayoutView",
      "align_content": null,
      "align_items": null,
      "align_self": null,
      "border": null,
      "bottom": null,
      "display": null,
      "flex": null,
      "flex_flow": null,
      "grid_area": null,
      "grid_auto_columns": null,
      "grid_auto_flow": null,
      "grid_auto_rows": null,
      "grid_column": null,
      "grid_gap": null,
      "grid_row": null,
      "grid_template_areas": null,
      "grid_template_columns": null,
      "grid_template_rows": null,
      "height": null,
      "justify_content": null,
      "justify_items": null,
      "left": null,
      "margin": null,
      "max_height": null,
      "max_width": null,
      "min_height": null,
      "min_width": null,
      "object_fit": null,
      "object_position": null,
      "order": null,
      "overflow": null,
      "overflow_x": null,
      "overflow_y": null,
      "padding": null,
      "right": null,
      "top": null,
      "visibility": null,
      "width": null
     }
    },
    "7aa22614169c41da8d60c27cc5df14f4": {
     "model_module": "@jupyter-widgets/controls",
     "model_name": "DescriptionStyleModel",
     "state": {
      "_model_module": "@jupyter-widgets/controls",
      "_model_module_version": "1.5.0",
      "_model_name": "DescriptionStyleModel",
      "_view_count": null,
      "_view_module": "@jupyter-widgets/base",
      "_view_module_version": "1.2.0",
      "_view_name": "StyleView",
      "description_width": ""
     }
    },
    "7fe9581c36ce4f8f8d981d0e7da213dc": {
     "model_module": "@jupyter-widgets/base",
     "model_name": "LayoutModel",
     "state": {
      "_model_module": "@jupyter-widgets/base",
      "_model_module_version": "1.2.0",
      "_model_name": "LayoutModel",
      "_view_count": null,
      "_view_module": "@jupyter-widgets/base",
      "_view_module_version": "1.2.0",
      "_view_name": "LayoutView",
      "align_content": null,
      "align_items": null,
      "align_self": null,
      "border": null,
      "bottom": null,
      "display": null,
      "flex": null,
      "flex_flow": null,
      "grid_area": null,
      "grid_auto_columns": null,
      "grid_auto_flow": null,
      "grid_auto_rows": null,
      "grid_column": null,
      "grid_gap": null,
      "grid_row": null,
      "grid_template_areas": null,
      "grid_template_columns": null,
      "grid_template_rows": null,
      "height": null,
      "justify_content": null,
      "justify_items": null,
      "left": null,
      "margin": null,
      "max_height": null,
      "max_width": null,
      "min_height": null,
      "min_width": null,
      "object_fit": null,
      "object_position": null,
      "order": null,
      "overflow": null,
      "overflow_x": null,
      "overflow_y": null,
      "padding": null,
      "right": null,
      "top": null,
      "visibility": null,
      "width": null
     }
    },
    "84635ce05bf6423f9d0c781a39958e9a": {
     "model_module": "@jupyter-widgets/base",
     "model_name": "LayoutModel",
     "state": {
      "_model_module": "@jupyter-widgets/base",
      "_model_module_version": "1.2.0",
      "_model_name": "LayoutModel",
      "_view_count": null,
      "_view_module": "@jupyter-widgets/base",
      "_view_module_version": "1.2.0",
      "_view_name": "LayoutView",
      "align_content": null,
      "align_items": null,
      "align_self": null,
      "border": null,
      "bottom": null,
      "display": null,
      "flex": null,
      "flex_flow": null,
      "grid_area": null,
      "grid_auto_columns": null,
      "grid_auto_flow": null,
      "grid_auto_rows": null,
      "grid_column": null,
      "grid_gap": null,
      "grid_row": null,
      "grid_template_areas": null,
      "grid_template_columns": null,
      "grid_template_rows": null,
      "height": null,
      "justify_content": null,
      "justify_items": null,
      "left": null,
      "margin": null,
      "max_height": null,
      "max_width": null,
      "min_height": null,
      "min_width": null,
      "object_fit": null,
      "object_position": null,
      "order": null,
      "overflow": null,
      "overflow_x": null,
      "overflow_y": null,
      "padding": null,
      "right": null,
      "top": null,
      "visibility": null,
      "width": null
     }
    },
    "84cf3831ab9e47babc73a9b679390927": {
     "model_module": "@jupyter-widgets/controls",
     "model_name": "FloatProgressModel",
     "state": {
      "_dom_classes": [],
      "_model_module": "@jupyter-widgets/controls",
      "_model_module_version": "1.5.0",
      "_model_name": "FloatProgressModel",
      "_view_count": null,
      "_view_module": "@jupyter-widgets/controls",
      "_view_module_version": "1.5.0",
      "_view_name": "ProgressView",
      "bar_style": "success",
      "description": "100%",
      "description_tooltip": null,
      "layout": "IPY_MODEL_b8223bf5ac9d40b1aac927e49ec1e2c6",
      "max": 22,
      "min": 0,
      "orientation": "horizontal",
      "style": "IPY_MODEL_dd8c41f04fae468dba910b03b628c1f1",
      "value": 22
     }
    },
    "8666149309c04c26990b38447d75cf08": {
     "model_module": "@jupyter-widgets/base",
     "model_name": "LayoutModel",
     "state": {
      "_model_module": "@jupyter-widgets/base",
      "_model_module_version": "1.2.0",
      "_model_name": "LayoutModel",
      "_view_count": null,
      "_view_module": "@jupyter-widgets/base",
      "_view_module_version": "1.2.0",
      "_view_name": "LayoutView",
      "align_content": null,
      "align_items": null,
      "align_self": null,
      "border": null,
      "bottom": null,
      "display": null,
      "flex": null,
      "flex_flow": null,
      "grid_area": null,
      "grid_auto_columns": null,
      "grid_auto_flow": null,
      "grid_auto_rows": null,
      "grid_column": null,
      "grid_gap": null,
      "grid_row": null,
      "grid_template_areas": null,
      "grid_template_columns": null,
      "grid_template_rows": null,
      "height": null,
      "justify_content": null,
      "justify_items": null,
      "left": null,
      "margin": null,
      "max_height": null,
      "max_width": null,
      "min_height": null,
      "min_width": null,
      "object_fit": null,
      "object_position": null,
      "order": null,
      "overflow": null,
      "overflow_x": null,
      "overflow_y": null,
      "padding": null,
      "right": null,
      "top": null,
      "visibility": null,
      "width": null
     }
    },
    "8771bf781e2f485ebb56616ac2fe4739": {
     "model_module": "@jupyter-widgets/base",
     "model_name": "LayoutModel",
     "state": {
      "_model_module": "@jupyter-widgets/base",
      "_model_module_version": "1.2.0",
      "_model_name": "LayoutModel",
      "_view_count": null,
      "_view_module": "@jupyter-widgets/base",
      "_view_module_version": "1.2.0",
      "_view_name": "LayoutView",
      "align_content": null,
      "align_items": null,
      "align_self": null,
      "border": null,
      "bottom": null,
      "display": null,
      "flex": null,
      "flex_flow": null,
      "grid_area": null,
      "grid_auto_columns": null,
      "grid_auto_flow": null,
      "grid_auto_rows": null,
      "grid_column": null,
      "grid_gap": null,
      "grid_row": null,
      "grid_template_areas": null,
      "grid_template_columns": null,
      "grid_template_rows": null,
      "height": null,
      "justify_content": null,
      "justify_items": null,
      "left": null,
      "margin": null,
      "max_height": null,
      "max_width": null,
      "min_height": null,
      "min_width": null,
      "object_fit": null,
      "object_position": null,
      "order": null,
      "overflow": null,
      "overflow_x": null,
      "overflow_y": null,
      "padding": null,
      "right": null,
      "top": null,
      "visibility": null,
      "width": null
     }
    },
    "889ca5f05f1a49a1bbd0fe6c6fa9e3dd": {
     "model_module": "@jupyter-widgets/controls",
     "model_name": "DescriptionStyleModel",
     "state": {
      "_model_module": "@jupyter-widgets/controls",
      "_model_module_version": "1.5.0",
      "_model_name": "DescriptionStyleModel",
      "_view_count": null,
      "_view_module": "@jupyter-widgets/base",
      "_view_module_version": "1.2.0",
      "_view_name": "StyleView",
      "description_width": ""
     }
    },
    "89464591bbcc4438aff8c95c168ae92a": {
     "model_module": "@jupyter-widgets/base",
     "model_name": "LayoutModel",
     "state": {
      "_model_module": "@jupyter-widgets/base",
      "_model_module_version": "1.2.0",
      "_model_name": "LayoutModel",
      "_view_count": null,
      "_view_module": "@jupyter-widgets/base",
      "_view_module_version": "1.2.0",
      "_view_name": "LayoutView",
      "align_content": null,
      "align_items": null,
      "align_self": null,
      "border": null,
      "bottom": null,
      "display": null,
      "flex": null,
      "flex_flow": null,
      "grid_area": null,
      "grid_auto_columns": null,
      "grid_auto_flow": null,
      "grid_auto_rows": null,
      "grid_column": null,
      "grid_gap": null,
      "grid_row": null,
      "grid_template_areas": null,
      "grid_template_columns": null,
      "grid_template_rows": null,
      "height": null,
      "justify_content": null,
      "justify_items": null,
      "left": null,
      "margin": null,
      "max_height": null,
      "max_width": null,
      "min_height": null,
      "min_width": null,
      "object_fit": null,
      "object_position": null,
      "order": null,
      "overflow": null,
      "overflow_x": null,
      "overflow_y": null,
      "padding": null,
      "right": null,
      "top": null,
      "visibility": null,
      "width": null
     }
    },
    "8ae41224663d42d9bec8e3d4c6b82dff": {
     "model_module": "@jupyter-widgets/controls",
     "model_name": "HTMLModel",
     "state": {
      "_dom_classes": [],
      "_model_module": "@jupyter-widgets/controls",
      "_model_module_version": "1.5.0",
      "_model_name": "HTMLModel",
      "_view_count": null,
      "_view_module": "@jupyter-widgets/controls",
      "_view_module_version": "1.5.0",
      "_view_name": "HTMLView",
      "description": "",
      "description_tooltip": null,
      "layout": "IPY_MODEL_397117ad727145d89354e30b5170a3e2",
      "placeholder": "​",
      "style": "IPY_MODEL_a819e58a8f264b1480d0b0eb83892003",
      "value": " 21/21 [03:16&lt;00:00,  9.38s/it]"
     }
    },
    "9327ac9f550a45df8fa2d71e22b39113": {
     "model_module": "@jupyter-widgets/controls",
     "model_name": "FloatProgressModel",
     "state": {
      "_dom_classes": [],
      "_model_module": "@jupyter-widgets/controls",
      "_model_module_version": "1.5.0",
      "_model_name": "FloatProgressModel",
      "_view_count": null,
      "_view_module": "@jupyter-widgets/controls",
      "_view_module_version": "1.5.0",
      "_view_name": "ProgressView",
      "bar_style": "success",
      "description": "100%",
      "description_tooltip": null,
      "layout": "IPY_MODEL_dcb5e59be1b047d38c6e79a95a02bc1c",
      "max": 21,
      "min": 0,
      "orientation": "horizontal",
      "style": "IPY_MODEL_b7f1b393d5d44fd9932c29a009ec783f",
      "value": 21
     }
    },
    "94ec0689e43046179a18863a3423f1cd": {
     "model_module": "@jupyter-widgets/base",
     "model_name": "LayoutModel",
     "state": {
      "_model_module": "@jupyter-widgets/base",
      "_model_module_version": "1.2.0",
      "_model_name": "LayoutModel",
      "_view_count": null,
      "_view_module": "@jupyter-widgets/base",
      "_view_module_version": "1.2.0",
      "_view_name": "LayoutView",
      "align_content": null,
      "align_items": null,
      "align_self": null,
      "border": null,
      "bottom": null,
      "display": null,
      "flex": null,
      "flex_flow": null,
      "grid_area": null,
      "grid_auto_columns": null,
      "grid_auto_flow": null,
      "grid_auto_rows": null,
      "grid_column": null,
      "grid_gap": null,
      "grid_row": null,
      "grid_template_areas": null,
      "grid_template_columns": null,
      "grid_template_rows": null,
      "height": null,
      "justify_content": null,
      "justify_items": null,
      "left": null,
      "margin": null,
      "max_height": null,
      "max_width": null,
      "min_height": null,
      "min_width": null,
      "object_fit": null,
      "object_position": null,
      "order": null,
      "overflow": null,
      "overflow_x": null,
      "overflow_y": null,
      "padding": null,
      "right": null,
      "top": null,
      "visibility": null,
      "width": null
     }
    },
    "959a7dfaa2a64a11912ad8217bc2641d": {
     "model_module": "@jupyter-widgets/controls",
     "model_name": "HTMLModel",
     "state": {
      "_dom_classes": [],
      "_model_module": "@jupyter-widgets/controls",
      "_model_module_version": "1.5.0",
      "_model_name": "HTMLModel",
      "_view_count": null,
      "_view_module": "@jupyter-widgets/controls",
      "_view_module_version": "1.5.0",
      "_view_name": "HTMLView",
      "description": "",
      "description_tooltip": null,
      "layout": "IPY_MODEL_b2860935b4cb4c7bb171e374e63157a5",
      "placeholder": "​",
      "style": "IPY_MODEL_336f6764e6ef44abbf9443ff9232ba81",
      "value": " 22/22 [31:16&lt;00:00, 85.31s/it]"
     }
    },
    "959bba2b78084a3e981a0e27ff3d1b78": {
     "model_module": "@jupyter-widgets/controls",
     "model_name": "DescriptionStyleModel",
     "state": {
      "_model_module": "@jupyter-widgets/controls",
      "_model_module_version": "1.5.0",
      "_model_name": "DescriptionStyleModel",
      "_view_count": null,
      "_view_module": "@jupyter-widgets/base",
      "_view_module_version": "1.2.0",
      "_view_name": "StyleView",
      "description_width": ""
     }
    },
    "99efccdafa344fa39913021b1eb18d95": {
     "model_module": "@jupyter-widgets/controls",
     "model_name": "HBoxModel",
     "state": {
      "_dom_classes": [],
      "_model_module": "@jupyter-widgets/controls",
      "_model_module_version": "1.5.0",
      "_model_name": "HBoxModel",
      "_view_count": null,
      "_view_module": "@jupyter-widgets/controls",
      "_view_module_version": "1.5.0",
      "_view_name": "HBoxView",
      "box_style": "",
      "children": [
       "IPY_MODEL_a3072c1987404b9cad413e14c60c9d3a",
       "IPY_MODEL_f719bf60952546ecae11405ab9cdce86"
      ],
      "layout": "IPY_MODEL_178fc5f124614e67b8e910db47daa695"
     }
    },
    "9bfc307c7f3a488dbb9057a8df524697": {
     "model_module": "@jupyter-widgets/controls",
     "model_name": "FloatProgressModel",
     "state": {
      "_dom_classes": [],
      "_model_module": "@jupyter-widgets/controls",
      "_model_module_version": "1.5.0",
      "_model_name": "FloatProgressModel",
      "_view_count": null,
      "_view_module": "@jupyter-widgets/controls",
      "_view_module_version": "1.5.0",
      "_view_name": "ProgressView",
      "bar_style": "success",
      "description": "100%",
      "description_tooltip": null,
      "layout": "IPY_MODEL_e3e957b2d23d44f3bf05e2281ada1b8f",
      "max": 22,
      "min": 0,
      "orientation": "horizontal",
      "style": "IPY_MODEL_77f377aa13c94c08849e0dfc39ba3b16",
      "value": 22
     }
    },
    "a02898ab4f7e4bc7827a8b2f03576762": {
     "model_module": "@jupyter-widgets/base",
     "model_name": "LayoutModel",
     "state": {
      "_model_module": "@jupyter-widgets/base",
      "_model_module_version": "1.2.0",
      "_model_name": "LayoutModel",
      "_view_count": null,
      "_view_module": "@jupyter-widgets/base",
      "_view_module_version": "1.2.0",
      "_view_name": "LayoutView",
      "align_content": null,
      "align_items": null,
      "align_self": null,
      "border": null,
      "bottom": null,
      "display": null,
      "flex": null,
      "flex_flow": null,
      "grid_area": null,
      "grid_auto_columns": null,
      "grid_auto_flow": null,
      "grid_auto_rows": null,
      "grid_column": null,
      "grid_gap": null,
      "grid_row": null,
      "grid_template_areas": null,
      "grid_template_columns": null,
      "grid_template_rows": null,
      "height": null,
      "justify_content": null,
      "justify_items": null,
      "left": null,
      "margin": null,
      "max_height": null,
      "max_width": null,
      "min_height": null,
      "min_width": null,
      "object_fit": null,
      "object_position": null,
      "order": null,
      "overflow": null,
      "overflow_x": null,
      "overflow_y": null,
      "padding": null,
      "right": null,
      "top": null,
      "visibility": null,
      "width": null
     }
    },
    "a04b645faefa4c2dae723e1f0b13267f": {
     "model_module": "@jupyter-widgets/base",
     "model_name": "LayoutModel",
     "state": {
      "_model_module": "@jupyter-widgets/base",
      "_model_module_version": "1.2.0",
      "_model_name": "LayoutModel",
      "_view_count": null,
      "_view_module": "@jupyter-widgets/base",
      "_view_module_version": "1.2.0",
      "_view_name": "LayoutView",
      "align_content": null,
      "align_items": null,
      "align_self": null,
      "border": null,
      "bottom": null,
      "display": null,
      "flex": null,
      "flex_flow": null,
      "grid_area": null,
      "grid_auto_columns": null,
      "grid_auto_flow": null,
      "grid_auto_rows": null,
      "grid_column": null,
      "grid_gap": null,
      "grid_row": null,
      "grid_template_areas": null,
      "grid_template_columns": null,
      "grid_template_rows": null,
      "height": null,
      "justify_content": null,
      "justify_items": null,
      "left": null,
      "margin": null,
      "max_height": null,
      "max_width": null,
      "min_height": null,
      "min_width": null,
      "object_fit": null,
      "object_position": null,
      "order": null,
      "overflow": null,
      "overflow_x": null,
      "overflow_y": null,
      "padding": null,
      "right": null,
      "top": null,
      "visibility": null,
      "width": null
     }
    },
    "a2e864a8bc7e413895e5c19b8d526943": {
     "model_module": "@jupyter-widgets/controls",
     "model_name": "ProgressStyleModel",
     "state": {
      "_model_module": "@jupyter-widgets/controls",
      "_model_module_version": "1.5.0",
      "_model_name": "ProgressStyleModel",
      "_view_count": null,
      "_view_module": "@jupyter-widgets/base",
      "_view_module_version": "1.2.0",
      "_view_name": "StyleView",
      "bar_color": null,
      "description_width": "initial"
     }
    },
    "a3072c1987404b9cad413e14c60c9d3a": {
     "model_module": "@jupyter-widgets/controls",
     "model_name": "FloatProgressModel",
     "state": {
      "_dom_classes": [],
      "_model_module": "@jupyter-widgets/controls",
      "_model_module_version": "1.5.0",
      "_model_name": "FloatProgressModel",
      "_view_count": null,
      "_view_module": "@jupyter-widgets/controls",
      "_view_module_version": "1.5.0",
      "_view_name": "ProgressView",
      "bar_style": "success",
      "description": "100%",
      "description_tooltip": null,
      "layout": "IPY_MODEL_5c4593eff5904e3e8605719c2de253ac",
      "max": 21,
      "min": 0,
      "orientation": "horizontal",
      "style": "IPY_MODEL_04ecca386b8c4fa88239429c4777b83f",
      "value": 21
     }
    },
    "a42ef756f0ad4994a42339276d525c58": {
     "model_module": "@jupyter-widgets/controls",
     "model_name": "HBoxModel",
     "state": {
      "_dom_classes": [],
      "_model_module": "@jupyter-widgets/controls",
      "_model_module_version": "1.5.0",
      "_model_name": "HBoxModel",
      "_view_count": null,
      "_view_module": "@jupyter-widgets/controls",
      "_view_module_version": "1.5.0",
      "_view_name": "HBoxView",
      "box_style": "",
      "children": [
       "IPY_MODEL_1846e49f7a9e420ab8d35ab9c9305bbc",
       "IPY_MODEL_8ae41224663d42d9bec8e3d4c6b82dff"
      ],
      "layout": "IPY_MODEL_c8850acb0d8743c6ae8b7f1cbc1a934e"
     }
    },
    "a55da349f0104966b14a18c06e8fd337": {
     "model_module": "@jupyter-widgets/controls",
     "model_name": "HTMLModel",
     "state": {
      "_dom_classes": [],
      "_model_module": "@jupyter-widgets/controls",
      "_model_module_version": "1.5.0",
      "_model_name": "HTMLModel",
      "_view_count": null,
      "_view_module": "@jupyter-widgets/controls",
      "_view_module_version": "1.5.0",
      "_view_name": "HTMLView",
      "description": "",
      "description_tooltip": null,
      "layout": "IPY_MODEL_fb7fab8dd5be4502acc385fc3dfdce93",
      "placeholder": "​",
      "style": "IPY_MODEL_6a93fd0637dc48d38c2abcb20551b28e",
      "value": " 21/21 [03:10&lt;00:00,  9.06s/it]"
     }
    },
    "a819e58a8f264b1480d0b0eb83892003": {
     "model_module": "@jupyter-widgets/controls",
     "model_name": "DescriptionStyleModel",
     "state": {
      "_model_module": "@jupyter-widgets/controls",
      "_model_module_version": "1.5.0",
      "_model_name": "DescriptionStyleModel",
      "_view_count": null,
      "_view_module": "@jupyter-widgets/base",
      "_view_module_version": "1.2.0",
      "_view_name": "StyleView",
      "description_width": ""
     }
    },
    "ac4764f6b1c6420faeb3bd72a722f8dd": {
     "model_module": "@jupyter-widgets/base",
     "model_name": "LayoutModel",
     "state": {
      "_model_module": "@jupyter-widgets/base",
      "_model_module_version": "1.2.0",
      "_model_name": "LayoutModel",
      "_view_count": null,
      "_view_module": "@jupyter-widgets/base",
      "_view_module_version": "1.2.0",
      "_view_name": "LayoutView",
      "align_content": null,
      "align_items": null,
      "align_self": null,
      "border": null,
      "bottom": null,
      "display": null,
      "flex": null,
      "flex_flow": null,
      "grid_area": null,
      "grid_auto_columns": null,
      "grid_auto_flow": null,
      "grid_auto_rows": null,
      "grid_column": null,
      "grid_gap": null,
      "grid_row": null,
      "grid_template_areas": null,
      "grid_template_columns": null,
      "grid_template_rows": null,
      "height": null,
      "justify_content": null,
      "justify_items": null,
      "left": null,
      "margin": null,
      "max_height": null,
      "max_width": null,
      "min_height": null,
      "min_width": null,
      "object_fit": null,
      "object_position": null,
      "order": null,
      "overflow": null,
      "overflow_x": null,
      "overflow_y": null,
      "padding": null,
      "right": null,
      "top": null,
      "visibility": null,
      "width": null
     }
    },
    "ac7ad5f0c36348d49c6e59fac5283779": {
     "model_module": "@jupyter-widgets/controls",
     "model_name": "HTMLModel",
     "state": {
      "_dom_classes": [],
      "_model_module": "@jupyter-widgets/controls",
      "_model_module_version": "1.5.0",
      "_model_name": "HTMLModel",
      "_view_count": null,
      "_view_module": "@jupyter-widgets/controls",
      "_view_module_version": "1.5.0",
      "_view_name": "HTMLView",
      "description": "",
      "description_tooltip": null,
      "layout": "IPY_MODEL_32c71be891cb44678b652b9e0216a506",
      "placeholder": "​",
      "style": "IPY_MODEL_7aa22614169c41da8d60c27cc5df14f4",
      "value": " 22/22 [03:10&lt;00:00,  8.65s/it]"
     }
    },
    "b096f55e4c7f4f4fb3b51461a7ac49d6": {
     "model_module": "@jupyter-widgets/controls",
     "model_name": "ProgressStyleModel",
     "state": {
      "_model_module": "@jupyter-widgets/controls",
      "_model_module_version": "1.5.0",
      "_model_name": "ProgressStyleModel",
      "_view_count": null,
      "_view_module": "@jupyter-widgets/base",
      "_view_module_version": "1.2.0",
      "_view_name": "StyleView",
      "bar_color": null,
      "description_width": "initial"
     }
    },
    "b19352cd25344b0e87f01e07721bceff": {
     "model_module": "@jupyter-widgets/controls",
     "model_name": "DescriptionStyleModel",
     "state": {
      "_model_module": "@jupyter-widgets/controls",
      "_model_module_version": "1.5.0",
      "_model_name": "DescriptionStyleModel",
      "_view_count": null,
      "_view_module": "@jupyter-widgets/base",
      "_view_module_version": "1.2.0",
      "_view_name": "StyleView",
      "description_width": ""
     }
    },
    "b269202749724633a2acd690c8e46956": {
     "model_module": "@jupyter-widgets/controls",
     "model_name": "ProgressStyleModel",
     "state": {
      "_model_module": "@jupyter-widgets/controls",
      "_model_module_version": "1.5.0",
      "_model_name": "ProgressStyleModel",
      "_view_count": null,
      "_view_module": "@jupyter-widgets/base",
      "_view_module_version": "1.2.0",
      "_view_name": "StyleView",
      "bar_color": null,
      "description_width": "initial"
     }
    },
    "b2860935b4cb4c7bb171e374e63157a5": {
     "model_module": "@jupyter-widgets/base",
     "model_name": "LayoutModel",
     "state": {
      "_model_module": "@jupyter-widgets/base",
      "_model_module_version": "1.2.0",
      "_model_name": "LayoutModel",
      "_view_count": null,
      "_view_module": "@jupyter-widgets/base",
      "_view_module_version": "1.2.0",
      "_view_name": "LayoutView",
      "align_content": null,
      "align_items": null,
      "align_self": null,
      "border": null,
      "bottom": null,
      "display": null,
      "flex": null,
      "flex_flow": null,
      "grid_area": null,
      "grid_auto_columns": null,
      "grid_auto_flow": null,
      "grid_auto_rows": null,
      "grid_column": null,
      "grid_gap": null,
      "grid_row": null,
      "grid_template_areas": null,
      "grid_template_columns": null,
      "grid_template_rows": null,
      "height": null,
      "justify_content": null,
      "justify_items": null,
      "left": null,
      "margin": null,
      "max_height": null,
      "max_width": null,
      "min_height": null,
      "min_width": null,
      "object_fit": null,
      "object_position": null,
      "order": null,
      "overflow": null,
      "overflow_x": null,
      "overflow_y": null,
      "padding": null,
      "right": null,
      "top": null,
      "visibility": null,
      "width": null
     }
    },
    "b3fe4cae04e54cab835e0b75a48d11d8": {
     "model_module": "@jupyter-widgets/base",
     "model_name": "LayoutModel",
     "state": {
      "_model_module": "@jupyter-widgets/base",
      "_model_module_version": "1.2.0",
      "_model_name": "LayoutModel",
      "_view_count": null,
      "_view_module": "@jupyter-widgets/base",
      "_view_module_version": "1.2.0",
      "_view_name": "LayoutView",
      "align_content": null,
      "align_items": null,
      "align_self": null,
      "border": null,
      "bottom": null,
      "display": null,
      "flex": null,
      "flex_flow": null,
      "grid_area": null,
      "grid_auto_columns": null,
      "grid_auto_flow": null,
      "grid_auto_rows": null,
      "grid_column": null,
      "grid_gap": null,
      "grid_row": null,
      "grid_template_areas": null,
      "grid_template_columns": null,
      "grid_template_rows": null,
      "height": null,
      "justify_content": null,
      "justify_items": null,
      "left": null,
      "margin": null,
      "max_height": null,
      "max_width": null,
      "min_height": null,
      "min_width": null,
      "object_fit": null,
      "object_position": null,
      "order": null,
      "overflow": null,
      "overflow_x": null,
      "overflow_y": null,
      "padding": null,
      "right": null,
      "top": null,
      "visibility": null,
      "width": null
     }
    },
    "b4419b27be334ad48132c68cedb17b08": {
     "model_module": "@jupyter-widgets/controls",
     "model_name": "FloatProgressModel",
     "state": {
      "_dom_classes": [],
      "_model_module": "@jupyter-widgets/controls",
      "_model_module_version": "1.5.0",
      "_model_name": "FloatProgressModel",
      "_view_count": null,
      "_view_module": "@jupyter-widgets/controls",
      "_view_module_version": "1.5.0",
      "_view_name": "ProgressView",
      "bar_style": "success",
      "description": "100%",
      "description_tooltip": null,
      "layout": "IPY_MODEL_3161167607b04278940d9264369132a8",
      "max": 21,
      "min": 0,
      "orientation": "horizontal",
      "style": "IPY_MODEL_b269202749724633a2acd690c8e46956",
      "value": 21
     }
    },
    "b7f1b393d5d44fd9932c29a009ec783f": {
     "model_module": "@jupyter-widgets/controls",
     "model_name": "ProgressStyleModel",
     "state": {
      "_model_module": "@jupyter-widgets/controls",
      "_model_module_version": "1.5.0",
      "_model_name": "ProgressStyleModel",
      "_view_count": null,
      "_view_module": "@jupyter-widgets/base",
      "_view_module_version": "1.2.0",
      "_view_name": "StyleView",
      "bar_color": null,
      "description_width": "initial"
     }
    },
    "b8223bf5ac9d40b1aac927e49ec1e2c6": {
     "model_module": "@jupyter-widgets/base",
     "model_name": "LayoutModel",
     "state": {
      "_model_module": "@jupyter-widgets/base",
      "_model_module_version": "1.2.0",
      "_model_name": "LayoutModel",
      "_view_count": null,
      "_view_module": "@jupyter-widgets/base",
      "_view_module_version": "1.2.0",
      "_view_name": "LayoutView",
      "align_content": null,
      "align_items": null,
      "align_self": null,
      "border": null,
      "bottom": null,
      "display": null,
      "flex": null,
      "flex_flow": null,
      "grid_area": null,
      "grid_auto_columns": null,
      "grid_auto_flow": null,
      "grid_auto_rows": null,
      "grid_column": null,
      "grid_gap": null,
      "grid_row": null,
      "grid_template_areas": null,
      "grid_template_columns": null,
      "grid_template_rows": null,
      "height": null,
      "justify_content": null,
      "justify_items": null,
      "left": null,
      "margin": null,
      "max_height": null,
      "max_width": null,
      "min_height": null,
      "min_width": null,
      "object_fit": null,
      "object_position": null,
      "order": null,
      "overflow": null,
      "overflow_x": null,
      "overflow_y": null,
      "padding": null,
      "right": null,
      "top": null,
      "visibility": null,
      "width": null
     }
    },
    "bb5bebc975ec486ba6795f5b78ca3ef9": {
     "model_module": "@jupyter-widgets/controls",
     "model_name": "HBoxModel",
     "state": {
      "_dom_classes": [],
      "_model_module": "@jupyter-widgets/controls",
      "_model_module_version": "1.5.0",
      "_model_name": "HBoxModel",
      "_view_count": null,
      "_view_module": "@jupyter-widgets/controls",
      "_view_module_version": "1.5.0",
      "_view_name": "HBoxView",
      "box_style": "",
      "children": [
       "IPY_MODEL_b4419b27be334ad48132c68cedb17b08",
       "IPY_MODEL_150f8a02acb5433db769fdfa06168384"
      ],
      "layout": "IPY_MODEL_ecb0bb006215412b9dcbf82fdf54c784"
     }
    },
    "c7507f071f834fe897cbf04b3f98186c": {
     "model_module": "@jupyter-widgets/base",
     "model_name": "LayoutModel",
     "state": {
      "_model_module": "@jupyter-widgets/base",
      "_model_module_version": "1.2.0",
      "_model_name": "LayoutModel",
      "_view_count": null,
      "_view_module": "@jupyter-widgets/base",
      "_view_module_version": "1.2.0",
      "_view_name": "LayoutView",
      "align_content": null,
      "align_items": null,
      "align_self": null,
      "border": null,
      "bottom": null,
      "display": null,
      "flex": null,
      "flex_flow": null,
      "grid_area": null,
      "grid_auto_columns": null,
      "grid_auto_flow": null,
      "grid_auto_rows": null,
      "grid_column": null,
      "grid_gap": null,
      "grid_row": null,
      "grid_template_areas": null,
      "grid_template_columns": null,
      "grid_template_rows": null,
      "height": null,
      "justify_content": null,
      "justify_items": null,
      "left": null,
      "margin": null,
      "max_height": null,
      "max_width": null,
      "min_height": null,
      "min_width": null,
      "object_fit": null,
      "object_position": null,
      "order": null,
      "overflow": null,
      "overflow_x": null,
      "overflow_y": null,
      "padding": null,
      "right": null,
      "top": null,
      "visibility": null,
      "width": null
     }
    },
    "c8850acb0d8743c6ae8b7f1cbc1a934e": {
     "model_module": "@jupyter-widgets/base",
     "model_name": "LayoutModel",
     "state": {
      "_model_module": "@jupyter-widgets/base",
      "_model_module_version": "1.2.0",
      "_model_name": "LayoutModel",
      "_view_count": null,
      "_view_module": "@jupyter-widgets/base",
      "_view_module_version": "1.2.0",
      "_view_name": "LayoutView",
      "align_content": null,
      "align_items": null,
      "align_self": null,
      "border": null,
      "bottom": null,
      "display": null,
      "flex": null,
      "flex_flow": null,
      "grid_area": null,
      "grid_auto_columns": null,
      "grid_auto_flow": null,
      "grid_auto_rows": null,
      "grid_column": null,
      "grid_gap": null,
      "grid_row": null,
      "grid_template_areas": null,
      "grid_template_columns": null,
      "grid_template_rows": null,
      "height": null,
      "justify_content": null,
      "justify_items": null,
      "left": null,
      "margin": null,
      "max_height": null,
      "max_width": null,
      "min_height": null,
      "min_width": null,
      "object_fit": null,
      "object_position": null,
      "order": null,
      "overflow": null,
      "overflow_x": null,
      "overflow_y": null,
      "padding": null,
      "right": null,
      "top": null,
      "visibility": null,
      "width": null
     }
    },
    "cb62e652d68d4ef880a0a51d6326c073": {
     "model_module": "@jupyter-widgets/controls",
     "model_name": "HBoxModel",
     "state": {
      "_dom_classes": [],
      "_model_module": "@jupyter-widgets/controls",
      "_model_module_version": "1.5.0",
      "_model_name": "HBoxModel",
      "_view_count": null,
      "_view_module": "@jupyter-widgets/controls",
      "_view_module_version": "1.5.0",
      "_view_name": "HBoxView",
      "box_style": "",
      "children": [
       "IPY_MODEL_84cf3831ab9e47babc73a9b679390927",
       "IPY_MODEL_ac7ad5f0c36348d49c6e59fac5283779"
      ],
      "layout": "IPY_MODEL_5514ffe2bbce4446b866295c8d17d342"
     }
    },
    "d14a1630786c4e04902323e0bb458725": {
     "model_module": "@jupyter-widgets/controls",
     "model_name": "DescriptionStyleModel",
     "state": {
      "_model_module": "@jupyter-widgets/controls",
      "_model_module_version": "1.5.0",
      "_model_name": "DescriptionStyleModel",
      "_view_count": null,
      "_view_module": "@jupyter-widgets/base",
      "_view_module_version": "1.2.0",
      "_view_name": "StyleView",
      "description_width": ""
     }
    },
    "d87ab38b412046e296fd986bba7a3c45": {
     "model_module": "@jupyter-widgets/base",
     "model_name": "LayoutModel",
     "state": {
      "_model_module": "@jupyter-widgets/base",
      "_model_module_version": "1.2.0",
      "_model_name": "LayoutModel",
      "_view_count": null,
      "_view_module": "@jupyter-widgets/base",
      "_view_module_version": "1.2.0",
      "_view_name": "LayoutView",
      "align_content": null,
      "align_items": null,
      "align_self": null,
      "border": null,
      "bottom": null,
      "display": null,
      "flex": null,
      "flex_flow": null,
      "grid_area": null,
      "grid_auto_columns": null,
      "grid_auto_flow": null,
      "grid_auto_rows": null,
      "grid_column": null,
      "grid_gap": null,
      "grid_row": null,
      "grid_template_areas": null,
      "grid_template_columns": null,
      "grid_template_rows": null,
      "height": null,
      "justify_content": null,
      "justify_items": null,
      "left": null,
      "margin": null,
      "max_height": null,
      "max_width": null,
      "min_height": null,
      "min_width": null,
      "object_fit": null,
      "object_position": null,
      "order": null,
      "overflow": null,
      "overflow_x": null,
      "overflow_y": null,
      "padding": null,
      "right": null,
      "top": null,
      "visibility": null,
      "width": null
     }
    },
    "dcb5e59be1b047d38c6e79a95a02bc1c": {
     "model_module": "@jupyter-widgets/base",
     "model_name": "LayoutModel",
     "state": {
      "_model_module": "@jupyter-widgets/base",
      "_model_module_version": "1.2.0",
      "_model_name": "LayoutModel",
      "_view_count": null,
      "_view_module": "@jupyter-widgets/base",
      "_view_module_version": "1.2.0",
      "_view_name": "LayoutView",
      "align_content": null,
      "align_items": null,
      "align_self": null,
      "border": null,
      "bottom": null,
      "display": null,
      "flex": null,
      "flex_flow": null,
      "grid_area": null,
      "grid_auto_columns": null,
      "grid_auto_flow": null,
      "grid_auto_rows": null,
      "grid_column": null,
      "grid_gap": null,
      "grid_row": null,
      "grid_template_areas": null,
      "grid_template_columns": null,
      "grid_template_rows": null,
      "height": null,
      "justify_content": null,
      "justify_items": null,
      "left": null,
      "margin": null,
      "max_height": null,
      "max_width": null,
      "min_height": null,
      "min_width": null,
      "object_fit": null,
      "object_position": null,
      "order": null,
      "overflow": null,
      "overflow_x": null,
      "overflow_y": null,
      "padding": null,
      "right": null,
      "top": null,
      "visibility": null,
      "width": null
     }
    },
    "dd8c41f04fae468dba910b03b628c1f1": {
     "model_module": "@jupyter-widgets/controls",
     "model_name": "ProgressStyleModel",
     "state": {
      "_model_module": "@jupyter-widgets/controls",
      "_model_module_version": "1.5.0",
      "_model_name": "ProgressStyleModel",
      "_view_count": null,
      "_view_module": "@jupyter-widgets/base",
      "_view_module_version": "1.2.0",
      "_view_name": "StyleView",
      "bar_color": null,
      "description_width": "initial"
     }
    },
    "de89d5a36be247fc875b8159ffda0441": {
     "model_module": "@jupyter-widgets/controls",
     "model_name": "ProgressStyleModel",
     "state": {
      "_model_module": "@jupyter-widgets/controls",
      "_model_module_version": "1.5.0",
      "_model_name": "ProgressStyleModel",
      "_view_count": null,
      "_view_module": "@jupyter-widgets/base",
      "_view_module_version": "1.2.0",
      "_view_name": "StyleView",
      "bar_color": null,
      "description_width": "initial"
     }
    },
    "e01a6c6d11b943b5b0ac103c65882763": {
     "model_module": "@jupyter-widgets/controls",
     "model_name": "FloatProgressModel",
     "state": {
      "_dom_classes": [],
      "_model_module": "@jupyter-widgets/controls",
      "_model_module_version": "1.5.0",
      "_model_name": "FloatProgressModel",
      "_view_count": null,
      "_view_module": "@jupyter-widgets/controls",
      "_view_module_version": "1.5.0",
      "_view_name": "ProgressView",
      "bar_style": "success",
      "description": "100%",
      "description_tooltip": null,
      "layout": "IPY_MODEL_4ac7156a3ebc46b9ab634ee52b8a9e49",
      "max": 22,
      "min": 0,
      "orientation": "horizontal",
      "style": "IPY_MODEL_de89d5a36be247fc875b8159ffda0441",
      "value": 22
     }
    },
    "e3e957b2d23d44f3bf05e2281ada1b8f": {
     "model_module": "@jupyter-widgets/base",
     "model_name": "LayoutModel",
     "state": {
      "_model_module": "@jupyter-widgets/base",
      "_model_module_version": "1.2.0",
      "_model_name": "LayoutModel",
      "_view_count": null,
      "_view_module": "@jupyter-widgets/base",
      "_view_module_version": "1.2.0",
      "_view_name": "LayoutView",
      "align_content": null,
      "align_items": null,
      "align_self": null,
      "border": null,
      "bottom": null,
      "display": null,
      "flex": null,
      "flex_flow": null,
      "grid_area": null,
      "grid_auto_columns": null,
      "grid_auto_flow": null,
      "grid_auto_rows": null,
      "grid_column": null,
      "grid_gap": null,
      "grid_row": null,
      "grid_template_areas": null,
      "grid_template_columns": null,
      "grid_template_rows": null,
      "height": null,
      "justify_content": null,
      "justify_items": null,
      "left": null,
      "margin": null,
      "max_height": null,
      "max_width": null,
      "min_height": null,
      "min_width": null,
      "object_fit": null,
      "object_position": null,
      "order": null,
      "overflow": null,
      "overflow_x": null,
      "overflow_y": null,
      "padding": null,
      "right": null,
      "top": null,
      "visibility": null,
      "width": null
     }
    },
    "e75bc5181c90441d8de9da03d0e8f55b": {
     "model_module": "@jupyter-widgets/controls",
     "model_name": "FloatProgressModel",
     "state": {
      "_dom_classes": [],
      "_model_module": "@jupyter-widgets/controls",
      "_model_module_version": "1.5.0",
      "_model_name": "FloatProgressModel",
      "_view_count": null,
      "_view_module": "@jupyter-widgets/controls",
      "_view_module_version": "1.5.0",
      "_view_name": "ProgressView",
      "bar_style": "success",
      "description": "100%",
      "description_tooltip": null,
      "layout": "IPY_MODEL_a02898ab4f7e4bc7827a8b2f03576762",
      "max": 21,
      "min": 0,
      "orientation": "horizontal",
      "style": "IPY_MODEL_46d989db78e3457794c3d2c16e11626d",
      "value": 21
     }
    },
    "ecb0bb006215412b9dcbf82fdf54c784": {
     "model_module": "@jupyter-widgets/base",
     "model_name": "LayoutModel",
     "state": {
      "_model_module": "@jupyter-widgets/base",
      "_model_module_version": "1.2.0",
      "_model_name": "LayoutModel",
      "_view_count": null,
      "_view_module": "@jupyter-widgets/base",
      "_view_module_version": "1.2.0",
      "_view_name": "LayoutView",
      "align_content": null,
      "align_items": null,
      "align_self": null,
      "border": null,
      "bottom": null,
      "display": null,
      "flex": null,
      "flex_flow": null,
      "grid_area": null,
      "grid_auto_columns": null,
      "grid_auto_flow": null,
      "grid_auto_rows": null,
      "grid_column": null,
      "grid_gap": null,
      "grid_row": null,
      "grid_template_areas": null,
      "grid_template_columns": null,
      "grid_template_rows": null,
      "height": null,
      "justify_content": null,
      "justify_items": null,
      "left": null,
      "margin": null,
      "max_height": null,
      "max_width": null,
      "min_height": null,
      "min_width": null,
      "object_fit": null,
      "object_position": null,
      "order": null,
      "overflow": null,
      "overflow_x": null,
      "overflow_y": null,
      "padding": null,
      "right": null,
      "top": null,
      "visibility": null,
      "width": null
     }
    },
    "f0c2b8fe1dde44ee9e7604336fe9e9b8": {
     "model_module": "@jupyter-widgets/base",
     "model_name": "LayoutModel",
     "state": {
      "_model_module": "@jupyter-widgets/base",
      "_model_module_version": "1.2.0",
      "_model_name": "LayoutModel",
      "_view_count": null,
      "_view_module": "@jupyter-widgets/base",
      "_view_module_version": "1.2.0",
      "_view_name": "LayoutView",
      "align_content": null,
      "align_items": null,
      "align_self": null,
      "border": null,
      "bottom": null,
      "display": null,
      "flex": null,
      "flex_flow": null,
      "grid_area": null,
      "grid_auto_columns": null,
      "grid_auto_flow": null,
      "grid_auto_rows": null,
      "grid_column": null,
      "grid_gap": null,
      "grid_row": null,
      "grid_template_areas": null,
      "grid_template_columns": null,
      "grid_template_rows": null,
      "height": null,
      "justify_content": null,
      "justify_items": null,
      "left": null,
      "margin": null,
      "max_height": null,
      "max_width": null,
      "min_height": null,
      "min_width": null,
      "object_fit": null,
      "object_position": null,
      "order": null,
      "overflow": null,
      "overflow_x": null,
      "overflow_y": null,
      "padding": null,
      "right": null,
      "top": null,
      "visibility": null,
      "width": null
     }
    },
    "f5a956aa64494c0cbb6a31fbefadc233": {
     "model_module": "@jupyter-widgets/controls",
     "model_name": "HTMLModel",
     "state": {
      "_dom_classes": [],
      "_model_module": "@jupyter-widgets/controls",
      "_model_module_version": "1.5.0",
      "_model_name": "HTMLModel",
      "_view_count": null,
      "_view_module": "@jupyter-widgets/controls",
      "_view_module_version": "1.5.0",
      "_view_name": "HTMLView",
      "description": "",
      "description_tooltip": null,
      "layout": "IPY_MODEL_94ec0689e43046179a18863a3423f1cd",
      "placeholder": "​",
      "style": "IPY_MODEL_18af025ecae94fb7b2a4c7ab94b0e388",
      "value": " 21/21 [03:17&lt;00:00,  9.39s/it]"
     }
    },
    "f719bf60952546ecae11405ab9cdce86": {
     "model_module": "@jupyter-widgets/controls",
     "model_name": "HTMLModel",
     "state": {
      "_dom_classes": [],
      "_model_module": "@jupyter-widgets/controls",
      "_model_module_version": "1.5.0",
      "_model_name": "HTMLModel",
      "_view_count": null,
      "_view_module": "@jupyter-widgets/controls",
      "_view_module_version": "1.5.0",
      "_view_name": "HTMLView",
      "description": "",
      "description_tooltip": null,
      "layout": "IPY_MODEL_258d8cf232864b7a90e5d4dde35aa3c2",
      "placeholder": "​",
      "style": "IPY_MODEL_6f8457f2d56e40588a87ea4e54b719b9",
      "value": " 21/21 [03:16&lt;00:00,  9.37s/it]"
     }
    },
    "fb652dd204db41328df440b9993a3ccb": {
     "model_module": "@jupyter-widgets/controls",
     "model_name": "HTMLModel",
     "state": {
      "_dom_classes": [],
      "_model_module": "@jupyter-widgets/controls",
      "_model_module_version": "1.5.0",
      "_model_name": "HTMLModel",
      "_view_count": null,
      "_view_module": "@jupyter-widgets/controls",
      "_view_module_version": "1.5.0",
      "_view_name": "HTMLView",
      "description": "",
      "description_tooltip": null,
      "layout": "IPY_MODEL_5f8f94227fb54a7c99ad3b900b66937c",
      "placeholder": "​",
      "style": "IPY_MODEL_959bba2b78084a3e981a0e27ff3d1b78",
      "value": " 21/21 [03:09&lt;00:00,  9.01s/it]"
     }
    },
    "fb7fab8dd5be4502acc385fc3dfdce93": {
     "model_module": "@jupyter-widgets/base",
     "model_name": "LayoutModel",
     "state": {
      "_model_module": "@jupyter-widgets/base",
      "_model_module_version": "1.2.0",
      "_model_name": "LayoutModel",
      "_view_count": null,
      "_view_module": "@jupyter-widgets/base",
      "_view_module_version": "1.2.0",
      "_view_name": "LayoutView",
      "align_content": null,
      "align_items": null,
      "align_self": null,
      "border": null,
      "bottom": null,
      "display": null,
      "flex": null,
      "flex_flow": null,
      "grid_area": null,
      "grid_auto_columns": null,
      "grid_auto_flow": null,
      "grid_auto_rows": null,
      "grid_column": null,
      "grid_gap": null,
      "grid_row": null,
      "grid_template_areas": null,
      "grid_template_columns": null,
      "grid_template_rows": null,
      "height": null,
      "justify_content": null,
      "justify_items": null,
      "left": null,
      "margin": null,
      "max_height": null,
      "max_width": null,
      "min_height": null,
      "min_width": null,
      "object_fit": null,
      "object_position": null,
      "order": null,
      "overflow": null,
      "overflow_x": null,
      "overflow_y": null,
      "padding": null,
      "right": null,
      "top": null,
      "visibility": null,
      "width": null
     }
    },
    "ffa8a89568f24d2195a49dfa24a39a6f": {
     "model_module": "@jupyter-widgets/controls",
     "model_name": "ProgressStyleModel",
     "state": {
      "_model_module": "@jupyter-widgets/controls",
      "_model_module_version": "1.5.0",
      "_model_name": "ProgressStyleModel",
      "_view_count": null,
      "_view_module": "@jupyter-widgets/base",
      "_view_module_version": "1.2.0",
      "_view_name": "StyleView",
      "bar_color": null,
      "description_width": "initial"
     }
    },
    "ffe0627a07284fd0be9d9616581b7287": {
     "model_module": "@jupyter-widgets/controls",
     "model_name": "HTMLModel",
     "state": {
      "_dom_classes": [],
      "_model_module": "@jupyter-widgets/controls",
      "_model_module_version": "1.5.0",
      "_model_name": "HTMLModel",
      "_view_count": null,
      "_view_module": "@jupyter-widgets/controls",
      "_view_module_version": "1.5.0",
      "_view_name": "HTMLView",
      "description": "",
      "description_tooltip": null,
      "layout": "IPY_MODEL_5b960929961b4acd9c75379e13b29d19",
      "placeholder": "​",
      "style": "IPY_MODEL_71c4ba2400594dfab11df690937e71a0",
      "value": " 39/39 [03:14&lt;00:00,  4.99s/it]"
     }
    }
   }
  }
 },
 "nbformat": 4,
 "nbformat_minor": 1
}
