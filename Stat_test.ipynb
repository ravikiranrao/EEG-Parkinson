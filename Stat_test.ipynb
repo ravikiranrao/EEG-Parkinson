{
  "nbformat": 4,
  "nbformat_minor": 0,
  "metadata": {
    "colab": {
      "name": "Stat_test.ipynb",
      "provenance": [],
      "collapsed_sections": [
        "j25mauLggnzG",
        "PSxUz9CGgcxw",
        "KVqiCJ4XrvrK",
        "z_6IB_Fowiep",
        "OVzmkl-DMEkH",
        "qotz46ZTzjSW",
        "MGZe0mBbLDPq"
      ],
      "toc_visible": true
    },
    "kernelspec": {
      "name": "python3",
      "display_name": "Python 3"
    },
    "language_info": {
      "name": "python"
    },
    "accelerator": "GPU"
  },
  "cells": [
    {
      "cell_type": "code",
      "metadata": {
        "id": "hO8F201M8hvL",
        "colab": {
          "base_uri": "https://localhost:8080/"
        },
        "outputId": "3888c9f2-e009-4058-afea-f1f83daefc3a"
      },
      "source": [
        "from google.colab import drive\n",
        "drive.mount('/content/drive')"
      ],
      "execution_count": null,
      "outputs": [
        {
          "output_type": "stream",
          "name": "stdout",
          "text": [
            "Mounted at /content/drive\n"
          ]
        }
      ]
    },
    {
      "cell_type": "code",
      "metadata": {
        "colab": {
          "base_uri": "https://localhost:8080/"
        },
        "id": "6RD9_2bqmb0v",
        "outputId": "334c7ace-00c2-4e34-d527-b428c1fca223"
      },
      "source": [
        "!pip install statannot"
      ],
      "execution_count": null,
      "outputs": [
        {
          "output_type": "stream",
          "name": "stdout",
          "text": [
            "Collecting statannot\n",
            "  Downloading statannot-0.2.3-py3-none-any.whl (10 kB)\n",
            "Installing collected packages: statannot\n",
            "Successfully installed statannot-0.2.3\n"
          ]
        }
      ]
    },
    {
      "cell_type": "code",
      "metadata": {
        "id": "tk8M7Ptm9YX5",
        "colab": {
          "base_uri": "https://localhost:8080/"
        },
        "outputId": "acb26e35-f7ff-4808-c8c5-c8f3955d32fb"
      },
      "source": [
        "import scipy.io as sio\n",
        "import numpy as np\n",
        "from scipy import stats\n",
        "import pandas as pd\n",
        "from statsmodels.stats.anova import anova_lm\n",
        "from statsmodels.formula.api import ols\n",
        "from statsmodels.stats.multicomp import MultiComparison\n",
        "from scipy.stats import ttest_ind\n",
        "import matplotlib.pyplot as plt\n",
        "from statannot import add_stat_annotation\n",
        "import seaborn as sns\n",
        "from google.colab import files as FILE"
      ],
      "execution_count": null,
      "outputs": [
        {
          "output_type": "stream",
          "name": "stderr",
          "text": [
            "/usr/local/lib/python3.7/dist-packages/statsmodels/tools/_testing.py:19: FutureWarning: pandas.util.testing is deprecated. Use the functions in the public API at pandas.testing instead.\n",
            "  import pandas.util.testing as tm\n"
          ]
        }
      ]
    },
    {
      "cell_type": "markdown",
      "metadata": {
        "id": "n8IDhEkpK_Jh"
      },
      "source": [
        "# ML"
      ]
    },
    {
      "cell_type": "markdown",
      "metadata": {
        "id": "BQrfC5E_LVkF"
      },
      "source": [
        "## PD vs NC"
      ]
    },
    {
      "cell_type": "markdown",
      "metadata": {
        "id": "Oj_HNCK2Lzkl"
      },
      "source": [
        "### Full data"
      ]
    },
    {
      "cell_type": "markdown",
      "metadata": {
        "id": "l2wIlET7Ljfi"
      },
      "source": [
        "Firstly, we would like to see whether there is any significant differences in the means of PD vs NC classification for spectral, CSP and IIR features. We can use one-way ANOVA."
      ]
    },
    {
      "cell_type": "code",
      "metadata": {
        "colab": {
          "base_uri": "https://localhost:8080/"
        },
        "id": "ceEsd-LJyIrg",
        "outputId": "b083148f-e90e-4204-f7b9-ff423f35d95b"
      },
      "source": [
        "def get_metric(dataPath, metric):\n",
        "  matContent = sio.loadmat(dataPath)\n",
        "  metric = matContent[metric]\n",
        "  return metric\n",
        "\n",
        "ml_pdnc_full_spec_f1 = get_metric('/content/drive/MyDrive/EEG_Analysis_PD_NC/Results/MLResults/Spectral/ML_PDNC_spectral_Full.mat', 'wtd_f1_list')\n",
        "ml_pdnc_full_csp_f1 = get_metric('/content/drive/MyDrive/EEG_Analysis_PD_NC/Results/MLResults/CSP/ML_PDNC_CSP_Full.mat', 'wtd_f1_list')\n",
        "ml_pdnc_full_iir_f1 = get_metric('/content/drive/MyDrive/EEG_Analysis_PD_NC/Results/MLResults/IIR/ML_PDNC_IIR_Full.mat', 'wtd_f1_list')\n",
        "\n",
        "print(ml_pdnc_full_spec_f1)\n",
        "print(ml_pdnc_full_csp_f1)\n",
        "print(ml_pdnc_full_iir_f1)\n"
      ],
      "execution_count": null,
      "outputs": [
        {
          "output_type": "stream",
          "text": [
            "[[0.96959464 0.96959397 0.97432423 0.96891881 0.96351351 0.95878373\n",
            "  0.97432235 0.97162007 0.96351151 0.96013253]]\n",
            "[[0.88313734 0.87156936 0.87554928 0.8857453  0.88301818 0.871489\n",
            "  0.8802999  0.86806252 0.87072389 0.87759891]]\n",
            "[[0.65597438 0.65824913 0.65246971 0.65052087 0.63918777 0.66208408\n",
            "  0.67044856 0.65688522 0.65480616 0.65960265]]\n"
          ],
          "name": "stdout"
        }
      ]
    },
    {
      "cell_type": "code",
      "metadata": {
        "colab": {
          "base_uri": "https://localhost:8080/"
        },
        "id": "A3XMge_eXb8I",
        "outputId": "fedaa007-fe43-4b85-b614-5f68bc8a5468"
      },
      "source": [
        "# One-way ANOVA between PD vs NC full data\n",
        "from scipy.stats import f_oneway\n",
        "\n",
        "stat, p = f_oneway(ml_pdnc_full_spec_f1[0], ml_pdnc_full_csp_f1[0], ml_pdnc_full_iir_f1[0])\n",
        "print('stat=%.3f, p=%.3f' % (stat, p))\n",
        "if p > 0.05:\n",
        "\tprint('Probably the same distribution')\n",
        "else:\n",
        "\tprint('Probably different distributions')"
      ],
      "execution_count": null,
      "outputs": [
        {
          "output_type": "stream",
          "text": [
            "stat=5695.267, p=0.000\n",
            "Probably different distributions\n"
          ],
          "name": "stdout"
        }
      ]
    },
    {
      "cell_type": "markdown",
      "metadata": {
        "id": "Sw6TSeFVX7Y6"
      },
      "source": [
        "One-way ANOVA test says that the samples are significantly different. "
      ]
    },
    {
      "cell_type": "code",
      "metadata": {
        "colab": {
          "base_uri": "https://localhost:8080/"
        },
        "id": "yBrvYtvHkDJp",
        "outputId": "fbacee01-6cba-448c-d0be-59f5bd2f3c42"
      },
      "source": [
        "# Create a dataframe of f-scores and its corresponding features for full data\n",
        "\n",
        "ml_pdnc_full_spec_df = pd.DataFrame({'wtd_F_score': ml_pdnc_full_spec_f1[0],'Features': len(ml_pdnc_full_spec_f1[0])*['spectral']})\n",
        "ml_pdnc_full_csp_df = pd.DataFrame({'wtd_F_score': ml_pdnc_full_csp_f1[0],'Features': len(ml_pdnc_full_csp_f1[0])*['csp']})\n",
        "ml_pdnc_full_iir_df = pd.DataFrame({'wtd_F_score': ml_pdnc_full_iir_f1[0],'Features': len(ml_pdnc_full_iir_f1[0])*['iir']})\n",
        "\n",
        "ml_pdnc_full_df = pd.concat([ml_pdnc_full_spec_df, ml_pdnc_full_csp_df, ml_pdnc_full_iir_df], ignore_index=True)\n",
        "\n",
        "#print(pdnc_full_df)\n",
        "\n",
        "# One-way ANOVA using statsmodel api\n",
        "\n",
        "ml_pdnc_full_formula = 'wtd_F_score ~ C(Features)'\n",
        "ml_pdnc_full_model = ols(ml_pdnc_full_formula, ml_pdnc_full_df).fit()\n",
        "ml_pdnc_aov_table = anova_lm(ml_pdnc_full_model, typ=2)\n",
        "print(ml_pdnc_aov_table)"
      ],
      "execution_count": null,
      "outputs": [
        {
          "output_type": "stream",
          "text": [
            "               sum_sq    df            F        PR(>F)\n",
            "C(Features)  0.513037   2.0  5695.267193  3.517097e-36\n",
            "Residual     0.001216  27.0          NaN           NaN\n"
          ],
          "name": "stdout"
        }
      ]
    },
    {
      "cell_type": "code",
      "metadata": {
        "colab": {
          "base_uri": "https://localhost:8080/"
        },
        "id": "piNmmS2lrXTs",
        "outputId": "6fd2d7ea-0737-43d0-c0b7-322f29515bcc"
      },
      "source": [
        "# Comparison of means using Tukey HSD\n",
        "\n",
        "ml_pdnc_mc = MultiComparison(ml_pdnc_full_df['wtd_F_score'], ml_pdnc_full_df['Features'])\n",
        "print(ml_pdnc_mc.tukeyhsd())"
      ],
      "execution_count": null,
      "outputs": [
        {
          "output_type": "stream",
          "text": [
            " Multiple Comparison of Means - Tukey HSD, FWER=0.05 \n",
            "=====================================================\n",
            "group1  group2  meandiff p-adj  lower   upper  reject\n",
            "-----------------------------------------------------\n",
            "   csp      iir  -0.2207 0.001 -0.2281 -0.2133   True\n",
            "   csp spectral   0.0907 0.001  0.0833  0.0982   True\n",
            "   iir spectral   0.3114 0.001   0.304  0.3188   True\n",
            "-----------------------------------------------------\n"
          ],
          "name": "stdout"
        }
      ]
    },
    {
      "cell_type": "markdown",
      "metadata": {
        "id": "vDPRcA4Ussis"
      },
      "source": [
        "The above table shows that there is statistical significance between pairwise features for PD vs NC Full data. "
      ]
    },
    {
      "cell_type": "markdown",
      "metadata": {
        "id": "qQWQaOBkvF3N"
      },
      "source": [
        "### Individual Emotions"
      ]
    },
    {
      "cell_type": "code",
      "metadata": {
        "colab": {
          "base_uri": "https://localhost:8080/"
        },
        "id": "e86slXgTwlnB",
        "outputId": "e62b5795-c4e2-49b4-82e0-1f723f411e5e"
      },
      "source": [
        "# Create a DataFrame\n",
        "ml_pdnc_emot_df = pd.DataFrame()\n",
        "emotions = [\"E1\", \"E2\", \"E3\", \"E4\", \"E5\", \"E6\"]\n",
        "features = [\"Spectral\", \"CSP\", \"IIR\"]\n",
        "for i in features:\n",
        "  for j in emotions:\n",
        "    if i == \"Spectral\":\n",
        "      ml_pdnc_emot_f1 = get_metric('/content/drive/MyDrive/EEG_Analysis_PD_NC/Results/MLResults/'+str(i)+'/ML_PDNC_'+str(i).lower()+'_'+str(j)+'.mat', 'wtd_f1_list')\n",
        "    else:\n",
        "      ml_pdnc_emot_f1 = get_metric('/content/drive/MyDrive/EEG_Analysis_PD_NC/Results/MLResults/'+str(i)+'/ML_PDNC_'+str(i)+'_'+str(j)+'.mat', 'wtd_f1_list')\n",
        "    data = pd.DataFrame({'wtd_F_score': ml_pdnc_emot_f1[0],'Features': len(ml_pdnc_emot_f1[0])*[str(i)], 'Emotions': len(ml_pdnc_emot_f1[0])*[str(j)]})\n",
        "    ml_pdnc_emot_df = ml_pdnc_emot_df.append(data, ignore_index=True)\n",
        "     \n",
        "print(ml_pdnc_emot_df)"
      ],
      "execution_count": null,
      "outputs": [
        {
          "output_type": "stream",
          "text": [
            "     wtd_F_score  Features Emotions\n",
            "0       0.950197  Spectral       E1\n",
            "1       0.975095  Spectral       E1\n",
            "2       0.975103  Spectral       E1\n",
            "3       0.983402  Spectral       E1\n",
            "4       0.975104  Spectral       E1\n",
            "..           ...       ...      ...\n",
            "175     0.535852       IIR       E6\n",
            "176     0.561481       IIR       E6\n",
            "177     0.630036       IIR       E6\n",
            "178     0.571848       IIR       E6\n",
            "179     0.543925       IIR       E6\n",
            "\n",
            "[180 rows x 3 columns]\n"
          ],
          "name": "stdout"
        }
      ]
    },
    {
      "cell_type": "code",
      "metadata": {
        "colab": {
          "base_uri": "https://localhost:8080/"
        },
        "id": "klcvDxEl6EUT",
        "outputId": "6a9d0514-f671-4651-c9ae-de5b715eb75b"
      },
      "source": [
        "# Two-way ANOVA using statsmodel api\n",
        "\n",
        "ml_pdnc_emot_formula = 'wtd_F_score ~ C(Features)+C(Emotions)+C(Features):C(Emotions)'\n",
        "ml_pdnc_emot_model = ols(ml_pdnc_emot_formula, ml_pdnc_emot_df).fit()\n",
        "ml_pdnc_emot_aov_table = anova_lm(ml_pdnc_emot_model, typ=2)\n",
        "print(ml_pdnc_emot_aov_table)"
      ],
      "execution_count": null,
      "outputs": [
        {
          "output_type": "stream",
          "text": [
            "                           sum_sq     df            F         PR(>F)\n",
            "C(Features)              4.940924    2.0  6146.423664  1.771353e-153\n",
            "C(Emotions)              0.006460    5.0     3.214252   8.555292e-03\n",
            "C(Features):C(Emotions)  0.012086   10.0     3.007067   1.645751e-03\n",
            "Residual                 0.065113  162.0          NaN            NaN\n"
          ],
          "name": "stdout"
        }
      ]
    },
    {
      "cell_type": "code",
      "metadata": {
        "colab": {
          "base_uri": "https://localhost:8080/"
        },
        "id": "IMkVAAjHbakD",
        "outputId": "137e38a5-c882-493f-c632-41f5d2be4ff0"
      },
      "source": [
        "# One way Anova test for individual emotions:\n",
        "emotions = [\"E1\", \"E2\", \"E3\", \"E4\", \"E5\", \"E6\"]\n",
        "\n",
        "for i in emotions:\n",
        "  temp_df = ml_pdnc_emot_df[ml_pdnc_emot_df['Emotions']==i]\n",
        "  #del temp_df['Emotions']\n",
        "  ml_pdnc_formula = 'wtd_F_score ~ C(Features)'\n",
        "  ml_pdnc_model = ols(ml_pdnc_formula, temp_df).fit()\n",
        "  ml_pdnc_aov_table = anova_lm(ml_pdnc_model, typ=2)\n",
        "  print(\"Table for\", i, '\\n')\n",
        "  print(ml_pdnc_aov_table)\n",
        "  print('\\n')\n",
        "  print(10*'#')\n",
        "  print('\\n\\n')"
      ],
      "execution_count": null,
      "outputs": [
        {
          "output_type": "stream",
          "text": [
            "Table for E1 \n",
            "\n",
            "               sum_sq    df            F        PR(>F)\n",
            "C(Features)  0.901221   2.0  1312.482477  1.274224e-27\n",
            "Residual     0.009270  27.0          NaN           NaN\n",
            "\n",
            "\n",
            "##########\n",
            "\n",
            "\n",
            "\n",
            "Table for E2 \n",
            "\n",
            "               sum_sq    df            F        PR(>F)\n",
            "C(Features)  0.829298   2.0  1140.396165  8.322523e-27\n",
            "Residual     0.009817  27.0          NaN           NaN\n",
            "\n",
            "\n",
            "##########\n",
            "\n",
            "\n",
            "\n",
            "Table for E3 \n",
            "\n",
            "               sum_sq    df           F        PR(>F)\n",
            "C(Features)  0.748071   2.0  700.843412  5.392135e-24\n",
            "Residual     0.014410  27.0         NaN           NaN\n",
            "\n",
            "\n",
            "##########\n",
            "\n",
            "\n",
            "\n",
            "Table for E4 \n",
            "\n",
            "               sum_sq    df           F        PR(>F)\n",
            "C(Features)  0.807523   2.0  1032.21926  3.143417e-26\n",
            "Residual     0.010561  27.0         NaN           NaN\n",
            "\n",
            "\n",
            "##########\n",
            "\n",
            "\n",
            "\n",
            "Table for E5 \n",
            "\n",
            "               sum_sq    df         F        PR(>F)\n",
            "C(Features)  0.731634   2.0  871.8102  2.976577e-25\n",
            "Residual     0.011329  27.0       NaN           NaN\n",
            "\n",
            "\n",
            "##########\n",
            "\n",
            "\n",
            "\n",
            "Table for E6 \n",
            "\n",
            "               sum_sq    df            F        PR(>F)\n",
            "C(Features)  0.935263   2.0  1298.172458  1.475241e-27\n",
            "Residual     0.009726  27.0          NaN           NaN\n",
            "\n",
            "\n",
            "##########\n",
            "\n",
            "\n",
            "\n"
          ],
          "name": "stdout"
        }
      ]
    },
    {
      "cell_type": "code",
      "metadata": {
        "colab": {
          "base_uri": "https://localhost:8080/"
        },
        "id": "p5jN3c9TEAHM",
        "outputId": "ac8fde07-aa4c-48cc-f0e7-dfb19b6e1b22"
      },
      "source": [
        "# Tukey HSD test for individual emotions\n",
        "\n",
        "for i in emotions:\n",
        "  temp_df = ml_pdnc_emot_df[ml_pdnc_emot_df['Emotions']==i]\n",
        "  ml_pdnc_mc = MultiComparison(temp_df['wtd_F_score'], temp_df['Features'])\n",
        "  print(\"Table for\", i, '\\n')\n",
        "  print(ml_pdnc_mc.tukeyhsd())\n",
        "  print('\\n')\n",
        "  print(10*'#')\n",
        "  print('\\n\\n')"
      ],
      "execution_count": null,
      "outputs": [
        {
          "output_type": "stream",
          "text": [
            "Table for E1 \n",
            "\n",
            " Multiple Comparison of Means - Tukey HSD, FWER=0.05 \n",
            "=====================================================\n",
            "group1  group2  meandiff p-adj  lower   upper  reject\n",
            "-----------------------------------------------------\n",
            "   CSP      IIR  -0.3404 0.001 -0.3609 -0.3198   True\n",
            "   CSP Spectral   0.0495 0.001   0.029  0.0701   True\n",
            "   IIR Spectral   0.3899 0.001  0.3694  0.4105   True\n",
            "-----------------------------------------------------\n",
            "\n",
            "\n",
            "##########\n",
            "\n",
            "\n",
            "\n",
            "Table for E2 \n",
            "\n",
            " Multiple Comparison of Means - Tukey HSD, FWER=0.05 \n",
            "=====================================================\n",
            "group1  group2  meandiff p-adj  lower   upper  reject\n",
            "-----------------------------------------------------\n",
            "   CSP      IIR  -0.3149 0.001 -0.3361 -0.2938   True\n",
            "   CSP Spectral   0.0662 0.001   0.045  0.0873   True\n",
            "   IIR Spectral   0.3811 0.001    0.36  0.4022   True\n",
            "-----------------------------------------------------\n",
            "\n",
            "\n",
            "##########\n",
            "\n",
            "\n",
            "\n",
            "Table for E3 \n",
            "\n",
            " Multiple Comparison of Means - Tukey HSD, FWER=0.05  \n",
            "======================================================\n",
            "group1  group2  meandiff p-adj   lower   upper  reject\n",
            "------------------------------------------------------\n",
            "   CSP      IIR  -0.3133  0.001 -0.3389 -0.2877   True\n",
            "   CSP Spectral   0.0398 0.0018  0.0142  0.0654   True\n",
            "   IIR Spectral   0.3531  0.001  0.3275  0.3787   True\n",
            "------------------------------------------------------\n",
            "\n",
            "\n",
            "##########\n",
            "\n",
            "\n",
            "\n",
            "Table for E4 \n",
            "\n",
            " Multiple Comparison of Means - Tukey HSD, FWER=0.05 \n",
            "=====================================================\n",
            "group1  group2  meandiff p-adj  lower   upper  reject\n",
            "-----------------------------------------------------\n",
            "   CSP      IIR  -0.3197 0.001 -0.3416 -0.2978   True\n",
            "   CSP Spectral    0.051 0.001  0.0291   0.073   True\n",
            "   IIR Spectral   0.3707 0.001  0.3488  0.3927   True\n",
            "-----------------------------------------------------\n",
            "\n",
            "\n",
            "##########\n",
            "\n",
            "\n",
            "\n",
            "Table for E5 \n",
            "\n",
            " Multiple Comparison of Means - Tukey HSD, FWER=0.05 \n",
            "=====================================================\n",
            "group1  group2  meandiff p-adj  lower   upper  reject\n",
            "-----------------------------------------------------\n",
            "   CSP      IIR  -0.3048 0.001 -0.3276 -0.2821   True\n",
            "   CSP Spectral   0.0477 0.001   0.025  0.0704   True\n",
            "   IIR Spectral   0.3525 0.001  0.3298  0.3752   True\n",
            "-----------------------------------------------------\n",
            "\n",
            "\n",
            "##########\n",
            "\n",
            "\n",
            "\n",
            "Table for E6 \n",
            "\n",
            " Multiple Comparison of Means - Tukey HSD, FWER=0.05 \n",
            "=====================================================\n",
            "group1  group2  meandiff p-adj  lower   upper  reject\n",
            "-----------------------------------------------------\n",
            "   CSP      IIR  -0.3511 0.001 -0.3722 -0.3301   True\n",
            "   CSP Spectral   0.0431 0.001  0.0221  0.0641   True\n",
            "   IIR Spectral   0.3942 0.001  0.3732  0.4153   True\n",
            "-----------------------------------------------------\n",
            "\n",
            "\n",
            "##########\n",
            "\n",
            "\n",
            "\n"
          ],
          "name": "stdout"
        }
      ]
    },
    {
      "cell_type": "markdown",
      "metadata": {
        "id": "9RdYDpN263VD"
      },
      "source": [
        "The above results shows that for any emotions, all features are significantly different."
      ]
    },
    {
      "cell_type": "code",
      "metadata": {
        "colab": {
          "base_uri": "https://localhost:8080/"
        },
        "id": "yLoLVX3leiiH",
        "outputId": "0d730f82-ee58-4965-fcbd-d60a91667ce1"
      },
      "source": [
        "# One way Anova test for individual features:\n",
        "\n",
        "for i in features:\n",
        "  temp_df = ml_pdnc_emot_df[ml_pdnc_emot_df['Features']==i]\n",
        "  #del temp_df['Emotions']\n",
        "  ml_pdnc_formula = 'wtd_F_score ~ C(Emotions)'\n",
        "  ml_pdnc_model = ols(ml_pdnc_formula, temp_df).fit()\n",
        "  ml_pdnc_aov_table = anova_lm(ml_pdnc_model, typ=2)\n",
        "  print(\"Table for\", i, '\\n')\n",
        "  print(ml_pdnc_aov_table)\n",
        "  print('\\n')\n",
        "  print(10*'#')\n",
        "  print('\\n\\n')"
      ],
      "execution_count": null,
      "outputs": [
        {
          "output_type": "stream",
          "text": [
            "Table for Spectral \n",
            "\n",
            "               sum_sq    df        F    PR(>F)\n",
            "C(Emotions)  0.002505   5.0  2.51875  0.040296\n",
            "Residual     0.010742  54.0      NaN       NaN\n",
            "\n",
            "\n",
            "##########\n",
            "\n",
            "\n",
            "\n",
            "Table for CSP \n",
            "\n",
            "               sum_sq    df        F    PR(>F)\n",
            "C(Emotions)  0.005172   5.0  2.58029  0.036455\n",
            "Residual     0.021650  54.0      NaN       NaN\n",
            "\n",
            "\n",
            "##########\n",
            "\n",
            "\n",
            "\n",
            "Table for IIR \n",
            "\n",
            "               sum_sq    df         F    PR(>F)\n",
            "C(Emotions)  0.010868   5.0  3.587154  0.007129\n",
            "Residual     0.032722  54.0       NaN       NaN\n",
            "\n",
            "\n",
            "##########\n",
            "\n",
            "\n",
            "\n"
          ],
          "name": "stdout"
        }
      ]
    },
    {
      "cell_type": "code",
      "metadata": {
        "colab": {
          "base_uri": "https://localhost:8080/"
        },
        "id": "ez1_16TpLscJ",
        "outputId": "cea6f72a-3779-4d30-8386-e93ab71c2a38"
      },
      "source": [
        "# Tukey HSD test for individual features\n",
        "\n",
        "for i in features:\n",
        "  temp_df = ml_pdnc_emot_df[ml_pdnc_emot_df['Features']==i]\n",
        "  ml_pdnc_mc = MultiComparison(temp_df['wtd_F_score'], temp_df['Emotions'])\n",
        "  print(\"Table for\", i, '\\n')\n",
        "  print(ml_pdnc_mc.tukeyhsd())\n",
        "  print('\\n')\n",
        "  print(10*'#')\n",
        "  print('\\n\\n')"
      ],
      "execution_count": null,
      "outputs": [
        {
          "output_type": "stream",
          "text": [
            "Table for Spectral \n",
            "\n",
            "Multiple Comparison of Means - Tukey HSD, FWER=0.05\n",
            "===================================================\n",
            "group1 group2 meandiff p-adj   lower  upper  reject\n",
            "---------------------------------------------------\n",
            "    E1     E2  -0.0067 0.8902 -0.0254 0.0119  False\n",
            "    E1     E3  -0.0093 0.6634 -0.0279 0.0094  False\n",
            "    E1     E4  -0.0116 0.4483 -0.0303  0.007  False\n",
            "    E1     E5  -0.0216 0.0143 -0.0402 -0.003   True\n",
            "    E1     E6  -0.0114 0.4675 -0.0301 0.0072  False\n",
            "    E2     E3  -0.0025    0.9 -0.0212 0.0161  False\n",
            "    E2     E4  -0.0049    0.9 -0.0236 0.0137  False\n",
            "    E2     E5  -0.0149  0.189 -0.0335 0.0038  False\n",
            "    E2     E6  -0.0047    0.9 -0.0234 0.0139  False\n",
            "    E3     E4  -0.0024    0.9  -0.021 0.0163  False\n",
            "    E3     E5  -0.0123 0.3818  -0.031 0.0063  False\n",
            "    E3     E6  -0.0022    0.9 -0.0208 0.0165  False\n",
            "    E4     E5    -0.01 0.6008 -0.0286 0.0087  False\n",
            "    E4     E6   0.0002    0.9 -0.0184 0.0188  False\n",
            "    E5     E6   0.0102 0.5829 -0.0085 0.0288  False\n",
            "---------------------------------------------------\n",
            "\n",
            "\n",
            "##########\n",
            "\n",
            "\n",
            "\n",
            "Table for CSP \n",
            "\n",
            "Multiple Comparison of Means - Tukey HSD, FWER=0.05\n",
            "===================================================\n",
            "group1 group2 meandiff p-adj   lower  upper  reject\n",
            "---------------------------------------------------\n",
            "    E1     E2  -0.0233 0.1132 -0.0498 0.0031  False\n",
            "    E1     E3   0.0005    0.9  -0.026 0.0269  False\n",
            "    E1     E4  -0.0131 0.6644 -0.0396 0.0133  False\n",
            "    E1     E5  -0.0197 0.2522 -0.0462 0.0067  False\n",
            "    E1     E6   -0.005    0.9 -0.0315 0.0215  False\n",
            "    E2     E3   0.0238 0.1009 -0.0027 0.0503  False\n",
            "    E2     E4   0.0102 0.8476 -0.0162 0.0367  False\n",
            "    E2     E5   0.0036    0.9 -0.0229 0.0301  False\n",
            "    E2     E6   0.0183 0.3292 -0.0081 0.0448  False\n",
            "    E3     E4  -0.0136 0.6355   -0.04 0.0129  False\n",
            "    E3     E5  -0.0202 0.2299 -0.0467 0.0062  False\n",
            "    E3     E6  -0.0055    0.9 -0.0319  0.021  False\n",
            "    E4     E5  -0.0066    0.9 -0.0331 0.0198  False\n",
            "    E4     E6   0.0081    0.9 -0.0183 0.0346  False\n",
            "    E5     E6   0.0147 0.5626 -0.0117 0.0412  False\n",
            "---------------------------------------------------\n",
            "\n",
            "\n",
            "##########\n",
            "\n",
            "\n",
            "\n",
            "Table for IIR \n",
            "\n",
            "Multiple Comparison of Means - Tukey HSD, FWER=0.05 \n",
            "====================================================\n",
            "group1 group2 meandiff p-adj   lower   upper  reject\n",
            "----------------------------------------------------\n",
            "    E1     E2   0.0021    0.9 -0.0304  0.0346  False\n",
            "    E1     E3   0.0276  0.141  -0.005  0.0601  False\n",
            "    E1     E4   0.0076    0.9  -0.025  0.0401  False\n",
            "    E1     E5   0.0158 0.6822 -0.0167  0.0483  False\n",
            "    E1     E6  -0.0157 0.6848 -0.0483  0.0168  False\n",
            "    E2     E3   0.0254 0.2075 -0.0071   0.058  False\n",
            "    E2     E4   0.0054    0.9 -0.0271   0.038  False\n",
            "    E2     E5   0.0137 0.7905 -0.0188  0.0462  False\n",
            "    E2     E6  -0.0179 0.5764 -0.0504  0.0147  False\n",
            "    E3     E4    -0.02 0.4652 -0.0525  0.0125  False\n",
            "    E3     E5  -0.0118  0.888 -0.0443  0.0208  False\n",
            "    E3     E6  -0.0433 0.0031 -0.0758 -0.0108   True\n",
            "    E4     E5   0.0082    0.9 -0.0243  0.0408  False\n",
            "    E4     E6  -0.0233 0.2944 -0.0558  0.0092  False\n",
            "    E5     E6  -0.0315 0.0624 -0.0641   0.001  False\n",
            "----------------------------------------------------\n",
            "\n",
            "\n",
            "##########\n",
            "\n",
            "\n",
            "\n"
          ],
          "name": "stdout"
        }
      ]
    },
    {
      "cell_type": "markdown",
      "metadata": {
        "id": "kXqurqzwMCU8"
      },
      "source": [
        "The above results show that:\n",
        "\n",
        "\n",
        "1.   For spectral features, only the pair E1 and E5 are significantly different.\n",
        "2.   For CSP features, none of the emotions are signicantly different.\n",
        "3. For IIR features, only the pair E3 and E6 are significantly different.\n",
        "\n"
      ]
    },
    {
      "cell_type": "markdown",
      "metadata": {
        "id": "toYNYaVMMpAQ"
      },
      "source": [
        "## HV vs LV"
      ]
    },
    {
      "cell_type": "code",
      "metadata": {
        "colab": {
          "base_uri": "https://localhost:8080/"
        },
        "id": "K5cIGXj0MxOD",
        "outputId": "48f05d56-5c15-4050-a349-2e8fed0f911b"
      },
      "source": [
        "# Create a DataFrame\n",
        "\n",
        "ml_hvlv_df = pd.DataFrame()\n",
        "features = [\"Spectral\", \"CSP\", \"IIR\"]\n",
        "Data = [\"Full\", \"PD\", \"NC\"]\n",
        "for i in Data:\n",
        "  for j in features:\n",
        "      if j == \"Spectral\":\n",
        "        ml_hvlv_f1 = get_metric('/content/drive/MyDrive/EEG_Analysis_PD_NC/Results/MLResults/'+str(j)+'/ML_HVLV_'+str(j).lower()+'_'+str(i)+'.mat', 'wtd_f1_list')\n",
        "      else:\n",
        "        ml_hvlv_f1 = get_metric('/content/drive/MyDrive/EEG_Analysis_PD_NC/Results/MLResults/'+str(j)+'/ML_HVLV_'+str(j)+'_'+str(i)+'.mat', 'wtd_f1_list')\n",
        "      data = pd.DataFrame({'wtd_F_score': ml_hvlv_f1[0],'Features': len(ml_hvlv_f1[0])*[str(j)], 'Data': len(ml_hvlv_f1[0])*[str(i)]})\n",
        "      ml_hvlv_df = ml_hvlv_df.append(data, ignore_index=True)\n",
        "     \n",
        "print(ml_hvlv_df)"
      ],
      "execution_count": null,
      "outputs": [
        {
          "output_type": "stream",
          "text": [
            "    wtd_F_score  Features  Data\n",
            "0      0.797863  Spectral  Full\n",
            "1      0.766904  Spectral  Full\n",
            "2      0.770240  Spectral  Full\n",
            "3      0.774627  Spectral  Full\n",
            "4      0.778947  Spectral  Full\n",
            "..          ...       ...   ...\n",
            "85     0.552898       IIR    NC\n",
            "86     0.552689       IIR    NC\n",
            "87     0.560022       IIR    NC\n",
            "88     0.551980       IIR    NC\n",
            "89     0.563320       IIR    NC\n",
            "\n",
            "[90 rows x 3 columns]\n"
          ],
          "name": "stdout"
        }
      ]
    },
    {
      "cell_type": "code",
      "metadata": {
        "colab": {
          "base_uri": "https://localhost:8080/"
        },
        "id": "tQ8zfmB4PIYY",
        "outputId": "ca03b2d0-f993-4597-aefd-49c19b59ddb1"
      },
      "source": [
        "# FULL DATA\n",
        "# One-way ANOVA using statsmodel api\n",
        "\n",
        "ml_hvlv_full_formula = 'wtd_F_score ~ C(Features)'\n",
        "ml_hvlv_full_model = ols(ml_hvlv_full_formula, ml_hvlv_df[ml_hvlv_df['Data']=='Full']).fit()\n",
        "ml_hvlv_aov_table = anova_lm(ml_hvlv_full_model, typ=2)\n",
        "print(ml_hvlv_aov_table)"
      ],
      "execution_count": null,
      "outputs": [
        {
          "output_type": "stream",
          "text": [
            "               sum_sq    df            F        PR(>F)\n",
            "C(Features)  0.391836   2.0  2350.869926  5.180213e-31\n",
            "Residual     0.002250  27.0          NaN           NaN\n"
          ],
          "name": "stdout"
        }
      ]
    },
    {
      "cell_type": "markdown",
      "metadata": {
        "id": "npb-lUoNQJi3"
      },
      "source": [
        "Thers is a significant difference among the features. Let's find out for what paires."
      ]
    },
    {
      "cell_type": "code",
      "metadata": {
        "colab": {
          "base_uri": "https://localhost:8080/"
        },
        "id": "DH4sTE75Qcwq",
        "outputId": "bdeddd6b-fd1d-4add-8172-be436410607d"
      },
      "source": [
        "# Comparison of means using Tukey HSD\n",
        "\n",
        "ml_hvlv_full_mc = MultiComparison(ml_hvlv_df[ml_hvlv_df['Data']=='Full']['wtd_F_score'], ml_hvlv_df[ml_hvlv_df['Data']=='Full']['Features'])\n",
        "print(ml_hvlv_full_mc.tukeyhsd())"
      ],
      "execution_count": null,
      "outputs": [
        {
          "output_type": "stream",
          "text": [
            " Multiple Comparison of Means - Tukey HSD, FWER=0.05 \n",
            "=====================================================\n",
            "group1  group2  meandiff p-adj  lower   upper  reject\n",
            "-----------------------------------------------------\n",
            "   CSP      IIR  -0.2583 0.001 -0.2684 -0.2482   True\n",
            "   CSP Spectral  -0.0357 0.001 -0.0458 -0.0256   True\n",
            "   IIR Spectral   0.2226 0.001  0.2125  0.2327   True\n",
            "-----------------------------------------------------\n"
          ],
          "name": "stdout"
        }
      ]
    },
    {
      "cell_type": "markdown",
      "metadata": {
        "id": "7Iky4anIVQ5G"
      },
      "source": [
        "Tukey post-hoc results show that there is a significatn difference across all the features pairwise."
      ]
    },
    {
      "cell_type": "code",
      "metadata": {
        "colab": {
          "base_uri": "https://localhost:8080/"
        },
        "id": "ODwhhQvWVoOJ",
        "outputId": "9be9d8dd-8ab8-48e1-904b-49b9a597adac"
      },
      "source": [
        "# PD DATA\n",
        "\n",
        "# One-way ANOVA using statsmodel api\n",
        "\n",
        "ml_hvlv_pd_formula = 'wtd_F_score ~ C(Features)'\n",
        "ml_hvlv_pd_model = ols(ml_hvlv_pd_formula, ml_hvlv_df[ml_hvlv_df['Data']=='PD']).fit()\n",
        "ml_hvlv_pd_aov_table = anova_lm(ml_hvlv_pd_model, typ=2)\n",
        "print(ml_hvlv_pd_aov_table)"
      ],
      "execution_count": null,
      "outputs": [
        {
          "output_type": "stream",
          "text": [
            "               sum_sq    df           F        PR(>F)\n",
            "C(Features)  0.437019   2.0  969.053477  7.289491e-26\n",
            "Residual     0.006088  27.0         NaN           NaN\n"
          ],
          "name": "stdout"
        }
      ]
    },
    {
      "cell_type": "markdown",
      "metadata": {
        "id": "dMIt0H3HWAfH"
      },
      "source": [
        "There is a significant difference across features."
      ]
    },
    {
      "cell_type": "code",
      "metadata": {
        "colab": {
          "base_uri": "https://localhost:8080/"
        },
        "id": "gkKx1Ry2WJrU",
        "outputId": "8cc0a034-823a-4c58-d087-a21cf784bbcf"
      },
      "source": [
        "# Comparison of means using Tukey HSD for PD data\n",
        "\n",
        "ml_hvlv_pd_mc = MultiComparison(ml_hvlv_df[ml_hvlv_df['Data']=='PD']['wtd_F_score'], ml_hvlv_df[ml_hvlv_df['Data']=='PD']['Features'])\n",
        "print(ml_hvlv_pd_mc.tukeyhsd())"
      ],
      "execution_count": null,
      "outputs": [
        {
          "output_type": "stream",
          "text": [
            " Multiple Comparison of Means - Tukey HSD, FWER=0.05 \n",
            "=====================================================\n",
            "group1  group2  meandiff p-adj  lower   upper  reject\n",
            "-----------------------------------------------------\n",
            "   CSP      IIR  -0.2903 0.001 -0.3069 -0.2736   True\n",
            "   CSP Spectral  -0.0966 0.001 -0.1132 -0.0799   True\n",
            "   IIR Spectral   0.1937 0.001  0.1771  0.2104   True\n",
            "-----------------------------------------------------\n"
          ],
          "name": "stdout"
        }
      ]
    },
    {
      "cell_type": "markdown",
      "metadata": {
        "id": "UX5BkMO0WTxx"
      },
      "source": [
        "Okay. All are significantly different."
      ]
    },
    {
      "cell_type": "code",
      "metadata": {
        "colab": {
          "base_uri": "https://localhost:8080/"
        },
        "id": "UVVoDLwBWjNE",
        "outputId": "ce86b0f5-231d-4739-de5e-589cc726a501"
      },
      "source": [
        "# NC DATA\n",
        "\n",
        "# One-way ANOVA using statsmodel api\n",
        "\n",
        "ml_hvlv_nc_formula = 'wtd_F_score ~ C(Features)'\n",
        "ml_hvlv_nc_model = ols(ml_hvlv_nc_formula, ml_hvlv_df[ml_hvlv_df['Data']=='NC']).fit()\n",
        "ml_hvlv_nc_aov_table = anova_lm(ml_hvlv_nc_model, typ=2)\n",
        "print(ml_hvlv_nc_aov_table)"
      ],
      "execution_count": null,
      "outputs": [
        {
          "output_type": "stream",
          "text": [
            "               sum_sq    df            F        PR(>F)\n",
            "C(Features)  0.485920   2.0  1382.905798  6.336489e-28\n",
            "Residual     0.004744  27.0          NaN           NaN\n"
          ],
          "name": "stdout"
        }
      ]
    },
    {
      "cell_type": "markdown",
      "metadata": {
        "id": "L9EvOMSWWxyF"
      },
      "source": [
        "Umm. Features are significant for NC data too!"
      ]
    },
    {
      "cell_type": "code",
      "metadata": {
        "colab": {
          "base_uri": "https://localhost:8080/"
        },
        "id": "p4xlR-xKW80o",
        "outputId": "6abd5dde-926d-4373-e688-be01b980e157"
      },
      "source": [
        "# Comparison of means using Tukey HSD for NC data\n",
        "\n",
        "ml_hvlv_nc_mc = MultiComparison(ml_hvlv_df[ml_hvlv_df['Data']=='NC']['wtd_F_score'], ml_hvlv_df[ml_hvlv_df['Data']=='NC']['Features'])\n",
        "print(ml_hvlv_nc_mc.tukeyhsd())"
      ],
      "execution_count": null,
      "outputs": [
        {
          "output_type": "stream",
          "text": [
            " Multiple Comparison of Means - Tukey HSD, FWER=0.05 \n",
            "=====================================================\n",
            "group1  group2  meandiff p-adj  lower   upper  reject\n",
            "-----------------------------------------------------\n",
            "   CSP      IIR  -0.2878 0.001 -0.3025 -0.2731   True\n",
            "   CSP Spectral  -0.0402 0.001 -0.0548 -0.0255   True\n",
            "   IIR Spectral   0.2477 0.001   0.233  0.2623   True\n",
            "-----------------------------------------------------\n"
          ],
          "name": "stdout"
        }
      ]
    },
    {
      "cell_type": "markdown",
      "metadata": {
        "id": "OViXSiqDXYVD"
      },
      "source": [
        "Features are pairwise significant for NC data as well. Let us check feature-wise."
      ]
    },
    {
      "cell_type": "code",
      "metadata": {
        "colab": {
          "base_uri": "https://localhost:8080/"
        },
        "id": "05EoysF9X2Vn",
        "outputId": "daf6e45e-aec4-406e-88ba-e7f7ca1b7554"
      },
      "source": [
        "# Two-way ANOVA using statsmodel api for PD and NC data\n",
        "\n",
        "ml_hvlv_formula = 'wtd_F_score ~ C(Features)+C(Data)+C(Features):C(Data)'\n",
        "ml_hvlv_model = ols(ml_hvlv_formula, ml_hvlv_df[ml_hvlv_df['Data'].isin(['PD', 'NC'])]).fit()\n",
        "ml_hvlv_aov_table = anova_lm(ml_hvlv_model, typ=2)\n",
        "print(ml_hvlv_aov_table)"
      ],
      "execution_count": null,
      "outputs": [
        {
          "output_type": "stream",
          "text": [
            "                       sum_sq    df            F        PR(>F)\n",
            "C(Features)          0.912776   2.0  2275.250765  7.390958e-53\n",
            "C(Data)              0.005619   1.0    28.011446  2.254996e-06\n",
            "C(Features):C(Data)  0.010164   2.0    25.335495  1.735085e-08\n",
            "Residual             0.010832  54.0          NaN           NaN\n"
          ],
          "name": "stdout"
        }
      ]
    },
    {
      "cell_type": "code",
      "metadata": {
        "colab": {
          "base_uri": "https://localhost:8080/"
        },
        "id": "eAJ4EvOacj5w",
        "outputId": "60b370c6-345f-41ac-c5a4-810a6ebd4df1"
      },
      "source": [
        "# T-test for individual features\n",
        "\n",
        "features = [\"Spectral\", \"CSP\", \"IIR\"]\n",
        "dummy_df = ml_hvlv_df[ml_hvlv_df['Data'].isin(['PD', 'NC'])]\n",
        "for i in features:\n",
        "  print(\"-----\", i, \"-----\")\n",
        "  dummy_df_2 = dummy_df[dummy_df['Features']==i]\n",
        "  d1=(dummy_df_2[dummy_df_2['Data']=='PD'])\n",
        "  d2=(dummy_df_2[dummy_df_2['Data']=='NC'])\n",
        "\n",
        "  stat, p = ttest_ind(d1['wtd_F_score'].to_numpy(), d2['wtd_F_score'].to_numpy(),equal_var=False)\n",
        "  print('stat=%.3f, p=%.3f' % (stat, p))\n",
        "  if p > 0.05:\n",
        "\t  print('Probably the same distribution')\n",
        "  else:\n",
        "\t  print('Probably different distributions')\n",
        "  print('\\n')"
      ],
      "execution_count": null,
      "outputs": [
        {
          "output_type": "stream",
          "text": [
            "----- Spectral -----\n",
            "stat=-6.349, p=0.000\n",
            "Probably different distributions\n",
            "\n",
            "\n",
            "----- CSP -----\n",
            "stat=0.058, p=0.954\n",
            "Probably the same distribution\n",
            "\n",
            "\n",
            "----- IIR -----\n",
            "stat=-0.490, p=0.630\n",
            "Probably the same distribution\n",
            "\n",
            "\n"
          ],
          "name": "stdout"
        }
      ]
    },
    {
      "cell_type": "markdown",
      "metadata": {
        "id": "j25mauLggnzG"
      },
      "source": [
        "## HA vs LA"
      ]
    },
    {
      "cell_type": "code",
      "metadata": {
        "colab": {
          "base_uri": "https://localhost:8080/"
        },
        "id": "S3wKgKaYg0EM",
        "outputId": "d8af2b45-659b-4aac-c34e-e479b31450fe"
      },
      "source": [
        "# Create a DataFrame\n",
        "\n",
        "ml_hala_df = pd.DataFrame()\n",
        "features = [\"Spectral\", \"CSP\", \"IIR\"]\n",
        "data = [\"Full\", \"PD\", \"NC\"]\n",
        "for i in data:\n",
        "  for j in features:\n",
        "      if j == \"Spectral\":\n",
        "        ml_hala_f1 = get_metric('/content/drive/MyDrive/EEG_Analysis_PD_NC/Results/MLResults/'+str(j)+'/ML_HALA_'+str(j).lower()+'_'+str(i)+'.mat', 'wtd_f1_list')\n",
        "      else:\n",
        "        ml_hala_f1 = get_metric('/content/drive/MyDrive/EEG_Analysis_PD_NC/Results/MLResults/'+str(j)+'/ML_HALA_'+str(j)+'_'+str(i)+'.mat', 'wtd_f1_list')\n",
        "      data = pd.DataFrame({'wtd_F_score': ml_hala_f1[0],'Features': len(ml_hala_f1[0])*[str(j)], 'Data': len(ml_hala_f1[0])*[str(i)]})\n",
        "      ml_hala_df = ml_hala_df.append(data, ignore_index=True)\n",
        "     \n",
        "print(ml_hala_df)"
      ],
      "execution_count": null,
      "outputs": [
        {
          "output_type": "stream",
          "text": [
            "    wtd_F_score  Features  Data\n",
            "0      0.920984  Spectral  Full\n",
            "1      0.915029  Spectral  Full\n",
            "2      0.908885  Spectral  Full\n",
            "3      0.923365  Spectral  Full\n",
            "4      0.903057  Spectral  Full\n",
            "..          ...       ...   ...\n",
            "85     0.761836       IIR    NC\n",
            "86     0.761836       IIR    NC\n",
            "87     0.761836       IIR    NC\n",
            "88     0.761836       IIR    NC\n",
            "89     0.761487       IIR    NC\n",
            "\n",
            "[90 rows x 3 columns]\n"
          ],
          "name": "stdout"
        }
      ]
    },
    {
      "cell_type": "code",
      "metadata": {
        "colab": {
          "base_uri": "https://localhost:8080/"
        },
        "id": "z5Dh87-dhMyK",
        "outputId": "ea1c9ac1-6f28-4e20-9a89-7706f901e82d"
      },
      "source": [
        "# FULL DATA\n",
        "# One-way ANOVA using statsmodel api\n",
        "\n",
        "ml_hala_full_formula = 'wtd_F_score ~ C(Features)'\n",
        "ml_hala_full_model = ols(ml_hala_full_formula, ml_hala_df[ml_hala_df['Data']=='Full']).fit()\n",
        "ml_hala_aov_table = anova_lm(ml_hala_full_model, typ=2)\n",
        "print(ml_hala_aov_table)"
      ],
      "execution_count": null,
      "outputs": [
        {
          "output_type": "stream",
          "text": [
            "               sum_sq    df            F        PR(>F)\n",
            "C(Features)  0.173121   2.0  3449.412616  2.999475e-33\n",
            "Residual     0.000678  27.0          NaN           NaN\n"
          ],
          "name": "stdout"
        }
      ]
    },
    {
      "cell_type": "code",
      "metadata": {
        "colab": {
          "base_uri": "https://localhost:8080/"
        },
        "id": "eUK8Vuq6hi2R",
        "outputId": "ca8b84d2-e812-4e75-eb0d-24a904e0089b"
      },
      "source": [
        "# Comparison of means using Tukey HSD\n",
        "\n",
        "ml_hala_full_mc = MultiComparison(ml_hala_df[ml_hala_df['Data']=='Full']['wtd_F_score'], ml_hala_df[ml_hala_df['Data']=='Full']['Features'])\n",
        "print(ml_hala_full_mc.tukeyhsd())"
      ],
      "execution_count": null,
      "outputs": [
        {
          "output_type": "stream",
          "text": [
            " Multiple Comparison of Means - Tukey HSD, FWER=0.05 \n",
            "=====================================================\n",
            "group1  group2  meandiff p-adj  lower   upper  reject\n",
            "-----------------------------------------------------\n",
            "   CSP      IIR  -0.1675 0.001 -0.1731 -0.1619   True\n",
            "   CSP Spectral  -0.0136 0.001 -0.0191  -0.008   True\n",
            "   IIR Spectral   0.1539 0.001  0.1484  0.1595   True\n",
            "-----------------------------------------------------\n"
          ],
          "name": "stdout"
        }
      ]
    },
    {
      "cell_type": "code",
      "metadata": {
        "colab": {
          "base_uri": "https://localhost:8080/"
        },
        "id": "wII6EwCih08D",
        "outputId": "e2b3624a-5f19-4829-ca2c-16773adac27c"
      },
      "source": [
        "# PD DATA\n",
        "\n",
        "# One-way ANOVA using statsmodel api\n",
        "\n",
        "ml_hala_pd_formula = 'wtd_F_score ~ C(Features)'\n",
        "ml_hala_pd_model = ols(ml_hala_pd_formula, ml_hala_df[ml_hala_df['Data']=='PD']).fit()\n",
        "ml_hala_pd_aov_table = anova_lm(ml_hala_pd_model, typ=2)\n",
        "print(ml_hala_pd_aov_table)"
      ],
      "execution_count": null,
      "outputs": [
        {
          "output_type": "stream",
          "text": [
            "               sum_sq    df            F        PR(>F)\n",
            "C(Features)  0.183318   2.0  1332.944331  1.036245e-27\n",
            "Residual     0.001857  27.0          NaN           NaN\n"
          ],
          "name": "stdout"
        }
      ]
    },
    {
      "cell_type": "code",
      "metadata": {
        "colab": {
          "base_uri": "https://localhost:8080/"
        },
        "id": "erpcO4DliFEH",
        "outputId": "76b6dd55-a838-459f-dcc4-7c9fb097f368"
      },
      "source": [
        "# Comparison of means using Tukey HSD for PD data\n",
        "\n",
        "ml_hala_pd_mc = MultiComparison(ml_hala_df[ml_hala_df['Data']=='PD']['wtd_F_score'], ml_hala_df[ml_hala_df['Data']=='PD']['Features'])\n",
        "print(ml_hala_pd_mc.tukeyhsd())"
      ],
      "execution_count": null,
      "outputs": [
        {
          "output_type": "stream",
          "text": [
            " Multiple Comparison of Means - Tukey HSD, FWER=0.05 \n",
            "=====================================================\n",
            "group1  group2  meandiff p-adj  lower   upper  reject\n",
            "-----------------------------------------------------\n",
            "   CSP      IIR  -0.1719 0.001 -0.1811 -0.1627   True\n",
            "   CSP Spectral  -0.0128 0.005  -0.022 -0.0036   True\n",
            "   IIR Spectral    0.159 0.001  0.1499  0.1682   True\n",
            "-----------------------------------------------------\n"
          ],
          "name": "stdout"
        }
      ]
    },
    {
      "cell_type": "code",
      "metadata": {
        "colab": {
          "base_uri": "https://localhost:8080/"
        },
        "id": "5dHddpGwieMy",
        "outputId": "dedbb1d8-ce35-4b16-f6a1-5435ab8f0691"
      },
      "source": [
        "# NC DATA\n",
        "\n",
        "# One-way ANOVA using statsmodel api\n",
        "\n",
        "ml_hala_nc_formula = 'wtd_F_score ~ C(Features)'\n",
        "ml_hala_nc_model = ols(ml_hala_nc_formula, ml_hala_df[ml_hala_df['Data']=='NC']).fit()\n",
        "ml_hala_nc_aov_table = anova_lm(ml_hala_nc_model, typ=2)\n",
        "print(ml_hala_nc_aov_table)"
      ],
      "execution_count": null,
      "outputs": [
        {
          "output_type": "stream",
          "text": [
            "               sum_sq    df            F        PR(>F)\n",
            "C(Features)  0.188884   2.0  2278.523703  7.880395e-31\n",
            "Residual     0.001119  27.0          NaN           NaN\n"
          ],
          "name": "stdout"
        }
      ]
    },
    {
      "cell_type": "code",
      "metadata": {
        "colab": {
          "base_uri": "https://localhost:8080/"
        },
        "id": "lpGRzabzitr6",
        "outputId": "477c3613-40d3-4529-ecf9-b70273797f47"
      },
      "source": [
        "# Comparison of means using Tukey HSD for NC data\n",
        "\n",
        "ml_hala_nc_mc = MultiComparison(ml_hala_df[ml_hala_df['Data']=='NC']['wtd_F_score'], ml_hala_df[ml_hala_df['Data']=='NC']['Features'])\n",
        "print(ml_hala_nc_mc.tukeyhsd())"
      ],
      "execution_count": null,
      "outputs": [
        {
          "output_type": "stream",
          "text": [
            " Multiple Comparison of Means - Tukey HSD, FWER=0.05 \n",
            "=====================================================\n",
            "group1  group2  meandiff p-adj  lower   upper  reject\n",
            "-----------------------------------------------------\n",
            "   CSP      IIR  -0.1816 0.001 -0.1887 -0.1744   True\n",
            "   CSP Spectral  -0.0307 0.001 -0.0378 -0.0235   True\n",
            "   IIR Spectral   0.1509 0.001  0.1437   0.158   True\n",
            "-----------------------------------------------------\n"
          ],
          "name": "stdout"
        }
      ]
    },
    {
      "cell_type": "code",
      "metadata": {
        "colab": {
          "base_uri": "https://localhost:8080/"
        },
        "id": "3oUk6vQ1i8a7",
        "outputId": "3f51fd7f-d529-4ca4-9c1a-c0972e5bed6a"
      },
      "source": [
        "# Two-way ANOVA using statsmodel api for PD and NC data\n",
        "\n",
        "ml_hala_formula = 'wtd_F_score ~ C(Features)+C(Data)+C(Features):C(Data)'\n",
        "ml_hala_model = ols(ml_hala_formula, ml_hala_df[ml_hala_df['Data'].isin(['PD', 'NC'])]).fit()\n",
        "ml_hala_aov_table = anova_lm(ml_hala_model, typ=2)\n",
        "print(ml_hala_aov_table)"
      ],
      "execution_count": null,
      "outputs": [
        {
          "output_type": "stream",
          "text": [
            "                       sum_sq    df            F        PR(>F)\n",
            "C(Features)          0.371402   2.0  3369.853733  2.031172e-57\n",
            "C(Data)              0.000066   1.0     1.200737  2.780376e-01\n",
            "C(Features):C(Data)  0.000800   2.0     7.257800  1.615533e-03\n",
            "Residual             0.002976  54.0          NaN           NaN\n"
          ],
          "name": "stdout"
        }
      ]
    },
    {
      "cell_type": "code",
      "metadata": {
        "colab": {
          "base_uri": "https://localhost:8080/"
        },
        "id": "TuX5Yx1MjN2g",
        "outputId": "9cbaaec9-c177-46f6-9fac-c1ded6115c10"
      },
      "source": [
        "# T-test for individual features\n",
        "\n",
        "features = [\"Spectral\", \"CSP\", \"IIR\"]\n",
        "dummy_df = ml_hala_df[ml_hala_df['Data'].isin(['PD', 'NC'])]\n",
        "for i in features:\n",
        "  print(\"-----\", i, \"-----\")\n",
        "  dummy_df_2 = dummy_df[dummy_df['Features']==i]\n",
        "  d1=(dummy_df_2[dummy_df_2['Data']=='PD'])\n",
        "  d2=(dummy_df_2[dummy_df_2['Data']=='NC'])\n",
        "\n",
        "  stat, p = ttest_ind(d1['wtd_F_score'].to_numpy(), d2['wtd_F_score'].to_numpy(),equal_var=False)\n",
        "  print('stat=%.3f, p=%.3f' % (stat, p))\n",
        "  if p > 0.05:\n",
        "\t  print('Probably the same distribution')\n",
        "  else:\n",
        "\t  print('Probably different distributions')\n",
        "  print('\\n')"
      ],
      "execution_count": null,
      "outputs": [
        {
          "output_type": "stream",
          "text": [
            "----- Spectral -----\n",
            "stat=3.423, p=0.003\n",
            "Probably different distributions\n",
            "\n",
            "\n",
            "----- CSP -----\n",
            "stat=-1.524, p=0.148\n",
            "Probably the same distribution\n",
            "\n",
            "\n",
            "----- IIR -----\n",
            "stat=2.102, p=0.063\n",
            "Probably the same distribution\n",
            "\n",
            "\n"
          ],
          "name": "stdout"
        }
      ]
    },
    {
      "cell_type": "markdown",
      "metadata": {
        "id": "Il1oBBRgjmPG"
      },
      "source": [
        "## MultiClass"
      ]
    },
    {
      "cell_type": "code",
      "metadata": {
        "colab": {
          "base_uri": "https://localhost:8080/"
        },
        "id": "swnzGiIpj2YD",
        "outputId": "39dd82d8-ef45-46b2-d028-4274b053e99f"
      },
      "source": [
        "# Create a DataFrame\n",
        "\n",
        "ml_multi_df = pd.DataFrame()\n",
        "features = [\"Spectral\", \"CSP\", \"IIR\"]\n",
        "data = [\"Full\", \"PD\", \"NC\"]\n",
        "for i in data:\n",
        "  for j in features:\n",
        "      if j == \"Spectral\":\n",
        "        ml_multi_f1 = get_metric('/content/drive/MyDrive/EEG_Analysis_PD_NC/Results/MLResults/'+str(j)+'/ML_MultiClass_'+str(j).lower()+'_'+str(i)+'.mat', 'wtd_f1_list')\n",
        "      else:\n",
        "        ml_multi_f1 = get_metric('/content/drive/MyDrive/EEG_Analysis_PD_NC/Results/MLResults/'+str(j)+'/ML_MultiClass_'+str(j)+'_'+str(i)+'.mat', 'wtd_f1_list')\n",
        "      data = pd.DataFrame({'wtd_F_score': ml_multi_f1[0],'Features': len(ml_multi_f1[0])*[str(j)], 'Data': len(ml_multi_f1[0])*[str(i)]})\n",
        "      ml_multi_df = ml_multi_df.append(data, ignore_index=True)\n",
        "     \n",
        "print(ml_multi_df)"
      ],
      "execution_count": null,
      "outputs": [
        {
          "output_type": "stream",
          "text": [
            "    wtd_F_score  Features  Data\n",
            "0      0.643762  Spectral  Full\n",
            "1      0.635823  Spectral  Full\n",
            "2      0.654581  Spectral  Full\n",
            "3      0.632369  Spectral  Full\n",
            "4      0.644625  Spectral  Full\n",
            "..          ...       ...   ...\n",
            "85     0.198164       IIR    NC\n",
            "86     0.209688       IIR    NC\n",
            "87     0.207745       IIR    NC\n",
            "88     0.205831       IIR    NC\n",
            "89     0.215441       IIR    NC\n",
            "\n",
            "[90 rows x 3 columns]\n"
          ],
          "name": "stdout"
        }
      ]
    },
    {
      "cell_type": "code",
      "metadata": {
        "colab": {
          "base_uri": "https://localhost:8080/"
        },
        "id": "_7UVVfJOlnlT",
        "outputId": "d0a6469f-4bb5-430b-e2c7-05d6d82b1642"
      },
      "source": [
        "# FULL DATA\n",
        "# One-way ANOVA using statsmodel api\n",
        "\n",
        "ml_multi_full_formula = 'wtd_F_score ~ C(Features)'\n",
        "ml_multi_full_model = ols(ml_multi_full_formula, ml_multi_df[ml_multi_df['Data']=='Full']).fit()\n",
        "ml_multi_aov_table = anova_lm(ml_multi_full_model, typ=2)\n",
        "print(ml_multi_aov_table)"
      ],
      "execution_count": null,
      "outputs": [
        {
          "output_type": "stream",
          "text": [
            "               sum_sq    df            F        PR(>F)\n",
            "C(Features)  1.670215   2.0  9133.041011  6.060911e-39\n",
            "Residual     0.002469  27.0          NaN           NaN\n"
          ],
          "name": "stdout"
        }
      ]
    },
    {
      "cell_type": "code",
      "metadata": {
        "colab": {
          "base_uri": "https://localhost:8080/"
        },
        "id": "AJMo7BFemDO1",
        "outputId": "17d23233-4571-4e99-fd7e-e78a8dc38b45"
      },
      "source": [
        "# Comparison of means using Tukey HSD\n",
        "\n",
        "ml_multi_full_mc = MultiComparison(ml_multi_df[ml_multi_df['Data']=='Full']['wtd_F_score'], ml_multi_df[ml_multi_df['Data']=='Full']['Features'])\n",
        "print(ml_multi_full_mc.tukeyhsd())"
      ],
      "execution_count": null,
      "outputs": [
        {
          "output_type": "stream",
          "text": [
            " Multiple Comparison of Means - Tukey HSD, FWER=0.05 \n",
            "=====================================================\n",
            "group1  group2  meandiff p-adj  lower   upper  reject\n",
            "-----------------------------------------------------\n",
            "   CSP      IIR  -0.5339 0.001 -0.5445 -0.5233   True\n",
            "   CSP Spectral  -0.0751 0.001 -0.0857 -0.0645   True\n",
            "   IIR Spectral   0.4587 0.001  0.4481  0.4693   True\n",
            "-----------------------------------------------------\n"
          ],
          "name": "stdout"
        }
      ]
    },
    {
      "cell_type": "code",
      "metadata": {
        "colab": {
          "base_uri": "https://localhost:8080/"
        },
        "id": "aSs8uSAOmUbo",
        "outputId": "2ea8429c-56e0-479e-98d1-aaf8433d67f6"
      },
      "source": [
        "# PD DATA\n",
        "\n",
        "# One-way ANOVA using statsmodel api\n",
        "\n",
        "ml_multi_pd_formula = 'wtd_F_score ~ C(Features)'\n",
        "ml_multi_pd_model = ols(ml_multi_pd_formula, ml_multi_df[ml_multi_df['Data']=='PD']).fit()\n",
        "ml_multi_pd_aov_table = anova_lm(ml_multi_pd_model, typ=2)\n",
        "print(ml_multi_pd_aov_table)"
      ],
      "execution_count": null,
      "outputs": [
        {
          "output_type": "stream",
          "text": [
            "               sum_sq    df            F        PR(>F)\n",
            "C(Features)  1.914334   2.0  4113.914786  2.804473e-34\n",
            "Residual     0.006282  27.0          NaN           NaN\n"
          ],
          "name": "stdout"
        }
      ]
    },
    {
      "cell_type": "code",
      "metadata": {
        "colab": {
          "base_uri": "https://localhost:8080/"
        },
        "id": "XCU54iRYmQjC",
        "outputId": "d208b7f2-5b7b-4014-9b6b-8b53af30e71c"
      },
      "source": [
        "# Comparison of means using Tukey HSD for PD data\n",
        "\n",
        "ml_multi_pd_mc = MultiComparison(ml_multi_df[ml_multi_df['Data']=='PD']['wtd_F_score'], ml_multi_df[ml_multi_df['Data']=='PD']['Features'])\n",
        "print(ml_multi_pd_mc.tukeyhsd())"
      ],
      "execution_count": null,
      "outputs": [
        {
          "output_type": "stream",
          "text": [
            " Multiple Comparison of Means - Tukey HSD, FWER=0.05 \n",
            "=====================================================\n",
            "group1  group2  meandiff p-adj  lower   upper  reject\n",
            "-----------------------------------------------------\n",
            "   CSP      IIR  -0.5905 0.001 -0.6074 -0.5736   True\n",
            "   CSP Spectral  -0.1351 0.001  -0.152 -0.1182   True\n",
            "   IIR Spectral   0.4554 0.001  0.4385  0.4723   True\n",
            "-----------------------------------------------------\n"
          ],
          "name": "stdout"
        }
      ]
    },
    {
      "cell_type": "code",
      "metadata": {
        "colab": {
          "base_uri": "https://localhost:8080/"
        },
        "id": "WjzM1urxnCJT",
        "outputId": "a504b6ad-ef89-4731-a3d7-bf1e898017f8"
      },
      "source": [
        "# NC DATA\n",
        "\n",
        "# One-way ANOVA using statsmodel api\n",
        "\n",
        "ml_multi_nc_formula = 'wtd_F_score ~ C(Features)'\n",
        "ml_multi_nc_model = ols(ml_multi_nc_formula, ml_multi_df[ml_multi_df['Data']=='NC']).fit()\n",
        "ml_multi_nc_aov_table = anova_lm(ml_multi_nc_model, typ=2)\n",
        "print(ml_multi_nc_aov_table)"
      ],
      "execution_count": null,
      "outputs": [
        {
          "output_type": "stream",
          "text": [
            "               sum_sq    df            F        PR(>F)\n",
            "C(Features)  1.726515   2.0  3286.544874  5.747619e-33\n",
            "Residual     0.007092  27.0          NaN           NaN\n"
          ],
          "name": "stdout"
        }
      ]
    },
    {
      "cell_type": "code",
      "metadata": {
        "colab": {
          "base_uri": "https://localhost:8080/"
        },
        "id": "vxdBIfjWnWN_",
        "outputId": "99b89c84-2c07-4934-bf6d-7fac9a679aba"
      },
      "source": [
        "# Comparison of means using Tukey HSD for NC data\n",
        "\n",
        "ml_multi_nc_mc = MultiComparison(ml_multi_df[ml_multi_df['Data']=='NC']['wtd_F_score'], ml_multi_df[ml_multi_df['Data']=='NC']['Features'])\n",
        "print(ml_multi_nc_mc.tukeyhsd())"
      ],
      "execution_count": null,
      "outputs": [
        {
          "output_type": "stream",
          "text": [
            " Multiple Comparison of Means - Tukey HSD, FWER=0.05 \n",
            "=====================================================\n",
            "group1  group2  meandiff p-adj  lower   upper  reject\n",
            "-----------------------------------------------------\n",
            "   CSP      IIR  -0.5371 0.001 -0.5551 -0.5192   True\n",
            "   CSP Spectral  -0.0622 0.001 -0.0801 -0.0442   True\n",
            "   IIR Spectral    0.475 0.001   0.457  0.4929   True\n",
            "-----------------------------------------------------\n"
          ],
          "name": "stdout"
        }
      ]
    },
    {
      "cell_type": "code",
      "metadata": {
        "colab": {
          "base_uri": "https://localhost:8080/"
        },
        "id": "7iAHGZhLnloi",
        "outputId": "79228eb4-1042-4fde-d57b-7e66c6a838c0"
      },
      "source": [
        "# Two-way ANOVA using statsmodel api for PD and NC data\n",
        "\n",
        "ml_multi_formula = 'wtd_F_score ~ C(Features)+C(Data)+C(Features):C(Data)'\n",
        "ml_multi_model = ols(ml_multi_formula, ml_multi_df[ml_multi_df['Data'].isin(['PD', 'NC'])]).fit()\n",
        "ml_multi_aov_table = anova_lm(ml_multi_model, typ=2)\n",
        "print(ml_multi_aov_table)"
      ],
      "execution_count": null,
      "outputs": [
        {
          "output_type": "stream",
          "text": [
            "                       sum_sq    df            F        PR(>F)\n",
            "C(Features)          3.626597   2.0  7321.577940  1.816906e-66\n",
            "C(Data)              0.008309   1.0    33.551032  3.663274e-07\n",
            "C(Features):C(Data)  0.014253   2.0    28.774124  3.112700e-09\n",
            "Residual             0.013374  54.0          NaN           NaN\n"
          ],
          "name": "stdout"
        }
      ]
    },
    {
      "cell_type": "code",
      "metadata": {
        "colab": {
          "base_uri": "https://localhost:8080/"
        },
        "id": "UUD1-VVWnywn",
        "outputId": "47d97011-67d2-44f1-d487-79eb2fd5034b"
      },
      "source": [
        "# T-test for individual features\n",
        "\n",
        "features = [\"Spectral\", \"CSP\", \"IIR\"]\n",
        "dummy_df = ml_multi_df[ml_multi_df['Data'].isin(['PD', 'NC'])]\n",
        "for i in features:\n",
        "  print(\"-----\", i, \"-----\")\n",
        "  dummy_df_2 = dummy_df[dummy_df['Features']==i]\n",
        "  d1=(dummy_df_2[dummy_df_2['Data']=='PD'])\n",
        "  d2=(dummy_df_2[dummy_df_2['Data']=='NC'])\n",
        "\n",
        "  stat, p = ttest_ind(d1['wtd_F_score'].to_numpy(), d2['wtd_F_score'].to_numpy(),equal_var=False)\n",
        "  print('stat=%.3f, p=%.3f' % (stat, p))\n",
        "  if p > 0.05:\n",
        "\t  print('Probably the same distribution')\n",
        "  else:\n",
        "\t  print('Probably different distributions')\n",
        "  print('\\n')"
      ],
      "execution_count": null,
      "outputs": [
        {
          "output_type": "stream",
          "text": [
            "----- Spectral -----\n",
            "stat=-6.417, p=0.000\n",
            "Probably different distributions\n",
            "\n",
            "\n",
            "----- CSP -----\n",
            "stat=2.815, p=0.012\n",
            "Probably different distributions\n",
            "\n",
            "\n",
            "----- IIR -----\n",
            "stat=-6.029, p=0.000\n",
            "Probably different distributions\n",
            "\n",
            "\n"
          ],
          "name": "stdout"
        }
      ]
    },
    {
      "cell_type": "code",
      "metadata": {
        "colab": {
          "base_uri": "https://localhost:8080/"
        },
        "id": "JFSzr1oKz-B5",
        "outputId": "c1f1812f-89ba-49c3-a586-f065d4647a42"
      },
      "source": [
        "# conf mat T-tests\n",
        "\n",
        "ml_conf_df = pd.DataFrame()\n",
        "Data = [\"Full\", \"PD\", \"NC\"]\n",
        "emotions = [\"E1\", \"E2\", \"E3\", \"E4\", \"E5\", \"E6\"]\n",
        "\n",
        "for j in Data:\n",
        "  print(\"\\n #####\", j, \"####\")\n",
        "  ml_conf = get_metric('/content/drive/MyDrive/EEG_Analysis_PD_NC/Results/MLResults/CSP/ML_MultiClass_CSP_'+str(j)+'.mat', 'conf_mat_list')\n",
        "  print(np.mean(ml_conf, axis=0), '\\n')\n",
        "  l = 0\n",
        "  for k in emotions:\n",
        "    data = pd.DataFrame({'Accuracy': [i[l][l] for i in ml_conf],'Emotions': len(ml_conf)*[str(k)]})\n",
        "    ml_conf_df = ml_conf_df.append(data, ignore_index=True)\n",
        "    l = l+1\n",
        "\n",
        "  print('\\n--- One way Anova ---')\n",
        "\n",
        "  ml_formula = 'Accuracy ~ C(Emotions)'\n",
        "  ml_model = ols(ml_formula, ml_conf_df).fit()\n",
        "  ml_aov_table = anova_lm(ml_model, typ=2)\n",
        "  print(ml_aov_table)\n",
        "  \n",
        "  print('\\n--- Tukey HSD ----')\n",
        "  # Tukey HSD test\n",
        "\n",
        "  ml_mc = MultiComparison(ml_conf_df['Accuracy'], ml_conf_df['Emotions'])\n",
        "  print(ml_mc.tukeyhsd())"
      ],
      "execution_count": null,
      "outputs": [
        {
          "output_type": "stream",
          "text": [
            "\n",
            " ##### Full ####\n",
            "[[0.79723326 0.07484135 0.03805091 0.02550035 0.03510635 0.02926778]\n",
            " [0.07264382 0.73611315 0.06905976 0.06068685 0.02675697 0.03473944]\n",
            " [0.05916291 0.10014124 0.65608775 0.07730637 0.04181327 0.06548845]\n",
            " [0.02166148 0.07205221 0.07830394 0.70678596 0.06122407 0.05997234]\n",
            " [0.03434929 0.03880926 0.04043033 0.06466469 0.70331723 0.11842922]\n",
            " [0.03930763 0.0565494  0.04451245 0.05571566 0.09302972 0.71088514]] \n",
            "\n",
            "\n",
            "--- One way Anova ---\n",
            "               sum_sq    df          F        PR(>F)\n",
            "C(Emotions)  0.108301   5.0  25.848595  3.221020e-13\n",
            "Residual     0.045250  54.0        NaN           NaN\n",
            "\n",
            "--- Tukey HSD ----\n",
            "Multiple Comparison of Means - Tukey HSD, FWER=0.05 \n",
            "====================================================\n",
            "group1 group2 meandiff p-adj   lower   upper  reject\n",
            "----------------------------------------------------\n",
            "    E1     E2  -0.0611  0.001 -0.0994 -0.0229   True\n",
            "    E1     E3  -0.1411  0.001 -0.1794 -0.1029   True\n",
            "    E1     E4  -0.0904  0.001 -0.1287 -0.0522   True\n",
            "    E1     E5  -0.0939  0.001 -0.1322 -0.0557   True\n",
            "    E1     E6  -0.0863  0.001 -0.1246 -0.0481   True\n",
            "    E2     E3    -0.08  0.001 -0.1183 -0.0418   True\n",
            "    E2     E4  -0.0293 0.2262 -0.0676  0.0089  False\n",
            "    E2     E5  -0.0328 0.1324  -0.071  0.0055  False\n",
            "    E2     E6  -0.0252 0.3861 -0.0635   0.013  False\n",
            "    E3     E4   0.0507 0.0033  0.0125  0.0889   True\n",
            "    E3     E5   0.0472 0.0075   0.009  0.0855   True\n",
            "    E3     E6   0.0548 0.0012  0.0165   0.093   True\n",
            "    E4     E5  -0.0035    0.9 -0.0417  0.0348  False\n",
            "    E4     E6   0.0041    0.9 -0.0341  0.0423  False\n",
            "    E5     E6   0.0076    0.9 -0.0307  0.0458  False\n",
            "----------------------------------------------------\n",
            "\n",
            " ##### PD ####\n",
            "[[0.80772409 0.0629972  0.04364846 0.02768207 0.03611345 0.02183473]\n",
            " [0.07059355 0.7673871  0.06735484 0.03530323 0.02406452 0.03529677]\n",
            " [0.05657314 0.07678393 0.74767839 0.05903005 0.03039453 0.02953995]\n",
            " [0.02412534 0.05741047 0.06987603 0.757073   0.04825758 0.04325758]\n",
            " [0.03895883 0.03975872 0.03411356 0.06411618 0.70775636 0.11529635]\n",
            " [0.03342857 0.03577778 0.03423492 0.05569524 0.08746032 0.75340317]] \n",
            "\n",
            "\n",
            "--- One way Anova ---\n",
            "               sum_sq     df          F        PR(>F)\n",
            "C(Emotions)  0.135503    5.0  17.244471  1.115784e-12\n",
            "Residual     0.179157  114.0        NaN           NaN\n",
            "\n",
            "--- Tukey HSD ----\n",
            "Multiple Comparison of Means - Tukey HSD, FWER=0.05 \n",
            "====================================================\n",
            "group1 group2 meandiff p-adj   lower   upper  reject\n",
            "----------------------------------------------------\n",
            "    E1     E2  -0.0507 0.0013 -0.0871 -0.0144   True\n",
            "    E1     E3  -0.1006  0.001 -0.1369 -0.0643   True\n",
            "    E1     E4  -0.0705  0.001 -0.1069 -0.0342   True\n",
            "    E1     E5  -0.0969  0.001 -0.1333 -0.0606   True\n",
            "    E1     E6  -0.0703  0.001 -0.1067  -0.034   True\n",
            "    E2     E3  -0.0499 0.0017 -0.0862 -0.0135   True\n",
            "    E2     E4  -0.0198 0.5976 -0.0562  0.0165  False\n",
            "    E2     E5  -0.0462 0.0046 -0.0826 -0.0099   True\n",
            "    E2     E6  -0.0196 0.6074 -0.0559  0.0167  False\n",
            "    E3     E4     0.03 0.1662 -0.0063  0.0664  False\n",
            "    E3     E5   0.0037    0.9 -0.0327    0.04  False\n",
            "    E3     E6   0.0303 0.1603 -0.0061  0.0666  False\n",
            "    E4     E5  -0.0264 0.2921 -0.0627  0.0099  False\n",
            "    E4     E6   0.0002    0.9 -0.0361  0.0366  False\n",
            "    E5     E6   0.0266 0.2834 -0.0097  0.0629  False\n",
            "----------------------------------------------------\n",
            "\n",
            " ##### NC ####\n",
            "[[0.83261019 0.07162534 0.02332645 0.02248623 0.02497245 0.02497934]\n",
            " [0.0707619  0.77741587 0.05247619 0.0572254  0.02304127 0.01907937]\n",
            " [0.06007691 0.09816978 0.65395243 0.10067654 0.03638371 0.05074064]\n",
            " [0.02837535 0.08672269 0.09256303 0.69810224 0.04751401 0.04672269]\n",
            " [0.02175484 0.04266452 0.03463226 0.07164516 0.72462581 0.10467742]\n",
            " [0.03638211 0.04933779 0.04042748 0.04846577 0.08413978 0.74124705]] \n",
            "\n",
            "\n",
            "--- One way Anova ---\n",
            "               sum_sq     df          F        PR(>F)\n",
            "C(Emotions)  0.292637    5.0  33.036621  1.300202e-23\n",
            "Residual     0.308257  174.0        NaN           NaN\n",
            "\n",
            "--- Tukey HSD ----\n",
            "Multiple Comparison of Means - Tukey HSD, FWER=0.05 \n",
            "====================================================\n",
            "group1 group2 meandiff p-adj   lower   upper  reject\n",
            "----------------------------------------------------\n",
            "    E1     E2  -0.0522  0.001 -0.0835 -0.0209   True\n",
            "    E1     E3  -0.1266  0.001 -0.1579 -0.0953   True\n",
            "    E1     E4  -0.0919  0.001 -0.1232 -0.0606   True\n",
            "    E1     E5  -0.1006  0.001 -0.1319 -0.0693   True\n",
            "    E1     E6  -0.0773  0.001 -0.1087  -0.046   True\n",
            "    E2     E3  -0.0744  0.001 -0.1057 -0.0431   True\n",
            "    E2     E4  -0.0397 0.0046  -0.071 -0.0083   True\n",
            "    E2     E5  -0.0484  0.001 -0.0797 -0.0171   True\n",
            "    E2     E6  -0.0251 0.1947 -0.0564  0.0062  False\n",
            "    E3     E4   0.0347 0.0201  0.0034  0.0661   True\n",
            "    E3     E5    0.026 0.1649 -0.0053  0.0573  False\n",
            "    E3     E6   0.0493  0.001   0.018  0.0806   True\n",
            "    E4     E5  -0.0088    0.9 -0.0401  0.0226  False\n",
            "    E4     E6   0.0145  0.737 -0.0168  0.0458  False\n",
            "    E5     E6   0.0233 0.2709  -0.008  0.0546  False\n",
            "----------------------------------------------------\n"
          ],
          "name": "stdout"
        }
      ]
    },
    {
      "cell_type": "code",
      "metadata": {
        "colab": {
          "base_uri": "https://localhost:8080/"
        },
        "id": "5asKrOgEhyKr",
        "outputId": "d0a05a4d-e312-46a2-90f1-77b4eef48630"
      },
      "source": [
        "# conf mat T-tests\n",
        "def get_metric(dataPath, metric):\n",
        "  matContent = sio.loadmat(dataPath)\n",
        "  metric = matContent[metric]\n",
        "  return metric\n",
        "\n",
        "ml_conf_df = pd.DataFrame()\n",
        "Data = [\"PD\"]\n",
        "emotions = [\"E1\", \"E2\", \"E3\", \"E4\", \"E5\", \"E6\"]\n",
        "\n",
        "for j in Data:\n",
        "  print(\"\\n #####\", j, \"####\")\n",
        "  ml_conf = get_metric('/content/drive/MyDrive/EEG_Analysis_PD_NC/Results/MLResults/CSP/ML_MultiClass_CSP_'+str(j)+'.mat', 'conf_mat_list')\n",
        "  print(np.mean(ml_conf, axis=0), '\\n')\n",
        "  l = 0\n",
        "  for k in emotions:\n",
        "    data = pd.DataFrame({'Accuracy': [i[l][l] for i in ml_conf],'Emotions': len(ml_conf)*[str(k)]})\n",
        "    ml_conf_df = ml_conf_df.append(data, ignore_index=True)\n",
        "    l = l+1\n",
        "\n",
        "  print('\\n--- One way Anova ---')\n",
        "\n",
        "  ml_formula = 'Accuracy ~ C(Emotions)'\n",
        "  ml_model = ols(ml_formula, ml_conf_df).fit()\n",
        "  ml_aov_table = anova_lm(ml_model, typ=2)\n",
        "  print(ml_aov_table)\n",
        "  \n",
        "  print('\\n--- Tukey HSD ----')\n",
        "  # Tukey HSD test\n",
        "\n",
        "  ml_mc = MultiComparison(ml_conf_df['Accuracy'], ml_conf_df['Emotions'])\n",
        "  print(ml_mc.tukeyhsd())"
      ],
      "execution_count": null,
      "outputs": [
        {
          "output_type": "stream",
          "text": [
            "\n",
            " ##### PD ####\n",
            "[[0.80772409 0.0629972  0.04364846 0.02768207 0.03611345 0.02183473]\n",
            " [0.07059355 0.7673871  0.06735484 0.03530323 0.02406452 0.03529677]\n",
            " [0.05657314 0.07678393 0.74767839 0.05903005 0.03039453 0.02953995]\n",
            " [0.02412534 0.05741047 0.06987603 0.757073   0.04825758 0.04325758]\n",
            " [0.03895883 0.03975872 0.03411356 0.06411618 0.70775636 0.11529635]\n",
            " [0.03342857 0.03577778 0.03423492 0.05569524 0.08746032 0.75340317]] \n",
            "\n",
            "\n",
            "--- One way Anova ---\n",
            "               sum_sq    df         F    PR(>F)\n",
            "C(Emotions)  0.052054   5.0  8.683719  0.000004\n",
            "Residual     0.064740  54.0       NaN       NaN\n",
            "\n",
            "--- Tukey HSD ----\n",
            "Multiple Comparison of Means - Tukey HSD, FWER=0.05 \n",
            "====================================================\n",
            "group1 group2 meandiff p-adj   lower   upper  reject\n",
            "----------------------------------------------------\n",
            "    E1     E2  -0.0403 0.1138 -0.0861  0.0054  False\n",
            "    E1     E3    -0.06 0.0037 -0.1058 -0.0143   True\n",
            "    E1     E4  -0.0507 0.0219 -0.0964 -0.0049   True\n",
            "    E1     E5     -0.1  0.001 -0.1457 -0.0542   True\n",
            "    E1     E6  -0.0543 0.0112 -0.1001 -0.0086   True\n",
            "    E2     E3  -0.0197 0.7733 -0.0655   0.026  False\n",
            "    E2     E4  -0.0103    0.9 -0.0561  0.0354  False\n",
            "    E2     E5  -0.0596 0.0041 -0.1054 -0.0139   True\n",
            "    E2     E6   -0.014    0.9 -0.0597  0.0318  False\n",
            "    E3     E4   0.0094    0.9 -0.0364  0.0551  False\n",
            "    E3     E5  -0.0399 0.1207 -0.0857  0.0058  False\n",
            "    E3     E6   0.0057    0.9   -0.04  0.0515  False\n",
            "    E4     E5  -0.0493 0.0276 -0.0951 -0.0036   True\n",
            "    E4     E6  -0.0037    0.9 -0.0494  0.0421  False\n",
            "    E5     E6   0.0456 0.0508 -0.0001  0.0914  False\n",
            "----------------------------------------------------\n"
          ],
          "name": "stdout"
        }
      ]
    },
    {
      "cell_type": "code",
      "metadata": {
        "colab": {
          "base_uri": "https://localhost:8080/"
        },
        "id": "c6rQSZc-ijZs",
        "outputId": "55c9dd77-be2d-4bd9-e159-90c780343f0b"
      },
      "source": [
        "# conf mat T-tests\n",
        "def get_metric(dataPath, metric):\n",
        "  matContent = sio.loadmat(dataPath)\n",
        "  metric = matContent[metric]\n",
        "  return metric\n",
        "\n",
        "ml_conf_df = pd.DataFrame()\n",
        "Data = [\"NC\"]\n",
        "emotions = [\"E1\", \"E2\", \"E3\", \"E4\", \"E5\", \"E6\"]\n",
        "\n",
        "for j in Data:\n",
        "  print(\"\\n #####\", j, \"####\")\n",
        "  ml_conf = get_metric('/content/drive/MyDrive/EEG_Analysis_PD_NC/Results/MLResults/CSP/ML_MultiClass_CSP_'+str(j)+'.mat', 'conf_mat_list')\n",
        "  print(np.mean(ml_conf, axis=0), '\\n')\n",
        "  l = 0\n",
        "  for k in emotions:\n",
        "    data = pd.DataFrame({'Accuracy': [i[l][l] for i in ml_conf],'Emotions': len(ml_conf)*[str(k)]})\n",
        "    ml_conf_df = ml_conf_df.append(data, ignore_index=True)\n",
        "    l = l+1\n",
        "\n",
        "  print('\\n--- One way Anova ---')\n",
        "\n",
        "  ml_formula = 'Accuracy ~ C(Emotions)'\n",
        "  ml_model = ols(ml_formula, ml_conf_df).fit()\n",
        "  ml_aov_table = anova_lm(ml_model, typ=2)\n",
        "  print(ml_aov_table)\n",
        "  \n",
        "  print('\\n--- Tukey HSD ----')\n",
        "  # Tukey HSD test\n",
        "\n",
        "  ml_mc = MultiComparison(ml_conf_df['Accuracy'], ml_conf_df['Emotions'])\n",
        "  print(ml_mc.tukeyhsd())"
      ],
      "execution_count": null,
      "outputs": [
        {
          "output_type": "stream",
          "text": [
            "\n",
            " ##### NC ####\n",
            "[[0.83261019 0.07162534 0.02332645 0.02248623 0.02497245 0.02497934]\n",
            " [0.0707619  0.77741587 0.05247619 0.0572254  0.02304127 0.01907937]\n",
            " [0.06007691 0.09816978 0.65395243 0.10067654 0.03638371 0.05074064]\n",
            " [0.02837535 0.08672269 0.09256303 0.69810224 0.04751401 0.04672269]\n",
            " [0.02175484 0.04266452 0.03463226 0.07164516 0.72462581 0.10467742]\n",
            " [0.03638211 0.04933779 0.04042748 0.04846577 0.08413978 0.74124705]] \n",
            "\n",
            "\n",
            "--- One way Anova ---\n",
            "               sum_sq    df          F        PR(>F)\n",
            "C(Emotions)  0.193499   5.0  22.536166  3.913923e-12\n",
            "Residual     0.092731  54.0        NaN           NaN\n",
            "\n",
            "--- Tukey HSD ----\n",
            "Multiple Comparison of Means - Tukey HSD, FWER=0.05 \n",
            "====================================================\n",
            "group1 group2 meandiff p-adj   lower   upper  reject\n",
            "----------------------------------------------------\n",
            "    E1     E2  -0.0552 0.0471 -0.1099 -0.0004   True\n",
            "    E1     E3  -0.1787  0.001 -0.2334 -0.1239   True\n",
            "    E1     E4  -0.1345  0.001 -0.1893 -0.0798   True\n",
            "    E1     E5   -0.108  0.001 -0.1627 -0.0532   True\n",
            "    E1     E6  -0.0914  0.001 -0.1461 -0.0366   True\n",
            "    E2     E3  -0.1235  0.001 -0.1782 -0.0687   True\n",
            "    E2     E4  -0.0793  0.001 -0.1341 -0.0246   True\n",
            "    E2     E5  -0.0528 0.0649 -0.1075   0.002  False\n",
            "    E2     E6  -0.0362 0.3844 -0.0909  0.0186  False\n",
            "    E3     E4   0.0441 0.1806 -0.0106  0.0989  False\n",
            "    E3     E5   0.0707 0.0045  0.0159  0.1254   True\n",
            "    E3     E6   0.0873  0.001  0.0325   0.142   True\n",
            "    E4     E5   0.0265 0.6842 -0.0282  0.0813  False\n",
            "    E4     E6   0.0431 0.2009 -0.0116  0.0979  False\n",
            "    E5     E6   0.0166    0.9 -0.0381  0.0714  False\n",
            "----------------------------------------------------\n"
          ],
          "name": "stdout"
        }
      ]
    },
    {
      "cell_type": "markdown",
      "metadata": {
        "id": "9xRSm_PQoRmM"
      },
      "source": [
        "# 1D-CNN"
      ]
    },
    {
      "cell_type": "markdown",
      "metadata": {
        "id": "1OPxBvCnywbq"
      },
      "source": [
        "## PD vs NC"
      ]
    },
    {
      "cell_type": "markdown",
      "metadata": {
        "id": "L7EgRalry0AN"
      },
      "source": [
        "### Full data"
      ]
    },
    {
      "cell_type": "code",
      "metadata": {
        "colab": {
          "base_uri": "https://localhost:8080/"
        },
        "id": "ERGP2Nnzyntk",
        "outputId": "420ecb94-1ec8-4b5a-b3a3-a34be1bf6e88"
      },
      "source": [
        "def get_metric(dataPath, metric):\n",
        "  matContent = sio.loadmat(dataPath)\n",
        "  metric = matContent[metric]\n",
        "  return metric\n",
        "\n",
        "oneD_pdnc_full_spec_f1 = get_metric('/content/drive/MyDrive/EEG_Analysis_PD_NC/Results/1D_CNN_Results/Spectral/CNN_1D_results_PDNC_Spectral_Full.mat', 'f1_weightedNet')\n",
        "oneD_pdnc_full_csp_f1 = get_metric('/content/drive/MyDrive/EEG_Analysis_PD_NC/Results/1D_CNN_Results/CSP/CNN_1D_results_PDNC_CSP_Full.mat', 'f1_weightedNet')\n",
        "oneD_pdnc_full_iir_f1 = get_metric('/content/drive/MyDrive/EEG_Analysis_PD_NC/Results/1D_CNN_Results/IIR/CNN_1D_results_PDNC_IIR_Full.mat', 'f1_weightedNet')\n",
        "\n",
        "print(oneD_pdnc_full_spec_f1)\n",
        "print(oneD_pdnc_full_csp_f1)\n",
        "print(oneD_pdnc_full_iir_f1)"
      ],
      "execution_count": null,
      "outputs": [
        {
          "output_type": "stream",
          "text": [
            "[[0.97634827 0.9594299  0.98175343 0.99324287 0.99459459 0.99459459\n",
            "  0.97769685 0.99594595 0.99459457 0.99662162]]\n",
            "[[0.8383849  0.85219393 0.85649712 0.88352995 0.84900738 0.88836814\n",
            "  0.88784624 0.88632038 0.89397991 0.87889339]]\n",
            "[[0.95756173 0.87557922 0.91169224 0.71929323 0.96510765 0.95062312\n",
            "  0.93684988 0.90749182 0.91844142 0.90983485]]\n"
          ],
          "name": "stdout"
        }
      ]
    },
    {
      "cell_type": "code",
      "metadata": {
        "colab": {
          "base_uri": "https://localhost:8080/"
        },
        "id": "vNUHJwZVP6GD",
        "outputId": "013bc2a6-6204-4153-832a-76f64cff70e7"
      },
      "source": [
        "# One-way ANOVA between PD vs NC full data\n",
        "from scipy.stats import f_oneway\n",
        "\n",
        "stat, p = f_oneway(oneD_pdnc_full_spec_f1[0], oneD_pdnc_full_csp_f1[0], oneD_pdnc_full_iir_f1[0])\n",
        "print('stat=%.3f, p=%.3f' % (stat, p))\n",
        "if p > 0.05:\n",
        "\tprint('Probably the same distribution')\n",
        "else:\n",
        "\tprint('Probably different distributions')"
      ],
      "execution_count": null,
      "outputs": [
        {
          "output_type": "stream",
          "text": [
            "stat=18.816, p=0.000\n",
            "Probably different distributions\n"
          ],
          "name": "stdout"
        }
      ]
    },
    {
      "cell_type": "code",
      "metadata": {
        "colab": {
          "base_uri": "https://localhost:8080/"
        },
        "id": "I3WZH1jFQXhq",
        "outputId": "769bade9-a586-4d74-d2da-bc48aed7c6e3"
      },
      "source": [
        "# Create a dataframe of f-scores and its corresponding features for full data\n",
        "\n",
        "oneD_pdnc_full_spec_df = pd.DataFrame({'f1_weightedNet': oneD_pdnc_full_spec_f1[0],'Features': len(oneD_pdnc_full_spec_f1[0])*['spectral']})\n",
        "oneD_pdnc_full_csp_df = pd.DataFrame({'f1_weightedNet': oneD_pdnc_full_csp_f1[0],'Features': len(oneD_pdnc_full_csp_f1[0])*['csp']})\n",
        "oneD_pdnc_full_iir_df = pd.DataFrame({'f1_weightedNet': oneD_pdnc_full_iir_f1[0],'Features': len(oneD_pdnc_full_iir_f1[0])*['iir']})\n",
        "\n",
        "oneD_pdnc_full_df = pd.concat([oneD_pdnc_full_spec_df, oneD_pdnc_full_csp_df, oneD_pdnc_full_iir_df], ignore_index=True)\n",
        "\n",
        "#print(pdnc_full_df)\n",
        "\n",
        "# One-way ANOVA using statsmodel api\n",
        "\n",
        "oneD_pdnc_full_formula = 'f1_weightedNet ~ C(Features)'\n",
        "oneD_pdnc_full_model = ols(oneD_pdnc_full_formula, oneD_pdnc_full_df).fit()\n",
        "oneD_pdnc_aov_table = anova_lm(oneD_pdnc_full_model, typ=2)\n",
        "print(oneD_pdnc_aov_table)"
      ],
      "execution_count": null,
      "outputs": [
        {
          "output_type": "stream",
          "text": [
            "               sum_sq    df          F    PR(>F)\n",
            "C(Features)  0.069861   2.0  18.815556  0.000008\n",
            "Residual     0.050125  27.0        NaN       NaN\n"
          ],
          "name": "stdout"
        }
      ]
    },
    {
      "cell_type": "code",
      "metadata": {
        "colab": {
          "base_uri": "https://localhost:8080/"
        },
        "id": "nrv9Tz8DQ7yE",
        "outputId": "cc72c7d2-3c72-4aaa-b67d-41847532c0e5"
      },
      "source": [
        "# Comparison of means using Tukey HSD\n",
        "\n",
        "oneD_pdnc_mc = MultiComparison(oneD_pdnc_full_df['f1_weightedNet'], oneD_pdnc_full_df['Features'])\n",
        "print(oneD_pdnc_mc.tukeyhsd())"
      ],
      "execution_count": null,
      "outputs": [
        {
          "output_type": "stream",
          "text": [
            "Multiple Comparison of Means - Tukey HSD, FWER=0.05 \n",
            "====================================================\n",
            "group1  group2  meandiff p-adj  lower  upper  reject\n",
            "----------------------------------------------------\n",
            "   csp      iir   0.0337 0.2052 -0.014 0.0815  False\n",
            "   csp spectral    0.115  0.001 0.0672 0.1627   True\n",
            "   iir spectral   0.0812  0.001 0.0335  0.129   True\n",
            "----------------------------------------------------\n"
          ],
          "name": "stdout"
        }
      ]
    },
    {
      "cell_type": "markdown",
      "metadata": {
        "id": "oKSGMn1BT8on"
      },
      "source": [
        "CSP and IIR are **not** significantly different."
      ]
    },
    {
      "cell_type": "code",
      "metadata": {
        "colab": {
          "base_uri": "https://localhost:8080/"
        },
        "id": "8rgzheh_lKLb",
        "outputId": "ba6f0ecf-159a-4aab-809b-5d85d4e23964"
      },
      "source": [
        "# conf mat T-tests\n",
        "\n",
        "oneD_conf_df = pd.DataFrame()\n",
        "features = [\"Spectral\", \"CSP\", \"IIR\"]\n",
        "for j in features:\n",
        "  print(\"-----\", j, \"----\")\n",
        "  oneD_conf = get_metric('/content/drive/MyDrive/EEG_Analysis_PD_NC/Results/1D_CNN_Results/'+str(j)+'/CNN_1D_results_PDNC_'+str(j)+'_Full.mat', 'conf_mat_list')\n",
        "  print(np.mean(oneD_conf, axis=0), '\\n')\n",
        "  oneD_conf_nc = [i[0][0] for i in oneD_conf]\n",
        "  oneD_conf_pd = [i[1][1] for i in oneD_conf]\n",
        "  stat, p = ttest_ind(oneD_conf_nc, oneD_conf_pd,equal_var=False)\n",
        "  print('stat=%.3f, p=%.3f' % (stat, p))\n",
        "  if p > 0.05:\n",
        "    print('Probably the same distribution')\n",
        "  else:\n",
        "    print('Probably different distributions')\n",
        "  print('\\n')"
      ],
      "execution_count": null,
      "outputs": [
        {
          "output_type": "stream",
          "text": [
            "----- Spectral ----\n",
            "[[0.99366104 0.00633896]\n",
            " [0.02071722 0.97928278]] \n",
            "\n",
            "stat=2.115, p=0.061\n",
            "Probably the same distribution\n",
            "\n",
            "\n",
            "----- CSP ----\n",
            "[[0.83672621 0.16327379]\n",
            " [0.09324116 0.90675884]] \n",
            "\n",
            "stat=-5.053, p=0.000\n",
            "Probably different distributions\n",
            "\n",
            "\n",
            "----- IIR ----\n",
            "[[0.86027613 0.13972387]\n",
            " [0.04500414 0.95499586]] \n",
            "\n",
            "stat=-1.759, p=0.100\n",
            "Probably the same distribution\n",
            "\n",
            "\n"
          ],
          "name": "stdout"
        }
      ]
    },
    {
      "cell_type": "code",
      "metadata": {
        "colab": {
          "base_uri": "https://localhost:8080/"
        },
        "id": "H_YDSeEeNNZs",
        "outputId": "0c73ef9e-a988-4092-fbed-453be45ad604"
      },
      "source": [
        "# conf mat T-tests\n",
        "\n",
        "oneD_conf_df = pd.DataFrame()\n",
        "features = [\"Spectral\", \"CSP\", \"IIR\"]\n",
        "data = [\"NC\", \"PD\"]\n",
        "\n",
        "l = 0\n",
        "for i in data:\n",
        "  print(\"\\nHow well is\", i, \"classified in different features?\\n\")\n",
        "  for k in features:\n",
        "    print(10*\"-\", k, 10*\"-\")\n",
        "    oneD_conf = get_metric('/content/drive/MyDrive/EEG_Analysis_PD_NC/Results/1D_CNN_Results/'+str(k)+'/CNN_1D_results_PDNC_'+str(k)+'_Full.mat', 'conf_mat_list')\n",
        "    print(np.mean(oneD_conf, axis=0), '\\n')\n",
        "    data_df = pd.DataFrame({'Accuracy': [i[l][l] for i in oneD_conf],'Features': len(oneD_conf)*[str(k)]})\n",
        "    oneD_conf_df = oneD_conf_df.append(data_df, ignore_index=True)\n",
        "\n",
        "  print('\\n--- One way Anova ---')\n",
        "\n",
        "  oneD_formula = 'Accuracy ~ C(Features)'\n",
        "  oneD_model = ols(oneD_formula, oneD_conf_df).fit()\n",
        "  oneD_aov_table = anova_lm(oneD_model, typ=2)\n",
        "  print(oneD_aov_table)\n",
        "\n",
        "  print('\\n--- Tukey HSD ----')\n",
        "  # Tukey HSD test\n",
        "\n",
        "  oneD_mc = MultiComparison(oneD_conf_df['Accuracy'], oneD_conf_df['Features'])\n",
        "  print(oneD_mc.tukeyhsd())\n",
        "  l = l+1\n",
        "  print(30*\"*\")\n"
      ],
      "execution_count": null,
      "outputs": [
        {
          "output_type": "stream",
          "text": [
            "\n",
            "How well is NC classified in different features?\n",
            "\n",
            "---------- Spectral ----------\n",
            "[[0.99366104 0.00633896]\n",
            " [0.02071722 0.97928278]] \n",
            "\n",
            "---------- CSP ----------\n",
            "[[0.83672621 0.16327379]\n",
            " [0.09324116 0.90675884]] \n",
            "\n",
            "---------- IIR ----------\n",
            "[[0.86027613 0.13972387]\n",
            " [0.04500414 0.95499586]] \n",
            "\n",
            "\n",
            "--- One way Anova ---\n",
            "               sum_sq    df         F    PR(>F)\n",
            "C(Features)  0.143249   2.0  9.181335  0.000908\n",
            "Residual     0.210630  27.0       NaN       NaN\n",
            "\n",
            "--- Tukey HSD ----\n",
            " Multiple Comparison of Means - Tukey HSD, FWER=0.05 \n",
            "=====================================================\n",
            "group1  group2  meandiff p-adj   lower  upper  reject\n",
            "-----------------------------------------------------\n",
            "   CSP      IIR   0.0235 0.8099 -0.0744 0.1215  False\n",
            "   CSP Spectral   0.1569 0.0013   0.059 0.2549   True\n",
            "   IIR Spectral   0.1334 0.0061  0.0355 0.2313   True\n",
            "-----------------------------------------------------\n",
            "******************************\n",
            "\n",
            "How well is PD classified in different features?\n",
            "\n",
            "---------- Spectral ----------\n",
            "[[0.99366104 0.00633896]\n",
            " [0.02071722 0.97928278]] \n",
            "\n",
            "---------- CSP ----------\n",
            "[[0.83672621 0.16327379]\n",
            " [0.09324116 0.90675884]] \n",
            "\n",
            "---------- IIR ----------\n",
            "[[0.86027613 0.13972387]\n",
            " [0.04500414 0.95499586]] \n",
            "\n",
            "\n",
            "--- One way Anova ---\n",
            "               sum_sq    df          F    PR(>F)\n",
            "C(Features)  0.137775   2.0  11.128161  0.000083\n",
            "Residual     0.352852  57.0        NaN       NaN\n",
            "\n",
            "--- Tukey HSD ----\n",
            "Multiple Comparison of Means - Tukey HSD, FWER=0.05 \n",
            "====================================================\n",
            "group1  group2  meandiff p-adj  lower  upper  reject\n",
            "----------------------------------------------------\n",
            "   CSP      IIR   0.0359 0.3267 -0.024 0.0958  False\n",
            "   CSP Spectral   0.1147  0.001 0.0549 0.1746   True\n",
            "   IIR Spectral   0.0788 0.0068  0.019 0.1387   True\n",
            "----------------------------------------------------\n",
            "******************************\n"
          ],
          "name": "stdout"
        }
      ]
    },
    {
      "cell_type": "markdown",
      "metadata": {
        "id": "r_mCC9lTUWSC"
      },
      "source": [
        "### Individual Emotions"
      ]
    },
    {
      "cell_type": "code",
      "metadata": {
        "colab": {
          "base_uri": "https://localhost:8080/"
        },
        "id": "tvhbO7pgUZGK",
        "outputId": "9934bd9a-bd26-4e33-a5b2-17110196647d"
      },
      "source": [
        "# Create a DataFrame\n",
        "oneD_pdnc_emot_df = pd.DataFrame()\n",
        "emotions = [\"E1\", \"E2\", \"E3\", \"E4\", \"E5\", \"E6\"]\n",
        "features = [\"Spectral\", \"CSP\", \"IIR\"]\n",
        "for i in features:\n",
        "  for j in emotions:\n",
        "    oneD_pdnc_emot_f1 = get_metric('/content/drive/MyDrive/EEG_Analysis_PD_NC/Results/1D_CNN_Results/'+str(i)+'/CNN_1D_results_PDNC_'+str(i)+'_'+str(j)+'.mat', 'f1_weightedNet')\n",
        "    data = pd.DataFrame({'f1_weightedNet': oneD_pdnc_emot_f1[0],'Features': len(oneD_pdnc_emot_f1[0])*[str(i)], 'Emotions': len(oneD_pdnc_emot_f1[0])*[str(j)]})\n",
        "    oneD_pdnc_emot_df = oneD_pdnc_emot_df.append(data, ignore_index=True)\n",
        "\n",
        "print(oneD_pdnc_emot_df)"
      ],
      "execution_count": null,
      "outputs": [
        {
          "output_type": "stream",
          "text": [
            "     f1_weightedNet  Features Emotions\n",
            "0          0.937746  Spectral       E1\n",
            "1          0.962629  Spectral       E1\n",
            "2          0.970944  Spectral       E1\n",
            "3          0.941698  Spectral       E1\n",
            "4          0.995850  Spectral       E1\n",
            "..              ...       ...      ...\n",
            "175        0.864170       IIR       E6\n",
            "176        1.000000       IIR       E6\n",
            "177        0.986667       IIR       E6\n",
            "178        0.995556       IIR       E6\n",
            "179        1.000000       IIR       E6\n",
            "\n",
            "[180 rows x 3 columns]\n"
          ],
          "name": "stdout"
        }
      ]
    },
    {
      "cell_type": "code",
      "metadata": {
        "colab": {
          "base_uri": "https://localhost:8080/"
        },
        "id": "JGOWae-PZOgS",
        "outputId": "2525c50e-46fb-4432-c6a1-6c64ddab2572"
      },
      "source": [
        "# Two-way ANOVA using statsmodel api\n",
        "\n",
        "oneD_pdnc_emot_formula = 'f1_weightedNet ~ C(Features)+C(Emotions)+C(Features):C(Emotions)'\n",
        "oneD_pdnc_emot_model = ols(oneD_pdnc_emot_formula, oneD_pdnc_emot_df).fit()\n",
        "oneD_pdnc_emot_aov_table = anova_lm(oneD_pdnc_emot_model, typ=2)\n",
        "print(oneD_pdnc_emot_aov_table)"
      ],
      "execution_count": null,
      "outputs": [
        {
          "output_type": "stream",
          "text": [
            "                           sum_sq     df         F    PR(>F)\n",
            "C(Features)              0.009853    2.0  0.857361  0.426196\n",
            "C(Emotions)              0.041061    5.0  1.429188  0.216428\n",
            "C(Features):C(Emotions)  0.067175   10.0  1.169057  0.315336\n",
            "Residual                 0.930861  162.0       NaN       NaN\n"
          ],
          "name": "stdout"
        }
      ]
    },
    {
      "cell_type": "code",
      "metadata": {
        "colab": {
          "base_uri": "https://localhost:8080/"
        },
        "id": "XbmYL62aaQeC",
        "outputId": "fed50c26-6d7d-49c4-b44c-b401ca2fce5a"
      },
      "source": [
        "# One way Anova test for individual emotions:\n",
        "emotions = [\"E1\", \"E2\", \"E3\", \"E4\", \"E5\", \"E6\"]\n",
        "\n",
        "for i in emotions:\n",
        "  temp_df = oneD_pdnc_emot_df[oneD_pdnc_emot_df['Emotions']==i]\n",
        "  #del temp_df['Emotions']\n",
        "  oneD_pdnc_formula = 'f1_weightedNet ~ C(Features)'\n",
        "  oneD_pdnc_model = ols(oneD_pdnc_formula, temp_df).fit()\n",
        "  oneD_pdnc_aov_table = anova_lm(oneD_pdnc_model, typ=2)\n",
        "  print(\"Table for\", i, '\\n')\n",
        "  print(oneD_pdnc_aov_table)\n",
        "  print('\\n')\n",
        "  print(10*'#')\n",
        "  print('\\n\\n')"
      ],
      "execution_count": null,
      "outputs": [
        {
          "output_type": "stream",
          "text": [
            "Table for E1 \n",
            "\n",
            "               sum_sq    df         F    PR(>F)\n",
            "C(Features)  0.002615   2.0  0.845929  0.440219\n",
            "Residual     0.041729  27.0       NaN       NaN\n",
            "\n",
            "\n",
            "##########\n",
            "\n",
            "\n",
            "\n",
            "Table for E2 \n",
            "\n",
            "               sum_sq    df         F    PR(>F)\n",
            "C(Features)  0.006812   2.0  0.561364  0.576946\n",
            "Residual     0.163811  27.0       NaN       NaN\n",
            "\n",
            "\n",
            "##########\n",
            "\n",
            "\n",
            "\n",
            "Table for E3 \n",
            "\n",
            "               sum_sq    df         F    PR(>F)\n",
            "C(Features)  0.027403   2.0  1.558483  0.228802\n",
            "Residual     0.237373  27.0       NaN       NaN\n",
            "\n",
            "\n",
            "##########\n",
            "\n",
            "\n",
            "\n",
            "Table for E4 \n",
            "\n",
            "               sum_sq    df         F    PR(>F)\n",
            "C(Features)  0.016025   2.0  2.235097  0.126406\n",
            "Residual     0.096791  27.0       NaN       NaN\n",
            "\n",
            "\n",
            "##########\n",
            "\n",
            "\n",
            "\n",
            "Table for E5 \n",
            "\n",
            "               sum_sq    df         F    PR(>F)\n",
            "C(Features)  0.002098   2.0  0.247315  0.782645\n",
            "Residual     0.114509  27.0       NaN       NaN\n",
            "\n",
            "\n",
            "##########\n",
            "\n",
            "\n",
            "\n",
            "Table for E6 \n",
            "\n",
            "               sum_sq    df         F    PR(>F)\n",
            "C(Features)  0.022075   2.0  1.077239  0.354723\n",
            "Residual     0.276647  27.0       NaN       NaN\n",
            "\n",
            "\n",
            "##########\n",
            "\n",
            "\n",
            "\n"
          ],
          "name": "stdout"
        }
      ]
    },
    {
      "cell_type": "code",
      "metadata": {
        "colab": {
          "base_uri": "https://localhost:8080/"
        },
        "id": "9rtvFmkAauYI",
        "outputId": "3e81b386-6f63-4a0e-8a84-772999f86b84"
      },
      "source": [
        "# Tukey HSD test for individual emotions\n",
        "\n",
        "for i in emotions:\n",
        "  temp_df = oneD_pdnc_emot_df[oneD_pdnc_emot_df['Emotions']==i]\n",
        "  oneD_pdnc_mc = MultiComparison(temp_df['f1_weightedNet'], temp_df['Features'])\n",
        "  print(\"Table for\", i, '\\n')\n",
        "  print(oneD_pdnc_mc.tukeyhsd())\n",
        "  print('\\n')\n",
        "  print(10*'#')\n",
        "  print('\\n\\n')"
      ],
      "execution_count": null,
      "outputs": [
        {
          "output_type": "stream",
          "text": [
            "Table for E1 \n",
            "\n",
            " Multiple Comparison of Means - Tukey HSD, FWER=0.05 \n",
            "=====================================================\n",
            "group1  group2  meandiff p-adj   lower  upper  reject\n",
            "-----------------------------------------------------\n",
            "   CSP      IIR   0.0164 0.6177 -0.0272   0.06  False\n",
            "   CSP Spectral    0.022 0.4359 -0.0216 0.0656  False\n",
            "   IIR Spectral   0.0056    0.9  -0.038 0.0492  False\n",
            "-----------------------------------------------------\n",
            "\n",
            "\n",
            "##########\n",
            "\n",
            "\n",
            "\n",
            "Table for E2 \n",
            "\n",
            " Multiple Comparison of Means - Tukey HSD, FWER=0.05 \n",
            "=====================================================\n",
            "group1  group2  meandiff p-adj   lower  upper  reject\n",
            "-----------------------------------------------------\n",
            "   CSP      IIR    0.031  0.642 -0.0553 0.1174  False\n",
            "   CSP Spectral  -0.0018    0.9 -0.0882 0.0845  False\n",
            "   IIR Spectral  -0.0328 0.6122 -0.1192 0.0535  False\n",
            "-----------------------------------------------------\n",
            "\n",
            "\n",
            "##########\n",
            "\n",
            "\n",
            "\n",
            "Table for E3 \n",
            "\n",
            " Multiple Comparison of Means - Tukey HSD, FWER=0.05 \n",
            "=====================================================\n",
            "group1  group2  meandiff p-adj   lower  upper  reject\n",
            "-----------------------------------------------------\n",
            "   CSP      IIR  -0.0573 0.3732 -0.1612 0.0467  False\n",
            "   CSP Spectral   0.0119    0.9  -0.092 0.1159  False\n",
            "   IIR Spectral   0.0692 0.2422 -0.0347 0.1732  False\n",
            "-----------------------------------------------------\n",
            "\n",
            "\n",
            "##########\n",
            "\n",
            "\n",
            "\n",
            "Table for E4 \n",
            "\n",
            " Multiple Comparison of Means - Tukey HSD, FWER=0.05 \n",
            "=====================================================\n",
            "group1  group2  meandiff p-adj   lower  upper  reject\n",
            "-----------------------------------------------------\n",
            "   CSP      IIR   0.0093    0.9 -0.0571 0.0756  False\n",
            "   CSP Spectral    0.053 0.1366 -0.0134 0.1194  False\n",
            "   IIR Spectral   0.0437 0.2494 -0.0226 0.1101  False\n",
            "-----------------------------------------------------\n",
            "\n",
            "\n",
            "##########\n",
            "\n",
            "\n",
            "\n",
            "Table for E5 \n",
            "\n",
            " Multiple Comparison of Means - Tukey HSD, FWER=0.05 \n",
            "=====================================================\n",
            "group1  group2  meandiff p-adj   lower  upper  reject\n",
            "-----------------------------------------------------\n",
            "   CSP      IIR   0.0014    0.9 -0.0708 0.0736  False\n",
            "   CSP Spectral   -0.017 0.8171 -0.0892 0.0552  False\n",
            "   IIR Spectral  -0.0184 0.7896 -0.0906 0.0538  False\n",
            "-----------------------------------------------------\n",
            "\n",
            "\n",
            "##########\n",
            "\n",
            "\n",
            "\n",
            "Table for E6 \n",
            "\n",
            " Multiple Comparison of Means - Tukey HSD, FWER=0.05 \n",
            "=====================================================\n",
            "group1  group2  meandiff p-adj   lower  upper  reject\n",
            "-----------------------------------------------------\n",
            "   CSP      IIR  -0.0658 0.3286 -0.1781 0.0464  False\n",
            "   CSP Spectral  -0.0252 0.8322 -0.1374  0.087  False\n",
            "   IIR Spectral   0.0406 0.6379 -0.0716 0.1528  False\n",
            "-----------------------------------------------------\n",
            "\n",
            "\n",
            "##########\n",
            "\n",
            "\n",
            "\n"
          ],
          "name": "stdout"
        }
      ]
    },
    {
      "cell_type": "markdown",
      "metadata": {
        "id": "7yNRPgmsbGfr"
      },
      "source": [
        "None of them are significantly different."
      ]
    },
    {
      "cell_type": "code",
      "metadata": {
        "colab": {
          "base_uri": "https://localhost:8080/"
        },
        "id": "4TwqMum1bTDJ",
        "outputId": "e81e2fae-47ff-4359-af40-d3d8c6fab68e"
      },
      "source": [
        "# One way Anova test for individual features:\n",
        "\n",
        "for i in features:\n",
        "  temp_df = oneD_pdnc_emot_df[oneD_pdnc_emot_df['Features']==i]\n",
        "  #del temp_df['Emotions']\n",
        "  oneD_pdnc_formula = 'f1_weightedNet ~ C(Emotions)'\n",
        "  oneD_pdnc_model = ols(oneD_pdnc_formula, temp_df).fit()\n",
        "  oneD_pdnc_aov_table = anova_lm(oneD_pdnc_model, typ=2)\n",
        "  print(\"Table for\", i, '\\n')\n",
        "  print(oneD_pdnc_aov_table)\n",
        "  print('\\n')\n",
        "  print(10*'#')\n",
        "  print('\\n\\n')"
      ],
      "execution_count": null,
      "outputs": [
        {
          "output_type": "stream",
          "text": [
            "Table for Spectral \n",
            "\n",
            "               sum_sq    df         F    PR(>F)\n",
            "C(Emotions)  0.043642   5.0  2.915577  0.021121\n",
            "Residual     0.161661  54.0       NaN       NaN\n",
            "\n",
            "\n",
            "##########\n",
            "\n",
            "\n",
            "\n",
            "Table for CSP \n",
            "\n",
            "               sum_sq    df        F    PR(>F)\n",
            "C(Emotions)  0.008172   5.0  2.73615  0.028284\n",
            "Residual     0.032258  54.0      NaN       NaN\n",
            "\n",
            "\n",
            "##########\n",
            "\n",
            "\n",
            "\n",
            "Table for IIR \n",
            "\n",
            "               sum_sq    df        F    PR(>F)\n",
            "C(Emotions)  0.056421   5.0  0.82686  0.536178\n",
            "Residual     0.736942  54.0      NaN       NaN\n",
            "\n",
            "\n",
            "##########\n",
            "\n",
            "\n",
            "\n"
          ],
          "name": "stdout"
        }
      ]
    },
    {
      "cell_type": "code",
      "metadata": {
        "colab": {
          "base_uri": "https://localhost:8080/"
        },
        "id": "CNjS_CZoewtU",
        "outputId": "2b87e700-2c62-494e-b30c-01bdf98d1778"
      },
      "source": [
        "# Tukey HSD test for individual features\n",
        "\n",
        "for i in features:\n",
        "  temp_df = oneD_pdnc_emot_df[oneD_pdnc_emot_df['Features']==i]\n",
        "  oneD_pdnc_mc = MultiComparison(temp_df['f1_weightedNet'], temp_df['Emotions'])\n",
        "  print(\"Table for\", i, '\\n')\n",
        "  print(oneD_pdnc_mc.tukeyhsd())\n",
        "  print('\\n')\n",
        "  print(10*'#')\n",
        "  print('\\n\\n')"
      ],
      "execution_count": null,
      "outputs": [
        {
          "output_type": "stream",
          "text": [
            "Table for Spectral \n",
            "\n",
            "Multiple Comparison of Means - Tukey HSD, FWER=0.05\n",
            "===================================================\n",
            "group1 group2 meandiff p-adj   lower  upper  reject\n",
            "---------------------------------------------------\n",
            "    E1     E2  -0.0533 0.2643 -0.1256  0.019  False\n",
            "    E1     E3  -0.0055    0.9 -0.0778 0.0668  False\n",
            "    E1     E4   0.0112    0.9 -0.0611 0.0835  False\n",
            "    E1     E5   -0.048 0.3778 -0.1203 0.0243  False\n",
            "    E1     E6  -0.0518 0.2951 -0.1241 0.0205  False\n",
            "    E2     E3   0.0478 0.3834 -0.0245 0.1201  False\n",
            "    E2     E4   0.0645 0.1058 -0.0078 0.1368  False\n",
            "    E2     E5   0.0053    0.9  -0.067 0.0776  False\n",
            "    E2     E6   0.0016    0.9 -0.0707 0.0738  False\n",
            "    E3     E4   0.0167    0.9 -0.0555  0.089  False\n",
            "    E3     E5  -0.0425 0.5119 -0.1148 0.0298  False\n",
            "    E3     E6  -0.0462 0.4213 -0.1185 0.0261  False\n",
            "    E4     E5  -0.0593 0.1673 -0.1315  0.013  False\n",
            "    E4     E6   -0.063 0.1218 -0.1353 0.0093  False\n",
            "    E5     E6  -0.0037    0.9  -0.076 0.0686  False\n",
            "---------------------------------------------------\n",
            "\n",
            "\n",
            "##########\n",
            "\n",
            "\n",
            "\n",
            "Table for CSP \n",
            "\n",
            "Multiple Comparison of Means - Tukey HSD, FWER=0.05\n",
            "===================================================\n",
            "group1 group2 meandiff p-adj   lower  upper  reject\n",
            "---------------------------------------------------\n",
            "    E1     E2  -0.0295 0.0919 -0.0618 0.0028  False\n",
            "    E1     E3   0.0045    0.9 -0.0278 0.0368  False\n",
            "    E1     E4  -0.0198   0.47 -0.0521 0.0125  False\n",
            "    E1     E5   -0.009    0.9 -0.0413 0.0233  False\n",
            "    E1     E6  -0.0045    0.9 -0.0368 0.0277  False\n",
            "    E2     E3    0.034 0.0333  0.0017 0.0663   True\n",
            "    E2     E4   0.0097    0.9 -0.0226  0.042  False\n",
            "    E2     E5   0.0205 0.4316 -0.0118 0.0528  False\n",
            "    E2     E6    0.025 0.2187 -0.0073 0.0573  False\n",
            "    E3     E4  -0.0243 0.2441 -0.0566  0.008  False\n",
            "    E3     E5  -0.0136 0.7912 -0.0459 0.0187  False\n",
            "    E3     E6  -0.0091    0.9 -0.0414 0.0232  False\n",
            "    E4     E5   0.0107    0.9 -0.0216  0.043  False\n",
            "    E4     E6   0.0152 0.7055 -0.0171 0.0475  False\n",
            "    E5     E6   0.0045    0.9 -0.0278 0.0368  False\n",
            "---------------------------------------------------\n",
            "\n",
            "\n",
            "##########\n",
            "\n",
            "\n",
            "\n",
            "Table for IIR \n",
            "\n",
            "Multiple Comparison of Means - Tukey HSD, FWER=0.05\n",
            "===================================================\n",
            "group1 group2 meandiff p-adj   lower  upper  reject\n",
            "---------------------------------------------------\n",
            "    E1     E2  -0.0149    0.9 -0.1692 0.1395  False\n",
            "    E1     E3  -0.0692 0.7445 -0.2235 0.0852  False\n",
            "    E1     E4  -0.0269    0.9 -0.1813 0.1274  False\n",
            "    E1     E5   -0.024    0.9 -0.1784 0.1303  False\n",
            "    E1     E6  -0.0868 0.5547 -0.2411 0.0676  False\n",
            "    E2     E3  -0.0543    0.9 -0.2086 0.1001  False\n",
            "    E2     E4   -0.012    0.9 -0.1664 0.1423  False\n",
            "    E2     E5  -0.0091    0.9 -0.1635 0.1452  False\n",
            "    E2     E6  -0.0719  0.715 -0.2263 0.0824  False\n",
            "    E3     E4   0.0423    0.9 -0.1121 0.1966  False\n",
            "    E3     E5   0.0451    0.9 -0.1092 0.1995  False\n",
            "    E3     E6  -0.0176    0.9  -0.172 0.1367  False\n",
            "    E4     E5   0.0029    0.9 -0.1515 0.1572  False\n",
            "    E4     E6  -0.0599 0.8446 -0.2142 0.0945  False\n",
            "    E5     E6  -0.0628 0.8135 -0.2171 0.0916  False\n",
            "---------------------------------------------------\n",
            "\n",
            "\n",
            "##########\n",
            "\n",
            "\n",
            "\n"
          ],
          "name": "stdout"
        }
      ]
    },
    {
      "cell_type": "code",
      "metadata": {
        "colab": {
          "base_uri": "https://localhost:8080/"
        },
        "id": "eAHxYOpsm0ge",
        "outputId": "608a1bef-1856-4ff3-e698-4f689363514b"
      },
      "source": [
        "# conf mat T-tests\n",
        "emotions = [\"E1\", \"E2\", \"E3\", \"E4\", \"E5\", \"E6\"]\n",
        "for emot in emotions:\n",
        "  print(10*\"*\", emot, 10*\"*\")\n",
        "  oneD_conf_df = pd.DataFrame()\n",
        "  features = [\"Spectral\", \"CSP\", \"IIR\"]\n",
        "  for j in features:\n",
        "    print(\"\\n-----\", j, \"----\")\n",
        "    oneD_conf = get_metric('/content/drive/MyDrive/EEG_Analysis_PD_NC/Results/1D_CNN_Results/'+str(j)+'/CNN_1D_results_PDNC_'+str(j)+'_'+str(emot)+'.mat', 'conf_mat_list')\n",
        "    print(np.mean(oneD_conf, axis=0), '\\n')\n",
        "    oneD_conf_nc = [i[0][0] for i in oneD_conf]\n",
        "    oneD_conf_pd = [i[1][1] for i in oneD_conf]\n",
        "    stat, p = ttest_ind(oneD_conf_nc, oneD_conf_pd,equal_var=False)\n",
        "    print('stat=%.3f, p=%.3f' % (stat, p))\n",
        "    if p > 0.05:\n",
        "      print('Probably the same distribution')\n",
        "    else:\n",
        "      print('Probably different distributions')\n",
        "  print('\\n')"
      ],
      "execution_count": null,
      "outputs": [
        {
          "output_type": "stream",
          "text": [
            "********** E1 **********\n",
            "\n",
            "----- Spectral ----\n",
            "[[0.9785124  0.0214876 ]\n",
            " [0.04583333 0.95416667]] \n",
            "\n",
            "stat=1.357, p=0.197\n",
            "Probably the same distribution\n",
            "\n",
            "----- CSP ----\n",
            "[[0.92090909 0.07909091]\n",
            " [0.03190476 0.96809524]] \n",
            "\n",
            "stat=-3.029, p=0.011\n",
            "Probably different distributions\n",
            "\n",
            "----- IIR ----\n",
            "[[0.94545532 0.05454468]\n",
            " [0.02242991 0.97757009]] \n",
            "\n",
            "stat=-0.811, p=0.436\n",
            "Probably the same distribution\n",
            "\n",
            "\n",
            "********** E2 **********\n",
            "\n",
            "----- Spectral ----\n",
            "[[0.92712573 0.07287427]\n",
            " [0.09606299 0.90393701]] \n",
            "\n",
            "stat=0.374, p=0.713\n",
            "Probably the same distribution\n",
            "\n",
            "----- CSP ----\n",
            "[[0.93564444 0.06435556]\n",
            " [0.10575484 0.89424516]] \n",
            "\n",
            "stat=2.106, p=0.050\n",
            "Probably the same distribution\n",
            "\n",
            "----- IIR ----\n",
            "[[0.97631579 0.02368421]\n",
            " [0.07876896 0.92123104]] \n",
            "\n",
            "stat=0.918, p=0.380\n",
            "Probably the same distribution\n",
            "\n",
            "\n",
            "********** E3 **********\n",
            "\n",
            "----- Spectral ----\n",
            "[[0.965     0.035    ]\n",
            " [0.0432438 0.9567562]] \n",
            "\n",
            "stat=0.454, p=0.657\n",
            "Probably the same distribution\n",
            "\n",
            "----- CSP ----\n",
            "[[0.94156815 0.05843185]\n",
            " [0.04381142 0.95618858]] \n",
            "\n",
            "stat=-0.856, p=0.403\n",
            "Probably the same distribution\n",
            "\n",
            "----- IIR ----\n",
            "[[0.85000882 0.14999118]\n",
            " [0.04676424 0.95323576]] \n",
            "\n",
            "stat=-1.072, p=0.307\n",
            "Probably the same distribution\n",
            "\n",
            "\n",
            "********** E4 **********\n",
            "\n",
            "----- Spectral ----\n",
            "[[0.97167355 0.02832645]\n",
            " [0.01655647 0.98344353]] \n",
            "\n",
            "stat=-0.715, p=0.487\n",
            "Probably the same distribution\n",
            "\n",
            "----- CSP ----\n",
            "[[0.93081933 0.06918067]\n",
            " [0.08152204 0.91847796]] \n",
            "\n",
            "stat=0.681, p=0.505\n",
            "Probably the same distribution\n",
            "\n",
            "----- IIR ----\n",
            "[[0.89856352 0.10143648]\n",
            " [0.02592593 0.97407407]] \n",
            "\n",
            "stat=-1.228, p=0.248\n",
            "Probably the same distribution\n",
            "\n",
            "\n",
            "********** E5 **********\n",
            "\n",
            "----- Spectral ----\n",
            "[[0.92276129 0.07723871]\n",
            " [0.08594283 0.91405717]] \n",
            "\n",
            "stat=0.407, p=0.689\n",
            "Probably the same distribution\n",
            "\n",
            "----- CSP ----\n",
            "[[0.91624516 0.08375484]\n",
            " [0.04546289 0.95453711]] \n",
            "\n",
            "stat=-2.859, p=0.011\n",
            "Probably different distributions\n",
            "\n",
            "----- IIR ----\n",
            "[[0.93090234 0.06909766]\n",
            " [0.05019305 0.94980695]] \n",
            "\n",
            "stat=-0.282, p=0.782\n",
            "Probably the same distribution\n",
            "\n",
            "\n",
            "********** E6 **********\n",
            "\n",
            "----- Spectral ----\n",
            "[[0.93172698 0.06827302]\n",
            " [0.09846894 0.90153106]] \n",
            "\n",
            "stat=0.507, p=0.618\n",
            "Probably the same distribution\n",
            "\n",
            "----- CSP ----\n",
            "[[0.93617231 0.06382769]\n",
            " [0.0564     0.9436    ]] \n",
            "\n",
            "stat=-0.345, p=0.734\n",
            "Probably the same distribution\n",
            "\n",
            "----- IIR ----\n",
            "[[0.90803571 0.09196429]\n",
            " [0.14035864 0.85964136]] \n",
            "\n",
            "stat=0.482, p=0.636\n",
            "Probably the same distribution\n",
            "\n",
            "\n"
          ],
          "name": "stdout"
        }
      ]
    },
    {
      "cell_type": "code",
      "metadata": {
        "colab": {
          "base_uri": "https://localhost:8080/"
        },
        "id": "H5_S3iiwS3T-",
        "outputId": "9cb75cb0-fc24-4294-ed59-a564ce1d693c"
      },
      "source": [
        "# How well are PD and NC classified on different features?\n",
        "\n",
        "emotions = [\"E1\", \"E2\", \"E3\", \"E4\", \"E5\", \"E6\"]\n",
        "for emot in emotions:\n",
        "  print(10*\"*\", emot, 10*\"*\")\n",
        "  oneD_conf_df = pd.DataFrame()\n",
        "  features = [\"Spectral\", \"CSP\", \"IIR\"]\n",
        "  data = [\"NC\", \"PD\"]\n",
        "\n",
        "  l = 0\n",
        "  for i in data:\n",
        "    print(\"\\nHow well is\", i, \"classified in different features for\", emot, \"data?\\n\")\n",
        "    for k in features:\n",
        "      print(10*\"-\", k, 10*\"-\")\n",
        "      oneD_conf = get_metric('/content/drive/MyDrive/EEG_Analysis_PD_NC/Results/1D_CNN_Results/'+str(k)+'/CNN_1D_results_PDNC_'+str(k)+'_'+str(emot)+'.mat', 'conf_mat_list')\n",
        "      print(np.mean(oneD_conf, axis=0), '\\n')\n",
        "      data_df = pd.DataFrame({'Accuracy': [i[l][l] for i in oneD_conf],'Features': len(oneD_conf)*[str(k)]})\n",
        "      oneD_conf_df = oneD_conf_df.append(data_df, ignore_index=True)\n",
        "\n",
        "    print('\\n--- One way Anova ---')\n",
        "\n",
        "    oneD_formula = 'Accuracy ~ C(Features)'\n",
        "    oneD_model = ols(oneD_formula, oneD_conf_df).fit()\n",
        "    oneD_aov_table = anova_lm(oneD_model, typ=2)\n",
        "    print(oneD_aov_table)\n",
        "\n",
        "    print('\\n--- Tukey HSD ----')\n",
        "    # Tukey HSD test\n",
        "\n",
        "    oneD_mc = MultiComparison(oneD_conf_df['Accuracy'], oneD_conf_df['Features'])\n",
        "    print(oneD_mc.tukeyhsd())\n",
        "    l = l+1\n",
        "    print(30*\"*\")\n"
      ],
      "execution_count": null,
      "outputs": [
        {
          "output_type": "stream",
          "text": [
            "********** E1 **********\n",
            "\n",
            "How well is NC classified in different features for E1 data?\n",
            "\n",
            "---------- Spectral ----------\n",
            "[[0.9785124  0.0214876 ]\n",
            " [0.04583333 0.95416667]] \n",
            "\n",
            "---------- CSP ----------\n",
            "[[0.92090909 0.07909091]\n",
            " [0.03190476 0.96809524]] \n",
            "\n",
            "---------- IIR ----------\n",
            "[[0.94545532 0.05454468]\n",
            " [0.02242991 0.97757009]] \n",
            "\n",
            "\n",
            "--- One way Anova ---\n",
            "               sum_sq    df         F   PR(>F)\n",
            "C(Features)  0.016711   2.0  1.442482  0.25398\n",
            "Residual     0.156400  27.0       NaN      NaN\n",
            "\n",
            "--- Tukey HSD ----\n",
            " Multiple Comparison of Means - Tukey HSD, FWER=0.05 \n",
            "=====================================================\n",
            "group1  group2  meandiff p-adj   lower  upper  reject\n",
            "-----------------------------------------------------\n",
            "   CSP      IIR   0.0245 0.7386 -0.0598 0.1089  False\n",
            "   CSP Spectral   0.0576 0.2265 -0.0268  0.142  False\n",
            "   IIR Spectral   0.0331 0.5959 -0.0513 0.1174  False\n",
            "-----------------------------------------------------\n",
            "******************************\n",
            "\n",
            "How well is PD classified in different features for E1 data?\n",
            "\n",
            "---------- Spectral ----------\n",
            "[[0.9785124  0.0214876 ]\n",
            " [0.04583333 0.95416667]] \n",
            "\n",
            "---------- CSP ----------\n",
            "[[0.92090909 0.07909091]\n",
            " [0.03190476 0.96809524]] \n",
            "\n",
            "---------- IIR ----------\n",
            "[[0.94545532 0.05454468]\n",
            " [0.02242991 0.97757009]] \n",
            "\n",
            "\n",
            "--- One way Anova ---\n",
            "               sum_sq    df         F    PR(>F)\n",
            "C(Features)  0.005264   2.0  0.710081  0.495901\n",
            "Residual     0.211258  57.0       NaN       NaN\n",
            "\n",
            "--- Tukey HSD ----\n",
            " Multiple Comparison of Means - Tukey HSD, FWER=0.05 \n",
            "=====================================================\n",
            "group1  group2  meandiff p-adj   lower  upper  reject\n",
            "-----------------------------------------------------\n",
            "   CSP      IIR    0.017 0.6409 -0.0293 0.0633  False\n",
            "   CSP Spectral   0.0218 0.4985 -0.0245 0.0682  False\n",
            "   IIR Spectral   0.0048    0.9 -0.0415 0.0512  False\n",
            "-----------------------------------------------------\n",
            "******************************\n",
            "********** E2 **********\n",
            "\n",
            "How well is NC classified in different features for E2 data?\n",
            "\n",
            "---------- Spectral ----------\n",
            "[[0.92712573 0.07287427]\n",
            " [0.09606299 0.90393701]] \n",
            "\n",
            "---------- CSP ----------\n",
            "[[0.93564444 0.06435556]\n",
            " [0.10575484 0.89424516]] \n",
            "\n",
            "---------- IIR ----------\n",
            "[[0.97631579 0.02368421]\n",
            " [0.07876896 0.92123104]] \n",
            "\n",
            "\n",
            "--- One way Anova ---\n",
            "               sum_sq    df         F    PR(>F)\n",
            "C(Features)  0.013821   2.0  0.914841  0.412642\n",
            "Residual     0.203956  27.0       NaN       NaN\n",
            "\n",
            "--- Tukey HSD ----\n",
            " Multiple Comparison of Means - Tukey HSD, FWER=0.05 \n",
            "=====================================================\n",
            "group1  group2  meandiff p-adj   lower  upper  reject\n",
            "-----------------------------------------------------\n",
            "   CSP      IIR   0.0407  0.553 -0.0557  0.137  False\n",
            "   CSP Spectral  -0.0085    0.9 -0.1049 0.0878  False\n",
            "   IIR Spectral  -0.0492 0.4279 -0.1455 0.0472  False\n",
            "-----------------------------------------------------\n",
            "******************************\n",
            "\n",
            "How well is PD classified in different features for E2 data?\n",
            "\n",
            "---------- Spectral ----------\n",
            "[[0.92712573 0.07287427]\n",
            " [0.09606299 0.90393701]] \n",
            "\n",
            "---------- CSP ----------\n",
            "[[0.93564444 0.06435556]\n",
            " [0.10575484 0.89424516]] \n",
            "\n",
            "---------- IIR ----------\n",
            "[[0.97631579 0.02368421]\n",
            " [0.07876896 0.92123104]] \n",
            "\n",
            "\n",
            "--- One way Anova ---\n",
            "               sum_sq    df         F    PR(>F)\n",
            "C(Features)  0.014998   2.0  0.584966  0.560434\n",
            "Residual     0.730731  57.0       NaN       NaN\n",
            "\n",
            "--- Tukey HSD ----\n",
            " Multiple Comparison of Means - Tukey HSD, FWER=0.05 \n",
            "=====================================================\n",
            "group1  group2  meandiff p-adj   lower  upper  reject\n",
            "-----------------------------------------------------\n",
            "   CSP      IIR   0.0338 0.6062 -0.0523   0.12  False\n",
            "   CSP Spectral   0.0006    0.9 -0.0856 0.0867  False\n",
            "   IIR Spectral  -0.0332 0.6155 -0.1194 0.0529  False\n",
            "-----------------------------------------------------\n",
            "******************************\n",
            "********** E3 **********\n",
            "\n",
            "How well is NC classified in different features for E3 data?\n",
            "\n",
            "---------- Spectral ----------\n",
            "[[0.965     0.035    ]\n",
            " [0.0432438 0.9567562]] \n",
            "\n",
            "---------- CSP ----------\n",
            "[[0.94156815 0.05843185]\n",
            " [0.04381142 0.95618858]] \n",
            "\n",
            "---------- IIR ----------\n",
            "[[0.85000882 0.14999118]\n",
            " [0.04676424 0.95323576]] \n",
            "\n",
            "\n",
            "--- One way Anova ---\n",
            "              sum_sq    df         F    PR(>F)\n",
            "C(Features)  0.07385   2.0  1.271837  0.296579\n",
            "Residual     0.78389  27.0       NaN       NaN\n",
            "\n",
            "--- Tukey HSD ----\n",
            " Multiple Comparison of Means - Tukey HSD, FWER=0.05 \n",
            "=====================================================\n",
            "group1  group2  meandiff p-adj   lower  upper  reject\n",
            "-----------------------------------------------------\n",
            "   CSP      IIR  -0.0916 0.4641 -0.2805 0.0973  False\n",
            "   CSP Spectral   0.0234    0.9 -0.1655 0.2123  False\n",
            "   IIR Spectral    0.115  0.303 -0.0739 0.3039  False\n",
            "-----------------------------------------------------\n",
            "******************************\n",
            "\n",
            "How well is PD classified in different features for E3 data?\n",
            "\n",
            "---------- Spectral ----------\n",
            "[[0.965     0.035    ]\n",
            " [0.0432438 0.9567562]] \n",
            "\n",
            "---------- CSP ----------\n",
            "[[0.94156815 0.05843185]\n",
            " [0.04381142 0.95618858]] \n",
            "\n",
            "---------- IIR ----------\n",
            "[[0.85000882 0.14999118]\n",
            " [0.04676424 0.95323576]] \n",
            "\n",
            "\n",
            "--- One way Anova ---\n",
            "               sum_sq    df         F    PR(>F)\n",
            "C(Features)  0.039256   2.0  1.184206  0.313403\n",
            "Residual     0.944762  57.0       NaN       NaN\n",
            "\n",
            "--- Tukey HSD ----\n",
            " Multiple Comparison of Means - Tukey HSD, FWER=0.05 \n",
            "=====================================================\n",
            "group1  group2  meandiff p-adj   lower  upper  reject\n",
            "-----------------------------------------------------\n",
            "   CSP      IIR  -0.0473  0.483 -0.1452 0.0507  False\n",
            "   CSP Spectral    0.012    0.9  -0.086   0.11  False\n",
            "   IIR Spectral   0.0593 0.3204 -0.0387 0.1572  False\n",
            "-----------------------------------------------------\n",
            "******************************\n",
            "********** E4 **********\n",
            "\n",
            "How well is NC classified in different features for E4 data?\n",
            "\n",
            "---------- Spectral ----------\n",
            "[[0.97167355 0.02832645]\n",
            " [0.01655647 0.98344353]] \n",
            "\n",
            "---------- CSP ----------\n",
            "[[0.93081933 0.06918067]\n",
            " [0.08152204 0.91847796]] \n",
            "\n",
            "---------- IIR ----------\n",
            "[[0.89856352 0.10143648]\n",
            " [0.02592593 0.97407407]] \n",
            "\n",
            "\n",
            "--- One way Anova ---\n",
            "               sum_sq    df         F    PR(>F)\n",
            "C(Features)  0.026849   2.0  1.028604  0.371094\n",
            "Residual     0.352377  27.0       NaN       NaN\n",
            "\n",
            "--- Tukey HSD ----\n",
            " Multiple Comparison of Means - Tukey HSD, FWER=0.05 \n",
            "=====================================================\n",
            "group1  group2  meandiff p-adj   lower  upper  reject\n",
            "-----------------------------------------------------\n",
            "   CSP      IIR  -0.0323 0.7898 -0.1589 0.0944  False\n",
            "   CSP Spectral   0.0409 0.6938 -0.0858 0.1675  False\n",
            "   IIR Spectral   0.0731 0.3402 -0.0535 0.1998  False\n",
            "-----------------------------------------------------\n",
            "******************************\n",
            "\n",
            "How well is PD classified in different features for E4 data?\n",
            "\n",
            "---------- Spectral ----------\n",
            "[[0.97167355 0.02832645]\n",
            " [0.01655647 0.98344353]] \n",
            "\n",
            "---------- CSP ----------\n",
            "[[0.93081933 0.06918067]\n",
            " [0.08152204 0.91847796]] \n",
            "\n",
            "---------- IIR ----------\n",
            "[[0.89856352 0.10143648]\n",
            " [0.02592593 0.97407407]] \n",
            "\n",
            "\n",
            "--- One way Anova ---\n",
            "               sum_sq    df         F    PR(>F)\n",
            "C(Features)  0.030909   2.0  2.075606  0.134862\n",
            "Residual     0.424411  57.0       NaN       NaN\n",
            "\n",
            "--- Tukey HSD ----\n",
            " Multiple Comparison of Means - Tukey HSD, FWER=0.05 \n",
            "=====================================================\n",
            "group1  group2  meandiff p-adj   lower  upper  reject\n",
            "-----------------------------------------------------\n",
            "   CSP      IIR   0.0117 0.8997  -0.054 0.0773  False\n",
            "   CSP Spectral   0.0529 0.1371 -0.0128 0.1186  False\n",
            "   IIR Spectral   0.0412 0.2937 -0.0244 0.1069  False\n",
            "-----------------------------------------------------\n",
            "******************************\n",
            "********** E5 **********\n",
            "\n",
            "How well is NC classified in different features for E5 data?\n",
            "\n",
            "---------- Spectral ----------\n",
            "[[0.92276129 0.07723871]\n",
            " [0.08594283 0.91405717]] \n",
            "\n",
            "---------- CSP ----------\n",
            "[[0.91624516 0.08375484]\n",
            " [0.04546289 0.95453711]] \n",
            "\n",
            "---------- IIR ----------\n",
            "[[0.93090234 0.06909766]\n",
            " [0.05019305 0.94980695]] \n",
            "\n",
            "\n",
            "--- One way Anova ---\n",
            "               sum_sq    df         F    PR(>F)\n",
            "C(Features)  0.001079   2.0  0.040719  0.960157\n",
            "Residual     0.357584  27.0       NaN       NaN\n",
            "\n",
            "--- Tukey HSD ----\n",
            "Multiple Comparison of Means - Tukey HSD, FWER=0.05 \n",
            "====================================================\n",
            "group1  group2  meandiff p-adj  lower  upper  reject\n",
            "----------------------------------------------------\n",
            "   CSP      IIR   0.0147   0.9 -0.1129 0.1422  False\n",
            "   CSP Spectral   0.0065   0.9 -0.1211 0.1341  False\n",
            "   IIR Spectral  -0.0081   0.9 -0.1357 0.1194  False\n",
            "----------------------------------------------------\n",
            "******************************\n",
            "\n",
            "How well is PD classified in different features for E5 data?\n",
            "\n",
            "---------- Spectral ----------\n",
            "[[0.92276129 0.07723871]\n",
            " [0.08594283 0.91405717]] \n",
            "\n",
            "---------- CSP ----------\n",
            "[[0.91624516 0.08375484]\n",
            " [0.04546289 0.95453711]] \n",
            "\n",
            "---------- IIR ----------\n",
            "[[0.93090234 0.06909766]\n",
            " [0.05019305 0.94980695]] \n",
            "\n",
            "\n",
            "--- One way Anova ---\n",
            "               sum_sq    df         F    PR(>F)\n",
            "C(Features)  0.005297   2.0  0.320199  0.727302\n",
            "Residual     0.471514  57.0       NaN       NaN\n",
            "\n",
            "--- Tukey HSD ----\n",
            " Multiple Comparison of Means - Tukey HSD, FWER=0.05 \n",
            "=====================================================\n",
            "group1  group2  meandiff p-adj   lower  upper  reject\n",
            "-----------------------------------------------------\n",
            "   CSP      IIR    0.005    0.9 -0.0642 0.0742  False\n",
            "   CSP Spectral   -0.017 0.8073 -0.0862 0.0522  False\n",
            "   IIR Spectral  -0.0219 0.7094 -0.0912 0.0473  False\n",
            "-----------------------------------------------------\n",
            "******************************\n",
            "********** E6 **********\n",
            "\n",
            "How well is NC classified in different features for E6 data?\n",
            "\n",
            "---------- Spectral ----------\n",
            "[[0.93172698 0.06827302]\n",
            " [0.09846894 0.90153106]] \n",
            "\n",
            "---------- CSP ----------\n",
            "[[0.93617231 0.06382769]\n",
            " [0.0564     0.9436    ]] \n",
            "\n",
            "---------- IIR ----------\n",
            "[[0.90803571 0.09196429]\n",
            " [0.14035864 0.85964136]] \n",
            "\n",
            "\n",
            "--- One way Anova ---\n",
            "               sum_sq    df         F    PR(>F)\n",
            "C(Features)  0.004576   2.0  0.114958  0.891837\n",
            "Residual     0.537341  27.0       NaN       NaN\n",
            "\n",
            "--- Tukey HSD ----\n",
            " Multiple Comparison of Means - Tukey HSD, FWER=0.05 \n",
            "=====================================================\n",
            "group1  group2  meandiff p-adj   lower  upper  reject\n",
            "-----------------------------------------------------\n",
            "   CSP      IIR  -0.0281 0.8956 -0.1845 0.1283  False\n",
            "   CSP Spectral  -0.0044    0.9 -0.1608  0.152  False\n",
            "   IIR Spectral   0.0237    0.9 -0.1327 0.1801  False\n",
            "-----------------------------------------------------\n",
            "******************************\n",
            "\n",
            "How well is PD classified in different features for E6 data?\n",
            "\n",
            "---------- Spectral ----------\n",
            "[[0.93172698 0.06827302]\n",
            " [0.09846894 0.90153106]] \n",
            "\n",
            "---------- CSP ----------\n",
            "[[0.93617231 0.06382769]\n",
            " [0.0564     0.9436    ]] \n",
            "\n",
            "---------- IIR ----------\n",
            "[[0.90803571 0.09196429]\n",
            " [0.14035864 0.85964136]] \n",
            "\n",
            "\n",
            "--- One way Anova ---\n",
            "               sum_sq    df         F    PR(>F)\n",
            "C(Features)  0.031716   2.0  0.703399  0.499145\n",
            "Residual     1.285067  57.0       NaN       NaN\n",
            "\n",
            "--- Tukey HSD ----\n",
            " Multiple Comparison of Means - Tukey HSD, FWER=0.05 \n",
            "=====================================================\n",
            "group1  group2  meandiff p-adj   lower  upper  reject\n",
            "-----------------------------------------------------\n",
            "   CSP      IIR   -0.056 0.4714 -0.1703 0.0582  False\n",
            "   CSP Spectral  -0.0233 0.8645 -0.1375  0.091  False\n",
            "   IIR Spectral   0.0328 0.7505 -0.0815  0.147  False\n",
            "-----------------------------------------------------\n",
            "******************************\n"
          ],
          "name": "stdout"
        }
      ]
    },
    {
      "cell_type": "code",
      "metadata": {
        "colab": {
          "base_uri": "https://localhost:8080/"
        },
        "id": "2uOHBVjScJYH",
        "outputId": "a7052eb0-32c1-47d0-e492-8ac0d08e70af"
      },
      "source": [
        "# How well are PD and NC classified on different data?\n",
        "\n",
        "features = [\"Spectral\", \"CSP\", \"IIR\"]\n",
        "emotions = [\"E1\", \"E2\", \"E3\", \"E4\", \"E5\", \"E6\"]\n",
        "for k in features:\n",
        "  print(10*\"*\", k, 10*\"*\")\n",
        "  oneD_conf_df = pd.DataFrame()\n",
        "  data = [\"NC\", \"PD\"]\n",
        "  emotions = [\"E1\", \"E2\", \"E3\", \"E4\", \"E5\", \"E6\"]\n",
        "  l = 0\n",
        "  for i in data:\n",
        "    print(\"\\nHow well is\", i, \"classified in different data for\", k, \"features?\\n\")\n",
        "    for emot in emotions:\n",
        "      print(10*\"-\", emot, 10*\"-\")\n",
        "      oneD_conf = get_metric('/content/drive/MyDrive/EEG_Analysis_PD_NC/Results/1D_CNN_Results/'+str(k)+'/CNN_1D_results_PDNC_'+str(k)+'_'+str(emot)+'.mat', 'conf_mat_list')\n",
        "      print(np.mean(oneD_conf, axis=0), '\\n')\n",
        "      data_df = pd.DataFrame({'Accuracy': [i[l][l] for i in oneD_conf],'Emotions': len(oneD_conf)*[str(emot)]})\n",
        "      oneD_conf_df = oneD_conf_df.append(data_df, ignore_index=True)\n",
        "\n",
        "    print('\\n--- One way Anova ---')\n",
        "\n",
        "    oneD_formula = 'Accuracy ~ C(Emotions)'\n",
        "    oneD_model = ols(oneD_formula, oneD_conf_df).fit()\n",
        "    oneD_aov_table = anova_lm(oneD_model, typ=2)\n",
        "    print(oneD_aov_table)\n",
        "\n",
        "    print('\\n--- Tukey HSD ----')\n",
        "    # Tukey HSD test\n",
        "\n",
        "    oneD_mc = MultiComparison(oneD_conf_df['Accuracy'], oneD_conf_df['Emotions'])\n",
        "    print(oneD_mc.tukeyhsd())\n",
        "    l = l+1\n",
        "    print(30*\"*\")\n"
      ],
      "execution_count": null,
      "outputs": [
        {
          "output_type": "stream",
          "text": [
            "********** Spectral **********\n",
            "\n",
            "How well is NC classified in different data for Spectral features?\n",
            "\n",
            "---------- E1 ----------\n",
            "[[0.9785124  0.0214876 ]\n",
            " [0.04583333 0.95416667]] \n",
            "\n",
            "---------- E2 ----------\n",
            "[[0.92712573 0.07287427]\n",
            " [0.09606299 0.90393701]] \n",
            "\n",
            "---------- E3 ----------\n",
            "[[0.965     0.035    ]\n",
            " [0.0432438 0.9567562]] \n",
            "\n",
            "---------- E4 ----------\n",
            "[[0.97167355 0.02832645]\n",
            " [0.01655647 0.98344353]] \n",
            "\n",
            "---------- E5 ----------\n",
            "[[0.92276129 0.07723871]\n",
            " [0.08594283 0.91405717]] \n",
            "\n",
            "---------- E6 ----------\n",
            "[[0.93172698 0.06827302]\n",
            " [0.09846894 0.90153106]] \n",
            "\n",
            "\n",
            "--- One way Anova ---\n",
            "               sum_sq    df         F    PR(>F)\n",
            "C(Emotions)  0.031051   5.0  0.961579  0.449524\n",
            "Residual     0.348747  54.0       NaN       NaN\n",
            "\n",
            "--- Tukey HSD ----\n",
            "Multiple Comparison of Means - Tukey HSD, FWER=0.05\n",
            "===================================================\n",
            "group1 group2 meandiff p-adj   lower  upper  reject\n",
            "---------------------------------------------------\n",
            "    E1     E2  -0.0514 0.6849 -0.1576 0.0548  False\n",
            "    E1     E3  -0.0135    0.9 -0.1197 0.0927  False\n",
            "    E1     E4  -0.0068    0.9  -0.113 0.0993  False\n",
            "    E1     E5  -0.0558 0.6166 -0.1619 0.0504  False\n",
            "    E1     E6  -0.0468  0.757  -0.153 0.0594  False\n",
            "    E2     E3   0.0379 0.8965 -0.0683 0.1441  False\n",
            "    E2     E4   0.0445  0.792 -0.0616 0.1507  False\n",
            "    E2     E5  -0.0044    0.9 -0.1105 0.1018  False\n",
            "    E2     E6   0.0046    0.9 -0.1016 0.1108  False\n",
            "    E3     E4   0.0067    0.9 -0.0995 0.1129  False\n",
            "    E3     E5  -0.0422 0.8282 -0.1484 0.0639  False\n",
            "    E3     E6  -0.0333    0.9 -0.1395 0.0729  False\n",
            "    E4     E5  -0.0489 0.7237 -0.1551 0.0573  False\n",
            "    E4     E6  -0.0399 0.8641 -0.1461 0.0662  False\n",
            "    E5     E6    0.009    0.9 -0.0972 0.1151  False\n",
            "---------------------------------------------------\n",
            "******************************\n",
            "\n",
            "How well is PD classified in different data for Spectral features?\n",
            "\n",
            "---------- E1 ----------\n",
            "[[0.9785124  0.0214876 ]\n",
            " [0.04583333 0.95416667]] \n",
            "\n",
            "---------- E2 ----------\n",
            "[[0.92712573 0.07287427]\n",
            " [0.09606299 0.90393701]] \n",
            "\n",
            "---------- E3 ----------\n",
            "[[0.965     0.035    ]\n",
            " [0.0432438 0.9567562]] \n",
            "\n",
            "---------- E4 ----------\n",
            "[[0.97167355 0.02832645]\n",
            " [0.01655647 0.98344353]] \n",
            "\n",
            "---------- E5 ----------\n",
            "[[0.92276129 0.07723871]\n",
            " [0.08594283 0.91405717]] \n",
            "\n",
            "---------- E6 ----------\n",
            "[[0.93172698 0.06827302]\n",
            " [0.09846894 0.90153106]] \n",
            "\n",
            "\n",
            "--- One way Anova ---\n",
            "               sum_sq     df         F    PR(>F)\n",
            "C(Emotions)  0.082243    5.0  2.343076  0.045808\n",
            "Residual     0.800288  114.0       NaN       NaN\n",
            "\n",
            "--- Tukey HSD ----\n",
            "Multiple Comparison of Means - Tukey HSD, FWER=0.05\n",
            "===================================================\n",
            "group1 group2 meandiff p-adj   lower  upper  reject\n",
            "---------------------------------------------------\n",
            "    E1     E2  -0.0508 0.3985 -0.1276  0.026  False\n",
            "    E1     E3  -0.0055    0.9 -0.0823 0.0713  False\n",
            "    E1     E4   0.0112    0.9 -0.0656  0.088  False\n",
            "    E1     E5  -0.0479 0.4655 -0.1247 0.0289  False\n",
            "    E1     E6  -0.0497  0.424 -0.1265 0.0271  False\n",
            "    E2     E3   0.0453 0.5232 -0.0315 0.1222  False\n",
            "    E2     E4    0.062 0.1864 -0.0148 0.1388  False\n",
            "    E2     E5   0.0029    0.9 -0.0739 0.0797  False\n",
            "    E2     E6   0.0011    0.9 -0.0757 0.0779  False\n",
            "    E3     E4   0.0167    0.9 -0.0601 0.0935  False\n",
            "    E3     E5  -0.0425 0.5852 -0.1193 0.0343  False\n",
            "    E3     E6  -0.0442 0.5469 -0.1211 0.0326  False\n",
            "    E4     E5  -0.0591 0.2313  -0.136 0.0177  False\n",
            "    E4     E6  -0.0609 0.2027 -0.1377 0.0159  False\n",
            "    E5     E6  -0.0018    0.9 -0.0786  0.075  False\n",
            "---------------------------------------------------\n",
            "******************************\n",
            "********** CSP **********\n",
            "\n",
            "How well is NC classified in different data for CSP features?\n",
            "\n",
            "---------- E1 ----------\n",
            "[[0.92090909 0.07909091]\n",
            " [0.03190476 0.96809524]] \n",
            "\n",
            "---------- E2 ----------\n",
            "[[0.93564444 0.06435556]\n",
            " [0.10575484 0.89424516]] \n",
            "\n",
            "---------- E3 ----------\n",
            "[[0.94156815 0.05843185]\n",
            " [0.04381142 0.95618858]] \n",
            "\n",
            "---------- E4 ----------\n",
            "[[0.93081933 0.06918067]\n",
            " [0.08152204 0.91847796]] \n",
            "\n",
            "---------- E5 ----------\n",
            "[[0.91624516 0.08375484]\n",
            " [0.04546289 0.95453711]] \n",
            "\n",
            "---------- E6 ----------\n",
            "[[0.93617231 0.06382769]\n",
            " [0.0564     0.9436    ]] \n",
            "\n",
            "\n",
            "--- One way Anova ---\n",
            "               sum_sq    df         F    PR(>F)\n",
            "C(Emotions)  0.004760   5.0  0.625819  0.680721\n",
            "Residual     0.082142  54.0       NaN       NaN\n",
            "\n",
            "--- Tukey HSD ----\n",
            "Multiple Comparison of Means - Tukey HSD, FWER=0.05\n",
            "===================================================\n",
            "group1 group2 meandiff p-adj   lower  upper  reject\n",
            "---------------------------------------------------\n",
            "    E1     E2   0.0147    0.9 -0.0368 0.0663  False\n",
            "    E1     E3   0.0207  0.823 -0.0309 0.0722  False\n",
            "    E1     E4   0.0099    0.9 -0.0416 0.0614  False\n",
            "    E1     E5  -0.0047    0.9 -0.0562 0.0469  False\n",
            "    E1     E6   0.0153    0.9 -0.0363 0.0668  False\n",
            "    E2     E3   0.0059    0.9 -0.0456 0.0575  False\n",
            "    E2     E4  -0.0048    0.9 -0.0564 0.0467  False\n",
            "    E2     E5  -0.0194 0.8637 -0.0709 0.0321  False\n",
            "    E2     E6   0.0005    0.9  -0.051 0.0521  False\n",
            "    E3     E4  -0.0107    0.9 -0.0623 0.0408  False\n",
            "    E3     E5  -0.0253 0.6725 -0.0769 0.0262  False\n",
            "    E3     E6  -0.0054    0.9 -0.0569 0.0461  False\n",
            "    E4     E5  -0.0146    0.9 -0.0661  0.037  False\n",
            "    E4     E6   0.0054    0.9 -0.0462 0.0569  False\n",
            "    E5     E6   0.0199 0.8466 -0.0316 0.0715  False\n",
            "---------------------------------------------------\n",
            "******************************\n",
            "\n",
            "How well is PD classified in different data for CSP features?\n",
            "\n",
            "---------- E1 ----------\n",
            "[[0.92090909 0.07909091]\n",
            " [0.03190476 0.96809524]] \n",
            "\n",
            "---------- E2 ----------\n",
            "[[0.93564444 0.06435556]\n",
            " [0.10575484 0.89424516]] \n",
            "\n",
            "---------- E3 ----------\n",
            "[[0.94156815 0.05843185]\n",
            " [0.04381142 0.95618858]] \n",
            "\n",
            "---------- E4 ----------\n",
            "[[0.93081933 0.06918067]\n",
            " [0.08152204 0.91847796]] \n",
            "\n",
            "---------- E5 ----------\n",
            "[[0.91624516 0.08375484]\n",
            " [0.04546289 0.95453711]] \n",
            "\n",
            "---------- E6 ----------\n",
            "[[0.93617231 0.06382769]\n",
            " [0.0564     0.9436    ]] \n",
            "\n",
            "\n",
            "--- One way Anova ---\n",
            "               sum_sq     df        F    PR(>F)\n",
            "C(Emotions)  0.016316    5.0  1.86674  0.105608\n",
            "Residual     0.199275  114.0      NaN       NaN\n",
            "\n",
            "--- Tukey HSD ----\n",
            "Multiple Comparison of Means - Tukey HSD, FWER=0.05\n",
            "===================================================\n",
            "group1 group2 meandiff p-adj   lower  upper  reject\n",
            "---------------------------------------------------\n",
            "    E1     E2  -0.0296 0.2299 -0.0679 0.0088  False\n",
            "    E1     E3   0.0044    0.9 -0.0339 0.0427  False\n",
            "    E1     E4  -0.0199 0.6429 -0.0582 0.0185  False\n",
            "    E1     E5  -0.0091    0.9 -0.0474 0.0292  False\n",
            "    E1     E6  -0.0046    0.9 -0.0429 0.0337  False\n",
            "    E2     E3   0.0339 0.1144 -0.0044 0.0723  False\n",
            "    E2     E4   0.0097    0.9 -0.0286  0.048  False\n",
            "    E2     E5   0.0204 0.6173 -0.0179 0.0588  False\n",
            "    E2     E6   0.0249 0.4176 -0.0134 0.0633  False\n",
            "    E3     E4  -0.0242  0.451 -0.0626 0.0141  False\n",
            "    E3     E5  -0.0135    0.9 -0.0518 0.0248  False\n",
            "    E3     E6   -0.009    0.9 -0.0473 0.0293  False\n",
            "    E4     E5   0.0107    0.9 -0.0276 0.0491  False\n",
            "    E4     E6   0.0152  0.842 -0.0231 0.0536  False\n",
            "    E5     E6   0.0045    0.9 -0.0338 0.0428  False\n",
            "---------------------------------------------------\n",
            "******************************\n",
            "********** IIR **********\n",
            "\n",
            "How well is NC classified in different data for IIR features?\n",
            "\n",
            "---------- E1 ----------\n",
            "[[0.94545532 0.05454468]\n",
            " [0.02242991 0.97757009]] \n",
            "\n",
            "---------- E2 ----------\n",
            "[[0.97631579 0.02368421]\n",
            " [0.07876896 0.92123104]] \n",
            "\n",
            "---------- E3 ----------\n",
            "[[0.85000882 0.14999118]\n",
            " [0.04676424 0.95323576]] \n",
            "\n",
            "---------- E4 ----------\n",
            "[[0.89856352 0.10143648]\n",
            " [0.02592593 0.97407407]] \n",
            "\n",
            "---------- E5 ----------\n",
            "[[0.93090234 0.06909766]\n",
            " [0.05019305 0.94980695]] \n",
            "\n",
            "---------- E6 ----------\n",
            "[[0.90803571 0.09196429]\n",
            " [0.14035864 0.85964136]] \n",
            "\n",
            "\n",
            "--- One way Anova ---\n",
            "               sum_sq    df         F    PR(>F)\n",
            "C(Emotions)  0.094206   5.0  0.518919  0.760823\n",
            "Residual     1.960659  54.0       NaN       NaN\n",
            "\n",
            "--- Tukey HSD ----\n",
            "Multiple Comparison of Means - Tukey HSD, FWER=0.05\n",
            "===================================================\n",
            "group1 group2 meandiff p-adj   lower  upper  reject\n",
            "---------------------------------------------------\n",
            "    E1     E2   0.0309    0.9 -0.2209 0.2826  False\n",
            "    E1     E3  -0.0954 0.8592 -0.3472 0.1563  False\n",
            "    E1     E4  -0.0469    0.9 -0.2987 0.2049  False\n",
            "    E1     E5  -0.0146    0.9 -0.2663 0.2372  False\n",
            "    E1     E6  -0.0374    0.9 -0.2892 0.2143  False\n",
            "    E2     E3  -0.1263 0.6555 -0.3781 0.1255  False\n",
            "    E2     E4  -0.0778    0.9 -0.3295  0.174  False\n",
            "    E2     E5  -0.0454    0.9 -0.2972 0.2064  False\n",
            "    E2     E6  -0.0683    0.9   -0.32 0.1835  False\n",
            "    E3     E4   0.0486    0.9 -0.2032 0.3003  False\n",
            "    E3     E5   0.0809    0.9 -0.1709 0.3327  False\n",
            "    E3     E6    0.058    0.9 -0.1937 0.3098  False\n",
            "    E4     E5   0.0323    0.9 -0.2194 0.2841  False\n",
            "    E4     E6   0.0095    0.9 -0.2423 0.2612  False\n",
            "    E5     E6  -0.0229    0.9 -0.2746 0.2289  False\n",
            "---------------------------------------------------\n",
            "******************************\n",
            "\n",
            "How well is PD classified in different data for IIR features?\n",
            "\n",
            "---------- E1 ----------\n",
            "[[0.94545532 0.05454468]\n",
            " [0.02242991 0.97757009]] \n",
            "\n",
            "---------- E2 ----------\n",
            "[[0.97631579 0.02368421]\n",
            " [0.07876896 0.92123104]] \n",
            "\n",
            "---------- E3 ----------\n",
            "[[0.85000882 0.14999118]\n",
            " [0.04676424 0.95323576]] \n",
            "\n",
            "---------- E4 ----------\n",
            "[[0.89856352 0.10143648]\n",
            " [0.02592593 0.97407407]] \n",
            "\n",
            "---------- E5 ----------\n",
            "[[0.93090234 0.06909766]\n",
            " [0.05019305 0.94980695]] \n",
            "\n",
            "---------- E6 ----------\n",
            "[[0.90803571 0.09196429]\n",
            " [0.14035864 0.85964136]] \n",
            "\n",
            "\n",
            "--- One way Anova ---\n",
            "               sum_sq     df         F    PR(>F)\n",
            "C(Emotions)  0.088385    5.0  0.656798  0.656927\n",
            "Residual     3.068179  114.0       NaN       NaN\n",
            "\n",
            "--- Tukey HSD ----\n",
            "Multiple Comparison of Means - Tukey HSD, FWER=0.05\n",
            "===================================================\n",
            "group1 group2 meandiff p-adj   lower  upper  reject\n",
            "---------------------------------------------------\n",
            "    E1     E2  -0.0127    0.9 -0.1631 0.1376  False\n",
            "    E1     E3  -0.0599 0.8409 -0.2103 0.0905  False\n",
            "    E1     E4  -0.0252    0.9 -0.1756 0.1252  False\n",
            "    E1     E5  -0.0212    0.9 -0.1715 0.1292  False\n",
            "    E1     E6  -0.0777 0.6454 -0.2281 0.0727  False\n",
            "    E2     E3  -0.0472    0.9 -0.1975 0.1032  False\n",
            "    E2     E4  -0.0125    0.9 -0.1628 0.1379  False\n",
            "    E2     E5  -0.0084    0.9 -0.1588  0.142  False\n",
            "    E2     E6  -0.0649 0.7854 -0.2153 0.0854  False\n",
            "    E3     E4   0.0347    0.9 -0.1157 0.1851  False\n",
            "    E3     E5   0.0387    0.9 -0.1117 0.1891  False\n",
            "    E3     E6  -0.0178    0.9 -0.1682 0.1326  False\n",
            "    E4     E5    0.004    0.9 -0.1463 0.1544  False\n",
            "    E4     E6  -0.0525    0.9 -0.2029 0.0979  False\n",
            "    E5     E6  -0.0565  0.878 -0.2069 0.0939  False\n",
            "---------------------------------------------------\n",
            "******************************\n"
          ],
          "name": "stdout"
        }
      ]
    },
    {
      "cell_type": "markdown",
      "metadata": {
        "id": "PSxUz9CGgcxw"
      },
      "source": [
        "## HV vs LV"
      ]
    },
    {
      "cell_type": "code",
      "metadata": {
        "colab": {
          "base_uri": "https://localhost:8080/"
        },
        "id": "mRt2hwE1ghCk",
        "outputId": "14993258-1805-492a-d216-9ada488a98c5"
      },
      "source": [
        "# Create a DataFrame\n",
        "oneD_hvlv_df = pd.DataFrame()\n",
        "Data = [\"Full\", \"PD\", \"NC\"]\n",
        "features = [\"Spectral\", \"CSP\", \"IIR\"]\n",
        "for i in features:\n",
        "  for j in Data:\n",
        "    oneD_hvlv_f1 = get_metric('/content/drive/MyDrive/EEG_Analysis_PD_NC/Results/1D_CNN_Results/'+str(i)+'/CNN_1D_results_HVLV_'+str(i)+'_'+str(j)+'.mat', 'f1_weightedNet')\n",
        "    data_df = pd.DataFrame({'f1_weightedNet': oneD_hvlv_f1[0],'Features': len(oneD_hvlv_f1[0])*[str(i)], 'Data': len(oneD_hvlv_f1[0])*[str(j)]})\n",
        "    oneD_hvlv_df = oneD_hvlv_df.append(data_df, ignore_index=True)\n",
        "\n",
        "print(oneD_hvlv_df)"
      ],
      "execution_count": null,
      "outputs": [
        {
          "output_type": "stream",
          "text": [
            "    f1_weightedNet  Features  Data\n",
            "0         0.750797  Spectral  Full\n",
            "1         0.788473  Spectral  Full\n",
            "2         0.828239  Spectral  Full\n",
            "3         0.819656  Spectral  Full\n",
            "4         0.872778  Spectral  Full\n",
            "..             ...       ...   ...\n",
            "85        0.962180       IIR    NC\n",
            "86        0.933173       IIR    NC\n",
            "87        0.963344       IIR    NC\n",
            "88        0.961745       IIR    NC\n",
            "89        0.958404       IIR    NC\n",
            "\n",
            "[90 rows x 3 columns]\n"
          ],
          "name": "stdout"
        }
      ]
    },
    {
      "cell_type": "code",
      "metadata": {
        "colab": {
          "base_uri": "https://localhost:8080/"
        },
        "id": "EYuVtF3ohzfu",
        "outputId": "81f5f619-950b-47f5-b688-1d9495602fd9"
      },
      "source": [
        "# FULL DATA\n",
        "# One-way ANOVA using statsmodel api\n",
        "\n",
        "oneD_hvlv_full_formula = 'f1_weightedNet ~ C(Features)'\n",
        "oneD_hvlv_full_model = ols(oneD_hvlv_full_formula, oneD_hvlv_df[oneD_hvlv_df['Data']=='Full']).fit()\n",
        "oneD_hvlv_aov_table = anova_lm(oneD_hvlv_full_model, typ=2)\n",
        "print(oneD_hvlv_aov_table)"
      ],
      "execution_count": null,
      "outputs": [
        {
          "output_type": "stream",
          "text": [
            "               sum_sq    df         F   PR(>F)\n",
            "C(Features)  0.021014   2.0  1.833908  0.17914\n",
            "Residual     0.154688  27.0       NaN      NaN\n"
          ],
          "name": "stdout"
        }
      ]
    },
    {
      "cell_type": "code",
      "metadata": {
        "colab": {
          "base_uri": "https://localhost:8080/"
        },
        "id": "jiDAuirvjowQ",
        "outputId": "af484aa6-665f-4ed3-a643-212bda136b2f"
      },
      "source": [
        "# Comparison of means using Tukey HSD\n",
        "\n",
        "oneD_hvlv_full_mc = MultiComparison(oneD_hvlv_df[oneD_hvlv_df['Data']=='Full']['f1_weightedNet'], oneD_hvlv_df[oneD_hvlv_df['Data']=='Full']['Features'])\n",
        "print(oneD_hvlv_full_mc.tukeyhsd())"
      ],
      "execution_count": null,
      "outputs": [
        {
          "output_type": "stream",
          "text": [
            " Multiple Comparison of Means - Tukey HSD, FWER=0.05 \n",
            "=====================================================\n",
            "group1  group2  meandiff p-adj   lower  upper  reject\n",
            "-----------------------------------------------------\n",
            "   CSP      IIR   0.0647 0.1546 -0.0192 0.1486  False\n",
            "   CSP Spectral   0.0354 0.5539 -0.0486 0.1193  False\n",
            "   IIR Spectral  -0.0294 0.6549 -0.1133 0.0545  False\n",
            "-----------------------------------------------------\n"
          ],
          "name": "stdout"
        }
      ]
    },
    {
      "cell_type": "code",
      "metadata": {
        "colab": {
          "base_uri": "https://localhost:8080/"
        },
        "id": "G7QZdZdAoI1j",
        "outputId": "47a08260-24c6-407b-ca11-c2c9f87b535f"
      },
      "source": [
        "# PD DATA\n",
        "\n",
        "# One-way ANOVA using statsmodel api\n",
        "\n",
        "oneD_hvlv_pd_formula = 'f1_weightedNet ~ C(Features)'\n",
        "oneD_hvlv_pd_model = ols(oneD_hvlv_pd_formula, oneD_hvlv_df[oneD_hvlv_df['Data']=='PD']).fit()\n",
        "oneD_hvlv_pd_aov_table = anova_lm(oneD_hvlv_pd_model, typ=2)\n",
        "print(oneD_hvlv_pd_aov_table)"
      ],
      "execution_count": null,
      "outputs": [
        {
          "output_type": "stream",
          "text": [
            "               sum_sq    df         F    PR(>F)\n",
            "C(Features)  0.057938   2.0  1.996803  0.155324\n",
            "Residual     0.391710  27.0       NaN       NaN\n"
          ],
          "name": "stdout"
        }
      ]
    },
    {
      "cell_type": "code",
      "metadata": {
        "colab": {
          "base_uri": "https://localhost:8080/"
        },
        "id": "IrC-MlLvo-VT",
        "outputId": "1a777f32-82d9-415b-cdbc-947fbf67b499"
      },
      "source": [
        "# Comparison of means using Tukey HSD for PD data\n",
        "\n",
        "oneD_hvlv_pd_mc = MultiComparison(oneD_hvlv_df[oneD_hvlv_df['Data']=='PD']['f1_weightedNet'], oneD_hvlv_df[oneD_hvlv_df['Data']=='PD']['Features'])\n",
        "print(oneD_hvlv_pd_mc.tukeyhsd())"
      ],
      "execution_count": null,
      "outputs": [
        {
          "output_type": "stream",
          "text": [
            " Multiple Comparison of Means - Tukey HSD, FWER=0.05 \n",
            "=====================================================\n",
            "group1  group2  meandiff p-adj   lower  upper  reject\n",
            "-----------------------------------------------------\n",
            "   CSP      IIR  -0.1056 0.1415 -0.2391 0.0279  False\n",
            "   CSP Spectral  -0.0347 0.7824 -0.1682 0.0988  False\n",
            "   IIR Spectral   0.0709 0.4001 -0.0626 0.2044  False\n",
            "-----------------------------------------------------\n"
          ],
          "name": "stdout"
        }
      ]
    },
    {
      "cell_type": "code",
      "metadata": {
        "colab": {
          "base_uri": "https://localhost:8080/"
        },
        "id": "Cm259nSVpTuz",
        "outputId": "154a6032-f81a-46f2-e155-feba8603a716"
      },
      "source": [
        "# NC DATA\n",
        "\n",
        "# One-way ANOVA using statsmodel api\n",
        "\n",
        "oneD_hvlv_nc_formula = 'f1_weightedNet ~ C(Features)'\n",
        "oneD_hvlv_nc_model = ols(oneD_hvlv_nc_formula, oneD_hvlv_df[oneD_hvlv_df['Data']=='NC']).fit()\n",
        "oneD_hvlv_nc_aov_table = anova_lm(oneD_hvlv_nc_model, typ=2)\n",
        "print(oneD_hvlv_nc_aov_table)"
      ],
      "execution_count": null,
      "outputs": [
        {
          "output_type": "stream",
          "text": [
            "               sum_sq    df         F    PR(>F)\n",
            "C(Features)  0.012883   2.0  0.883984  0.424754\n",
            "Residual     0.196740  27.0       NaN       NaN\n"
          ],
          "name": "stdout"
        }
      ]
    },
    {
      "cell_type": "code",
      "metadata": {
        "colab": {
          "base_uri": "https://localhost:8080/"
        },
        "id": "AnWR7eubpg3S",
        "outputId": "9212cb74-8fae-4d0d-80ec-9367463e20c0"
      },
      "source": [
        "# Comparison of means using Tukey HSD for NC data\n",
        "\n",
        "oneD_hvlv_nc_mc = MultiComparison(oneD_hvlv_df[oneD_hvlv_df['Data']=='NC']['f1_weightedNet'], oneD_hvlv_df[oneD_hvlv_df['Data']=='NC']['Features'])\n",
        "print(oneD_hvlv_nc_mc.tukeyhsd())"
      ],
      "execution_count": null,
      "outputs": [
        {
          "output_type": "stream",
          "text": [
            " Multiple Comparison of Means - Tukey HSD, FWER=0.05 \n",
            "=====================================================\n",
            "group1  group2  meandiff p-adj   lower  upper  reject\n",
            "-----------------------------------------------------\n",
            "   CSP      IIR   0.0144    0.9 -0.0803  0.109  False\n",
            "   CSP Spectral   -0.035 0.6271 -0.1296 0.0596  False\n",
            "   IIR Spectral  -0.0493  0.413  -0.144 0.0453  False\n",
            "-----------------------------------------------------\n"
          ],
          "name": "stdout"
        }
      ]
    },
    {
      "cell_type": "code",
      "metadata": {
        "colab": {
          "base_uri": "https://localhost:8080/"
        },
        "id": "XkiRte93qj-N",
        "outputId": "c1667b55-07da-4ac9-9f53-ca548083bb50"
      },
      "source": [
        "# Two-way ANOVA using statsmodel api for PD and NC data\n",
        "\n",
        "oneD_hvlv_formula = 'f1_weightedNet ~ C(Features)+C(Data)+C(Features):C(Data)'\n",
        "oneD_hvlv_model = ols(oneD_hvlv_formula, oneD_hvlv_df[oneD_hvlv_df['Data'].isin(['PD', 'NC'])]).fit()\n",
        "oneD_hvlv_aov_table = anova_lm(oneD_hvlv_model, typ=2)\n",
        "print(oneD_hvlv_aov_table)"
      ],
      "execution_count": null,
      "outputs": [
        {
          "output_type": "stream",
          "text": [
            "                       sum_sq    df         F    PR(>F)\n",
            "C(Features)          0.022743   2.0  1.043544  0.359197\n",
            "C(Data)              0.059050   1.0  5.418796  0.023698\n",
            "C(Features):C(Data)  0.048077   2.0  2.205950  0.119976\n",
            "Residual             0.588450  54.0       NaN       NaN\n"
          ],
          "name": "stdout"
        }
      ]
    },
    {
      "cell_type": "code",
      "metadata": {
        "colab": {
          "base_uri": "https://localhost:8080/"
        },
        "id": "7Ly9lfRnqw2R",
        "outputId": "d4b10dfd-224f-43e5-c617-9a06a82da390"
      },
      "source": [
        "# T-test for individual features\n",
        "\n",
        "features = [\"Spectral\", \"CSP\", \"IIR\"]\n",
        "dummy_df = oneD_hvlv_df[oneD_hvlv_df['Data'].isin(['PD', 'NC'])]\n",
        "for i in features:\n",
        "  print(\"-----\", i, \"-----\")\n",
        "  dummy_df_2 = dummy_df[dummy_df['Features']==i]\n",
        "  d1=(dummy_df_2[dummy_df_2['Data']=='PD'])\n",
        "  d2=(dummy_df_2[dummy_df_2['Data']=='NC'])\n",
        "\n",
        "  stat, p = ttest_ind(d1['f1_weightedNet'].to_numpy(), d2['f1_weightedNet'].to_numpy(),equal_var=False)\n",
        "  print('stat=%.3f, p=%.3f' % (stat, p))\n",
        "  if p > 0.05:\n",
        "\t  print('Probably the same distribution')\n",
        "  else:\n",
        "\t  print('Probably different distributions')\n",
        "  print('\\n')"
      ],
      "execution_count": null,
      "outputs": [
        {
          "output_type": "stream",
          "text": [
            "----- Spectral -----\n",
            "stat=-0.548, p=0.591\n",
            "Probably the same distribution\n",
            "\n",
            "\n",
            "----- CSP -----\n",
            "stat=-1.544, p=0.141\n",
            "Probably the same distribution\n",
            "\n",
            "\n",
            "----- IIR -----\n",
            "stat=-2.101, p=0.053\n",
            "Probably the same distribution\n",
            "\n",
            "\n"
          ],
          "name": "stdout"
        }
      ]
    },
    {
      "cell_type": "code",
      "metadata": {
        "colab": {
          "base_uri": "https://localhost:8080/"
        },
        "id": "gJpDnDT9UgnA",
        "outputId": "a08ca0d0-044f-417e-dcb3-137144d83808"
      },
      "source": [
        "# conf mat T-tests\n",
        "data = [\"Full\", \"PD\", \"NC\"]\n",
        "\n",
        "for d in data:\n",
        "  print(10*\"*\", d, 10*\"*\")\n",
        "  oneD_conf_df = pd.DataFrame()\n",
        "  features = [\"Spectral\", \"CSP\", \"IIR\"]\n",
        "  for j in features:\n",
        "    print(\"\\n-----\", j, \"----\")\n",
        "    oneD_conf = get_metric('/content/drive/MyDrive/EEG_Analysis_PD_NC/Results/1D_CNN_Results/'+str(j)+'/CNN_1D_results_HVLV_'+str(j)+'_'+str(d)+'.mat', 'conf_mat_list')\n",
        "    print(np.mean(oneD_conf, axis=0), '\\n')\n",
        "    oneD_conf_nc = [i[0][0] for i in oneD_conf]\n",
        "    oneD_conf_pd = [i[1][1] for i in oneD_conf]\n",
        "    stat, p = ttest_ind(oneD_conf_nc, oneD_conf_pd,equal_var=False)\n",
        "    print('stat=%.3f, p=%.3f' % (stat, p))\n",
        "    if p > 0.05:\n",
        "      print('Probably the same distribution')\n",
        "    else:\n",
        "      print('Probably different distributions')\n",
        "  print('\\n')"
      ],
      "execution_count": null,
      "outputs": [
        {
          "output_type": "stream",
          "text": [
            "********** Full **********\n",
            "\n",
            "----- Spectral ----\n",
            "[[0.93188964 0.06811036]\n",
            " [0.28571831 0.71428169]] \n",
            "\n",
            "stat=5.422, p=0.000\n",
            "Probably different distributions\n",
            "\n",
            "----- CSP ----\n",
            "[[0.91204744 0.08795256]\n",
            " [0.3470833  0.6529167 ]] \n",
            "\n",
            "stat=7.215, p=0.000\n",
            "Probably different distributions\n",
            "\n",
            "----- IIR ----\n",
            "[[0.9546936  0.0453064 ]\n",
            " [0.23854195 0.76145805]] \n",
            "\n",
            "stat=2.524, p=0.031\n",
            "Probably different distributions\n",
            "\n",
            "\n",
            "********** PD **********\n",
            "\n",
            "----- Spectral ----\n",
            "[[0.90406891 0.09593109]\n",
            " [0.30239044 0.69760956]] \n",
            "\n",
            "stat=2.702, p=0.022\n",
            "Probably different distributions\n",
            "\n",
            "----- CSP ----\n",
            "[[0.92287143 0.07712857]\n",
            " [0.25775597 0.74224403]] \n",
            "\n",
            "stat=8.645, p=0.000\n",
            "Probably different distributions\n",
            "\n",
            "----- IIR ----\n",
            "[[0.93804967 0.06195033]\n",
            " [0.50136331 0.49863669]] \n",
            "\n",
            "stat=3.551, p=0.005\n",
            "Probably different distributions\n",
            "\n",
            "\n",
            "********** NC **********\n",
            "\n",
            "----- Spectral ----\n",
            "[[0.92444289 0.07555711]\n",
            " [0.27896403 0.72103597]] \n",
            "\n",
            "stat=3.027, p=0.012\n",
            "Probably different distributions\n",
            "\n",
            "----- CSP ----\n",
            "[[0.91679075 0.08320925]\n",
            " [0.1824     0.8176    ]] \n",
            "\n",
            "stat=3.725, p=0.003\n",
            "Probably different distributions\n",
            "\n",
            "----- IIR ----\n",
            "[[0.95921606 0.04078394]\n",
            " [0.21238938 0.78761062]] \n",
            "\n",
            "stat=2.466, p=0.031\n",
            "Probably different distributions\n",
            "\n",
            "\n"
          ],
          "name": "stdout"
        }
      ]
    },
    {
      "cell_type": "code",
      "metadata": {
        "colab": {
          "base_uri": "https://localhost:8080/"
        },
        "id": "MXRHDYQcVF8Z",
        "outputId": "b85ec42e-9c72-4522-fb15-a3cfb6078ff5"
      },
      "source": [
        "# conf mat T-tests\n",
        "data1 = [\"Full\", \"PD\", \"NC\"]\n",
        "\n",
        "for d in data1:\n",
        "  print(10*\"*\", d, 10*\"*\")\n",
        "  oneD_conf_df = pd.DataFrame()\n",
        "  features = [\"Spectral\", \"CSP\", \"IIR\"]\n",
        "  data = [\"LV\", \"HV\"]\n",
        "\n",
        "  l = 0\n",
        "  for i in data:\n",
        "    print(\"\\nHow well is\", i, \"classified in different features for\", d, \"data?\\n\")\n",
        "    for k in features:\n",
        "      print(10*\"-\", k, 10*\"-\")\n",
        "      oneD_conf = get_metric('/content/drive/MyDrive/EEG_Analysis_PD_NC/Results/1D_CNN_Results/'+str(k)+'/CNN_1D_results_HVLV_'+str(k)+'_'+str(d)+'.mat', 'conf_mat_list')\n",
        "      print(np.mean(oneD_conf, axis=0), '\\n')\n",
        "      data_df = pd.DataFrame({'Accuracy': [i[l][l] for i in oneD_conf],'Features': len(oneD_conf)*[str(k)]})\n",
        "      oneD_conf_df = oneD_conf_df.append(data_df, ignore_index=True)\n",
        "\n",
        "    print('\\n--- One way Anova ---')\n",
        "\n",
        "    oneD_formula = 'Accuracy ~ C(Features)'\n",
        "    oneD_model = ols(oneD_formula, oneD_conf_df).fit()\n",
        "    oneD_aov_table = anova_lm(oneD_model, typ=2)\n",
        "    print(oneD_aov_table)\n",
        "\n",
        "    print('\\n--- Tukey HSD ----')\n",
        "    # Tukey HSD test\n",
        "\n",
        "    oneD_mc = MultiComparison(oneD_conf_df['Accuracy'], oneD_conf_df['Features'])\n",
        "    print(oneD_mc.tukeyhsd())\n",
        "    l = l+1\n",
        "    print(30*\"*\")"
      ],
      "execution_count": null,
      "outputs": [
        {
          "output_type": "stream",
          "text": [
            "********** Full **********\n",
            "\n",
            "How well is LV classified in different features for Full data?\n",
            "\n",
            "---------- Spectral ----------\n",
            "[[0.93188964 0.06811036]\n",
            " [0.28571831 0.71428169]] \n",
            "\n",
            "---------- CSP ----------\n",
            "[[0.91204744 0.08795256]\n",
            " [0.3470833  0.6529167 ]] \n",
            "\n",
            "---------- IIR ----------\n",
            "[[0.9546936  0.0453064 ]\n",
            " [0.23854195 0.76145805]] \n",
            "\n",
            "\n",
            "--- One way Anova ---\n",
            "               sum_sq    df         F    PR(>F)\n",
            "C(Features)  0.009108   2.0  3.564009  0.042307\n",
            "Residual     0.034500  27.0       NaN       NaN\n",
            "\n",
            "--- Tukey HSD ----\n",
            " Multiple Comparison of Means - Tukey HSD, FWER=0.05 \n",
            "=====================================================\n",
            "group1  group2  meandiff p-adj   lower  upper  reject\n",
            "-----------------------------------------------------\n",
            "   CSP      IIR   0.0426  0.033   0.003 0.0823   True\n",
            "   CSP Spectral   0.0198 0.4416 -0.0198 0.0595  False\n",
            "   IIR Spectral  -0.0228 0.3424 -0.0624 0.0168  False\n",
            "-----------------------------------------------------\n",
            "******************************\n",
            "\n",
            "How well is HV classified in different features for Full data?\n",
            "\n",
            "---------- Spectral ----------\n",
            "[[0.93188964 0.06811036]\n",
            " [0.28571831 0.71428169]] \n",
            "\n",
            "---------- CSP ----------\n",
            "[[0.91204744 0.08795256]\n",
            " [0.3470833  0.6529167 ]] \n",
            "\n",
            "---------- IIR ----------\n",
            "[[0.9546936  0.0453064 ]\n",
            " [0.23854195 0.76145805]] \n",
            "\n",
            "\n",
            "--- One way Anova ---\n",
            "               sum_sq    df         F    PR(>F)\n",
            "C(Features)  0.057249   2.0  1.054225  0.355157\n",
            "Residual     1.547680  57.0       NaN       NaN\n",
            "\n",
            "--- Tukey HSD ----\n",
            " Multiple Comparison of Means - Tukey HSD, FWER=0.05 \n",
            "=====================================================\n",
            "group1  group2  meandiff p-adj   lower  upper  reject\n",
            "-----------------------------------------------------\n",
            "   CSP      IIR   0.0756 0.3227 -0.0498  0.201  False\n",
            "   CSP Spectral   0.0406 0.7002 -0.0848  0.166  False\n",
            "   IIR Spectral   -0.035 0.7613 -0.1604 0.0904  False\n",
            "-----------------------------------------------------\n",
            "******************************\n",
            "********** PD **********\n",
            "\n",
            "How well is LV classified in different features for PD data?\n",
            "\n",
            "---------- Spectral ----------\n",
            "[[0.90406891 0.09593109]\n",
            " [0.30239044 0.69760956]] \n",
            "\n",
            "---------- CSP ----------\n",
            "[[0.92287143 0.07712857]\n",
            " [0.25775597 0.74224403]] \n",
            "\n",
            "---------- IIR ----------\n",
            "[[0.93804967 0.06195033]\n",
            " [0.50136331 0.49863669]] \n",
            "\n",
            "\n",
            "--- One way Anova ---\n",
            "               sum_sq    df         F    PR(>F)\n",
            "C(Features)  0.005795   2.0  0.593865  0.559242\n",
            "Residual     0.131743  27.0       NaN       NaN\n",
            "\n",
            "--- Tukey HSD ----\n",
            " Multiple Comparison of Means - Tukey HSD, FWER=0.05 \n",
            "=====================================================\n",
            "group1  group2  meandiff p-adj   lower  upper  reject\n",
            "-----------------------------------------------------\n",
            "   CSP      IIR   0.0152 0.8728 -0.0623 0.0926  False\n",
            "   CSP Spectral  -0.0188 0.8066 -0.0962 0.0586  False\n",
            "   IIR Spectral   -0.034 0.5293 -0.1114 0.0435  False\n",
            "-----------------------------------------------------\n",
            "******************************\n",
            "\n",
            "How well is HV classified in different features for PD data?\n",
            "\n",
            "---------- Spectral ----------\n",
            "[[0.90406891 0.09593109]\n",
            " [0.30239044 0.69760956]] \n",
            "\n",
            "---------- CSP ----------\n",
            "[[0.92287143 0.07712857]\n",
            " [0.25775597 0.74224403]] \n",
            "\n",
            "---------- IIR ----------\n",
            "[[0.93804967 0.06195033]\n",
            " [0.50136331 0.49863669]] \n",
            "\n",
            "\n",
            "--- One way Anova ---\n",
            "               sum_sq    df         F    PR(>F)\n",
            "C(Features)  0.139044   2.0  1.206316  0.306823\n",
            "Residual     3.285010  57.0       NaN       NaN\n",
            "\n",
            "--- Tukey HSD ----\n",
            " Multiple Comparison of Means - Tukey HSD, FWER=0.05 \n",
            "=====================================================\n",
            "group1  group2  meandiff p-adj   lower  upper  reject\n",
            "-----------------------------------------------------\n",
            "   CSP      IIR  -0.1142 0.2969 -0.2969 0.0685  False\n",
            "   CSP Spectral  -0.0317    0.9 -0.2144  0.151  False\n",
            "   IIR Spectral   0.0825 0.5256 -0.1002 0.2652  False\n",
            "-----------------------------------------------------\n",
            "******************************\n",
            "********** NC **********\n",
            "\n",
            "How well is LV classified in different features for NC data?\n",
            "\n",
            "---------- Spectral ----------\n",
            "[[0.92444289 0.07555711]\n",
            " [0.27896403 0.72103597]] \n",
            "\n",
            "---------- CSP ----------\n",
            "[[0.91679075 0.08320925]\n",
            " [0.1824     0.8176    ]] \n",
            "\n",
            "---------- IIR ----------\n",
            "[[0.95921606 0.04078394]\n",
            " [0.21238938 0.78761062]] \n",
            "\n",
            "\n",
            "--- One way Anova ---\n",
            "               sum_sq    df         F    PR(>F)\n",
            "C(Features)  0.010225   2.0  1.546997  0.231171\n",
            "Residual     0.089233  27.0       NaN       NaN\n",
            "\n",
            "--- Tukey HSD ----\n",
            " Multiple Comparison of Means - Tukey HSD, FWER=0.05 \n",
            "=====================================================\n",
            "group1  group2  meandiff p-adj   lower  upper  reject\n",
            "-----------------------------------------------------\n",
            "   CSP      IIR   0.0424 0.2427 -0.0213 0.1062  False\n",
            "   CSP Spectral   0.0077    0.9 -0.0561 0.0714  False\n",
            "   IIR Spectral  -0.0348 0.3805 -0.0985  0.029  False\n",
            "-----------------------------------------------------\n",
            "******************************\n",
            "\n",
            "How well is HV classified in different features for NC data?\n",
            "\n",
            "---------- Spectral ----------\n",
            "[[0.92444289 0.07555711]\n",
            " [0.27896403 0.72103597]] \n",
            "\n",
            "---------- CSP ----------\n",
            "[[0.91679075 0.08320925]\n",
            " [0.1824     0.8176    ]] \n",
            "\n",
            "---------- IIR ----------\n",
            "[[0.95921606 0.04078394]\n",
            " [0.21238938 0.78761062]] \n",
            "\n",
            "\n",
            "--- One way Anova ---\n",
            "               sum_sq    df         F    PR(>F)\n",
            "C(Features)  0.030552   2.0  0.665082  0.518176\n",
            "Residual     1.309221  57.0       NaN       NaN\n",
            "\n",
            "--- Tukey HSD ----\n",
            " Multiple Comparison of Means - Tukey HSD, FWER=0.05 \n",
            "=====================================================\n",
            "group1  group2  meandiff p-adj   lower  upper  reject\n",
            "-----------------------------------------------------\n",
            "   CSP      IIR   0.0062    0.9 -0.1091 0.1215  False\n",
            "   CSP Spectral  -0.0445 0.6159 -0.1598 0.0709  False\n",
            "   IIR Spectral  -0.0507 0.5423  -0.166 0.0647  False\n",
            "-----------------------------------------------------\n",
            "******************************\n"
          ],
          "name": "stdout"
        }
      ]
    },
    {
      "cell_type": "code",
      "metadata": {
        "colab": {
          "base_uri": "https://localhost:8080/"
        },
        "id": "NGIcZQWQdwSl",
        "outputId": "acafcd7d-0070-4ff9-f1f8-61b96d51fc80"
      },
      "source": [
        "# How well are PD and NC classified on different data?\n",
        "\n",
        "features = [\"Spectral\", \"CSP\", \"IIR\"]\n",
        "emotions = [\"Full\", \"PD\", \"NC\"]\n",
        "for k in features:\n",
        "  print(10*\"*\", k, 10*\"*\")\n",
        "  oneD_conf_df = pd.DataFrame()\n",
        "  data = [\"LV\", \"HV\"]\n",
        "  emotions = [\"Full\", \"PD\", \"NC\"]\n",
        "  l = 0\n",
        "  for i in data:\n",
        "    print(\"\\nHow well is\", i, \"classified in different data for\", k, \"features?\\n\")\n",
        "    for emot in emotions:\n",
        "      print(10*\"-\", emot, 10*\"-\")\n",
        "      oneD_conf = get_metric('/content/drive/MyDrive/EEG_Analysis_PD_NC/Results/1D_CNN_Results/'+str(k)+'/CNN_1D_results_HVLV_'+str(k)+'_'+str(emot)+'.mat', 'conf_mat_list')\n",
        "      print(np.mean(oneD_conf, axis=0), '\\n')\n",
        "      data_df = pd.DataFrame({'Accuracy': [i[l][l] for i in oneD_conf],'Emotions': len(oneD_conf)*[str(emot)]})\n",
        "      oneD_conf_df = oneD_conf_df.append(data_df, ignore_index=True)\n",
        "\n",
        "    print('\\n--- One way Anova ---')\n",
        "\n",
        "    oneD_formula = 'Accuracy ~ C(Emotions)'\n",
        "    oneD_model = ols(oneD_formula, oneD_conf_df).fit()\n",
        "    oneD_aov_table = anova_lm(oneD_model, typ=2)\n",
        "    print(oneD_aov_table)\n",
        "\n",
        "    print('\\n--- Tukey HSD ----')\n",
        "    # Tukey HSD test\n",
        "\n",
        "    oneD_mc = MultiComparison(oneD_conf_df['Accuracy'], oneD_conf_df['Emotions'])\n",
        "    print(oneD_mc.tukeyhsd())\n",
        "    l = l+1\n",
        "    print(30*\"*\")\n"
      ],
      "execution_count": null,
      "outputs": [
        {
          "output_type": "stream",
          "text": [
            "********** Spectral **********\n",
            "\n",
            "How well is LV classified in different data for Spectral features?\n",
            "\n",
            "---------- Full ----------\n",
            "[[0.93188964 0.06811036]\n",
            " [0.28571831 0.71428169]] \n",
            "\n",
            "---------- PD ----------\n",
            "[[0.90406891 0.09593109]\n",
            " [0.30239044 0.69760956]] \n",
            "\n",
            "---------- NC ----------\n",
            "[[0.92444289 0.07555711]\n",
            " [0.27896403 0.72103597]] \n",
            "\n",
            "\n",
            "--- One way Anova ---\n",
            "               sum_sq    df         F    PR(>F)\n",
            "C(Emotions)  0.004148   2.0  0.868467  0.430988\n",
            "Residual     0.064487  27.0       NaN       NaN\n",
            "\n",
            "--- Tukey HSD ----\n",
            "Multiple Comparison of Means - Tukey HSD, FWER=0.05\n",
            "===================================================\n",
            "group1 group2 meandiff p-adj   lower  upper  reject\n",
            "---------------------------------------------------\n",
            "  Full     NC  -0.0074    0.9 -0.0616 0.0467  False\n",
            "  Full     PD  -0.0278 0.4238  -0.082 0.0264  False\n",
            "    NC     PD  -0.0204 0.6181 -0.0746 0.0338  False\n",
            "---------------------------------------------------\n",
            "******************************\n",
            "\n",
            "How well is HV classified in different data for Spectral features?\n",
            "\n",
            "---------- Full ----------\n",
            "[[0.93188964 0.06811036]\n",
            " [0.28571831 0.71428169]] \n",
            "\n",
            "---------- PD ----------\n",
            "[[0.90406891 0.09593109]\n",
            " [0.30239044 0.69760956]] \n",
            "\n",
            "---------- NC ----------\n",
            "[[0.92444289 0.07555711]\n",
            " [0.27896403 0.72103597]] \n",
            "\n",
            "\n",
            "--- One way Anova ---\n",
            "               sum_sq    df         F    PR(>F)\n",
            "C(Emotions)  0.006498   2.0  0.106815  0.898871\n",
            "Residual     1.733672  57.0       NaN       NaN\n",
            "\n",
            "--- Tukey HSD ----\n",
            "Multiple Comparison of Means - Tukey HSD, FWER=0.05\n",
            "==================================================\n",
            "group1 group2 meandiff p-adj  lower  upper  reject\n",
            "--------------------------------------------------\n",
            "  Full     NC  -0.0003   0.9 -0.1331 0.1324  False\n",
            "  Full     PD  -0.0222   0.9  -0.155 0.1105  False\n",
            "    NC     PD  -0.0219   0.9 -0.1546 0.1108  False\n",
            "--------------------------------------------------\n",
            "******************************\n",
            "********** CSP **********\n",
            "\n",
            "How well is LV classified in different data for CSP features?\n",
            "\n",
            "---------- Full ----------\n",
            "[[0.91204744 0.08795256]\n",
            " [0.3470833  0.6529167 ]] \n",
            "\n",
            "---------- PD ----------\n",
            "[[0.92287143 0.07712857]\n",
            " [0.25775597 0.74224403]] \n",
            "\n",
            "---------- NC ----------\n",
            "[[0.91679075 0.08320925]\n",
            " [0.1824     0.8176    ]] \n",
            "\n",
            "\n",
            "--- One way Anova ---\n",
            "               sum_sq    df        F  PR(>F)\n",
            "C(Emotions)  0.000589   2.0  0.30366  0.7406\n",
            "Residual     0.026176  27.0      NaN     NaN\n",
            "\n",
            "--- Tukey HSD ----\n",
            "Multiple Comparison of Means - Tukey HSD, FWER=0.05\n",
            "===================================================\n",
            "group1 group2 meandiff p-adj   lower  upper  reject\n",
            "---------------------------------------------------\n",
            "  Full     NC   0.0047    0.9 -0.0298 0.0393  False\n",
            "  Full     PD   0.0108 0.7065 -0.0237 0.0453  False\n",
            "    NC     PD   0.0061    0.9 -0.0284 0.0406  False\n",
            "---------------------------------------------------\n",
            "******************************\n",
            "\n",
            "How well is HV classified in different data for CSP features?\n",
            "\n",
            "---------- Full ----------\n",
            "[[0.91204744 0.08795256]\n",
            " [0.3470833  0.6529167 ]] \n",
            "\n",
            "---------- PD ----------\n",
            "[[0.92287143 0.07712857]\n",
            " [0.25775597 0.74224403]] \n",
            "\n",
            "---------- NC ----------\n",
            "[[0.91679075 0.08320925]\n",
            " [0.1824     0.8176    ]] \n",
            "\n",
            "\n",
            "--- One way Anova ---\n",
            "               sum_sq    df         F   PR(>F)\n",
            "C(Emotions)  0.072558   2.0  2.695112  0.07614\n",
            "Residual     0.767278  57.0       NaN      NaN\n",
            "\n",
            "--- Tukey HSD ----\n",
            "Multiple Comparison of Means - Tukey HSD, FWER=0.05\n",
            "===================================================\n",
            "group1 group2 meandiff p-adj   lower  upper  reject\n",
            "---------------------------------------------------\n",
            "  Full     NC   0.0847 0.0626 -0.0036  0.173  False\n",
            "  Full     PD   0.0501  0.367 -0.0382 0.1384  False\n",
            "    NC     PD  -0.0346 0.6066 -0.1229 0.0537  False\n",
            "---------------------------------------------------\n",
            "******************************\n",
            "********** IIR **********\n",
            "\n",
            "How well is LV classified in different data for IIR features?\n",
            "\n",
            "---------- Full ----------\n",
            "[[0.9546936  0.0453064 ]\n",
            " [0.23854195 0.76145805]] \n",
            "\n",
            "---------- PD ----------\n",
            "[[0.93804967 0.06195033]\n",
            " [0.50136331 0.49863669]] \n",
            "\n",
            "---------- NC ----------\n",
            "[[0.95921606 0.04078394]\n",
            " [0.21238938 0.78761062]] \n",
            "\n",
            "\n",
            "--- One way Anova ---\n",
            "               sum_sq    df         F    PR(>F)\n",
            "C(Emotions)  0.002485   2.0  0.203545  0.817074\n",
            "Residual     0.164814  27.0       NaN       NaN\n",
            "\n",
            "--- Tukey HSD ----\n",
            "Multiple Comparison of Means - Tukey HSD, FWER=0.05\n",
            "===================================================\n",
            "group1 group2 meandiff p-adj   lower  upper  reject\n",
            "---------------------------------------------------\n",
            "  Full     NC   0.0045    0.9 -0.0821 0.0911  False\n",
            "  Full     PD  -0.0166 0.8783 -0.1033   0.07  False\n",
            "    NC     PD  -0.0212 0.8044 -0.1078 0.0654  False\n",
            "---------------------------------------------------\n",
            "******************************\n",
            "\n",
            "How well is HV classified in different data for IIR features?\n",
            "\n",
            "---------- Full ----------\n",
            "[[0.9546936  0.0453064 ]\n",
            " [0.23854195 0.76145805]] \n",
            "\n",
            "---------- PD ----------\n",
            "[[0.93804967 0.06195033]\n",
            " [0.50136331 0.49863669]] \n",
            "\n",
            "---------- NC ----------\n",
            "[[0.95921606 0.04078394]\n",
            " [0.21238938 0.78761062]] \n",
            "\n",
            "\n",
            "--- One way Anova ---\n",
            "               sum_sq    df         F    PR(>F)\n",
            "C(Emotions)  0.292048   2.0  2.286037  0.110916\n",
            "Residual     3.640960  57.0       NaN       NaN\n",
            "\n",
            "--- Tukey HSD ----\n",
            "Multiple Comparison of Means - Tukey HSD, FWER=0.05\n",
            "===================================================\n",
            "group1 group2 meandiff p-adj   lower  upper  reject\n",
            "---------------------------------------------------\n",
            "  Full     NC   0.0153    0.9  -0.177 0.2077  False\n",
            "  Full     PD  -0.1397 0.1965 -0.3321 0.0526  False\n",
            "    NC     PD  -0.1551 0.1368 -0.3474 0.0373  False\n",
            "---------------------------------------------------\n",
            "******************************\n"
          ],
          "name": "stdout"
        }
      ]
    },
    {
      "cell_type": "markdown",
      "metadata": {
        "id": "KVqiCJ4XrvrK"
      },
      "source": [
        "## HA vs LA"
      ]
    },
    {
      "cell_type": "code",
      "metadata": {
        "colab": {
          "base_uri": "https://localhost:8080/"
        },
        "id": "xocSkRHbrzWp",
        "outputId": "74f1b696-4e82-446e-92bb-7cd8b792005a"
      },
      "source": [
        "# Create a DataFrame\n",
        "oneD_hala_df = pd.DataFrame()\n",
        "Data = [\"Full\", \"PD\", \"NC\"]\n",
        "features = [\"Spectral\", \"CSP\", \"IIR\"]\n",
        "for i in features:\n",
        "  for j in Data:\n",
        "    oneD_hala_f1 = get_metric('/content/drive/MyDrive/EEG_Analysis_PD_NC/Results/1D_CNN_Results/'+str(i)+'/CNN_1D_results_HALA_'+str(i)+'_'+str(j)+'.mat', 'f1_weightedNet')\n",
        "    data_df = pd.DataFrame({'f1_weightedNet': oneD_hala_f1[0],'Features': len(oneD_hala_f1[0])*[str(i)], 'Data': len(oneD_hala_f1[0])*[str(j)]})\n",
        "    oneD_hala_df = oneD_hala_df.append(data_df, ignore_index=True)\n",
        "\n",
        "print(oneD_hala_df)"
      ],
      "execution_count": null,
      "outputs": [
        {
          "output_type": "stream",
          "text": [
            "    f1_weightedNet  Features  Data\n",
            "0         0.867426  Spectral  Full\n",
            "1         0.919566  Spectral  Full\n",
            "2         0.940210  Spectral  Full\n",
            "3         0.942940  Spectral  Full\n",
            "4         0.963786  Spectral  Full\n",
            "..             ...       ...   ...\n",
            "85        0.979954       IIR    NC\n",
            "86        0.983239       IIR    NC\n",
            "87        0.956867       IIR    NC\n",
            "88        0.984549       IIR    NC\n",
            "89        0.987815       IIR    NC\n",
            "\n",
            "[90 rows x 3 columns]\n"
          ],
          "name": "stdout"
        }
      ]
    },
    {
      "cell_type": "code",
      "metadata": {
        "colab": {
          "base_uri": "https://localhost:8080/"
        },
        "id": "aYWlzpPWsIyr",
        "outputId": "e36cd5e9-d5c4-43d5-823f-4c609e6ff14d"
      },
      "source": [
        "# FULL DATA\n",
        "# One-way ANOVA using statsmodel api\n",
        "\n",
        "oneD_hala_full_formula = 'f1_weightedNet ~ C(Features)'\n",
        "oneD_hala_full_model = ols(oneD_hala_full_formula, oneD_hala_df[oneD_hala_df['Data']=='Full']).fit()\n",
        "oneD_hala_aov_table = anova_lm(oneD_hala_full_model, typ=2)\n",
        "print(oneD_hala_aov_table)"
      ],
      "execution_count": null,
      "outputs": [
        {
          "output_type": "stream",
          "text": [
            "               sum_sq    df         F   PR(>F)\n",
            "C(Features)  0.006881   2.0  1.595362  0.22137\n",
            "Residual     0.058227  27.0       NaN      NaN\n"
          ],
          "name": "stdout"
        }
      ]
    },
    {
      "cell_type": "code",
      "metadata": {
        "colab": {
          "base_uri": "https://localhost:8080/"
        },
        "id": "k-MQd3mtsVi0",
        "outputId": "f8de56a4-57ac-4c98-e25a-169abdc356dd"
      },
      "source": [
        "# Comparison of means using Tukey HSD\n",
        "\n",
        "oneD_hala_full_mc = MultiComparison(oneD_hala_df[oneD_hala_df['Data']=='Full']['f1_weightedNet'], oneD_hala_df[oneD_hala_df['Data']=='Full']['Features'])\n",
        "print(oneD_hala_full_mc.tukeyhsd())"
      ],
      "execution_count": null,
      "outputs": [
        {
          "output_type": "stream",
          "text": [
            " Multiple Comparison of Means - Tukey HSD, FWER=0.05 \n",
            "=====================================================\n",
            "group1  group2  meandiff p-adj   lower  upper  reject\n",
            "-----------------------------------------------------\n",
            "   CSP      IIR   0.0333 0.2607 -0.0181 0.0848  False\n",
            "   CSP Spectral   0.0307 0.3162 -0.0207 0.0822  False\n",
            "   IIR Spectral  -0.0026    0.9 -0.0541 0.0489  False\n",
            "-----------------------------------------------------\n"
          ],
          "name": "stdout"
        }
      ]
    },
    {
      "cell_type": "code",
      "metadata": {
        "colab": {
          "base_uri": "https://localhost:8080/"
        },
        "id": "nYTniq_Wsfna",
        "outputId": "07ef2df0-4026-4c99-b951-66596697eb88"
      },
      "source": [
        "# PD DATA\n",
        "\n",
        "# One-way ANOVA using statsmodel api\n",
        "\n",
        "oneD_hala_pd_formula = 'f1_weightedNet ~ C(Features)'\n",
        "oneD_hala_pd_model = ols(oneD_hala_pd_formula, oneD_hala_df[oneD_hala_df['Data']=='PD']).fit()\n",
        "oneD_hala_pd_aov_table = anova_lm(oneD_hala_pd_model, typ=2)\n",
        "print(oneD_hala_pd_aov_table)"
      ],
      "execution_count": null,
      "outputs": [
        {
          "output_type": "stream",
          "text": [
            "               sum_sq    df         F    PR(>F)\n",
            "C(Features)  0.005514   2.0  1.715465  0.198909\n",
            "Residual     0.043393  27.0       NaN       NaN\n"
          ],
          "name": "stdout"
        }
      ]
    },
    {
      "cell_type": "code",
      "metadata": {
        "colab": {
          "base_uri": "https://localhost:8080/"
        },
        "id": "o39s2Ak5_Ho7",
        "outputId": "08051611-8580-4ff2-f333-f8532bf7dea8"
      },
      "source": [
        "# Comparison of means using Tukey HSD for PD data\n",
        "\n",
        "oneD_hala_pd_mc = MultiComparison(oneD_hala_df[oneD_hala_df['Data']=='PD']['f1_weightedNet'], oneD_hala_df[oneD_hala_df['Data']=='PD']['Features'])\n",
        "print(oneD_hala_pd_mc.tukeyhsd())"
      ],
      "execution_count": null,
      "outputs": [
        {
          "output_type": "stream",
          "text": [
            " Multiple Comparison of Means - Tukey HSD, FWER=0.05 \n",
            "=====================================================\n",
            "group1  group2  meandiff p-adj   lower  upper  reject\n",
            "-----------------------------------------------------\n",
            "   CSP      IIR   0.0201 0.5091 -0.0243 0.0646  False\n",
            "   CSP Spectral   0.0329 0.1768 -0.0115 0.0774  False\n",
            "   IIR Spectral   0.0128 0.7428 -0.0316 0.0572  False\n",
            "-----------------------------------------------------\n"
          ],
          "name": "stdout"
        }
      ]
    },
    {
      "cell_type": "code",
      "metadata": {
        "colab": {
          "base_uri": "https://localhost:8080/"
        },
        "id": "lj5-_y7__S83",
        "outputId": "fff90836-f21d-4394-eb97-f10b723b4420"
      },
      "source": [
        "# NC DATA\n",
        "\n",
        "# One-way ANOVA using statsmodel api\n",
        "\n",
        "oneD_hala_nc_formula = 'f1_weightedNet ~ C(Features)'\n",
        "oneD_hala_nc_model = ols(oneD_hala_nc_formula, oneD_hala_df[oneD_hala_df['Data']=='NC']).fit()\n",
        "oneD_hala_nc_aov_table = anova_lm(oneD_hala_nc_model, typ=2)\n",
        "print(oneD_hala_nc_aov_table)"
      ],
      "execution_count": null,
      "outputs": [
        {
          "output_type": "stream",
          "text": [
            "               sum_sq    df         F    PR(>F)\n",
            "C(Features)  0.007427   2.0  1.342028  0.278193\n",
            "Residual     0.074707  27.0       NaN       NaN\n"
          ],
          "name": "stdout"
        }
      ]
    },
    {
      "cell_type": "code",
      "metadata": {
        "colab": {
          "base_uri": "https://localhost:8080/"
        },
        "id": "kflDrfAR_eHs",
        "outputId": "64adc5e8-fd99-4355-c2d3-2c612a5529d0"
      },
      "source": [
        "# Comparison of means using Tukey HSD for NC data\n",
        "\n",
        "oneD_hala_nc_mc = MultiComparison(oneD_hala_df[oneD_hala_df['Data']=='NC']['f1_weightedNet'], oneD_hala_df[oneD_hala_df['Data']=='NC']['Features'])\n",
        "print(oneD_hala_nc_mc.tukeyhsd())"
      ],
      "execution_count": null,
      "outputs": [
        {
          "output_type": "stream",
          "text": [
            " Multiple Comparison of Means - Tukey HSD, FWER=0.05 \n",
            "=====================================================\n",
            "group1  group2  meandiff p-adj   lower  upper  reject\n",
            "-----------------------------------------------------\n",
            "   CSP      IIR  -0.0159 0.7634 -0.0743 0.0424  False\n",
            "   CSP Spectral  -0.0384 0.2505 -0.0967   0.02  False\n",
            "   IIR Spectral  -0.0224 0.6063 -0.0807 0.0359  False\n",
            "-----------------------------------------------------\n"
          ],
          "name": "stdout"
        }
      ]
    },
    {
      "cell_type": "code",
      "metadata": {
        "colab": {
          "base_uri": "https://localhost:8080/"
        },
        "id": "GFU519yO_o6e",
        "outputId": "21b29225-6213-445c-c6ea-7058488900d2"
      },
      "source": [
        "# Two-way ANOVA using statsmodel api for PD and NC data\n",
        "\n",
        "oneD_hala_formula = 'f1_weightedNet ~ C(Features)+C(Data)+C(Features):C(Data)'\n",
        "oneD_hala_model = ols(oneD_hala_formula, oneD_hala_df[oneD_hala_df['Data'].isin(['PD', 'NC'])]).fit()\n",
        "oneD_hala_aov_table = anova_lm(oneD_hala_model, typ=2)\n",
        "print(oneD_hala_aov_table)"
      ],
      "execution_count": null,
      "outputs": [
        {
          "output_type": "stream",
          "text": [
            "                       sum_sq    df         F    PR(>F)\n",
            "C(Features)          0.000233   2.0  0.053167  0.948272\n",
            "C(Data)              0.000927   1.0  0.423650  0.517881\n",
            "C(Features):C(Data)  0.012708   2.0  2.905310  0.063331\n",
            "Residual             0.118101  54.0       NaN       NaN\n"
          ],
          "name": "stdout"
        }
      ]
    },
    {
      "cell_type": "code",
      "metadata": {
        "colab": {
          "base_uri": "https://localhost:8080/"
        },
        "id": "Hsv-YCk7_zxd",
        "outputId": "dcb2591b-cf0d-46b4-b779-58c97abe611c"
      },
      "source": [
        "# T-test for individual features\n",
        "\n",
        "features = [\"Spectral\", \"CSP\", \"IIR\"]\n",
        "dummy_df = oneD_hala_df[oneD_hala_df['Data'].isin(['PD', 'NC'])]\n",
        "for i in features:\n",
        "  print(\"-----\", i, \"-----\")\n",
        "  dummy_df_2 = dummy_df[dummy_df['Features']==i]\n",
        "  d1=(dummy_df_2[dummy_df_2['Data']=='PD'])\n",
        "  d2=(dummy_df_2[dummy_df_2['Data']=='NC'])\n",
        "\n",
        "  stat, p = ttest_ind(d1['f1_weightedNet'].to_numpy(), d2['f1_weightedNet'].to_numpy(),equal_var=False)\n",
        "  print('stat=%.3f, p=%.3f' % (stat, p))\n",
        "  if p > 0.05:\n",
        "\t  print('Probably the same distribution')\n",
        "  else:\n",
        "\t  print('Probably different distributions')\n",
        "  print('\\n')"
      ],
      "execution_count": null,
      "outputs": [
        {
          "output_type": "stream",
          "text": [
            "----- Spectral -----\n",
            "stat=2.258, p=0.040\n",
            "Probably different distributions\n",
            "\n",
            "\n",
            "----- CSP -----\n",
            "stat=-4.871, p=0.000\n",
            "Probably different distributions\n",
            "\n",
            "\n",
            "----- IIR -----\n",
            "stat=0.270, p=0.790\n",
            "Probably the same distribution\n",
            "\n",
            "\n"
          ],
          "name": "stdout"
        }
      ]
    },
    {
      "cell_type": "code",
      "metadata": {
        "colab": {
          "base_uri": "https://localhost:8080/"
        },
        "id": "se1NEY0MWBaY",
        "outputId": "e0526c96-6c6e-48c3-a46c-403831968ab6"
      },
      "source": [
        "# conf mat T-tests\n",
        "data = [\"Full\", \"PD\", \"NC\"]\n",
        "\n",
        "for d in data:\n",
        "  print(10*\"*\", d, 10*\"*\")\n",
        "  oneD_conf_df = pd.DataFrame()\n",
        "  features = [\"Spectral\", \"CSP\", \"IIR\"]\n",
        "  for j in features:\n",
        "    print(\"\\n-----\", j, \"----\")\n",
        "    oneD_conf = get_metric('/content/drive/MyDrive/EEG_Analysis_PD_NC/Results/1D_CNN_Results/'+str(j)+'/CNN_1D_results_HALA_'+str(j)+'_'+str(d)+'.mat', 'conf_mat_list')\n",
        "    print(np.mean(oneD_conf, axis=0), '\\n')\n",
        "    oneD_conf_nc = [i[0][0] for i in oneD_conf]\n",
        "    oneD_conf_pd = [i[1][1] for i in oneD_conf]\n",
        "    stat, p = ttest_ind(oneD_conf_nc, oneD_conf_pd,equal_var=False)\n",
        "    print('stat=%.3f, p=%.3f' % (stat, p))\n",
        "    if p > 0.05:\n",
        "      print('Probably the same distribution')\n",
        "    else:\n",
        "      print('Probably different distributions')\n",
        "  print('\\n')"
      ],
      "execution_count": null,
      "outputs": [
        {
          "output_type": "stream",
          "text": [
            "********** Full **********\n",
            "\n",
            "----- Spectral ----\n",
            "[[0.78506224 0.21493776]\n",
            " [0.02058111 0.97941889]] \n",
            "\n",
            "stat=-4.359, p=0.002\n",
            "Probably different distributions\n",
            "\n",
            "----- CSP ----\n",
            "[[0.70274756 0.29725244]\n",
            " [0.04084354 0.95915646]] \n",
            "\n",
            "stat=-7.408, p=0.000\n",
            "Probably different distributions\n",
            "\n",
            "----- IIR ----\n",
            "[[0.81595177 0.18404823]\n",
            " [0.0248968  0.9751032 ]] \n",
            "\n",
            "stat=-2.214, p=0.052\n",
            "Probably the same distribution\n",
            "\n",
            "\n",
            "********** PD **********\n",
            "\n",
            "----- Spectral ----\n",
            "[[0.80916667 0.19083333]\n",
            " [0.01114989 0.98885011]] \n",
            "\n",
            "stat=-3.510, p=0.007\n",
            "Probably different distributions\n",
            "\n",
            "----- CSP ----\n",
            "[[0.72967787 0.27032213]\n",
            " [0.03625345 0.96374655]] \n",
            "\n",
            "stat=-10.599, p=0.000\n",
            "Probably different distributions\n",
            "\n",
            "----- IIR ----\n",
            "[[0.77975078 0.22024922]\n",
            " [0.01791742 0.98208258]] \n",
            "\n",
            "stat=-2.512, p=0.033\n",
            "Probably different distributions\n",
            "\n",
            "\n",
            "********** NC **********\n",
            "\n",
            "----- Spectral ----\n",
            "[[0.66198347 0.33801653]\n",
            " [0.02709054 0.97290946]] \n",
            "\n",
            "stat=-3.671, p=0.005\n",
            "Probably different distributions\n",
            "\n",
            "----- CSP ----\n",
            "[[0.81840909 0.18159091]\n",
            " [0.02043339 0.97956661]] \n",
            "\n",
            "stat=-7.700, p=0.000\n",
            "Probably different distributions\n",
            "\n",
            "----- IIR ----\n",
            "[[0.80704213 0.19295787]\n",
            " [0.04079671 0.95920329]] \n",
            "\n",
            "stat=-2.509, p=0.027\n",
            "Probably different distributions\n",
            "\n",
            "\n"
          ],
          "name": "stdout"
        }
      ]
    },
    {
      "cell_type": "code",
      "metadata": {
        "colab": {
          "base_uri": "https://localhost:8080/"
        },
        "id": "c4px7aR5WNgW",
        "outputId": "11f399b7-59e5-44df-ec27-58fa42811a28"
      },
      "source": [
        "# conf mat T-tests\n",
        "data1 = [\"Full\", \"PD\", \"NC\"]\n",
        "\n",
        "for d in data1:\n",
        "  print(10*\"*\", d, 10*\"*\")\n",
        "  oneD_conf_df = pd.DataFrame()\n",
        "  features = [\"Spectral\", \"CSP\", \"IIR\"]\n",
        "  data = [\"LA\", \"HA\"]\n",
        "\n",
        "  l = 0\n",
        "  for i in data:\n",
        "    print(\"\\nHow well is\", i, \"classified in different features for\", d, \"data?\\n\")\n",
        "    for k in features:\n",
        "      print(10*\"-\", k, 10*\"-\")\n",
        "      oneD_conf = get_metric('/content/drive/MyDrive/EEG_Analysis_PD_NC/Results/1D_CNN_Results/'+str(k)+'/CNN_1D_results_HALA_'+str(k)+'_'+str(d)+'.mat', 'conf_mat_list')\n",
        "      print(np.mean(oneD_conf, axis=0), '\\n')\n",
        "      data_df = pd.DataFrame({'Accuracy': [i[l][l] for i in oneD_conf],'Features': len(oneD_conf)*[str(k)]})\n",
        "      oneD_conf_df = oneD_conf_df.append(data_df, ignore_index=True)\n",
        "\n",
        "    print('\\n--- One way Anova ---')\n",
        "\n",
        "    oneD_formula = 'Accuracy ~ C(Features)'\n",
        "    oneD_model = ols(oneD_formula, oneD_conf_df).fit()\n",
        "    oneD_aov_table = anova_lm(oneD_model, typ=2)\n",
        "    print(oneD_aov_table)\n",
        "\n",
        "    print('\\n--- Tukey HSD ----')\n",
        "    # Tukey HSD test\n",
        "\n",
        "    oneD_mc = MultiComparison(oneD_conf_df['Accuracy'], oneD_conf_df['Features'])\n",
        "    print(oneD_mc.tukeyhsd())\n",
        "    l = l+1\n",
        "    print(30*\"*\")"
      ],
      "execution_count": null,
      "outputs": [
        {
          "output_type": "stream",
          "text": [
            "********** Full **********\n",
            "\n",
            "How well is LA classified in different features for Full data?\n",
            "\n",
            "---------- Spectral ----------\n",
            "[[0.78506224 0.21493776]\n",
            " [0.02058111 0.97941889]] \n",
            "\n",
            "---------- CSP ----------\n",
            "[[0.70274756 0.29725244]\n",
            " [0.04084354 0.95915646]] \n",
            "\n",
            "---------- IIR ----------\n",
            "[[0.81595177 0.18404823]\n",
            " [0.0248968  0.9751032 ]] \n",
            "\n",
            "\n",
            "--- One way Anova ---\n",
            "               sum_sq    df         F    PR(>F)\n",
            "C(Features)  0.068484   2.0  1.265597  0.298275\n",
            "Residual     0.730507  27.0       NaN       NaN\n",
            "\n",
            "--- Tukey HSD ----\n",
            " Multiple Comparison of Means - Tukey HSD, FWER=0.05 \n",
            "=====================================================\n",
            "group1  group2  meandiff p-adj   lower  upper  reject\n",
            "-----------------------------------------------------\n",
            "   CSP      IIR   0.1132 0.2895 -0.0691 0.2956  False\n",
            "   CSP Spectral   0.0823 0.5115    -0.1 0.2647  False\n",
            "   IIR Spectral  -0.0309    0.9 -0.2132 0.1515  False\n",
            "-----------------------------------------------------\n",
            "******************************\n",
            "\n",
            "How well is HA classified in different features for Full data?\n",
            "\n",
            "---------- Spectral ----------\n",
            "[[0.78506224 0.21493776]\n",
            " [0.02058111 0.97941889]] \n",
            "\n",
            "---------- CSP ----------\n",
            "[[0.70274756 0.29725244]\n",
            " [0.04084354 0.95915646]] \n",
            "\n",
            "---------- IIR ----------\n",
            "[[0.81595177 0.18404823]\n",
            " [0.0248968  0.9751032 ]] \n",
            "\n",
            "\n",
            "--- One way Anova ---\n",
            "               sum_sq    df       F    PR(>F)\n",
            "C(Features)  0.046514   2.0  0.9495  0.392968\n",
            "Residual     1.396145  57.0     NaN       NaN\n",
            "\n",
            "--- Tukey HSD ----\n",
            " Multiple Comparison of Means - Tukey HSD, FWER=0.05 \n",
            "=====================================================\n",
            "group1  group2  meandiff p-adj   lower  upper  reject\n",
            "-----------------------------------------------------\n",
            "   CSP      IIR   0.0646 0.3999 -0.0545 0.1837  False\n",
            "   CSP Spectral   0.0513 0.5542 -0.0678 0.1704  False\n",
            "   IIR Spectral  -0.0133    0.9 -0.1324 0.1058  False\n",
            "-----------------------------------------------------\n",
            "******************************\n",
            "********** PD **********\n",
            "\n",
            "How well is LA classified in different features for PD data?\n",
            "\n",
            "---------- Spectral ----------\n",
            "[[0.80916667 0.19083333]\n",
            " [0.01114989 0.98885011]] \n",
            "\n",
            "---------- CSP ----------\n",
            "[[0.72967787 0.27032213]\n",
            " [0.03625345 0.96374655]] \n",
            "\n",
            "---------- IIR ----------\n",
            "[[0.77975078 0.22024922]\n",
            " [0.01791742 0.98208258]] \n",
            "\n",
            "\n",
            "--- One way Anova ---\n",
            "               sum_sq    df         F    PR(>F)\n",
            "C(Features)  0.032304   2.0  0.508238  0.607196\n",
            "Residual     0.858058  27.0       NaN       NaN\n",
            "\n",
            "--- Tukey HSD ----\n",
            " Multiple Comparison of Means - Tukey HSD, FWER=0.05 \n",
            "=====================================================\n",
            "group1  group2  meandiff p-adj   lower  upper  reject\n",
            "-----------------------------------------------------\n",
            "   CSP      IIR   0.0501 0.7917 -0.1476 0.2477  False\n",
            "   CSP Spectral   0.0795 0.5811 -0.1181 0.2771  False\n",
            "   IIR Spectral   0.0294    0.9 -0.1682  0.227  False\n",
            "-----------------------------------------------------\n",
            "******************************\n",
            "\n",
            "How well is HA classified in different features for PD data?\n",
            "\n",
            "---------- Spectral ----------\n",
            "[[0.80916667 0.19083333]\n",
            " [0.01114989 0.98885011]] \n",
            "\n",
            "---------- CSP ----------\n",
            "[[0.72967787 0.27032213]\n",
            " [0.03625345 0.96374655]] \n",
            "\n",
            "---------- IIR ----------\n",
            "[[0.77975078 0.22024922]\n",
            " [0.01791742 0.98208258]] \n",
            "\n",
            "\n",
            "--- One way Anova ---\n",
            "               sum_sq    df         F    PR(>F)\n",
            "C(Features)  0.028214   2.0  0.534701  0.588754\n",
            "Residual     1.503847  57.0       NaN       NaN\n",
            "\n",
            "--- Tukey HSD ----\n",
            " Multiple Comparison of Means - Tukey HSD, FWER=0.05 \n",
            "=====================================================\n",
            "group1  group2  meandiff p-adj   lower  upper  reject\n",
            "-----------------------------------------------------\n",
            "   CSP      IIR   0.0342 0.7645 -0.0894 0.1578  False\n",
            "   CSP Spectral   0.0523 0.5645 -0.0713 0.1759  False\n",
            "   IIR Spectral   0.0181    0.9 -0.1055 0.1417  False\n",
            "-----------------------------------------------------\n",
            "******************************\n",
            "********** NC **********\n",
            "\n",
            "How well is LA classified in different features for NC data?\n",
            "\n",
            "---------- Spectral ----------\n",
            "[[0.66198347 0.33801653]\n",
            " [0.02709054 0.97290946]] \n",
            "\n",
            "---------- CSP ----------\n",
            "[[0.81840909 0.18159091]\n",
            " [0.02043339 0.97956661]] \n",
            "\n",
            "---------- IIR ----------\n",
            "[[0.80704213 0.19295787]\n",
            " [0.04079671 0.95920329]] \n",
            "\n",
            "\n",
            "--- One way Anova ---\n",
            "               sum_sq    df        F    PR(>F)\n",
            "C(Features)  0.152134   2.0  2.13317  0.137997\n",
            "Residual     0.962797  27.0      NaN       NaN\n",
            "\n",
            "--- Tukey HSD ----\n",
            " Multiple Comparison of Means - Tukey HSD, FWER=0.05 \n",
            "=====================================================\n",
            "group1  group2  meandiff p-adj   lower  upper  reject\n",
            "-----------------------------------------------------\n",
            "   CSP      IIR  -0.0114    0.9 -0.2207  0.198  False\n",
            "   CSP Spectral  -0.1564 0.1722 -0.3658 0.0529  False\n",
            "   IIR Spectral  -0.1451 0.2172 -0.3544 0.0643  False\n",
            "-----------------------------------------------------\n",
            "******************************\n",
            "\n",
            "How well is HA classified in different features for NC data?\n",
            "\n",
            "---------- Spectral ----------\n",
            "[[0.66198347 0.33801653]\n",
            " [0.02709054 0.97290946]] \n",
            "\n",
            "---------- CSP ----------\n",
            "[[0.81840909 0.18159091]\n",
            " [0.02043339 0.97956661]] \n",
            "\n",
            "---------- IIR ----------\n",
            "[[0.80704213 0.19295787]\n",
            " [0.04079671 0.95920329]] \n",
            "\n",
            "\n",
            "--- One way Anova ---\n",
            "               sum_sq    df         F    PR(>F)\n",
            "C(Features)  0.074760   2.0  1.221063  0.302514\n",
            "Residual     1.744933  57.0       NaN       NaN\n",
            "\n",
            "--- Tukey HSD ----\n",
            " Multiple Comparison of Means - Tukey HSD, FWER=0.05 \n",
            "=====================================================\n",
            "group1  group2  meandiff p-adj   lower  upper  reject\n",
            "-----------------------------------------------------\n",
            "   CSP      IIR  -0.0159    0.9  -0.149 0.1173  False\n",
            "   CSP Spectral  -0.0815 0.3115 -0.2147 0.0516  False\n",
            "   IIR Spectral  -0.0657 0.4675 -0.1988 0.0675  False\n",
            "-----------------------------------------------------\n",
            "******************************\n"
          ],
          "name": "stdout"
        }
      ]
    },
    {
      "cell_type": "code",
      "metadata": {
        "colab": {
          "base_uri": "https://localhost:8080/"
        },
        "id": "rBjXI4e3h3Q6",
        "outputId": "d8a5d2fd-e4b6-493f-8298-4690a315ebe0"
      },
      "source": [
        "# How well are PD and NC classified on different data?\n",
        "\n",
        "features = [\"Spectral\", \"CSP\", \"IIR\"]\n",
        "emotions = [\"Full\", \"PD\", \"NC\"]\n",
        "for k in features:\n",
        "  print(10*\"*\", k, 10*\"*\")\n",
        "  oneD_conf_df = pd.DataFrame()\n",
        "  data = [\"LA\", \"HA\"]\n",
        "  emotions = [\"Full\", \"PD\", \"NC\"]\n",
        "  l = 0\n",
        "  for i in data:\n",
        "    print(\"\\nHow well is\", i, \"classified in different data for\", k, \"features?\\n\")\n",
        "    for emot in emotions:\n",
        "      print(10*\"-\", emot, 10*\"-\")\n",
        "      oneD_conf = get_metric('/content/drive/MyDrive/EEG_Analysis_PD_NC/Results/1D_CNN_Results/'+str(k)+'/CNN_1D_results_HALA_'+str(k)+'_'+str(emot)+'.mat', 'conf_mat_list')\n",
        "      print(np.mean(oneD_conf, axis=0), '\\n')\n",
        "      data_df = pd.DataFrame({'Accuracy': [i[l][l] for i in oneD_conf],'Emotions': len(oneD_conf)*[str(emot)]})\n",
        "      oneD_conf_df = oneD_conf_df.append(data_df, ignore_index=True)\n",
        "\n",
        "    print('\\n--- One way Anova ---')\n",
        "\n",
        "    oneD_formula = 'Accuracy ~ C(Emotions)'\n",
        "    oneD_model = ols(oneD_formula, oneD_conf_df).fit()\n",
        "    oneD_aov_table = anova_lm(oneD_model, typ=2)\n",
        "    print(oneD_aov_table)\n",
        "\n",
        "    print('\\n--- Tukey HSD ----')\n",
        "    # Tukey HSD test\n",
        "\n",
        "    oneD_mc = MultiComparison(oneD_conf_df['Accuracy'], oneD_conf_df['Emotions'])\n",
        "    print(oneD_mc.tukeyhsd())\n",
        "    l = l+1\n",
        "    print(30*\"*\")"
      ],
      "execution_count": null,
      "outputs": [
        {
          "output_type": "stream",
          "text": [
            "********** Spectral **********\n",
            "\n",
            "How well is LA classified in different data for Spectral features?\n",
            "\n",
            "---------- Full ----------\n",
            "[[0.78506224 0.21493776]\n",
            " [0.02058111 0.97941889]] \n",
            "\n",
            "---------- PD ----------\n",
            "[[0.80916667 0.19083333]\n",
            " [0.01114989 0.98885011]] \n",
            "\n",
            "---------- NC ----------\n",
            "[[0.66198347 0.33801653]\n",
            " [0.02709054 0.97290946]] \n",
            "\n",
            "\n",
            "--- One way Anova ---\n",
            "               sum_sq    df         F   PR(>F)\n",
            "C(Emotions)  0.124641   2.0  1.594401  0.22156\n",
            "Residual     1.055351  27.0       NaN      NaN\n",
            "\n",
            "--- Tukey HSD ----\n",
            "Multiple Comparison of Means - Tukey HSD, FWER=0.05\n",
            "===================================================\n",
            "group1 group2 meandiff p-adj   lower  upper  reject\n",
            "---------------------------------------------------\n",
            "  Full     NC  -0.1231 0.3599 -0.3423 0.0961  False\n",
            "  Full     PD   0.0241    0.9 -0.1951 0.2433  False\n",
            "    NC     PD   0.1472 0.2371  -0.072 0.3664  False\n",
            "---------------------------------------------------\n",
            "******************************\n",
            "\n",
            "How well is HA classified in different data for Spectral features?\n",
            "\n",
            "---------- Full ----------\n",
            "[[0.78506224 0.21493776]\n",
            " [0.02058111 0.97941889]] \n",
            "\n",
            "---------- PD ----------\n",
            "[[0.80916667 0.19083333]\n",
            " [0.01114989 0.98885011]] \n",
            "\n",
            "---------- NC ----------\n",
            "[[0.66198347 0.33801653]\n",
            " [0.02709054 0.97290946]] \n",
            "\n",
            "\n",
            "--- One way Anova ---\n",
            "               sum_sq    df         F    PR(>F)\n",
            "C(Emotions)  0.074212   2.0  1.116665  0.334425\n",
            "Residual     1.894068  57.0       NaN       NaN\n",
            "\n",
            "--- Tukey HSD ----\n",
            "Multiple Comparison of Means - Tukey HSD, FWER=0.05\n",
            "===================================================\n",
            "group1 group2 meandiff p-adj   lower  upper  reject\n",
            "---------------------------------------------------\n",
            "  Full     NC  -0.0648 0.5044 -0.2035 0.0739  False\n",
            "  Full     PD   0.0168    0.9 -0.1219 0.1555  False\n",
            "    NC     PD   0.0816 0.3408 -0.0572 0.2203  False\n",
            "---------------------------------------------------\n",
            "******************************\n",
            "********** CSP **********\n",
            "\n",
            "How well is LA classified in different data for CSP features?\n",
            "\n",
            "---------- Full ----------\n",
            "[[0.70274756 0.29725244]\n",
            " [0.04084354 0.95915646]] \n",
            "\n",
            "---------- PD ----------\n",
            "[[0.72967787 0.27032213]\n",
            " [0.03625345 0.96374655]] \n",
            "\n",
            "---------- NC ----------\n",
            "[[0.81840909 0.18159091]\n",
            " [0.02043339 0.97956661]] \n",
            "\n",
            "\n",
            "--- One way Anova ---\n",
            "               sum_sq    df         F    PR(>F)\n",
            "C(Emotions)  0.073254   2.0  5.366171  0.010909\n",
            "Residual     0.184288  27.0       NaN       NaN\n",
            "\n",
            "--- Tukey HSD ----\n",
            "Multiple Comparison of Means - Tukey HSD, FWER=0.05\n",
            "===================================================\n",
            "group1 group2 meandiff p-adj   lower  upper  reject\n",
            "---------------------------------------------------\n",
            "  Full     NC   0.1157 0.0112  0.0241 0.2073   True\n",
            "  Full     PD   0.0269 0.7342 -0.0647 0.1185  False\n",
            "    NC     PD  -0.0887  0.059 -0.1803 0.0029  False\n",
            "---------------------------------------------------\n",
            "******************************\n",
            "\n",
            "How well is HA classified in different data for CSP features?\n",
            "\n",
            "---------- Full ----------\n",
            "[[0.70274756 0.29725244]\n",
            " [0.04084354 0.95915646]] \n",
            "\n",
            "---------- PD ----------\n",
            "[[0.72967787 0.27032213]\n",
            " [0.03625345 0.96374655]] \n",
            "\n",
            "---------- NC ----------\n",
            "[[0.81840909 0.18159091]\n",
            " [0.02043339 0.97956661]] \n",
            "\n",
            "\n",
            "--- One way Anova ---\n",
            "               sum_sq    df         F    PR(>F)\n",
            "C(Emotions)  0.050733   2.0  1.565377  0.217861\n",
            "Residual     0.923676  57.0       NaN       NaN\n",
            "\n",
            "--- Tukey HSD ----\n",
            "Multiple Comparison of Means - Tukey HSD, FWER=0.05\n",
            "===================================================\n",
            "group1 group2 meandiff p-adj   lower  upper  reject\n",
            "---------------------------------------------------\n",
            "  Full     NC    0.068  0.218 -0.0288 0.1649  False\n",
            "  Full     PD   0.0158    0.9 -0.0811 0.1126  False\n",
            "    NC     PD  -0.0523 0.4034 -0.1491 0.0446  False\n",
            "---------------------------------------------------\n",
            "******************************\n",
            "********** IIR **********\n",
            "\n",
            "How well is LA classified in different data for IIR features?\n",
            "\n",
            "---------- Full ----------\n",
            "[[0.81595177 0.18404823]\n",
            " [0.0248968  0.9751032 ]] \n",
            "\n",
            "---------- PD ----------\n",
            "[[0.77975078 0.22024922]\n",
            " [0.01791742 0.98208258]] \n",
            "\n",
            "---------- NC ----------\n",
            "[[0.80704213 0.19295787]\n",
            " [0.04079671 0.95920329]] \n",
            "\n",
            "\n",
            "--- One way Anova ---\n",
            "               sum_sq    df         F    PR(>F)\n",
            "C(Emotions)  0.007116   2.0  0.073233  0.929568\n",
            "Residual     1.311722  27.0       NaN       NaN\n",
            "\n",
            "--- Tukey HSD ----\n",
            "Multiple Comparison of Means - Tukey HSD, FWER=0.05\n",
            "==================================================\n",
            "group1 group2 meandiff p-adj  lower  upper  reject\n",
            "--------------------------------------------------\n",
            "  Full     NC  -0.0089   0.9 -0.2533 0.2354  False\n",
            "  Full     PD  -0.0362   0.9 -0.2806 0.2082  False\n",
            "    NC     PD  -0.0273   0.9 -0.2716 0.2171  False\n",
            "--------------------------------------------------\n",
            "******************************\n",
            "\n",
            "How well is HA classified in different data for IIR features?\n",
            "\n",
            "---------- Full ----------\n",
            "[[0.81595177 0.18404823]\n",
            " [0.0248968  0.9751032 ]] \n",
            "\n",
            "---------- PD ----------\n",
            "[[0.77975078 0.22024922]\n",
            " [0.01791742 0.98208258]] \n",
            "\n",
            "---------- NC ----------\n",
            "[[0.80704213 0.19295787]\n",
            " [0.04079671 0.95920329]] \n",
            "\n",
            "\n",
            "--- One way Anova ---\n",
            "               sum_sq    df         F    PR(>F)\n",
            "C(Emotions)  0.002481   2.0  0.038705  0.962059\n",
            "Residual     1.827181  57.0       NaN       NaN\n",
            "\n",
            "--- Tukey HSD ----\n",
            "Multiple Comparison of Means - Tukey HSD, FWER=0.05\n",
            "==================================================\n",
            "group1 group2 meandiff p-adj  lower  upper  reject\n",
            "--------------------------------------------------\n",
            "  Full     NC  -0.0124   0.9 -0.1486 0.1238  False\n",
            "  Full     PD  -0.0146   0.9 -0.1509 0.1216  False\n",
            "    NC     PD  -0.0022   0.9 -0.1385  0.134  False\n",
            "--------------------------------------------------\n",
            "******************************\n"
          ],
          "name": "stdout"
        }
      ]
    },
    {
      "cell_type": "markdown",
      "metadata": {
        "id": "W89LfGnFAZbt"
      },
      "source": [
        "## MultiClass"
      ]
    },
    {
      "cell_type": "code",
      "metadata": {
        "colab": {
          "base_uri": "https://localhost:8080/"
        },
        "id": "L3lrHysqActh",
        "outputId": "ef040712-c0e3-427f-cf29-25b9e99bf6c4"
      },
      "source": [
        "# Create a DataFrame\n",
        "oneD_multi_df = pd.DataFrame()\n",
        "Data = [\"Full\", \"PD\", \"NC\"]\n",
        "features = [\"Spectral\", \"CSP\", \"IIR\"]\n",
        "for i in features:\n",
        "  for j in Data:\n",
        "    oneD_multi_f1 = get_metric('/content/drive/MyDrive/EEG_Analysis_PD_NC/Results/1D_CNN_Results/'+str(i)+'/CNN_1D_results_MultiClass_'+str(i)+'_'+str(j)+'.mat', 'f1_weightedNet')\n",
        "    data_df = pd.DataFrame({'f1_weightedNet': oneD_multi_f1[0],'Features': len(oneD_multi_f1[0])*[str(i)], 'Data': len(oneD_multi_f1[0])*[str(j)]})\n",
        "    oneD_multi_df = oneD_multi_df.append(data_df, ignore_index=True)\n",
        "\n",
        "print(oneD_multi_df)"
      ],
      "execution_count": null,
      "outputs": [
        {
          "output_type": "stream",
          "text": [
            "    f1_weightedNet  Features  Data\n",
            "0         0.509518  Spectral  Full\n",
            "1         0.675848  Spectral  Full\n",
            "2         0.719518  Spectral  Full\n",
            "3         0.747910  Spectral  Full\n",
            "4         0.796485  Spectral  Full\n",
            "..             ...       ...   ...\n",
            "85        0.893157       IIR    NC\n",
            "86        0.917204       IIR    NC\n",
            "87        0.922704       IIR    NC\n",
            "88        0.916969       IIR    NC\n",
            "89        0.907335       IIR    NC\n",
            "\n",
            "[90 rows x 3 columns]\n"
          ],
          "name": "stdout"
        }
      ]
    },
    {
      "cell_type": "code",
      "metadata": {
        "colab": {
          "base_uri": "https://localhost:8080/"
        },
        "id": "saZFyXhAAkrV",
        "outputId": "ae479f30-1cc3-40db-c95d-76d160760d53"
      },
      "source": [
        "# FULL DATA\n",
        "# One-way ANOVA using statsmodel api\n",
        "\n",
        "oneD_multi_full_formula = 'f1_weightedNet ~ C(Features)'\n",
        "oneD_multi_full_model = ols(oneD_multi_full_formula, oneD_multi_df[oneD_multi_df['Data']=='Full']).fit()\n",
        "oneD_multi_aov_table = anova_lm(oneD_multi_full_model, typ=2)\n",
        "print(oneD_multi_aov_table)"
      ],
      "execution_count": null,
      "outputs": [
        {
          "output_type": "stream",
          "text": [
            "               sum_sq    df         F    PR(>F)\n",
            "C(Features)  0.039081   2.0  0.914746  0.412678\n",
            "Residual     0.576771  27.0       NaN       NaN\n"
          ],
          "name": "stdout"
        }
      ]
    },
    {
      "cell_type": "code",
      "metadata": {
        "colab": {
          "base_uri": "https://localhost:8080/"
        },
        "id": "VC46lPy7An18",
        "outputId": "e8eaab9a-4ea3-44ad-dc3a-057816c94702"
      },
      "source": [
        "# Comparison of means using Tukey HSD\n",
        "\n",
        "oneD_multi_full_mc = MultiComparison(oneD_multi_df[oneD_multi_df['Data']=='Full']['f1_weightedNet'], oneD_multi_df[oneD_multi_df['Data']=='Full']['Features'])\n",
        "print(oneD_multi_full_mc.tukeyhsd())"
      ],
      "execution_count": null,
      "outputs": [
        {
          "output_type": "stream",
          "text": [
            " Multiple Comparison of Means - Tukey HSD, FWER=0.05 \n",
            "=====================================================\n",
            "group1  group2  meandiff p-adj   lower  upper  reject\n",
            "-----------------------------------------------------\n",
            "   CSP      IIR   0.0809 0.4437 -0.0811 0.2429  False\n",
            "   CSP Spectral   0.0714 0.5272 -0.0907 0.2334  False\n",
            "   IIR Spectral  -0.0095    0.9 -0.1716 0.1525  False\n",
            "-----------------------------------------------------\n"
          ],
          "name": "stdout"
        }
      ]
    },
    {
      "cell_type": "code",
      "metadata": {
        "colab": {
          "base_uri": "https://localhost:8080/"
        },
        "id": "-gNFZXqrArBt",
        "outputId": "11317121-0e62-4c19-bcce-41c18f88745a"
      },
      "source": [
        "# PD DATA\n",
        "\n",
        "# One-way ANOVA using statsmodel api\n",
        "\n",
        "oneD_multi_pd_formula = 'f1_weightedNet ~ C(Features)'\n",
        "oneD_multi_pd_model = ols(oneD_multi_pd_formula, oneD_multi_df[oneD_multi_df['Data']=='PD']).fit()\n",
        "oneD_multi_pd_aov_table = anova_lm(oneD_multi_pd_model, typ=2)\n",
        "print(oneD_multi_pd_aov_table)"
      ],
      "execution_count": null,
      "outputs": [
        {
          "output_type": "stream",
          "text": [
            "               sum_sq    df         F    PR(>F)\n",
            "C(Features)  0.009939   2.0  0.253072  0.778233\n",
            "Residual     0.530209  27.0       NaN       NaN\n"
          ],
          "name": "stdout"
        }
      ]
    },
    {
      "cell_type": "code",
      "metadata": {
        "colab": {
          "base_uri": "https://localhost:8080/"
        },
        "id": "cY93ggnzAuNv",
        "outputId": "f0312388-f998-40b4-c662-19bcb43769a7"
      },
      "source": [
        "# Comparison of means using Tukey HSD for PD data\n",
        "\n",
        "oneD_multi_pd_mc = MultiComparison(oneD_multi_df[oneD_multi_df['Data']=='PD']['f1_weightedNet'], oneD_multi_df[oneD_multi_df['Data']=='PD']['Features'])\n",
        "print(oneD_multi_pd_mc.tukeyhsd())"
      ],
      "execution_count": null,
      "outputs": [
        {
          "output_type": "stream",
          "text": [
            " Multiple Comparison of Means - Tukey HSD, FWER=0.05 \n",
            "=====================================================\n",
            "group1  group2  meandiff p-adj   lower  upper  reject\n",
            "-----------------------------------------------------\n",
            "   CSP      IIR   0.0137    0.9 -0.1417  0.169  False\n",
            "   CSP Spectral  -0.0299 0.8776 -0.1853 0.1254  False\n",
            "   IIR Spectral  -0.0436 0.7532 -0.1989 0.1118  False\n",
            "-----------------------------------------------------\n"
          ],
          "name": "stdout"
        }
      ]
    },
    {
      "cell_type": "code",
      "metadata": {
        "colab": {
          "base_uri": "https://localhost:8080/"
        },
        "id": "JeNplP5hAzlG",
        "outputId": "521729f0-a64b-402a-e603-9c60cbc9d0b8"
      },
      "source": [
        "# NC DATA\n",
        "\n",
        "# One-way ANOVA using statsmodel api\n",
        "\n",
        "oneD_multi_nc_formula = 'f1_weightedNet ~ C(Features)'\n",
        "oneD_multi_nc_model = ols(oneD_multi_nc_formula, oneD_multi_df[oneD_multi_df['Data']=='NC']).fit()\n",
        "oneD_multi_nc_aov_table = anova_lm(oneD_multi_nc_model, typ=2)\n",
        "print(oneD_multi_nc_aov_table)"
      ],
      "execution_count": null,
      "outputs": [
        {
          "output_type": "stream",
          "text": [
            "               sum_sq    df         F    PR(>F)\n",
            "C(Features)  0.002915   2.0  0.071885  0.930815\n",
            "Residual     0.547512  27.0       NaN       NaN\n"
          ],
          "name": "stdout"
        }
      ]
    },
    {
      "cell_type": "code",
      "metadata": {
        "colab": {
          "base_uri": "https://localhost:8080/"
        },
        "id": "N7dz1UllA2IY",
        "outputId": "48b90860-4680-4a61-ab9b-a1009ca4f075"
      },
      "source": [
        "# Comparison of means using Tukey HSD for NC data\n",
        "\n",
        "oneD_multi_nc_mc = MultiComparison(oneD_multi_df[oneD_multi_df['Data']=='NC']['f1_weightedNet'], oneD_multi_df[oneD_multi_df['Data']=='NC']['Features'])\n",
        "print(oneD_multi_nc_mc.tukeyhsd())"
      ],
      "execution_count": null,
      "outputs": [
        {
          "output_type": "stream",
          "text": [
            "Multiple Comparison of Means - Tukey HSD, FWER=0.05 \n",
            "====================================================\n",
            "group1  group2  meandiff p-adj  lower  upper  reject\n",
            "----------------------------------------------------\n",
            "   CSP      IIR   0.0226   0.9 -0.1353 0.1805  False\n",
            "   CSP Spectral   0.0039   0.9  -0.154 0.1618  False\n",
            "   IIR Spectral  -0.0187   0.9 -0.1766 0.1392  False\n",
            "----------------------------------------------------\n"
          ],
          "name": "stdout"
        }
      ]
    },
    {
      "cell_type": "code",
      "metadata": {
        "colab": {
          "base_uri": "https://localhost:8080/"
        },
        "id": "MGhxvtOzA4f8",
        "outputId": "1cb646c5-316b-42d9-9663-8374e5c189a5"
      },
      "source": [
        "# Two-way ANOVA using statsmodel api for PD and NC data\n",
        "\n",
        "oneD_multi_formula = 'f1_weightedNet ~ C(Features)+C(Data)+C(Features):C(Data)'\n",
        "oneD_multi_model = ols(oneD_multi_formula, oneD_multi_df[oneD_multi_df['Data'].isin(['PD', 'NC'])]).fit()\n",
        "oneD_multi_aov_table = anova_lm(oneD_multi_model, typ=2)\n",
        "print(oneD_multi_aov_table)"
      ],
      "execution_count": null,
      "outputs": [
        {
          "output_type": "stream",
          "text": [
            "                       sum_sq    df         F    PR(>F)\n",
            "C(Features)          0.009780   2.0  0.245018  0.783556\n",
            "C(Data)              0.013085   1.0  0.655625  0.421663\n",
            "C(Features):C(Data)  0.003075   2.0  0.077030  0.925964\n",
            "Residual             1.077721  54.0       NaN       NaN\n"
          ],
          "name": "stdout"
        }
      ]
    },
    {
      "cell_type": "code",
      "metadata": {
        "colab": {
          "base_uri": "https://localhost:8080/"
        },
        "id": "DA3h3PkeA7jd",
        "outputId": "43e04b61-cb8d-467a-8618-57322773044c"
      },
      "source": [
        "# T-test for individual features\n",
        "\n",
        "features = [\"Spectral\", \"CSP\", \"IIR\"]\n",
        "dummy_df = oneD_multi_df[oneD_multi_df['Data'].isin(['PD', 'NC'])]\n",
        "for i in features:\n",
        "  print(\"-----\", i, \"-----\")\n",
        "  dummy_df_2 = dummy_df[dummy_df['Features']==i]\n",
        "  d1=(dummy_df_2[dummy_df_2['Data']=='PD'])\n",
        "  d2=(dummy_df_2[dummy_df_2['Data']=='NC'])\n",
        "\n",
        "  stat, p = ttest_ind(d1['f1_weightedNet'].to_numpy(), d2['f1_weightedNet'].to_numpy(),equal_var=False)\n",
        "  print('stat=%.3f, p=%.3f' % (stat, p))\n",
        "  if p > 0.05:\n",
        "\t  print('Probably the same distribution')\n",
        "  else:\n",
        "\t  print('Probably different distributions')\n",
        "  print('\\n')"
      ],
      "execution_count": null,
      "outputs": [
        {
          "output_type": "stream",
          "text": [
            "----- Spectral -----\n",
            "stat=0.260, p=0.798\n",
            "Probably the same distribution\n",
            "\n",
            "\n",
            "----- CSP -----\n",
            "stat=2.319, p=0.034\n",
            "Probably different distributions\n",
            "\n",
            "\n",
            "----- IIR -----\n",
            "stat=0.346, p=0.733\n",
            "Probably the same distribution\n",
            "\n",
            "\n"
          ],
          "name": "stdout"
        }
      ]
    },
    {
      "cell_type": "code",
      "metadata": {
        "colab": {
          "base_uri": "https://localhost:8080/"
        },
        "id": "lNUU5ooTWvnE",
        "outputId": "0d9616ec-3da0-4de3-f00b-679c17568a21"
      },
      "source": [
        "# conf mat T-tests\n",
        "\n",
        "oneD_conf_df = pd.DataFrame()\n",
        "Data = [\"Full\", \"PD\", \"NC\"]\n",
        "features = [\"Spectral\", \"CSP\", \"IIR\"]\n",
        "emotions = [\"E1\", \"E2\", \"E3\", \"E4\", \"E5\", \"E6\"]\n",
        "\n",
        "for d in Data:\n",
        "  print(30*\"*\", d, 30*\"*\")\n",
        "  for f in features:\n",
        "    print(10*\"=\", f, 10*\"=\")\n",
        "    oneD_conf = get_metric('/content/drive/MyDrive/EEG_Analysis_PD_NC/Results/1D_CNN_Results/'+str(f)+'/CNN_1D_results_MultiClass_'+str(f)+'_'+str(d)+'.mat', 'conf_mat_list')\n",
        "    print(np.mean(oneD_conf, axis=0), '\\n')\n",
        "    l = 0\n",
        "    for k in emotions:\n",
        "      data_df = pd.DataFrame({'Accuracy': [i[l][l] for i in oneD_conf],'Emotions': len(oneD_conf)*[str(k)]})\n",
        "      oneD_conf_df = oneD_conf_df.append(data_df, ignore_index=True)\n",
        "      l = l+1\n",
        "\n",
        "    print('\\n--- One way Anova ---')\n",
        "\n",
        "    oneD_formula = 'Accuracy ~ C(Emotions)'\n",
        "    oneD_model = ols(oneD_formula, oneD_conf_df).fit()\n",
        "    oneD_aov_table = anova_lm(oneD_model, typ=2)\n",
        "    print(oneD_aov_table)\n",
        "    \n",
        "    print('\\n--- Tukey HSD ----')\n",
        "    # Tukey HSD test\n",
        "\n",
        "    oneD_mc = MultiComparison(oneD_conf_df['Accuracy'], oneD_conf_df['Emotions'])\n",
        "    print(oneD_mc.tukeyhsd())"
      ],
      "execution_count": null,
      "outputs": [
        {
          "output_type": "stream",
          "text": [
            "****************************** Full ******************************\n",
            "========== Spectral ==========\n",
            "[[0.82282158 0.06514523 0.04896266 0.03195021 0.01950207 0.01161826]\n",
            " [0.04806373 0.79050858 0.07192708 0.0324326  0.03322151 0.02384651]\n",
            " [0.04665802 0.07041148 0.73589212 0.07123271 0.04664765 0.02915802]\n",
            " [0.02406639 0.02738589 0.06763485 0.76182573 0.0746888  0.04439834]\n",
            " [0.02326426 0.05335582 0.04129478 0.0786008  0.70439679 0.09908755]\n",
            " [0.02650731 0.03837443 0.04156942 0.05660487 0.07555054 0.76139344]] \n",
            "\n",
            "\n",
            "--- One way Anova ---\n",
            "               sum_sq    df         F    PR(>F)\n",
            "C(Emotions)  0.085083   5.0  1.178027  0.332053\n",
            "Residual     0.780025  54.0       NaN       NaN\n",
            "\n",
            "--- Tukey HSD ----\n",
            "Multiple Comparison of Means - Tukey HSD, FWER=0.05\n",
            "===================================================\n",
            "group1 group2 meandiff p-adj   lower  upper  reject\n",
            "---------------------------------------------------\n",
            "    E1     E2  -0.0323    0.9 -0.1911 0.1265  False\n",
            "    E1     E3  -0.0869 0.5794 -0.2457 0.0719  False\n",
            "    E1     E4   -0.061 0.8509 -0.2198 0.0978  False\n",
            "    E1     E5  -0.1184 0.2532 -0.2772 0.0404  False\n",
            "    E1     E6  -0.0614 0.8464 -0.2202 0.0974  False\n",
            "    E2     E3  -0.0546    0.9 -0.2134 0.1042  False\n",
            "    E2     E4  -0.0287    0.9 -0.1875 0.1301  False\n",
            "    E2     E5  -0.0861  0.588 -0.2449 0.0727  False\n",
            "    E2     E6  -0.0291    0.9 -0.1879 0.1297  False\n",
            "    E3     E4   0.0259    0.9 -0.1329 0.1847  False\n",
            "    E3     E5  -0.0315    0.9 -0.1903 0.1273  False\n",
            "    E3     E6   0.0255    0.9 -0.1333 0.1843  False\n",
            "    E4     E5  -0.0574 0.8883 -0.2162 0.1014  False\n",
            "    E4     E6  -0.0004    0.9 -0.1592 0.1584  False\n",
            "    E5     E6    0.057 0.8928 -0.1018 0.2158  False\n",
            "---------------------------------------------------\n",
            "========== CSP ==========\n",
            "[[0.81774407 0.06854603 0.02717399 0.01546548 0.03720363 0.03386681]\n",
            " [0.09458645 0.73217371 0.05389482 0.0538741  0.02795378 0.03751713]\n",
            " [0.091234   0.09591826 0.63375885 0.07221269 0.03295251 0.07392369]\n",
            " [0.04747407 0.09534924 0.07953838 0.63770055 0.04206604 0.09787172]\n",
            " [0.05215979 0.04769165 0.03880599 0.06506954 0.61642125 0.17985177]\n",
            " [0.05291084 0.05171727 0.04210602 0.04808835 0.08702811 0.7181494 ]] \n",
            "\n",
            "\n",
            "--- One way Anova ---\n",
            "               sum_sq     df         F    PR(>F)\n",
            "C(Emotions)  0.339916    5.0  6.522836  0.000023\n",
            "Residual     1.188146  114.0       NaN       NaN\n",
            "\n",
            "--- Tukey HSD ----\n",
            "Multiple Comparison of Means - Tukey HSD, FWER=0.05 \n",
            "====================================================\n",
            "group1 group2 meandiff p-adj   lower   upper  reject\n",
            "----------------------------------------------------\n",
            "    E1     E2  -0.0589 0.4552 -0.1525  0.0346  False\n",
            "    E1     E3  -0.1355  0.001  -0.229 -0.0419   True\n",
            "    E1     E4  -0.1205 0.0039 -0.2141 -0.0269   True\n",
            "    E1     E5  -0.1599  0.001 -0.2535 -0.0663   True\n",
            "    E1     E6  -0.0805 0.1343 -0.1741  0.0131  False\n",
            "    E2     E3  -0.0765 0.1755 -0.1701  0.0171  False\n",
            "    E2     E4  -0.0616 0.4047 -0.1552   0.032  False\n",
            "    E2     E5  -0.1009 0.0266 -0.1945 -0.0073   True\n",
            "    E2     E6  -0.0216    0.9 -0.1152   0.072  False\n",
            "    E3     E4   0.0149    0.9 -0.0786  0.1085  False\n",
            "    E3     E5  -0.0244    0.9  -0.118  0.0692  False\n",
            "    E3     E6   0.0549 0.5287 -0.0386  0.1485  False\n",
            "    E4     E5  -0.0394 0.8041 -0.1329  0.0542  False\n",
            "    E4     E6     0.04 0.7925 -0.0536  0.1336  False\n",
            "    E5     E6   0.0794 0.1454 -0.0142  0.1729  False\n",
            "----------------------------------------------------\n",
            "========== IIR ==========\n",
            "[[0.78486865 0.04739018 0.03111972 0.04461456 0.04181955 0.05018734]\n",
            " [0.03579003 0.80997427 0.02516471 0.03580757 0.04508791 0.04817551]\n",
            " [0.0489193  0.06397821 0.75262645 0.04795819 0.04092922 0.04558863]\n",
            " [0.04257766 0.06247653 0.0379459  0.76488735 0.04257979 0.04953277]\n",
            " [0.04828035 0.05497678 0.02908792 0.0429152  0.76350496 0.06123479]\n",
            " [0.03677679 0.06599607 0.02614749 0.04742183 0.06029302 0.7633648 ]] \n",
            "\n",
            "\n",
            "--- One way Anova ---\n",
            "               sum_sq     df         F    PR(>F)\n",
            "C(Emotions)  0.286721    5.0  2.267494  0.049869\n",
            "Residual     4.400410  174.0       NaN       NaN\n",
            "\n",
            "--- Tukey HSD ----\n",
            "Multiple Comparison of Means - Tukey HSD, FWER=0.05\n",
            "===================================================\n",
            "group1 group2 meandiff p-adj   lower  upper  reject\n",
            "---------------------------------------------------\n",
            "    E1     E2  -0.0309    0.9 -0.1493 0.0874  False\n",
            "    E1     E3  -0.1011 0.1415 -0.2194 0.0173  False\n",
            "    E1     E4   -0.087 0.2825 -0.2053 0.0313  False\n",
            "    E1     E5  -0.1137 0.0676  -0.232 0.0046  False\n",
            "    E1     E6  -0.0608 0.6538 -0.1792 0.0575  False\n",
            "    E2     E3  -0.0701 0.5243 -0.1885 0.0482  False\n",
            "    E2     E4  -0.0561 0.7202 -0.1744 0.0622  False\n",
            "    E2     E5  -0.0828 0.3376 -0.2011 0.0355  False\n",
            "    E2     E6  -0.0299    0.9 -0.1482 0.0884  False\n",
            "    E3     E4    0.014    0.9 -0.1043 0.1324  False\n",
            "    E3     E5  -0.0127    0.9  -0.131 0.1057  False\n",
            "    E3     E6   0.0402    0.9 -0.0781 0.1585  False\n",
            "    E4     E5  -0.0267    0.9  -0.145 0.0916  False\n",
            "    E4     E6   0.0262    0.9 -0.0922 0.1445  False\n",
            "    E5     E6   0.0529 0.7651 -0.0655 0.1712  False\n",
            "---------------------------------------------------\n",
            "****************************** PD ******************************\n",
            "========== Spectral ==========\n",
            "[[0.85666667 0.0675     0.02166667 0.02166667 0.0225     0.01      ]\n",
            " [0.02519685 0.80472441 0.07559055 0.03070866 0.03070866 0.03307087]\n",
            " [0.02998623 0.0999449  0.73849862 0.05995179 0.0382989  0.03331956]\n",
            " [0.01739669 0.03969697 0.06953857 0.71371901 0.09183884 0.06780992]\n",
            " [0.01290323 0.04354839 0.03548387 0.08387097 0.73145161 0.09274194]\n",
            " [0.01024247 0.03543932 0.03073991 0.0519935  0.10241845 0.76916635]] \n",
            "\n",
            "\n",
            "--- One way Anova ---\n",
            "               sum_sq     df         F    PR(>F)\n",
            "C(Emotions)  0.416857    5.0  3.829848  0.002358\n",
            "Residual     5.093908  234.0       NaN       NaN\n",
            "\n",
            "--- Tukey HSD ----\n",
            "Multiple Comparison of Means - Tukey HSD, FWER=0.05 \n",
            "====================================================\n",
            "group1 group2 meandiff p-adj   lower   upper  reject\n",
            "----------------------------------------------------\n",
            "    E1     E2  -0.0362 0.8746  -0.131  0.0586  False\n",
            "    E1     E3  -0.1053 0.0197 -0.2001 -0.0105   True\n",
            "    E1     E4   -0.101 0.0293 -0.1958 -0.0062   True\n",
            "    E1     E5  -0.1166 0.0065 -0.2114 -0.0218   True\n",
            "    E1     E6  -0.0675 0.3195 -0.1623  0.0273  False\n",
            "    E2     E3  -0.0692  0.293  -0.164  0.0256  False\n",
            "    E2     E4  -0.0648 0.3669 -0.1596    0.03  False\n",
            "    E2     E5  -0.0804 0.1478 -0.1752  0.0144  False\n",
            "    E2     E6  -0.0313    0.9 -0.1261  0.0635  False\n",
            "    E3     E4   0.0043    0.9 -0.0905  0.0991  False\n",
            "    E3     E5  -0.0113    0.9 -0.1061  0.0836  False\n",
            "    E3     E6   0.0378  0.846  -0.057  0.1326  False\n",
            "    E4     E5  -0.0156    0.9 -0.1104  0.0792  False\n",
            "    E4     E6   0.0335    0.9 -0.0613  0.1283  False\n",
            "    E5     E6   0.0491 0.6503 -0.0457  0.1439  False\n",
            "----------------------------------------------------\n",
            "========== CSP ==========\n",
            "[[0.85467787 0.04872549 0.03277311 0.02015406 0.02182773 0.02184174]\n",
            " [0.06344516 0.81787742 0.04729677 0.03691613 0.01603871 0.01842581]\n",
            " [0.04636092 0.05403076 0.79752884 0.05733514 0.02534539 0.01939895]\n",
            " [0.0282438  0.04320248 0.04988981 0.80710055 0.04661157 0.02495179]\n",
            " [0.03806714 0.01949253 0.0275636  0.05925125 0.75415683 0.10146866]\n",
            " [0.03666667 0.02228571 0.02948571 0.05414603 0.09320635 0.76420952]] \n",
            "\n",
            "\n",
            "--- One way Anova ---\n",
            "               sum_sq     df        F    PR(>F)\n",
            "C(Emotions)  0.448426    5.0  4.75523  0.000341\n",
            "Residual     5.544932  294.0      NaN       NaN\n",
            "\n",
            "--- Tukey HSD ----\n",
            "Multiple Comparison of Means - Tukey HSD, FWER=0.05 \n",
            "====================================================\n",
            "group1 group2 meandiff p-adj   lower   upper  reject\n",
            "----------------------------------------------------\n",
            "    E1     E2  -0.0363 0.7454 -0.1151  0.0425  False\n",
            "    E1     E3  -0.0957 0.0074 -0.1745 -0.0169   True\n",
            "    E1     E4  -0.0903 0.0143 -0.1691 -0.0115   True\n",
            "    E1     E5  -0.1134  0.001 -0.1922 -0.0346   True\n",
            "    E1     E6  -0.0721 0.0944 -0.1509  0.0067  False\n",
            "    E2     E3  -0.0594 0.2587 -0.1382  0.0194  False\n",
            "    E2     E4   -0.054 0.3652 -0.1328  0.0248  False\n",
            "    E2     E5  -0.0771 0.0594 -0.1559  0.0017  False\n",
            "    E2     E6  -0.0358 0.7561 -0.1146   0.043  False\n",
            "    E3     E4   0.0054    0.9 -0.0734  0.0842  False\n",
            "    E3     E5  -0.0177    0.9 -0.0965  0.0611  False\n",
            "    E3     E6   0.0236    0.9 -0.0552  0.1024  False\n",
            "    E4     E5  -0.0231    0.9 -0.1019  0.0557  False\n",
            "    E4     E6   0.0182    0.9 -0.0606   0.097  False\n",
            "    E5     E6   0.0413 0.6416 -0.0375  0.1201  False\n",
            "----------------------------------------------------\n",
            "========== IIR ==========\n",
            "[[0.86644168 0.04858082 0.02988058 0.01962617 0.01586189 0.01960886]\n",
            " [0.04961283 0.84128477 0.02745733 0.0221634  0.02752845 0.03195322]\n",
            " [0.07409628 0.05243343 0.79761065 0.03094692 0.02338212 0.02153059]\n",
            " [0.05818043 0.05819742 0.03965341 0.78295957 0.02126232 0.03974686]\n",
            " [0.05557432 0.04661358 0.02780727 0.03501448 0.78921332 0.04577703]\n",
            " [0.04673964 0.04943332 0.02914144 0.03444341 0.03520416 0.80503804]] \n",
            "\n",
            "\n",
            "--- One way Anova ---\n",
            "               sum_sq     df         F    PR(>F)\n",
            "C(Emotions)  0.495033    5.0  4.162183  0.001094\n",
            "Residual     8.420658  354.0       NaN       NaN\n",
            "\n",
            "--- Tukey HSD ----\n",
            "Multiple Comparison of Means - Tukey HSD, FWER=0.05 \n",
            "====================================================\n",
            "group1 group2 meandiff p-adj   lower   upper  reject\n",
            "----------------------------------------------------\n",
            "    E1     E2  -0.0344 0.8021 -0.1151  0.0462  False\n",
            "    E1     E3  -0.0912 0.0164 -0.1719 -0.0105   True\n",
            "    E1     E4  -0.0892 0.0206 -0.1699 -0.0085   True\n",
            "    E1     E5  -0.1073 0.0022  -0.188 -0.0267   True\n",
            "    E1     E6  -0.0703 0.1273  -0.151  0.0104  False\n",
            "    E2     E3  -0.0568 0.3352 -0.1375  0.0239  False\n",
            "    E2     E4  -0.0547 0.3786 -0.1354   0.026  False\n",
            "    E2     E5  -0.0729 0.1026 -0.1536  0.0078  False\n",
            "    E2     E6  -0.0359  0.773 -0.1166  0.0448  False\n",
            "    E3     E4    0.002    0.9 -0.0786  0.0827  False\n",
            "    E3     E5  -0.0161    0.9 -0.0968  0.0646  False\n",
            "    E3     E6   0.0209    0.9 -0.0598  0.1016  False\n",
            "    E4     E5  -0.0182    0.9 -0.0989  0.0625  False\n",
            "    E4     E6   0.0189    0.9 -0.0618  0.0995  False\n",
            "    E5     E6    0.037 0.7493 -0.0437  0.1177  False\n",
            "----------------------------------------------------\n",
            "****************************** NC ******************************\n",
            "========== Spectral ==========\n",
            "[[0.79752066 0.06446281 0.03636364 0.04380165 0.02561983 0.0322314 ]\n",
            " [0.04427083 0.84705063 0.03026284 0.02641715 0.03415092 0.01784763]\n",
            " [0.06916667 0.07833333 0.6725     0.06666667 0.05833333 0.055     ]\n",
            " [0.0332438  0.0531405  0.04159091 0.74396006 0.07739669 0.05066804]\n",
            " [0.03749841 0.07273016 0.03513651 0.05584762 0.71486984 0.08391746]\n",
            " [0.02699683 0.04369524 0.03890794 0.0524254  0.06191746 0.77605714]] \n",
            "\n",
            "\n",
            "--- One way Anova ---\n",
            "               sum_sq     df         F    PR(>F)\n",
            "C(Emotions)  0.616335    5.0  5.554767  0.000058\n",
            "Residual     9.187164  414.0       NaN       NaN\n",
            "\n",
            "--- Tukey HSD ----\n",
            "Multiple Comparison of Means - Tukey HSD, FWER=0.05 \n",
            "====================================================\n",
            "group1 group2 meandiff p-adj   lower   upper  reject\n",
            "----------------------------------------------------\n",
            "    E1     E2  -0.0224    0.9 -0.0945  0.0496  False\n",
            "    E1     E3   -0.096 0.0022 -0.1681  -0.024   True\n",
            "    E1     E4  -0.0841 0.0117 -0.1562  -0.012   True\n",
            "    E1     E5  -0.1038  0.001 -0.1759 -0.0317   True\n",
            "    E1     E6  -0.0633 0.1222 -0.1354  0.0088  False\n",
            "    E2     E3  -0.0736 0.0423 -0.1457 -0.0015   True\n",
            "    E2     E4  -0.0616 0.1423 -0.1337  0.0105  False\n",
            "    E2     E5  -0.0814 0.0167 -0.1535 -0.0093   True\n",
            "    E2     E6  -0.0409 0.5717  -0.113  0.0312  False\n",
            "    E3     E4    0.012    0.9 -0.0601  0.0841  False\n",
            "    E3     E5  -0.0078    0.9 -0.0799  0.0643  False\n",
            "    E3     E6   0.0327 0.7586 -0.0394  0.1048  False\n",
            "    E4     E5  -0.0197    0.9 -0.0918  0.0524  False\n",
            "    E4     E6   0.0207    0.9 -0.0513  0.0928  False\n",
            "    E5     E6   0.0405  0.581 -0.0316  0.1126  False\n",
            "----------------------------------------------------\n",
            "========== CSP ==========\n",
            "[[0.81358815 0.06991736 0.04328512 0.01829201 0.03078512 0.02413223]\n",
            " [0.03733333 0.82747302 0.05330159 0.05724444 0.01431111 0.01033651]\n",
            " [0.03465318 0.08792195 0.7210084  0.0913189  0.02619997 0.03889759]\n",
            " [0.02417367 0.09507003 0.0967577  0.71560224 0.04255602 0.02584034]\n",
            " [0.029      0.03947742 0.03947097 0.07087097 0.73745161 0.08372903]\n",
            " [0.02669814 0.05500262 0.05334382 0.05093758 0.1010556  0.71296223]] \n",
            "\n",
            "\n",
            "--- One way Anova ---\n",
            "               sum_sq     df       F    PR(>F)\n",
            "C(Emotions)  0.719174    5.0  7.1579  0.000002\n",
            "Residual     9.524814  474.0     NaN       NaN\n",
            "\n",
            "--- Tukey HSD ----\n",
            "Multiple Comparison of Means - Tukey HSD, FWER=0.05 \n",
            "====================================================\n",
            "group1 group2 meandiff p-adj   lower   upper  reject\n",
            "----------------------------------------------------\n",
            "    E1     E2  -0.0179    0.9  -0.082  0.0462  False\n",
            "    E1     E3  -0.0956  0.001 -0.1597 -0.0315   True\n",
            "    E1     E4  -0.0858  0.002   -0.15 -0.0217   True\n",
            "    E1     E5  -0.1004  0.001 -0.1645 -0.0362   True\n",
            "    E1     E6   -0.068 0.0304 -0.1321 -0.0039   True\n",
            "    E2     E3  -0.0777 0.0075 -0.1418 -0.0136   True\n",
            "    E2     E4  -0.0679 0.0308  -0.132 -0.0038   True\n",
            "    E2     E5  -0.0825 0.0035 -0.1466 -0.0183   True\n",
            "    E2     E6  -0.0501 0.2238 -0.1142   0.014  False\n",
            "    E3     E4   0.0098    0.9 -0.0543  0.0739  False\n",
            "    E3     E5  -0.0047    0.9 -0.0689  0.0594  False\n",
            "    E3     E6   0.0276 0.7971 -0.0365  0.0917  False\n",
            "    E4     E5  -0.0145    0.9 -0.0787  0.0496  False\n",
            "    E4     E6   0.0178    0.9 -0.0463   0.082  False\n",
            "    E5     E6   0.0324 0.6753 -0.0318  0.0965  False\n",
            "----------------------------------------------------\n",
            "========== IIR ==========\n",
            "[[0.75262487 0.03507475 0.06103466 0.0506371  0.03598369 0.06464492]\n",
            " [0.03875175 0.76096103 0.05292656 0.04062257 0.03527403 0.07146406]\n",
            " [0.02071945 0.03004761 0.82175101 0.05242462 0.02719097 0.04786634]\n",
            " [0.02964694 0.04074074 0.05002596 0.79715299 0.02409138 0.05834199]\n",
            " [0.03026233 0.04100822 0.04971555 0.04100032 0.76053255 0.07748104]\n",
            " [0.02869208 0.03499839 0.04405566 0.05395753 0.04934846 0.78894788]] \n",
            "\n",
            "\n",
            "--- One way Anova ---\n",
            "                sum_sq     df         F    PR(>F)\n",
            "C(Emotions)   0.578259    5.0  4.771837  0.000282\n",
            "Residual     12.942203  534.0       NaN       NaN\n",
            "\n",
            "--- Tukey HSD ----\n",
            "Multiple Comparison of Means - Tukey HSD, FWER=0.05 \n",
            "====================================================\n",
            "group1 group2 meandiff p-adj   lower   upper  reject\n",
            "----------------------------------------------------\n",
            "    E1     E2   -0.015    0.9 -0.0814  0.0514  False\n",
            "    E1     E3  -0.0773 0.0118 -0.1437 -0.0109   True\n",
            "    E1     E4  -0.0713 0.0268 -0.1377  -0.005   True\n",
            "    E1     E5  -0.0883 0.0022 -0.1547  -0.022   True\n",
            "    E1     E6  -0.0564 0.1475 -0.1228    0.01  False\n",
            "    E2     E3  -0.0623 0.0801 -0.1287  0.0041  False\n",
            "    E2     E4  -0.0563 0.1484 -0.1227    0.01  False\n",
            "    E2     E5  -0.0733 0.0206 -0.1397  -0.007   True\n",
            "    E2     E6  -0.0414 0.4775 -0.1078   0.025  False\n",
            "    E3     E4    0.006    0.9 -0.0604  0.0723  False\n",
            "    E3     E5   -0.011    0.9 -0.0774  0.0554  False\n",
            "    E3     E6   0.0209    0.9 -0.0455  0.0873  False\n",
            "    E4     E5   -0.017    0.9 -0.0834  0.0494  False\n",
            "    E4     E6   0.0149    0.9 -0.0514  0.0813  False\n",
            "    E5     E6   0.0319 0.7146 -0.0345  0.0983  False\n",
            "----------------------------------------------------\n"
          ],
          "name": "stdout"
        }
      ]
    },
    {
      "cell_type": "code",
      "metadata": {
        "colab": {
          "base_uri": "https://localhost:8080/"
        },
        "id": "FQSahqzRjA-X",
        "outputId": "7c687ba3-7ca5-4a8d-8751-cdf2eb65152a"
      },
      "source": [
        "# conf mat T-tests\n",
        "\n",
        "oneD_conf_df = pd.DataFrame()\n",
        "Data = [\"NC\"]\n",
        "features = [\"Spectral\"]\n",
        "emotions = [\"E1\", \"E2\", \"E3\", \"E4\", \"E5\", \"E6\"]\n",
        "\n",
        "for d in Data:\n",
        "  print(30*\"*\", d, 30*\"*\")\n",
        "  for f in features:\n",
        "    print(10*\"=\", f, 10*\"=\")\n",
        "    oneD_conf = get_metric('/content/drive/MyDrive/EEG_Analysis_PD_NC/Results/1D_CNN_Results/'+str(f)+'/CNN_1D_results_MultiClass_'+str(f)+'_'+str(d)+'.mat', 'conf_mat_list')\n",
        "    print(np.mean(oneD_conf, axis=0), '\\n')\n",
        "    l = 0\n",
        "    for k in emotions:\n",
        "      data_df = pd.DataFrame({'Accuracy': [i[l][l] for i in oneD_conf],'Emotions': len(oneD_conf)*[str(k)]})\n",
        "      oneD_conf_df = oneD_conf_df.append(data_df, ignore_index=True)\n",
        "      l = l+1\n",
        "\n",
        "    print('\\n--- One way Anova ---')\n",
        "\n",
        "    oneD_formula = 'Accuracy ~ C(Emotions)'\n",
        "    oneD_model = ols(oneD_formula, oneD_conf_df).fit()\n",
        "    oneD_aov_table = anova_lm(oneD_model, typ=2)\n",
        "    print(oneD_aov_table)\n",
        "    \n",
        "    print('\\n--- Tukey HSD ----')\n",
        "    # Tukey HSD test\n",
        "\n",
        "    oneD_mc = MultiComparison(oneD_conf_df['Accuracy'], oneD_conf_df['Emotions'])\n",
        "    print(oneD_mc.tukeyhsd())"
      ],
      "execution_count": null,
      "outputs": [
        {
          "output_type": "stream",
          "text": [
            "****************************** NC ******************************\n",
            "========== Spectral ==========\n",
            "[[0.79752066 0.06446281 0.03636364 0.04380165 0.02561983 0.0322314 ]\n",
            " [0.04427083 0.84705063 0.03026284 0.02641715 0.03415092 0.01784763]\n",
            " [0.06916667 0.07833333 0.6725     0.06666667 0.05833333 0.055     ]\n",
            " [0.0332438  0.0531405  0.04159091 0.74396006 0.07739669 0.05066804]\n",
            " [0.03749841 0.07273016 0.03513651 0.05584762 0.71486984 0.08391746]\n",
            " [0.02699683 0.04369524 0.03890794 0.0524254  0.06191746 0.77605714]] \n",
            "\n",
            "\n",
            "--- One way Anova ---\n",
            "               sum_sq    df         F    PR(>F)\n",
            "C(Emotions)  0.191829   5.0  2.998001  0.018473\n",
            "Residual     0.691046  54.0       NaN       NaN\n",
            "\n",
            "--- Tukey HSD ----\n",
            "Multiple Comparison of Means - Tukey HSD, FWER=0.05 \n",
            "====================================================\n",
            "group1 group2 meandiff p-adj   lower   upper  reject\n",
            "----------------------------------------------------\n",
            "    E1     E2   0.0495    0.9 -0.0999   0.199  False\n",
            "    E1     E3   -0.125  0.151 -0.2745  0.0244  False\n",
            "    E1     E4  -0.0536 0.8938  -0.203  0.0959  False\n",
            "    E1     E5  -0.0827 0.5702 -0.2321  0.0668  False\n",
            "    E1     E6  -0.0215    0.9 -0.1709   0.128  False\n",
            "    E2     E3  -0.1746 0.0133  -0.324 -0.0251   True\n",
            "    E2     E4  -0.1031 0.3353 -0.2526  0.0464  False\n",
            "    E2     E5  -0.1322 0.1119 -0.2816  0.0173  False\n",
            "    E2     E6   -0.071 0.6999 -0.2205  0.0785  False\n",
            "    E3     E4   0.0715 0.6947  -0.078  0.2209  False\n",
            "    E3     E5   0.0424    0.9 -0.1071  0.1918  False\n",
            "    E3     E6   0.1036 0.3303 -0.0459   0.253  False\n",
            "    E4     E5  -0.0291    0.9 -0.1786  0.1204  False\n",
            "    E4     E6   0.0321    0.9 -0.1174  0.1816  False\n",
            "    E5     E6   0.0612 0.8089 -0.0883  0.2107  False\n",
            "----------------------------------------------------\n"
          ],
          "name": "stdout"
        }
      ]
    },
    {
      "cell_type": "code",
      "metadata": {
        "colab": {
          "base_uri": "https://localhost:8080/"
        },
        "id": "9Y56ouPCjfuF",
        "outputId": "5b73fbdf-663b-4d62-cca8-14e6576adcb3"
      },
      "source": [
        "# conf mat T-tests\n",
        "\n",
        "oneD_conf_df = pd.DataFrame()\n",
        "Data = [\"NC\"]\n",
        "features = [\"CSP\"]\n",
        "emotions = [\"E1\", \"E2\", \"E3\", \"E4\", \"E5\", \"E6\"]\n",
        "\n",
        "for d in Data:\n",
        "  print(30*\"*\", d, 30*\"*\")\n",
        "  for f in features:\n",
        "    print(10*\"=\", f, 10*\"=\")\n",
        "    oneD_conf = get_metric('/content/drive/MyDrive/EEG_Analysis_PD_NC/Results/1D_CNN_Results/'+str(f)+'/CNN_1D_results_MultiClass_'+str(f)+'_'+str(d)+'.mat', 'conf_mat_list')\n",
        "    print(np.mean(oneD_conf, axis=0), '\\n')\n",
        "    l = 0\n",
        "    for k in emotions:\n",
        "      data_df = pd.DataFrame({'Accuracy': [i[l][l] for i in oneD_conf],'Emotions': len(oneD_conf)*[str(k)]})\n",
        "      oneD_conf_df = oneD_conf_df.append(data_df, ignore_index=True)\n",
        "      l = l+1\n",
        "\n",
        "    print('\\n--- One way Anova ---')\n",
        "\n",
        "    oneD_formula = 'Accuracy ~ C(Emotions)'\n",
        "    oneD_model = ols(oneD_formula, oneD_conf_df).fit()\n",
        "    oneD_aov_table = anova_lm(oneD_model, typ=2)\n",
        "    print(oneD_aov_table)\n",
        "    \n",
        "    print('\\n--- Tukey HSD ----')\n",
        "    # Tukey HSD test\n",
        "\n",
        "    oneD_mc = MultiComparison(oneD_conf_df['Accuracy'], oneD_conf_df['Emotions'])\n",
        "    print(oneD_mc.tukeyhsd())"
      ],
      "execution_count": null,
      "outputs": [
        {
          "output_type": "stream",
          "text": [
            "****************************** NC ******************************\n",
            "========== CSP ==========\n",
            "[[0.81358815 0.06991736 0.04328512 0.01829201 0.03078512 0.02413223]\n",
            " [0.03733333 0.82747302 0.05330159 0.05724444 0.01431111 0.01033651]\n",
            " [0.03465318 0.08792195 0.7210084  0.0913189  0.02619997 0.03889759]\n",
            " [0.02417367 0.09507003 0.0967577  0.71560224 0.04255602 0.02584034]\n",
            " [0.029      0.03947742 0.03947097 0.07087097 0.73745161 0.08372903]\n",
            " [0.02669814 0.05500262 0.05334382 0.05093758 0.1010556  0.71296223]] \n",
            "\n",
            "\n",
            "--- One way Anova ---\n",
            "              sum_sq    df         F    PR(>F)\n",
            "C(Emotions)  0.13467   5.0  4.884281  0.000929\n",
            "Residual     0.29778  54.0       NaN       NaN\n",
            "\n",
            "--- Tukey HSD ----\n",
            "Multiple Comparison of Means - Tukey HSD, FWER=0.05 \n",
            "====================================================\n",
            "group1 group2 meandiff p-adj   lower   upper  reject\n",
            "----------------------------------------------------\n",
            "    E1     E2   0.0139    0.9 -0.0842   0.112  False\n",
            "    E1     E3  -0.0926 0.0751 -0.1907  0.0055  False\n",
            "    E1     E4   -0.098 0.0505 -0.1961  0.0001  False\n",
            "    E1     E5  -0.0761  0.215 -0.1743   0.022  False\n",
            "    E1     E6  -0.1006 0.0414 -0.1987 -0.0025   True\n",
            "    E2     E3  -0.1065 0.0261 -0.2046 -0.0083   True\n",
            "    E2     E4  -0.1119 0.0167   -0.21 -0.0138   True\n",
            "    E2     E5    -0.09 0.0895 -0.1881  0.0081  False\n",
            "    E2     E6  -0.1145 0.0133 -0.2126 -0.0164   True\n",
            "    E3     E4  -0.0054    0.9 -0.1035  0.0927  False\n",
            "    E3     E5   0.0164    0.9 -0.0817  0.1146  False\n",
            "    E3     E6   -0.008    0.9 -0.1062  0.0901  False\n",
            "    E4     E5   0.0218    0.9 -0.0763    0.12  False\n",
            "    E4     E6  -0.0026    0.9 -0.1008  0.0955  False\n",
            "    E5     E6  -0.0245    0.9 -0.1226  0.0736  False\n",
            "----------------------------------------------------\n"
          ],
          "name": "stdout"
        }
      ]
    },
    {
      "cell_type": "code",
      "metadata": {
        "colab": {
          "base_uri": "https://localhost:8080/"
        },
        "id": "KcDPs6sOjg2L",
        "outputId": "4f9c3ed1-d544-4d45-8042-99f5575ed3f3"
      },
      "source": [
        "# conf mat T-tests\n",
        "\n",
        "oneD_conf_df = pd.DataFrame()\n",
        "Data = [\"NC\"]\n",
        "features = [\"IIR\"]\n",
        "emotions = [\"E1\", \"E2\", \"E3\", \"E4\", \"E5\", \"E6\"]\n",
        "\n",
        "for d in Data:\n",
        "  print(30*\"*\", d, 30*\"*\")\n",
        "  for f in features:\n",
        "    print(10*\"=\", f, 10*\"=\")\n",
        "    oneD_conf = get_metric('/content/drive/MyDrive/EEG_Analysis_PD_NC/Results/1D_CNN_Results/'+str(f)+'/CNN_1D_results_MultiClass_'+str(f)+'_'+str(d)+'.mat', 'conf_mat_list')\n",
        "    print(np.mean(oneD_conf, axis=0), '\\n')\n",
        "    l = 0\n",
        "    for k in emotions:\n",
        "      data_df = pd.DataFrame({'Accuracy': [i[l][l] for i in oneD_conf],'Emotions': len(oneD_conf)*[str(k)]})\n",
        "      oneD_conf_df = oneD_conf_df.append(data_df, ignore_index=True)\n",
        "      l = l+1\n",
        "\n",
        "    print('\\n--- One way Anova ---')\n",
        "\n",
        "    oneD_formula = 'Accuracy ~ C(Emotions)'\n",
        "    oneD_model = ols(oneD_formula, oneD_conf_df).fit()\n",
        "    oneD_aov_table = anova_lm(oneD_model, typ=2)\n",
        "    print(oneD_aov_table)\n",
        "    \n",
        "    print('\\n--- Tukey HSD ----')\n",
        "    # Tukey HSD test\n",
        "\n",
        "    oneD_mc = MultiComparison(oneD_conf_df['Accuracy'], oneD_conf_df['Emotions'])\n",
        "    print(oneD_mc.tukeyhsd())"
      ],
      "execution_count": null,
      "outputs": [
        {
          "output_type": "stream",
          "text": [
            "****************************** NC ******************************\n",
            "========== IIR ==========\n",
            "[[0.75262487 0.03507475 0.06103466 0.0506371  0.03598369 0.06464492]\n",
            " [0.03875175 0.76096103 0.05292656 0.04062257 0.03527403 0.07146406]\n",
            " [0.02071945 0.03004761 0.82175101 0.05242462 0.02719097 0.04786634]\n",
            " [0.02964694 0.04074074 0.05002596 0.79715299 0.02409138 0.05834199]\n",
            " [0.03026233 0.04100822 0.04971555 0.04100032 0.76053255 0.07748104]\n",
            " [0.02869208 0.03499839 0.04405566 0.05395753 0.04934846 0.78894788]] \n",
            "\n",
            "\n",
            "--- One way Anova ---\n",
            "               sum_sq    df         F    PR(>F)\n",
            "C(Emotions)  0.036077   5.0  0.120677  0.987235\n",
            "Residual     3.228683  54.0       NaN       NaN\n",
            "\n",
            "--- Tukey HSD ----\n",
            "Multiple Comparison of Means - Tukey HSD, FWER=0.05\n",
            "==================================================\n",
            "group1 group2 meandiff p-adj  lower  upper  reject\n",
            "--------------------------------------------------\n",
            "    E1     E2   0.0083   0.9 -0.3147 0.3314  False\n",
            "    E1     E3   0.0691   0.9  -0.254 0.3922  False\n",
            "    E1     E4   0.0445   0.9 -0.2786 0.3676  False\n",
            "    E1     E5   0.0079   0.9 -0.3152  0.331  False\n",
            "    E1     E6   0.0363   0.9 -0.2868 0.3594  False\n",
            "    E2     E3   0.0608   0.9 -0.2623 0.3839  False\n",
            "    E2     E4   0.0362   0.9 -0.2869 0.3593  False\n",
            "    E2     E5  -0.0004   0.9 -0.3235 0.3227  False\n",
            "    E2     E6    0.028   0.9 -0.2951 0.3511  False\n",
            "    E3     E4  -0.0246   0.9 -0.3477 0.2985  False\n",
            "    E3     E5  -0.0612   0.9 -0.3843 0.2619  False\n",
            "    E3     E6  -0.0328   0.9 -0.3559 0.2903  False\n",
            "    E4     E5  -0.0366   0.9 -0.3597 0.2865  False\n",
            "    E4     E6  -0.0082   0.9 -0.3313 0.3149  False\n",
            "    E5     E6   0.0284   0.9 -0.2947 0.3515  False\n",
            "--------------------------------------------------\n"
          ],
          "name": "stdout"
        }
      ]
    },
    {
      "cell_type": "markdown",
      "metadata": {
        "id": "z_6IB_Fowiep"
      },
      "source": [
        "# 2D-CNN"
      ]
    },
    {
      "cell_type": "code",
      "metadata": {
        "colab": {
          "base_uri": "https://localhost:8080/"
        },
        "id": "wkL9GOaQd4C7",
        "outputId": "843f42ee-7111-4770-cae2-c77ed49487df"
      },
      "source": [
        "# conf mat T-tests\n",
        "def get_metric(dataPath, metric):\n",
        "  matContent = sio.loadmat(dataPath)\n",
        "  #print(matContent)\n",
        "  metric = matContent[metric]\n",
        "  return metric\n",
        "\n",
        "twoD_conf_df = pd.DataFrame()\n",
        "Data = [\"Full\"]\n",
        "for j in Data:\n",
        "  print(\"-----\", j, \"----\")\n",
        "  twoD_conf = get_metric('/content/drive/MyDrive/EEG_Analysis_PD_NC/Results/CNN_2D_our/CNN_2D_results_PDNC_'+str(j)+'.mat', 'conf_mat_list')\n",
        "  print(np.mean(twoD_conf, axis=0), '\\n')\n",
        "  twoD_conf_nc = [i[0][0] for i in twoD_conf]\n",
        "  twoD_conf_pd = [i[1][1] for i in twoD_conf]\n",
        "  stat, p = ttest_ind(twoD_conf_nc, twoD_conf_pd,equal_var=False)\n",
        "  print('stat=%.3f, p=%.3f' % (stat, p))\n",
        "  if p > 0.05:\n",
        "    print('Probably the same distribution')\n",
        "  else:\n",
        "    print('Probably different distributions')\n",
        "  print('\\n')"
      ],
      "execution_count": null,
      "outputs": [
        {
          "output_type": "stream",
          "text": [
            "----- Full ----\n",
            "[[0.9877193  0.0122807 ]\n",
            " [0.00947391 0.99052609]] \n",
            "\n",
            "stat=-0.587, p=0.566\n",
            "Probably the same distribution\n",
            "\n",
            "\n"
          ],
          "name": "stdout"
        }
      ]
    },
    {
      "cell_type": "code",
      "metadata": {
        "colab": {
          "base_uri": "https://localhost:8080/"
        },
        "id": "ev6GcuY4wk1s",
        "outputId": "3e695a76-f734-4b60-c5e8-6240a2efdcee"
      },
      "source": [
        "# PD vs NC Individual Emotions\n",
        "\n",
        "def get_metric(dataPath, metric):\n",
        "  matContent = sio.loadmat(dataPath)\n",
        "  metric = matContent[metric]\n",
        "  return metric\n",
        "\n",
        "# Create a DataFrame\n",
        "twoD_pdnc_emot_df = pd.DataFrame()\n",
        "emotions = [\"E1\", \"E2\", \"E3\", \"E4\", \"E5\", \"E6\"]\n",
        "for j in emotions:\n",
        "  twoD_pdnc_emot_f1 = get_metric('/content/drive/MyDrive/EEG_Analysis_PD_NC/Results/CNN_2D_our/CNN_2D_results_PDNC_'+str(j)+'.mat', 'f1_weightedNet')\n",
        "  data = pd.DataFrame({'f1_weightedNet': twoD_pdnc_emot_f1[0],'Emotions': len(twoD_pdnc_emot_f1[0])*[str(j)]})\n",
        "  twoD_pdnc_emot_df = twoD_pdnc_emot_df.append(data, ignore_index=True)\n",
        "\n",
        "print(twoD_pdnc_emot_df)"
      ],
      "execution_count": null,
      "outputs": [
        {
          "output_type": "stream",
          "text": [
            "    f1_weightedNet Emotions\n",
            "0         0.983401       E1\n",
            "1         0.975103       E1\n",
            "2         0.995851       E1\n",
            "3         1.000000       E1\n",
            "4         0.991701       E1\n",
            "5         0.991701       E1\n",
            "6         0.983397       E1\n",
            "7         0.975086       E1\n",
            "8         0.987551       E1\n",
            "9         0.995851       E1\n",
            "10        0.953119       E2\n",
            "11        0.933449       E2\n",
            "12        0.988281       E2\n",
            "13        1.000000       E2\n",
            "14        0.976560       E2\n",
            "15        0.988281       E2\n",
            "16        0.980469       E2\n",
            "17        0.996094       E2\n",
            "18        0.996078       E2\n",
            "19        1.000000       E2\n",
            "20        0.954347       E3\n",
            "21        0.979166       E3\n",
            "22        0.983329       E3\n",
            "23        0.983333       E3\n",
            "24        0.987498       E3\n",
            "25        1.000000       E3\n",
            "26        0.983332       E3\n",
            "27        0.995833       E3\n",
            "28        0.991666       E3\n",
            "29        0.991666       E3\n",
            "30        0.925273       E4\n",
            "31        0.983402       E4\n",
            "32        0.983402       E4\n",
            "33        0.970939       E4\n",
            "34        0.991701       E4\n",
            "35        0.975101       E4\n",
            "36        0.987551       E4\n",
            "37        0.991701       E4\n",
            "38        0.970926       E4\n",
            "39        1.000000       E4\n",
            "40        0.915867       E5\n",
            "41        0.923688       E5\n",
            "42        0.992000       E5\n",
            "43        0.971887       E5\n",
            "44        0.987951       E5\n",
            "45        0.995984       E5\n",
            "46        0.983935       E5\n",
            "47        0.983935       E5\n",
            "48        0.987952       E5\n",
            "49        0.991968       E5\n",
            "50        0.928620       E6\n",
            "51        0.976282       E6\n",
            "52        0.996047       E6\n",
            "53        0.992094       E6\n",
            "54        0.988142       E6\n",
            "55        0.988142       E6\n",
            "56        0.984189       E6\n",
            "57        1.000000       E6\n",
            "58        0.988095       E6\n",
            "59        1.000000       E6\n"
          ],
          "name": "stdout"
        }
      ]
    },
    {
      "cell_type": "code",
      "metadata": {
        "colab": {
          "base_uri": "https://localhost:8080/"
        },
        "id": "ZAcCGaa9ylSa",
        "outputId": "9a62698a-2970-4b29-8720-83025094ed45"
      },
      "source": [
        "# One way anova \n",
        "\n",
        "twoD_pdnc_formula = 'f1_weightedNet ~ C(Emotions)'\n",
        "twoD_pdnc_model = ols(twoD_pdnc_formula, twoD_pdnc_emot_df).fit()\n",
        "twoD_pdnc_aov_table = anova_lm(twoD_pdnc_model, typ=2)\n",
        "print(twoD_pdnc_aov_table)"
      ],
      "execution_count": null,
      "outputs": [
        {
          "output_type": "stream",
          "text": [
            "               sum_sq    df         F    PR(>F)\n",
            "C(Emotions)  0.001372   5.0  0.677699  0.642183\n",
            "Residual     0.021858  54.0       NaN       NaN\n"
          ],
          "name": "stdout"
        }
      ]
    },
    {
      "cell_type": "code",
      "metadata": {
        "colab": {
          "base_uri": "https://localhost:8080/"
        },
        "id": "ApqjaCWKzY3M",
        "outputId": "6703b129-1c51-4505-a704-9fc55ff8fe43"
      },
      "source": [
        "# Tukey HSD test\n",
        "\n",
        "twoD_pdnc_mc = MultiComparison(twoD_pdnc_emot_df['f1_weightedNet'], twoD_pdnc_emot_df['Emotions'])\n",
        "print(twoD_pdnc_mc.tukeyhsd())"
      ],
      "execution_count": null,
      "outputs": [
        {
          "output_type": "stream",
          "text": [
            "Multiple Comparison of Means - Tukey HSD, FWER=0.05\n",
            "===================================================\n",
            "group1 group2 meandiff p-adj   lower  upper  reject\n",
            "---------------------------------------------------\n",
            "    E1     E2  -0.0067    0.9 -0.0333 0.0199  False\n",
            "    E1     E3  -0.0029    0.9 -0.0295 0.0236  False\n",
            "    E1     E4    -0.01 0.8663 -0.0365 0.0166  False\n",
            "    E1     E5  -0.0144  0.586  -0.041 0.0121  False\n",
            "    E1     E6  -0.0038    0.9 -0.0304 0.0228  False\n",
            "    E2     E3   0.0038    0.9 -0.0228 0.0304  False\n",
            "    E2     E4  -0.0032    0.9 -0.0298 0.0233  False\n",
            "    E2     E5  -0.0077    0.9 -0.0343 0.0189  False\n",
            "    E2     E6   0.0029    0.9 -0.0237 0.0295  False\n",
            "    E3     E4   -0.007    0.9 -0.0336 0.0196  False\n",
            "    E3     E5  -0.0115 0.7703 -0.0381 0.0151  False\n",
            "    E3     E6  -0.0009    0.9 -0.0274 0.0257  False\n",
            "    E4     E5  -0.0045    0.9 -0.0311 0.0221  False\n",
            "    E4     E6   0.0062    0.9 -0.0204 0.0327  False\n",
            "    E5     E6   0.0106 0.8238 -0.0159 0.0372  False\n",
            "---------------------------------------------------\n"
          ],
          "name": "stdout"
        }
      ]
    },
    {
      "cell_type": "code",
      "metadata": {
        "colab": {
          "base_uri": "https://localhost:8080/"
        },
        "id": "qz7RPT1szz-_",
        "outputId": "c8af36a1-730f-40c5-ebd9-08d26bf20f8e"
      },
      "source": [
        "# HVLV\n",
        "# Create a DataFrame\n",
        "twoD_hvlv_df = pd.DataFrame()\n",
        "Data = [\"Full\", \"PD\", \"NC\"]\n",
        "for j in Data:\n",
        "  twoD_hvlv_f1 = get_metric('/content/drive/MyDrive/EEG_Analysis_PD_NC/Results/CNN_2D_our/CNN_2D_results_HVLV_'+str(j)+'.mat', 'f1_weightedNet')\n",
        "  data_df = pd.DataFrame({'f1_weightedNet': twoD_hvlv_f1[0], 'Data': len(twoD_hvlv_f1[0])*[str(j)]})\n",
        "  twoD_hvlv_df = twoD_hvlv_df.append(data_df, ignore_index=True)\n",
        "\n",
        "print(twoD_hvlv_df)"
      ],
      "execution_count": null,
      "outputs": [
        {
          "output_type": "stream",
          "text": [
            "    f1_weightedNet  Data\n",
            "0         0.749099  Full\n",
            "1         0.818357  Full\n",
            "2         0.858496  Full\n",
            "3         0.884230  Full\n",
            "4         0.900427  Full\n",
            "5         0.926848  Full\n",
            "6         0.926506  Full\n",
            "7         0.929108  Full\n",
            "8         0.949668  Full\n",
            "9         0.962126  Full\n",
            "10        0.708954    PD\n",
            "11        0.798362    PD\n",
            "12        0.814595    PD\n",
            "13        0.827588    PD\n",
            "14        0.857927    PD\n",
            "15        0.897243    PD\n",
            "16        0.898053    PD\n",
            "17        0.909734    PD\n",
            "18        0.915562    PD\n",
            "19        0.934959    PD\n",
            "20        0.763966    NC\n",
            "21        0.835731    NC\n",
            "22        0.869767    NC\n",
            "23        0.927193    NC\n",
            "24        0.933094    NC\n",
            "25        0.950044    NC\n",
            "26        0.954504    NC\n",
            "27        0.967517    NC\n",
            "28        0.967382    NC\n",
            "29        0.974322    NC\n"
          ],
          "name": "stdout"
        }
      ]
    },
    {
      "cell_type": "code",
      "metadata": {
        "colab": {
          "base_uri": "https://localhost:8080/"
        },
        "id": "0DzEskGzz4LF",
        "outputId": "5d15d8fa-8d67-43c9-d59e-a0ef24603b6f"
      },
      "source": [
        "# T-test between PD and NC data\n",
        "\n",
        "d1=(twoD_hvlv_df[twoD_hvlv_df['Data']=='PD'])\n",
        "d2=(twoD_hvlv_df[twoD_hvlv_df['Data']=='NC'])\n",
        "\n",
        "stat, p = ttest_ind(d1['f1_weightedNet'].to_numpy(), d2['f1_weightedNet'].to_numpy(),equal_var=False)\n",
        "print('stat=%.3f, p=%.3f' % (stat, p))\n",
        "if p > 0.05:\n",
        "  print('Probably the same distribution')\n",
        "else:\n",
        "  print('Probably different distributions')"
      ],
      "execution_count": null,
      "outputs": [
        {
          "output_type": "stream",
          "text": [
            "stat=-1.867, p=0.078\n",
            "Probably the same distribution\n"
          ],
          "name": "stdout"
        }
      ]
    },
    {
      "cell_type": "code",
      "metadata": {
        "colab": {
          "base_uri": "https://localhost:8080/"
        },
        "id": "eKJrGVhZz7Ez",
        "outputId": "bd8def43-c6aa-4b94-d46e-c1f84a1cdb3c"
      },
      "source": [
        "# HALA\n",
        "# Create a DataFrame\n",
        "twoD_hala_df = pd.DataFrame()\n",
        "Data = [\"Full\", \"PD\", \"NC\"]\n",
        "for j in Data:\n",
        "  twoD_hala_f1 = get_metric('/content/drive/MyDrive/EEG_Analysis_PD_NC/Results/CNN_2D_our/CNN_2D_results_HALA_'+str(j)+'.mat', 'f1_weightedNet')\n",
        "  data_df = pd.DataFrame({'f1_weightedNet': twoD_hala_f1[0], 'Data': len(twoD_hala_f1[0])*[str(j)]})\n",
        "  twoD_hala_df = twoD_hala_df.append(data_df, ignore_index=True)\n",
        "\n",
        "print(twoD_hala_df)"
      ],
      "execution_count": null,
      "outputs": [
        {
          "output_type": "stream",
          "text": [
            "    f1_weightedNet  Data\n",
            "0         0.923685  Full\n",
            "1         0.950382  Full\n",
            "2         0.958668  Full\n",
            "3         0.972180  Full\n",
            "4         0.974731  Full\n",
            "5         0.981648  Full\n",
            "6         0.986418  Full\n",
            "7         0.982373  Full\n",
            "8         0.979208  Full\n",
            "9         0.974574  Full\n",
            "10        0.915745    PD\n",
            "11        0.964817    PD\n",
            "12        0.974068    PD\n",
            "13        0.969131    PD\n",
            "14        0.979380    PD\n",
            "15        0.979868    PD\n",
            "16        0.987882    PD\n",
            "17        0.990544    PD\n",
            "18        0.993280    PD\n",
            "19        0.993236    PD\n",
            "20        0.901344    NC\n",
            "21        0.925787    NC\n",
            "22        0.926816    NC\n",
            "23        0.953311    NC\n",
            "24        0.956215    NC\n",
            "25        0.899013    NC\n",
            "26        0.964165    NC\n",
            "27        0.943790    NC\n",
            "28        0.973764    NC\n",
            "29        0.960798    NC\n"
          ],
          "name": "stdout"
        }
      ]
    },
    {
      "cell_type": "code",
      "metadata": {
        "colab": {
          "base_uri": "https://localhost:8080/"
        },
        "id": "TYGJ_76W0C_m",
        "outputId": "4eeacaa8-ea2f-4789-f3eb-7b91ef696732"
      },
      "source": [
        "# T-test between PD and NC data\n",
        "\n",
        "d1=(twoD_hala_df[twoD_hala_df['Data']=='PD'])\n",
        "d2=(twoD_hala_df[twoD_hala_df['Data']=='NC'])\n",
        "\n",
        "stat, p = ttest_ind(d1['f1_weightedNet'].to_numpy(), d2['f1_weightedNet'].to_numpy(),equal_var=False)\n",
        "print('stat=%.3f, p=%.3f' % (stat, p))\n",
        "if p > 0.05:\n",
        "  print('Probably the same distribution')\n",
        "else:\n",
        "  print('Probably different distributions')"
      ],
      "execution_count": null,
      "outputs": [
        {
          "output_type": "stream",
          "text": [
            "stat=3.113, p=0.006\n",
            "Probably different distributions\n"
          ],
          "name": "stdout"
        }
      ]
    },
    {
      "cell_type": "code",
      "metadata": {
        "colab": {
          "base_uri": "https://localhost:8080/"
        },
        "id": "6jNeisE10GQM",
        "outputId": "3f6a2305-a355-4a73-a469-c7e9f3ae4471"
      },
      "source": [
        "# MultiClass\n",
        "# Create a DataFrame\n",
        "twoD_multi_df = pd.DataFrame()\n",
        "Data = [\"Full\", \"PD\", \"NC\"]\n",
        "for j in Data:\n",
        "  twoD_multi_f1 = get_metric('/content/drive/MyDrive/EEG_Analysis_PD_NC/Results/CNN_2D_our/CNN_2D_results_MultiClass_'+str(j)+'.mat', 'f1_weightedNet')\n",
        "  data_df = pd.DataFrame({'f1_weightedNet': twoD_multi_f1[0], 'Data': len(twoD_multi_f1[0])*[str(j)]})\n",
        "  twoD_multi_df = twoD_multi_df.append(data_df, ignore_index=True)\n",
        "\n",
        "print(twoD_multi_df)"
      ],
      "execution_count": null,
      "outputs": [
        {
          "output_type": "stream",
          "text": [
            "    f1_weightedNet  Data\n",
            "0         0.620795  Full\n",
            "1         0.718294  Full\n",
            "2         0.770470  Full\n",
            "3         0.818730  Full\n",
            "4         0.841174  Full\n",
            "5         0.858135  Full\n",
            "6         0.874894  Full\n",
            "7         0.874239  Full\n",
            "8         0.897352  Full\n",
            "9         0.923447  Full\n",
            "10        0.600889    PD\n",
            "11        0.700610    PD\n",
            "12        0.800858    PD\n",
            "13        0.842152    PD\n",
            "14        0.874829    PD\n",
            "15        0.895574    PD\n",
            "16        0.914753    PD\n",
            "17        0.909314    PD\n",
            "18        0.933672    PD\n",
            "19        0.931009    PD\n",
            "20        0.692563    NC\n",
            "21        0.765450    NC\n",
            "22        0.807074    NC\n",
            "23        0.855545    NC\n",
            "24        0.905693    NC\n",
            "25        0.885380    NC\n",
            "26        0.929489    NC\n",
            "27        0.922816    NC\n",
            "28        0.925835    NC\n",
            "29        0.941749    NC\n"
          ],
          "name": "stdout"
        }
      ]
    },
    {
      "cell_type": "code",
      "metadata": {
        "colab": {
          "base_uri": "https://localhost:8080/"
        },
        "id": "fmml2MJL0KY2",
        "outputId": "88afb180-4f88-4b2b-9f5d-0be6a6eda611"
      },
      "source": [
        "# T-test between PD and NC data\n",
        "\n",
        "d1=(twoD_multi_df[twoD_multi_df['Data']=='PD'])\n",
        "d2=(twoD_multi_df[twoD_multi_df['Data']=='NC'])\n",
        "\n",
        "stat, p = ttest_ind(d1['f1_weightedNet'].to_numpy(), d2['f1_weightedNet'].to_numpy(),equal_var=False)\n",
        "print('stat=%.3f, p=%.3f' % (stat, p))\n",
        "if p > 0.05:\n",
        "  print('Probably the same distribution')\n",
        "else:\n",
        "  print('Probably different distributions')"
      ],
      "execution_count": null,
      "outputs": [
        {
          "output_type": "stream",
          "text": [
            "stat=-0.521, p=0.609\n",
            "Probably the same distribution\n"
          ],
          "name": "stdout"
        }
      ]
    },
    {
      "cell_type": "code",
      "metadata": {
        "colab": {
          "base_uri": "https://localhost:8080/"
        },
        "id": "LcXIbOAHzRrp",
        "outputId": "a0a6388e-af56-4c53-8b6c-62169b277aed"
      },
      "source": [
        "# conf mat T-tests\n",
        "\n",
        "twoD_conf_df = pd.DataFrame()\n",
        "Data = [\"Full\", \"PD\", \"NC\"]\n",
        "emotions = [\"E1\", \"E2\", \"E3\", \"E4\", \"E5\", \"E6\"]\n",
        "\n",
        "for j in Data:\n",
        "  print(\"\\n #####\", j, \"####\")\n",
        "  twoD_conf = get_metric('/content/drive/MyDrive/EEG_Analysis_PD_NC/Results/CNN_2D_our/CNN_2D_results_MultiClass_'+str(j)+'.mat', 'conf_mat_list')\n",
        "  print(np.mean(twoD_conf, axis=0), '\\n')\n",
        "  l = 0\n",
        "  for k in emotions:\n",
        "    data = pd.DataFrame({'Accuracy': [i[l][l] for i in twoD_conf],'Emotions': len(twoD_conf)*[str(k)]})\n",
        "    twoD_conf_df = twoD_conf_df.append(data, ignore_index=True)\n",
        "    l = l+1\n",
        "\n",
        "  print('\\n--- One way Anova ---')\n",
        "\n",
        "  twoD_formula = 'Accuracy ~ C(Emotions)'\n",
        "  twoD_model = ols(twoD_formula, twoD_conf_df).fit()\n",
        "  twoD_aov_table = anova_lm(twoD_model, typ=2)\n",
        "  print(twoD_aov_table)\n",
        "  \n",
        "  print('\\n--- Tukey HSD ----')\n",
        "  # Tukey HSD test\n",
        "\n",
        "  twoD_mc = MultiComparison(twoD_conf_df['Accuracy'], twoD_conf_df['Emotions'])\n",
        "  print(twoD_mc.tukeyhsd())"
      ],
      "execution_count": null,
      "outputs": [
        {
          "output_type": "stream",
          "text": [
            "\n",
            " ##### Full ####\n",
            "[[0.89709544 0.03568465 0.02489627 0.01991701 0.01327801 0.00912863]\n",
            " [0.04577972 0.84271906 0.04850643 0.01565257 0.03091605 0.01642616]\n",
            " [0.04249308 0.0474879  0.7867168  0.06665284 0.03790629 0.01874308]\n",
            " [0.01950207 0.02074689 0.0560166  0.81120332 0.06348548 0.02904564]\n",
            " [0.01924177 0.02647229 0.03208193 0.07257671 0.78347309 0.06615422]\n",
            " [0.02451377 0.02293274 0.02491373 0.05219273 0.07631752 0.79912949]] \n",
            "\n",
            "\n",
            "--- One way Anova ---\n",
            "               sum_sq    df         F    PR(>F)\n",
            "C(Emotions)  0.094148   5.0  1.934937  0.103587\n",
            "Residual     0.525494  54.0       NaN       NaN\n",
            "\n",
            "--- Tukey HSD ----\n",
            "Multiple Comparison of Means - Tukey HSD, FWER=0.05\n",
            "===================================================\n",
            "group1 group2 meandiff p-adj   lower  upper  reject\n",
            "---------------------------------------------------\n",
            "    E1     E2  -0.0544 0.7959 -0.1847  0.076  False\n",
            "    E1     E3  -0.1104 0.1415 -0.2407   0.02  False\n",
            "    E1     E4  -0.0859 0.3872 -0.2162 0.0444  False\n",
            "    E1     E5  -0.1136 0.1214  -0.244 0.0167  False\n",
            "    E1     E6   -0.098 0.2454 -0.2283 0.0324  False\n",
            "    E2     E3   -0.056 0.7752 -0.1863 0.0743  False\n",
            "    E2     E4  -0.0315    0.9 -0.1619 0.0988  False\n",
            "    E2     E5  -0.0592 0.7338 -0.1896 0.0711  False\n",
            "    E2     E6  -0.0436    0.9 -0.1739 0.0868  False\n",
            "    E3     E4   0.0245    0.9 -0.1059 0.1548  False\n",
            "    E3     E5  -0.0032    0.9 -0.1336 0.1271  False\n",
            "    E3     E6   0.0124    0.9 -0.1179 0.1428  False\n",
            "    E4     E5  -0.0277    0.9 -0.1581 0.1026  False\n",
            "    E4     E6  -0.0121    0.9 -0.1424 0.1183  False\n",
            "    E5     E6   0.0157    0.9 -0.1147  0.146  False\n",
            "---------------------------------------------------\n",
            "\n",
            " ##### PD ####\n",
            "[[0.93       0.04       0.01       0.01083333 0.00333333 0.00583333]\n",
            " [0.04409449 0.85748031 0.0511811  0.01181102 0.02125984 0.01417323]\n",
            " [0.02325758 0.06319559 0.80543388 0.0482989  0.03240358 0.02741047]\n",
            " [0.01157025 0.01985537 0.05294077 0.82300964 0.05789945 0.03472452]\n",
            " [0.00887097 0.02903226 0.03306452 0.05564516 0.79758065 0.07580645]\n",
            " [0.00710536 0.0276153  0.02207849 0.04573178 0.06386702 0.83360205]] \n",
            "\n",
            "\n",
            "--- One way Anova ---\n",
            "               sum_sq     df         F    PR(>F)\n",
            "C(Emotions)  0.208861    5.0  3.592449  0.004702\n",
            "Residual     1.325568  114.0       NaN       NaN\n",
            "\n",
            "--- Tukey HSD ----\n",
            "Multiple Comparison of Means - Tukey HSD, FWER=0.05 \n",
            "====================================================\n",
            "group1 group2 meandiff p-adj   lower   upper  reject\n",
            "----------------------------------------------------\n",
            "    E1     E2  -0.0634 0.4336 -0.1623  0.0354  False\n",
            "    E1     E3  -0.1175 0.0101 -0.2163 -0.0186   True\n",
            "    E1     E4  -0.0964 0.0603 -0.1953  0.0024  False\n",
            "    E1     E5   -0.123  0.006 -0.2219 -0.0242   True\n",
            "    E1     E6  -0.0972 0.0569  -0.196  0.0017  False\n",
            "    E2     E3   -0.054 0.5957 -0.1529  0.0448  False\n",
            "    E2     E4   -0.033    0.9 -0.1318  0.0659  False\n",
            "    E2     E5  -0.0596  0.503 -0.1584  0.0393  False\n",
            "    E2     E6  -0.0337    0.9 -0.1326  0.0651  False\n",
            "    E3     E4    0.021    0.9 -0.0778  0.1199  False\n",
            "    E3     E5  -0.0055    0.9 -0.1044  0.0933  False\n",
            "    E3     E6   0.0203    0.9 -0.0786  0.1191  False\n",
            "    E4     E5  -0.0266    0.9 -0.1254  0.0723  False\n",
            "    E4     E6  -0.0007    0.9 -0.0996  0.0981  False\n",
            "    E5     E6   0.0258    0.9  -0.073  0.1247  False\n",
            "----------------------------------------------------\n",
            "\n",
            " ##### NC ####\n",
            "[[0.89586777 0.02066116 0.03553719 0.01900826 0.01570248 0.01322314]\n",
            " [0.02791909 0.90539002 0.03024467 0.00930233 0.02016715 0.00697674]\n",
            " [0.04083333 0.03833333 0.82       0.055      0.02333333 0.0225    ]\n",
            " [0.01913223 0.02165289 0.05162534 0.8476584  0.03579201 0.02413912]\n",
            " [0.02231746 0.02711746 0.02545397 0.02794921 0.82860952 0.06855238]\n",
            " [0.02142857 0.01587302 0.01429841 0.01984127 0.04763175 0.88092698]] \n",
            "\n",
            "\n",
            "--- One way Anova ---\n",
            "               sum_sq     df        F    PR(>F)\n",
            "C(Emotions)  0.245692    5.0  4.63608  0.000536\n",
            "Residual     1.844246  174.0      NaN       NaN\n",
            "\n",
            "--- Tukey HSD ----\n",
            "Multiple Comparison of Means - Tukey HSD, FWER=0.05 \n",
            "====================================================\n",
            "group1 group2 meandiff p-adj   lower   upper  reject\n",
            "----------------------------------------------------\n",
            "    E1     E2  -0.0391 0.6595 -0.1157  0.0375  False\n",
            "    E1     E3  -0.1036 0.0019 -0.1802  -0.027   True\n",
            "    E1     E4  -0.0804 0.0337  -0.157 -0.0038   True\n",
            "    E1     E5  -0.1044 0.0017  -0.181 -0.0278   True\n",
            "    E1     E6  -0.0698 0.0967 -0.1464  0.0068  False\n",
            "    E2     E3  -0.0645 0.1532 -0.1411  0.0121  False\n",
            "    E2     E4  -0.0412 0.6139 -0.1178  0.0354  False\n",
            "    E2     E5  -0.0653 0.1428 -0.1419  0.0113  False\n",
            "    E2     E6  -0.0306 0.8422 -0.1072   0.046  False\n",
            "    E3     E4   0.0232    0.9 -0.0534  0.0998  False\n",
            "    E3     E5  -0.0008    0.9 -0.0774  0.0758  False\n",
            "    E3     E6   0.0338 0.7734 -0.0428  0.1104  False\n",
            "    E4     E5  -0.0241    0.9 -0.1007  0.0525  False\n",
            "    E4     E6   0.0106    0.9  -0.066  0.0872  False\n",
            "    E5     E6   0.0347 0.7555 -0.0419  0.1113  False\n",
            "----------------------------------------------------\n"
          ],
          "name": "stdout"
        }
      ]
    },
    {
      "cell_type": "code",
      "metadata": {
        "colab": {
          "base_uri": "https://localhost:8080/"
        },
        "id": "yJxOalqOkRkZ",
        "outputId": "ad199e80-5b24-49d4-b0c5-27a711d1ffc6"
      },
      "source": [
        "# conf mat T-tests\n",
        "\n",
        "twoD_conf_df = pd.DataFrame()\n",
        "Data = [\"NC\"]\n",
        "emotions = [\"E1\", \"E2\", \"E3\", \"E4\", \"E5\", \"E6\"]\n",
        "\n",
        "for j in Data:\n",
        "  print(\"\\n #####\", j, \"####\")\n",
        "  twoD_conf = get_metric('/content/drive/MyDrive/EEG_Analysis_PD_NC/Results/CNN_2D_our/CNN_2D_results_MultiClass_'+str(j)+'.mat', 'conf_mat_list')\n",
        "  print(np.mean(twoD_conf, axis=0), '\\n')\n",
        "  l = 0\n",
        "  for k in emotions:\n",
        "    data = pd.DataFrame({'Accuracy': [i[l][l] for i in twoD_conf],'Emotions': len(twoD_conf)*[str(k)]})\n",
        "    twoD_conf_df = twoD_conf_df.append(data, ignore_index=True)\n",
        "    l = l+1\n",
        "\n",
        "  print('\\n--- One way Anova ---')\n",
        "\n",
        "  twoD_formula = 'Accuracy ~ C(Emotions)'\n",
        "  twoD_model = ols(twoD_formula, twoD_conf_df).fit()\n",
        "  twoD_aov_table = anova_lm(twoD_model, typ=2)\n",
        "  print(twoD_aov_table)\n",
        "  \n",
        "  print('\\n--- Tukey HSD ----')\n",
        "  # Tukey HSD test\n",
        "\n",
        "  twoD_mc = MultiComparison(twoD_conf_df['Accuracy'], twoD_conf_df['Emotions'])\n",
        "  print(twoD_mc.tukeyhsd())"
      ],
      "execution_count": null,
      "outputs": [
        {
          "output_type": "stream",
          "text": [
            "\n",
            " ##### NC ####\n",
            "[[0.89586777 0.02066116 0.03553719 0.01900826 0.01570248 0.01322314]\n",
            " [0.02791909 0.90539002 0.03024467 0.00930233 0.02016715 0.00697674]\n",
            " [0.04083333 0.03833333 0.82       0.055      0.02333333 0.0225    ]\n",
            " [0.01913223 0.02165289 0.05162534 0.8476584  0.03579201 0.02413912]\n",
            " [0.02231746 0.02711746 0.02545397 0.02794921 0.82860952 0.06855238]\n",
            " [0.02142857 0.01587302 0.01429841 0.01984127 0.04763175 0.88092698]] \n",
            "\n",
            "\n",
            "--- One way Anova ---\n",
            "               sum_sq    df         F    PR(>F)\n",
            "C(Emotions)  0.064656   5.0  1.556176  0.188195\n",
            "Residual     0.448719  54.0       NaN       NaN\n",
            "\n",
            "--- Tukey HSD ----\n",
            "Multiple Comparison of Means - Tukey HSD, FWER=0.05\n",
            "===================================================\n",
            "group1 group2 meandiff p-adj   lower  upper  reject\n",
            "---------------------------------------------------\n",
            "    E1     E2   0.0095    0.9 -0.1109   0.13  False\n",
            "    E1     E3  -0.0759 0.4387 -0.1963 0.0446  False\n",
            "    E1     E4  -0.0482 0.8241 -0.1687 0.0722  False\n",
            "    E1     E5  -0.0673 0.5611 -0.1877 0.0532  False\n",
            "    E1     E6  -0.0149    0.9 -0.1354 0.1055  False\n",
            "    E2     E3  -0.0854 0.3056 -0.2058 0.0351  False\n",
            "    E2     E4  -0.0577 0.6926 -0.1782 0.0627  False\n",
            "    E2     E5  -0.0768 0.4252 -0.1972 0.0437  False\n",
            "    E2     E6  -0.0245    0.9 -0.1449  0.096  False\n",
            "    E3     E4   0.0277    0.9 -0.0928 0.1481  False\n",
            "    E3     E5   0.0086    0.9 -0.1118 0.1291  False\n",
            "    E3     E6   0.0609 0.6485 -0.0595 0.1814  False\n",
            "    E4     E5   -0.019    0.9 -0.1395 0.1014  False\n",
            "    E4     E6   0.0333    0.9 -0.0872 0.1537  False\n",
            "    E5     E6   0.0523 0.7674 -0.0681 0.1728  False\n",
            "---------------------------------------------------\n"
          ],
          "name": "stdout"
        }
      ]
    },
    {
      "cell_type": "markdown",
      "metadata": {
        "id": "4k70iKveFlkk"
      },
      "source": [
        "# 3D-CNN"
      ]
    },
    {
      "cell_type": "markdown",
      "metadata": {
        "id": "4sTtnG19L_s7"
      },
      "source": [
        "## HV vs LV"
      ]
    },
    {
      "cell_type": "code",
      "metadata": {
        "colab": {
          "base_uri": "https://localhost:8080/"
        },
        "id": "wkG0hMnHFpnW",
        "outputId": "9ccb5274-364c-4af9-c3fe-e9e91fdb122c"
      },
      "source": [
        "def get_metric(dataPath, metric):\n",
        "  matContent = sio.loadmat(dataPath)\n",
        "  metric = matContent[metric]\n",
        "  return metric\n",
        "\n",
        "# HVLV\n",
        "# Create a DataFrame\n",
        "threeD_hvlv_df = pd.DataFrame()\n",
        "Data = [\"Full\", \"PD\", \"NC\"]\n",
        "for j in Data:\n",
        "  threeD_hvlv_f1 = get_metric('/content/drive/MyDrive/EEG_Analysis_PD_NC/Results/CNN_3D_our/CNN_3D_results_HVLV_'+str(j)+'.mat', 'f1_weightedNet')\n",
        "  data_df = pd.DataFrame({'f1_weightedNet': threeD_hvlv_f1[0], 'Data': len(threeD_hvlv_f1[0])*[str(j)]})\n",
        "  threeD_hvlv_df = threeD_hvlv_df.append(data_df, ignore_index=True)\n",
        "\n",
        "print(threeD_hvlv_df)"
      ],
      "execution_count": null,
      "outputs": [
        {
          "output_type": "stream",
          "text": [
            "    f1_weightedNet  Data\n",
            "0         0.790588  Full\n",
            "1         0.839486  Full\n",
            "2         0.887201  Full\n",
            "3         0.926583  Full\n",
            "4         0.930645  Full\n",
            "5         0.947985  Full\n",
            "6         0.954076  Full\n",
            "7         0.946948  Full\n",
            "8         0.960508  Full\n",
            "9         0.966819  Full\n",
            "10        0.739236    PD\n",
            "11        0.818206    PD\n",
            "12        0.903556    PD\n",
            "13        0.916324    PD\n",
            "14        0.948029    PD\n",
            "15        0.951466    PD\n",
            "16        0.956859    PD\n",
            "17        0.960814    PD\n",
            "18        0.968789    PD\n",
            "19        0.952308    PD\n",
            "20        0.827938    NC\n",
            "21        0.858011    NC\n",
            "22        0.901931    NC\n",
            "23        0.935342    NC\n",
            "24        0.950137    NC\n",
            "25        0.966309    NC\n",
            "26        0.945915    NC\n",
            "27        0.962103    NC\n",
            "28        0.966146    NC\n",
            "29        0.959729    NC\n"
          ],
          "name": "stdout"
        }
      ]
    },
    {
      "cell_type": "code",
      "metadata": {
        "colab": {
          "base_uri": "https://localhost:8080/"
        },
        "id": "56s5kuwjJJx9",
        "outputId": "8062a554-a9ff-477c-d1af-ea126476d6bf"
      },
      "source": [
        "# T-test between PD and NC data\n",
        "\n",
        "d1=(threeD_hvlv_df[threeD_hvlv_df['Data']=='PD'])\n",
        "d2=(threeD_hvlv_df[threeD_hvlv_df['Data']=='NC'])\n",
        "\n",
        "stat, p = ttest_ind(d1['f1_weightedNet'].to_numpy(), d2['f1_weightedNet'].to_numpy(),equal_var=False)\n",
        "print('stat=%.3f, p=%.3f' % (stat, p))\n",
        "if p > 0.05:\n",
        "  print('Probably the same distribution')\n",
        "else:\n",
        "  print('Probably different distributions')"
      ],
      "execution_count": null,
      "outputs": [
        {
          "output_type": "stream",
          "text": [
            "stat=-0.557, p=0.585\n",
            "Probably the same distribution\n"
          ],
          "name": "stdout"
        }
      ]
    },
    {
      "cell_type": "code",
      "metadata": {
        "colab": {
          "base_uri": "https://localhost:8080/"
        },
        "id": "GXOSN3895mQo",
        "outputId": "f97c36ce-214a-4846-b37b-f35a8798db63"
      },
      "source": [
        "# conf mat T-tests\n",
        "\n",
        "threeD_conf_df = pd.DataFrame()\n",
        "Data = [\"Full\", \"PD\", \"NC\"]\n",
        "for j in Data:\n",
        "  print(\"-----\", j, \"----\")\n",
        "  threeD_conf = get_metric('/content/drive/MyDrive/EEG_Analysis_PD_NC/Results/CNN_3D_our/CNN_3D_results_HVLV_'+str(j)+'.mat', 'conf_mat_list')\n",
        "  print(np.mean(threeD_conf, axis=0), '\\n')\n",
        "  threeD_conf_lv = [i[0][0] for i in threeD_conf]\n",
        "  threeD_conf_hv = [i[1][1] for i in threeD_conf]\n",
        "  stat, p = ttest_ind(threeD_conf_lv, threeD_conf_hv,equal_var=False)\n",
        "  print('stat=%.3f, p=%.3f' % (stat, p))\n",
        "  if p > 0.05:\n",
        "    print('Probably the same distribution')\n",
        "  else:\n",
        "    print('Probably different distributions')\n",
        "  print('\\n')"
      ],
      "execution_count": null,
      "outputs": [
        {
          "output_type": "stream",
          "text": [
            "----- Full ----\n",
            "[[0.94563892 0.05436108]\n",
            " [0.14236489 0.85763511]] \n",
            "\n",
            "stat=2.674, p=0.019\n",
            "Probably different distributions\n",
            "\n",
            "\n",
            "----- PD ----\n",
            "[[0.94753173 0.05246827]\n",
            " [0.15498008 0.84501992]] \n",
            "\n",
            "stat=2.279, p=0.044\n",
            "Probably different distributions\n",
            "\n",
            "\n",
            "----- NC ----\n",
            "[[0.94418024 0.05581976]\n",
            " [0.10503165 0.89496835]] \n",
            "\n",
            "stat=1.928, p=0.073\n",
            "Probably the same distribution\n",
            "\n",
            "\n"
          ],
          "name": "stdout"
        }
      ]
    },
    {
      "cell_type": "code",
      "metadata": {
        "colab": {
          "base_uri": "https://localhost:8080/"
        },
        "id": "fC6A0HD4HPyA",
        "outputId": "6624dd49-d7fb-4218-ea36-83703710cd85"
      },
      "source": [
        "# How well is LV classified in PD data and NC data?\n",
        "print(\"How well is LV classified in PD data and NC data?\\n\")\n",
        "\n",
        "threeD_conf_df = pd.DataFrame()\n",
        "\n",
        "j = \"PD\"\n",
        "print(\"----\", j, \"----\\n\")\n",
        "threeD_conf = get_metric('/content/drive/MyDrive/EEG_Analysis_PD_NC/Results/CNN_3D_our/CNN_3D_results_HVLV_'+str(j)+'.mat', 'conf_mat_list')\n",
        "print(np.mean(threeD_conf, axis=0), '\\n')\n",
        "threeD_conf_lv = [i[0][0] for i in threeD_conf]\n",
        "\n",
        "j = \"NC\"\n",
        "print(\"----\", j, \"----\\n\")\n",
        "threeD_conf = get_metric('/content/drive/MyDrive/EEG_Analysis_PD_NC/Results/CNN_3D_our/CNN_3D_results_HVLV_'+str(j)+'.mat', 'conf_mat_list')\n",
        "print(np.mean(threeD_conf, axis=0), '\\n')\n",
        "threeD_conf_hv = [i[0][0] for i in threeD_conf]\n",
        "\n",
        "print(\"--------\")\n",
        "stat, p = ttest_ind(threeD_conf_lv, threeD_conf_hv,equal_var=False)\n",
        "print('stat=%.3f, p=%.3f' % (stat, p))\n",
        "if p > 0.05:\n",
        "  print('Probably the same distribution')\n",
        "else:\n",
        "  print('Probably different distributions')\n",
        "print('\\n')"
      ],
      "execution_count": null,
      "outputs": [
        {
          "output_type": "stream",
          "text": [
            "How well is LV classified in PD data and NC data?\n",
            "\n",
            "---- PD ----\n",
            "\n",
            "[[0.94753173 0.05246827]\n",
            " [0.15498008 0.84501992]] \n",
            "\n",
            "---- NC ----\n",
            "\n",
            "[[0.94418024 0.05581976]\n",
            " [0.10503165 0.89496835]] \n",
            "\n",
            "--------\n",
            "stat=0.173, p=0.865\n",
            "Probably the same distribution\n",
            "\n",
            "\n"
          ],
          "name": "stdout"
        }
      ]
    },
    {
      "cell_type": "code",
      "metadata": {
        "colab": {
          "base_uri": "https://localhost:8080/"
        },
        "id": "wyyKEPR7JE2T",
        "outputId": "f59b1328-e09a-4dd8-904a-bd4139663470"
      },
      "source": [
        "# How well is HV classified in PD data and NC data?\n",
        "print(\"How well is HV classified in PD data and NC data?\\n\")\n",
        "\n",
        "threeD_conf_df = pd.DataFrame()\n",
        "\n",
        "j = \"PD\"\n",
        "print(\"----\", j, \"----\\n\")\n",
        "threeD_conf = get_metric('/content/drive/MyDrive/EEG_Analysis_PD_NC/Results/CNN_3D_our/CNN_3D_results_HVLV_'+str(j)+'.mat', 'conf_mat_list')\n",
        "print(np.mean(threeD_conf, axis=0), '\\n')\n",
        "threeD_conf_lv = [i[1][1] for i in threeD_conf]\n",
        "\n",
        "j = \"NC\"\n",
        "print(\"----\", j, \"----\\n\")\n",
        "threeD_conf = get_metric('/content/drive/MyDrive/EEG_Analysis_PD_NC/Results/CNN_3D_our/CNN_3D_results_HVLV_'+str(j)+'.mat', 'conf_mat_list')\n",
        "print(np.mean(threeD_conf, axis=0), '\\n')\n",
        "threeD_conf_hv = [i[1][1] for i in threeD_conf]\n",
        "\n",
        "print(\"--------\")\n",
        "stat, p = ttest_ind(threeD_conf_lv, threeD_conf_hv,equal_var=False)\n",
        "print('stat=%.3f, p=%.3f' % (stat, p))\n",
        "if p > 0.05:\n",
        "  print('Probably the same distribution')\n",
        "else:\n",
        "  print('Probably different distributions')\n",
        "print('\\n')"
      ],
      "execution_count": null,
      "outputs": [
        {
          "output_type": "stream",
          "text": [
            "How well is HV classified in PD data and NC data?\n",
            "\n",
            "---- PD ----\n",
            "\n",
            "[[0.94753173 0.05246827]\n",
            " [0.15498008 0.84501992]] \n",
            "\n",
            "---- NC ----\n",
            "\n",
            "[[0.94418024 0.05581976]\n",
            " [0.10503165 0.89496835]] \n",
            "\n",
            "--------\n",
            "stat=-1.042, p=0.316\n",
            "Probably the same distribution\n",
            "\n",
            "\n"
          ],
          "name": "stdout"
        }
      ]
    },
    {
      "cell_type": "markdown",
      "metadata": {
        "id": "OVzmkl-DMEkH"
      },
      "source": [
        "## HA vs LA"
      ]
    },
    {
      "cell_type": "code",
      "metadata": {
        "colab": {
          "base_uri": "https://localhost:8080/"
        },
        "id": "qAzBQQVAMvvr",
        "outputId": "9d6e0d80-e449-468d-f033-c4b42319281a"
      },
      "source": [
        "# HALA\n",
        "# Create a DataFrame\n",
        "threeD_hala_df = pd.DataFrame()\n",
        "Data = [\"Full\", \"PD\", \"NC\"]\n",
        "for j in Data:\n",
        "  threeD_hala_f1 = get_metric('/content/drive/MyDrive/EEG_Analysis_PD_NC/Results/CNN_3D_our/CNN_3D_results_HALA_'+str(j)+'.mat', 'f1_weightedNet')\n",
        "  data_df = pd.DataFrame({'f1_weightedNet': threeD_hala_f1[0], 'Data': len(threeD_hala_f1[0])*[str(j)]})\n",
        "  threeD_hala_df = threeD_hala_df.append(data_df, ignore_index=True)\n",
        "\n",
        "print(threeD_hala_df)"
      ],
      "execution_count": null,
      "outputs": [
        {
          "output_type": "stream",
          "text": [
            "    f1_weightedNet  Data\n",
            "0         0.906655  Full\n",
            "1         0.953889  Full\n",
            "2         0.973492  Full\n",
            "3         0.976169  Full\n",
            "4         0.977531  Full\n",
            "5         0.978116  Full\n",
            "6         0.982432  Full\n",
            "7         0.985726  Full\n",
            "8         0.988405  Full\n",
            "9         0.981772  Full\n",
            "10        0.906497    PD\n",
            "11        0.942261    PD\n",
            "12        0.976878    PD\n",
            "13        0.989100    PD\n",
            "14        0.989023    PD\n",
            "15        0.977965    PD\n",
            "16        0.980991    PD\n",
            "17        0.980991    PD\n",
            "18        0.991870    PD\n",
            "19        0.982039    PD\n",
            "20        0.920423    NC\n",
            "21        0.935892    NC\n",
            "22        0.967161    NC\n",
            "23        0.973185    NC\n",
            "24        0.979856    NC\n",
            "25        0.976698    NC\n",
            "26        0.971317    NC\n",
            "27        0.967822    NC\n",
            "28        0.987834    NC\n",
            "29        0.983751    NC\n"
          ],
          "name": "stdout"
        }
      ]
    },
    {
      "cell_type": "code",
      "metadata": {
        "colab": {
          "base_uri": "https://localhost:8080/"
        },
        "id": "5jc_d3pdM_a1",
        "outputId": "a6c22c46-f382-459a-ef1c-1095619d0f59"
      },
      "source": [
        "# T-test between PD and NC data\n",
        "\n",
        "d1=(threeD_hala_df[threeD_hala_df['Data']=='PD'])\n",
        "d2=(threeD_hala_df[threeD_hala_df['Data']=='NC'])\n",
        "\n",
        "stat, p = ttest_ind(d1['f1_weightedNet'].to_numpy(), d2['f1_weightedNet'].to_numpy(),equal_var=False)\n",
        "print('stat=%.3f, p=%.3f' % (stat, p))\n",
        "if p > 0.05:\n",
        "  print('Probably the same distribution')\n",
        "else:\n",
        "  print('Probably different distributions')"
      ],
      "execution_count": null,
      "outputs": [
        {
          "output_type": "stream",
          "text": [
            "stat=0.494, p=0.628\n",
            "Probably the same distribution\n"
          ],
          "name": "stdout"
        }
      ]
    },
    {
      "cell_type": "code",
      "metadata": {
        "colab": {
          "base_uri": "https://localhost:8080/"
        },
        "id": "mRrIp2HfJBzs",
        "outputId": "99e29dca-711e-4403-f7f3-afc2083b9374"
      },
      "source": [
        "# conf mat T-tests\n",
        "\n",
        "threeD_conf_df = pd.DataFrame()\n",
        "Data = [\"Full\", \"PD\", \"NC\"]\n",
        "for j in Data:\n",
        "  print(\"-----\", j, \"----\")\n",
        "  threeD_conf = get_metric('/content/drive/MyDrive/EEG_Analysis_PD_NC/Results/CNN_3D_our/CNN_3D_results_HALA_'+str(j)+'.mat', 'conf_mat_list')\n",
        "  print(np.mean(threeD_conf, axis=0), '\\n')\n",
        "  threeD_conf_lv = [i[0][0] for i in threeD_conf]\n",
        "  threeD_conf_hv = [i[1][1] for i in threeD_conf]\n",
        "  stat, p = ttest_ind(threeD_conf_lv, threeD_conf_hv,equal_var=False)\n",
        "  print('stat=%.3f, p=%.3f' % (stat, p))\n",
        "  if p > 0.05:\n",
        "    print('Probably the same distribution')\n",
        "  else:\n",
        "    print('Probably different distributions')\n",
        "  print('\\n')"
      ],
      "execution_count": null,
      "outputs": [
        {
          "output_type": "stream",
          "text": [
            "----- Full ----\n",
            "[[0.87883817 0.12116183]\n",
            " [0.01065375 0.98934625]] \n",
            "\n",
            "stat=-2.986, p=0.015\n",
            "Probably different distributions\n",
            "\n",
            "\n",
            "----- PD ----\n",
            "[[0.9075     0.0925    ]\n",
            " [0.01599458 0.98400542]] \n",
            "\n",
            "stat=-3.594, p=0.004\n",
            "Probably different distributions\n",
            "\n",
            "\n",
            "----- NC ----\n",
            "[[0.87768595 0.12231405]\n",
            " [0.01563633 0.98436367]] \n",
            "\n",
            "stat=-3.525, p=0.006\n",
            "Probably different distributions\n",
            "\n",
            "\n"
          ],
          "name": "stdout"
        }
      ]
    },
    {
      "cell_type": "code",
      "metadata": {
        "colab": {
          "base_uri": "https://localhost:8080/"
        },
        "id": "17kvCl5IJQ-f",
        "outputId": "c9911caf-fdb0-4e51-a2f8-ca40ea7dc37e"
      },
      "source": [
        "# How well is LA classified in PD data and NC data?\n",
        "print(\"How well is LA classified in PD data and NC data?\\n\")\n",
        "\n",
        "threeD_conf_df = pd.DataFrame()\n",
        "\n",
        "j = \"PD\"\n",
        "print(\"----\", j, \"----\\n\")\n",
        "threeD_conf = get_metric('/content/drive/MyDrive/EEG_Analysis_PD_NC/Results/CNN_3D_our/CNN_3D_results_HALA_'+str(j)+'.mat', 'conf_mat_list')\n",
        "print(np.mean(threeD_conf, axis=0), '\\n')\n",
        "threeD_conf_la = [i[0][0] for i in threeD_conf]\n",
        "\n",
        "j = \"NC\"\n",
        "print(\"----\", j, \"----\\n\")\n",
        "threeD_conf = get_metric('/content/drive/MyDrive/EEG_Analysis_PD_NC/Results/CNN_3D_our/CNN_3D_results_HALA_'+str(j)+'.mat', 'conf_mat_list')\n",
        "print(np.mean(threeD_conf, axis=0), '\\n')\n",
        "threeD_conf_ha = [i[0][0] for i in threeD_conf]\n",
        "\n",
        "print(\"--------\")\n",
        "stat, p = ttest_ind(threeD_conf_la, threeD_conf_ha,equal_var=False)\n",
        "print('stat=%.3f, p=%.3f' % (stat, p))\n",
        "if p > 0.05:\n",
        "  print('Probably the same distribution')\n",
        "else:\n",
        "  print('Probably different distributions')\n",
        "print('\\n')"
      ],
      "execution_count": null,
      "outputs": [
        {
          "output_type": "stream",
          "text": [
            "How well is LA classified in PD data and NC data?\n",
            "\n",
            "---- PD ----\n",
            "\n",
            "[[0.9075     0.0925    ]\n",
            " [0.01599458 0.98400542]] \n",
            "\n",
            "---- NC ----\n",
            "\n",
            "[[0.87768595 0.12231405]\n",
            " [0.01563633 0.98436367]] \n",
            "\n",
            "--------\n",
            "stat=0.823, p=0.423\n",
            "Probably the same distribution\n",
            "\n",
            "\n"
          ],
          "name": "stdout"
        }
      ]
    },
    {
      "cell_type": "code",
      "metadata": {
        "colab": {
          "base_uri": "https://localhost:8080/"
        },
        "id": "SJSWQIJMJdDv",
        "outputId": "16a84e3b-2124-45d3-9a67-0ec0baaac415"
      },
      "source": [
        "# How well is HA classified in PD data and NC data?\n",
        "print(\"How well is HA classified in PD data and NC data?\\n\")\n",
        "\n",
        "threeD_conf_df = pd.DataFrame()\n",
        "\n",
        "j = \"PD\"\n",
        "print(\"----\", j, \"----\\n\")\n",
        "threeD_conf = get_metric('/content/drive/MyDrive/EEG_Analysis_PD_NC/Results/CNN_3D_our/CNN_3D_results_HALA_'+str(j)+'.mat', 'conf_mat_list')\n",
        "print(np.mean(threeD_conf, axis=0), '\\n')\n",
        "threeD_conf_la = [i[1][1] for i in threeD_conf]\n",
        "\n",
        "j = \"NC\"\n",
        "print(\"----\", j, \"----\\n\")\n",
        "threeD_conf = get_metric('/content/drive/MyDrive/EEG_Analysis_PD_NC/Results/CNN_3D_our/CNN_3D_results_HALA_'+str(j)+'.mat', 'conf_mat_list')\n",
        "print(np.mean(threeD_conf, axis=0), '\\n')\n",
        "threeD_conf_ha = [i[1][1] for i in threeD_conf]\n",
        "\n",
        "print(\"--------\")\n",
        "stat, p = ttest_ind(threeD_conf_la, threeD_conf_ha,equal_var=False)\n",
        "print('stat=%.3f, p=%.3f' % (stat, p))\n",
        "if p > 0.05:\n",
        "  print('Probably the same distribution')\n",
        "else:\n",
        "  print('Probably different distributions')\n",
        "print('\\n')"
      ],
      "execution_count": null,
      "outputs": [
        {
          "output_type": "stream",
          "text": [
            "How well is HA classified in PD data and NC data?\n",
            "\n",
            "---- PD ----\n",
            "\n",
            "[[0.9075     0.0925    ]\n",
            " [0.01599458 0.98400542]] \n",
            "\n",
            "---- NC ----\n",
            "\n",
            "[[0.87768595 0.12231405]\n",
            " [0.01563633 0.98436367]] \n",
            "\n",
            "--------\n",
            "stat=-0.048, p=0.963\n",
            "Probably the same distribution\n",
            "\n",
            "\n"
          ],
          "name": "stdout"
        }
      ]
    },
    {
      "cell_type": "markdown",
      "metadata": {
        "id": "pK53Ul8eMIl8"
      },
      "source": [
        "## Multiclass"
      ]
    },
    {
      "cell_type": "code",
      "metadata": {
        "colab": {
          "base_uri": "https://localhost:8080/"
        },
        "id": "eMSepYC_NDis",
        "outputId": "90cc6d50-a66b-42ae-d207-06e75efa8f6e"
      },
      "source": [
        "# MultiClass\n",
        "# Create a DataFrame\n",
        "threeD_multi_df = pd.DataFrame()\n",
        "Data = [\"Full\", \"PD\", \"NC\"]\n",
        "for j in Data:\n",
        "  threeD_multi_f1 = get_metric('/content/drive/MyDrive/EEG_Analysis_PD_NC/Results/CNN_3D_our/CNN_3D_results_MultiClass_'+str(j)+'.mat', 'f1_weightedNet')\n",
        "  data_df = pd.DataFrame({'f1_weightedNet': threeD_multi_f1[0], 'Data': len(threeD_multi_f1[0])*[str(j)]})\n",
        "  threeD_multi_df = threeD_multi_df.append(data_df, ignore_index=True)\n",
        "\n",
        "print(threeD_multi_df)"
      ],
      "execution_count": null,
      "outputs": [
        {
          "output_type": "stream",
          "text": [
            "    f1_weightedNet  Data\n",
            "0         0.635037  Full\n",
            "1         0.732841  Full\n",
            "2         0.785722  Full\n",
            "3         0.844952  Full\n",
            "4         0.850072  Full\n",
            "5         0.878076  Full\n",
            "6         0.880866  Full\n",
            "7         0.898718  Full\n",
            "8         0.914754  Full\n",
            "9         0.910205  Full\n",
            "10        0.660411    PD\n",
            "11        0.716499    PD\n",
            "12        0.832643    PD\n",
            "13        0.873765    PD\n",
            "14        0.883286    PD\n",
            "15        0.917377    PD\n",
            "16        0.918708    PD\n",
            "17        0.933641    PD\n",
            "18        0.952604    PD\n",
            "19        0.948443    PD\n",
            "20        0.701125    NC\n",
            "21        0.779141    NC\n",
            "22        0.825486    NC\n",
            "23        0.880068    NC\n",
            "24        0.904665    NC\n",
            "25        0.931382    NC\n",
            "26        0.918962    NC\n",
            "27        0.901533    NC\n",
            "28        0.948449    NC\n",
            "29        0.947362    NC\n"
          ],
          "name": "stdout"
        }
      ]
    },
    {
      "cell_type": "code",
      "metadata": {
        "colab": {
          "base_uri": "https://localhost:8080/"
        },
        "id": "dg3_PPZ8NU9u",
        "outputId": "d65b507a-2e11-4d4a-d239-583c79d518ef"
      },
      "source": [
        "# T-test between PD and NC data\n",
        "\n",
        "d1=(threeD_multi_df[threeD_multi_df['Data']=='PD'])\n",
        "d2=(threeD_multi_df[threeD_multi_df['Data']=='NC'])\n",
        "\n",
        "stat, p = ttest_ind(d1['f1_weightedNet'].to_numpy(), d2['f1_weightedNet'].to_numpy(),equal_var=False)\n",
        "print('stat=%.3f, p=%.3f' % (stat, p))\n",
        "if p > 0.05:\n",
        "  print('Probably the same distribution')\n",
        "else:\n",
        "  print('Probably different distributions')"
      ],
      "execution_count": null,
      "outputs": [
        {
          "output_type": "stream",
          "text": [
            "stat=-0.247, p=0.808\n",
            "Probably the same distribution\n"
          ],
          "name": "stdout"
        }
      ]
    },
    {
      "cell_type": "code",
      "metadata": {
        "colab": {
          "base_uri": "https://localhost:8080/"
        },
        "id": "EVgYHn2IJWCz",
        "outputId": "07988d10-1a11-4573-c496-d3b4f9372503"
      },
      "source": [
        "# conf mat T-tests\n",
        "\n",
        "threeD_conf_df = pd.DataFrame()\n",
        "Data = [\"Full\", \"PD\", \"NC\"]\n",
        "emotions = [\"E1\", \"E2\", \"E3\", \"E4\", \"E5\", \"E6\"]\n",
        "\n",
        "for j in Data:\n",
        "  print(\"\\n #####\", j, \"####\")\n",
        "  threeD_conf = get_metric('/content/drive/MyDrive/EEG_Analysis_PD_NC/Results/CNN_3D_our/CNN_3D_results_MultiClass_'+str(j)+'.mat', 'conf_mat_list')\n",
        "  print(np.mean(threeD_conf, axis=0), '\\n')\n",
        "  l = 0\n",
        "  for k in emotions:\n",
        "    data = pd.DataFrame({'Accuracy': [i[l][l] for i in threeD_conf],'Emotions': len(threeD_conf)*[str(k)]})\n",
        "    threeD_conf_df = threeD_conf_df.append(data, ignore_index=True)\n",
        "    l = l+1\n",
        "\n",
        "  print('\\n--- One way Anova ---')\n",
        "\n",
        "  threeD_formula = 'Accuracy ~ C(Emotions)'\n",
        "  threeD_model = ols(threeD_formula, threeD_conf_df).fit()\n",
        "  threeD_aov_table = anova_lm(threeD_model, typ=2)\n",
        "  print(threeD_aov_table)\n",
        "  \n",
        "  print('\\n--- Tukey HSD ----')\n",
        "  # Tukey HSD test\n",
        "\n",
        "  threeD_mc = MultiComparison(threeD_conf_df['Accuracy'], threeD_conf_df['Emotions'])\n",
        "  print(threeD_mc.tukeyhsd())"
      ],
      "execution_count": null,
      "outputs": [
        {
          "output_type": "stream",
          "text": [
            "\n",
            " ##### Full ####\n",
            "[[0.8846473  0.03983402 0.02365145 0.02697095 0.01493776 0.00995851]\n",
            " [0.03674786 0.86080116 0.04536612 0.01290288 0.02971048 0.01447151]\n",
            " [0.02957296 0.05289938 0.81506224 0.05165284 0.02707123 0.02374136]\n",
            " [0.01991701 0.02033195 0.05477178 0.82282158 0.04605809 0.03609959]\n",
            " [0.01763052 0.03605462 0.02885462 0.04728675 0.80084337 0.06933012]\n",
            " [0.01227806 0.02929607 0.03205189 0.05026507 0.05976222 0.8163467 ]] \n",
            "\n",
            "\n",
            "--- One way Anova ---\n",
            "               sum_sq    df         F    PR(>F)\n",
            "C(Emotions)  0.051760   5.0  1.108912  0.366588\n",
            "Residual     0.504108  54.0       NaN       NaN\n",
            "\n",
            "--- Tukey HSD ----\n",
            "Multiple Comparison of Means - Tukey HSD, FWER=0.05\n",
            "===================================================\n",
            "group1 group2 meandiff p-adj   lower  upper  reject\n",
            "---------------------------------------------------\n",
            "    E1     E2  -0.0238    0.9 -0.1515 0.1038  False\n",
            "    E1     E3  -0.0696 0.5833 -0.1972 0.0581  False\n",
            "    E1     E4  -0.0618 0.6844 -0.1895 0.0658  False\n",
            "    E1     E5  -0.0838 0.3916 -0.2115 0.0439  False\n",
            "    E1     E6  -0.0683    0.6  -0.196 0.0594  False\n",
            "    E2     E3  -0.0457 0.8939 -0.1734 0.0819  False\n",
            "    E2     E4   -0.038    0.9 -0.1656 0.0897  False\n",
            "    E2     E5    -0.06 0.7087 -0.1876 0.0677  False\n",
            "    E2     E6  -0.0445    0.9 -0.1721 0.0832  False\n",
            "    E3     E4   0.0078    0.9 -0.1199 0.1354  False\n",
            "    E3     E5  -0.0142    0.9 -0.1419 0.1134  False\n",
            "    E3     E6   0.0013    0.9 -0.1264 0.1289  False\n",
            "    E4     E5   -0.022    0.9 -0.1496 0.1057  False\n",
            "    E4     E6  -0.0065    0.9 -0.1341 0.1212  False\n",
            "    E5     E6   0.0155    0.9 -0.1122 0.1432  False\n",
            "---------------------------------------------------\n",
            "\n",
            " ##### PD ####\n",
            "[[0.92833333 0.035      0.01333333 0.0075     0.005      0.01083333]\n",
            " [0.02677165 0.87637795 0.04094488 0.00629921 0.02755906 0.02204724]\n",
            " [0.0125     0.04166667 0.84502066 0.03915978 0.02832645 0.03332645]\n",
            " [0.01570937 0.01322314 0.05126722 0.82802342 0.04629477 0.04548209]\n",
            " [0.01290323 0.02258065 0.02580645 0.03387097 0.82177419 0.08306452]\n",
            " [0.00472441 0.01575428 0.01574803 0.02285339 0.05829271 0.88262717]] \n",
            "\n",
            "\n",
            "--- One way Anova ---\n",
            "               sum_sq     df         F   PR(>F)\n",
            "C(Emotions)  0.120478    5.0  2.362845  0.04422\n",
            "Residual     1.162538  114.0       NaN      NaN\n",
            "\n",
            "--- Tukey HSD ----\n",
            "Multiple Comparison of Means - Tukey HSD, FWER=0.05 \n",
            "====================================================\n",
            "group1 group2 meandiff p-adj   lower   upper  reject\n",
            "----------------------------------------------------\n",
            "    E1     E2  -0.0379 0.8224 -0.1305  0.0547  False\n",
            "    E1     E3  -0.0764 0.1672  -0.169  0.0161  False\n",
            "    E1     E4  -0.0811  0.122 -0.1736  0.0115  False\n",
            "    E1     E5  -0.0952 0.0401 -0.1877 -0.0026   True\n",
            "    E1     E6   -0.057 0.4802 -0.1496  0.0356  False\n",
            "    E2     E3  -0.0385 0.8108 -0.1311   0.054  False\n",
            "    E2     E4  -0.0432 0.7284 -0.1357  0.0494  False\n",
            "    E2     E5  -0.0573 0.4749 -0.1498  0.0353  False\n",
            "    E2     E6  -0.0191    0.9 -0.1117  0.0735  False\n",
            "    E3     E4  -0.0046    0.9 -0.0972  0.0879  False\n",
            "    E3     E5  -0.0187    0.9 -0.1113  0.0738  False\n",
            "    E3     E6   0.0194    0.9 -0.0731   0.112  False\n",
            "    E4     E5  -0.0141    0.9 -0.1067  0.0785  False\n",
            "    E4     E6   0.0241    0.9 -0.0685  0.1166  False\n",
            "    E5     E6   0.0382 0.8174 -0.0544  0.1307  False\n",
            "----------------------------------------------------\n",
            "\n",
            " ##### NC ####\n",
            "[[0.91735537 0.01157025 0.01983471 0.02066116 0.0214876  0.00909091]\n",
            " [0.02487888 0.89742006 0.02950581 0.01243944 0.02487282 0.01088299]\n",
            " [0.0375     0.02833333 0.85833333 0.03916667 0.02333333 0.01333333]\n",
            " [0.01826446 0.01491047 0.03568182 0.86221074 0.0415427  0.02738981]\n",
            " [0.01672381 0.02231111 0.02548571 0.03346032 0.83988571 0.06213333]\n",
            " [0.00954921 0.01352381 0.02622222 0.03420317 0.0484381  0.86806349]] \n",
            "\n",
            "\n",
            "--- One way Anova ---\n",
            "               sum_sq     df         F    PR(>F)\n",
            "C(Emotions)  0.157809    5.0  3.402088  0.005869\n",
            "Residual     1.614228  174.0       NaN       NaN\n",
            "\n",
            "--- Tukey HSD ----\n",
            "Multiple Comparison of Means - Tukey HSD, FWER=0.05 \n",
            "====================================================\n",
            "group1 group2 meandiff p-adj   lower   upper  reject\n",
            "----------------------------------------------------\n",
            "    E1     E2  -0.0319 0.7675 -0.1036  0.0398  False\n",
            "    E1     E3  -0.0706 0.0559 -0.1423   0.001  False\n",
            "    E1     E4  -0.0724  0.046 -0.1441 -0.0008   True\n",
            "    E1     E5  -0.0893 0.0057 -0.1609 -0.0176   True\n",
            "    E1     E6  -0.0544 0.2482 -0.1261  0.0172  False\n",
            "    E2     E3  -0.0387 0.6106 -0.1104  0.0329  False\n",
            "    E2     E4  -0.0405 0.5694 -0.1122  0.0312  False\n",
            "    E2     E5  -0.0574 0.1969  -0.129  0.0143  False\n",
            "    E2     E6  -0.0225    0.9 -0.0942  0.0491  False\n",
            "    E3     E4  -0.0018    0.9 -0.0735  0.0699  False\n",
            "    E3     E5  -0.0186    0.9 -0.0903   0.053  False\n",
            "    E3     E6   0.0162    0.9 -0.0555  0.0879  False\n",
            "    E4     E5  -0.0169    0.9 -0.0885  0.0548  False\n",
            "    E4     E6    0.018    0.9 -0.0537  0.0897  False\n",
            "    E5     E6   0.0348    0.7 -0.0368  0.1065  False\n",
            "----------------------------------------------------\n"
          ],
          "name": "stdout"
        }
      ]
    },
    {
      "cell_type": "code",
      "metadata": {
        "id": "45Vt_bTkkftY",
        "colab": {
          "base_uri": "https://localhost:8080/"
        },
        "outputId": "39459d8e-06db-4f89-cd39-b3bfda755291"
      },
      "source": [
        "# conf mat T-tests\n",
        "\n",
        "threeD_conf_df = pd.DataFrame()\n",
        "Data = [\"NC\"]\n",
        "emotions = [\"E1\", \"E2\", \"E3\", \"E4\", \"E5\", \"E6\"]\n",
        "\n",
        "for j in Data:\n",
        "  print(\"\\n #####\", j, \"####\")\n",
        "  threeD_conf = get_metric('/content/drive/MyDrive/EEG_Analysis_PD_NC/Results/CNN_3D_our/CNN_3D_results_MultiClass_'+str(j)+'.mat', 'conf_mat_list')\n",
        "  print(np.mean(threeD_conf, axis=0), '\\n')\n",
        "  l = 0\n",
        "  for k in emotions:\n",
        "    data = pd.DataFrame({'Accuracy': [i[l][l] for i in threeD_conf],'Emotions': len(threeD_conf)*[str(k)]})\n",
        "    threeD_conf_df = threeD_conf_df.append(data, ignore_index=True)\n",
        "    l = l+1\n",
        "\n",
        "  print('\\n--- One way Anova ---')\n",
        "\n",
        "  threeD_formula = 'Accuracy ~ C(Emotions)'\n",
        "  threeD_model = ols(threeD_formula, threeD_conf_df).fit()\n",
        "  threeD_aov_table = anova_lm(threeD_model, typ=2)\n",
        "  print(threeD_aov_table)\n",
        "  \n",
        "  print('\\n--- Tukey HSD ----')\n",
        "  # Tukey HSD test\n",
        "\n",
        "  threeD_mc = MultiComparison(threeD_conf_df['Accuracy'], threeD_conf_df['Emotions'])\n",
        "  print(threeD_mc.tukeyhsd())"
      ],
      "execution_count": null,
      "outputs": [
        {
          "output_type": "stream",
          "text": [
            "\n",
            " ##### NC ####\n",
            "[[0.92809917 0.01818182 0.0214876  0.01404959 0.01157025 0.00661157]\n",
            " [0.01400194 0.92079094 0.02561773 0.01008963 0.01862282 0.01087694]\n",
            " [0.0175     0.0175     0.895      0.03583333 0.0175     0.01666667]\n",
            " [0.01742424 0.0107989  0.02573003 0.88132231 0.03898072 0.0257438 ]\n",
            " [0.01274921 0.01914286 0.02069841 0.02548571 0.88688889 0.03503492]\n",
            " [0.01033016 0.01031746 0.01192381 0.02307302 0.03659683 0.90775873]] \n",
            "\n",
            "\n",
            "--- One way Anova ---\n",
            "               sum_sq    df         F    PR(>F)\n",
            "C(Emotions)  0.017620   5.0  0.524307  0.756807\n",
            "Residual     0.362957  54.0       NaN       NaN\n",
            "\n",
            "--- Tukey HSD ----\n",
            "Multiple Comparison of Means - Tukey HSD, FWER=0.05\n",
            "===================================================\n",
            "group1 group2 meandiff p-adj   lower  upper  reject\n",
            "---------------------------------------------------\n",
            "    E1     E2  -0.0073    0.9 -0.1156  0.101  False\n",
            "    E1     E3  -0.0331    0.9 -0.1414 0.0752  False\n",
            "    E1     E4  -0.0468 0.7716 -0.1551 0.0615  False\n",
            "    E1     E5  -0.0412  0.857 -0.1495 0.0671  False\n",
            "    E1     E6  -0.0203    0.9 -0.1287  0.088  False\n",
            "    E2     E3  -0.0258    0.9 -0.1341 0.0825  False\n",
            "    E2     E4  -0.0395 0.8838 -0.1478 0.0689  False\n",
            "    E2     E5  -0.0339    0.9 -0.1422 0.0744  False\n",
            "    E2     E6   -0.013    0.9 -0.1214 0.0953  False\n",
            "    E3     E4  -0.0137    0.9  -0.122 0.0946  False\n",
            "    E3     E5  -0.0081    0.9 -0.1164 0.1002  False\n",
            "    E3     E6   0.0128    0.9 -0.0956 0.1211  False\n",
            "    E4     E5   0.0056    0.9 -0.1028 0.1139  False\n",
            "    E4     E6   0.0264    0.9 -0.0819 0.1348  False\n",
            "    E5     E6   0.0209    0.9 -0.0875 0.1292  False\n",
            "---------------------------------------------------\n"
          ],
          "name": "stdout"
        }
      ]
    },
    {
      "cell_type": "code",
      "metadata": {
        "colab": {
          "base_uri": "https://localhost:8080/"
        },
        "id": "DJR8Fv6GKC2Q",
        "outputId": "ad2fcc14-55be-4f2e-a639-1b4a4867e8ea"
      },
      "source": [
        "Emotions = [\"E1\", \"E2\", \"E3\", \"E4\", \"E5\", \"E6\"]\n",
        "k = 0\n",
        "for emot in emotions:\n",
        "  print(10*\"*\", emot, 10*\"*\")\n",
        "  # How well is LV classified in PD data and NC data?\n",
        "  print(\"How well is\", emot, \"classified in PD data and NC data?\\n\")\n",
        "\n",
        "  threeD_conf_df = pd.DataFrame()\n",
        "\n",
        "  j = \"PD\"\n",
        "  print(\"----\", j, \"----\\n\")\n",
        "  threeD_conf = get_metric('/content/drive/MyDrive/EEG_Analysis_PD_NC/Results/CNN_3D_our/CNN_3D_results_MultiClass_'+str(j)+'.mat', 'conf_mat_list')\n",
        "  print(np.mean(threeD_conf, axis=0), '\\n')\n",
        "  threeD_conf_1 = [i[k][k] for i in threeD_conf]\n",
        "\n",
        "  j = \"NC\"\n",
        "  print(\"----\", j, \"----\\n\")\n",
        "  threeD_conf = get_metric('/content/drive/MyDrive/EEG_Analysis_PD_NC/Results/CNN_3D_our/CNN_3D_results_MultiClass_'+str(j)+'.mat', 'conf_mat_list')\n",
        "  print(np.mean(threeD_conf, axis=0), '\\n')\n",
        "  threeD_conf_2 = [i[k][k] for i in threeD_conf]\n",
        "\n",
        "  print(\"--------\")\n",
        "  stat, p = ttest_ind(threeD_conf_1, threeD_conf_2,equal_var=False)\n",
        "  print('stat=%.3f, p=%.3f' % (stat, p))\n",
        "  if p > 0.05:\n",
        "    print('Probably the same distribution')\n",
        "  else:\n",
        "    print('Probably different distributions')\n",
        "  print('\\n')\n",
        "  k = k+1"
      ],
      "execution_count": null,
      "outputs": [
        {
          "output_type": "stream",
          "text": [
            "********** E1 **********\n",
            "How well is E1 classified in PD data and NC data?\n",
            "\n",
            "---- PD ----\n",
            "\n",
            "[[0.92833333 0.035      0.01333333 0.0075     0.005      0.01083333]\n",
            " [0.02677165 0.87637795 0.04094488 0.00629921 0.02755906 0.02204724]\n",
            " [0.0125     0.04166667 0.84502066 0.03915978 0.02832645 0.03332645]\n",
            " [0.01570937 0.01322314 0.05126722 0.82802342 0.04629477 0.04548209]\n",
            " [0.01290323 0.02258065 0.02580645 0.03387097 0.82177419 0.08306452]\n",
            " [0.00472441 0.01575428 0.01574803 0.02285339 0.05829271 0.88262717]] \n",
            "\n",
            "---- NC ----\n",
            "\n",
            "[[0.91735537 0.01157025 0.01983471 0.02066116 0.0214876  0.00909091]\n",
            " [0.02487888 0.89742006 0.02950581 0.01243944 0.02487282 0.01088299]\n",
            " [0.0375     0.02833333 0.85833333 0.03916667 0.02333333 0.01333333]\n",
            " [0.01826446 0.01491047 0.03568182 0.86221074 0.0415427  0.02738981]\n",
            " [0.01672381 0.02231111 0.02548571 0.03346032 0.83988571 0.06213333]\n",
            " [0.00954921 0.01352381 0.02622222 0.03420317 0.0484381  0.86806349]] \n",
            "\n",
            "--------\n",
            "stat=0.362, p=0.722\n",
            "Probably the same distribution\n",
            "\n",
            "\n",
            "********** E2 **********\n",
            "How well is E2 classified in PD data and NC data?\n",
            "\n",
            "---- PD ----\n",
            "\n",
            "[[0.92833333 0.035      0.01333333 0.0075     0.005      0.01083333]\n",
            " [0.02677165 0.87637795 0.04094488 0.00629921 0.02755906 0.02204724]\n",
            " [0.0125     0.04166667 0.84502066 0.03915978 0.02832645 0.03332645]\n",
            " [0.01570937 0.01322314 0.05126722 0.82802342 0.04629477 0.04548209]\n",
            " [0.01290323 0.02258065 0.02580645 0.03387097 0.82177419 0.08306452]\n",
            " [0.00472441 0.01575428 0.01574803 0.02285339 0.05829271 0.88262717]] \n",
            "\n",
            "---- NC ----\n",
            "\n",
            "[[0.91735537 0.01157025 0.01983471 0.02066116 0.0214876  0.00909091]\n",
            " [0.02487888 0.89742006 0.02950581 0.01243944 0.02487282 0.01088299]\n",
            " [0.0375     0.02833333 0.85833333 0.03916667 0.02333333 0.01333333]\n",
            " [0.01826446 0.01491047 0.03568182 0.86221074 0.0415427  0.02738981]\n",
            " [0.01672381 0.02231111 0.02548571 0.03346032 0.83988571 0.06213333]\n",
            " [0.00954921 0.01352381 0.02622222 0.03420317 0.0484381  0.86806349]] \n",
            "\n",
            "--------\n",
            "stat=-0.570, p=0.576\n",
            "Probably the same distribution\n",
            "\n",
            "\n",
            "********** E3 **********\n",
            "How well is E3 classified in PD data and NC data?\n",
            "\n",
            "---- PD ----\n",
            "\n",
            "[[0.92833333 0.035      0.01333333 0.0075     0.005      0.01083333]\n",
            " [0.02677165 0.87637795 0.04094488 0.00629921 0.02755906 0.02204724]\n",
            " [0.0125     0.04166667 0.84502066 0.03915978 0.02832645 0.03332645]\n",
            " [0.01570937 0.01322314 0.05126722 0.82802342 0.04629477 0.04548209]\n",
            " [0.01290323 0.02258065 0.02580645 0.03387097 0.82177419 0.08306452]\n",
            " [0.00472441 0.01575428 0.01574803 0.02285339 0.05829271 0.88262717]] \n",
            "\n",
            "---- NC ----\n",
            "\n",
            "[[0.91735537 0.01157025 0.01983471 0.02066116 0.0214876  0.00909091]\n",
            " [0.02487888 0.89742006 0.02950581 0.01243944 0.02487282 0.01088299]\n",
            " [0.0375     0.02833333 0.85833333 0.03916667 0.02333333 0.01333333]\n",
            " [0.01826446 0.01491047 0.03568182 0.86221074 0.0415427  0.02738981]\n",
            " [0.01672381 0.02231111 0.02548571 0.03346032 0.83988571 0.06213333]\n",
            " [0.00954921 0.01352381 0.02622222 0.03420317 0.0484381  0.86806349]] \n",
            "\n",
            "--------\n",
            "stat=-0.275, p=0.787\n",
            "Probably the same distribution\n",
            "\n",
            "\n",
            "********** E4 **********\n",
            "How well is E4 classified in PD data and NC data?\n",
            "\n",
            "---- PD ----\n",
            "\n",
            "[[0.92833333 0.035      0.01333333 0.0075     0.005      0.01083333]\n",
            " [0.02677165 0.87637795 0.04094488 0.00629921 0.02755906 0.02204724]\n",
            " [0.0125     0.04166667 0.84502066 0.03915978 0.02832645 0.03332645]\n",
            " [0.01570937 0.01322314 0.05126722 0.82802342 0.04629477 0.04548209]\n",
            " [0.01290323 0.02258065 0.02580645 0.03387097 0.82177419 0.08306452]\n",
            " [0.00472441 0.01575428 0.01574803 0.02285339 0.05829271 0.88262717]] \n",
            "\n",
            "---- NC ----\n",
            "\n",
            "[[0.91735537 0.01157025 0.01983471 0.02066116 0.0214876  0.00909091]\n",
            " [0.02487888 0.89742006 0.02950581 0.01243944 0.02487282 0.01088299]\n",
            " [0.0375     0.02833333 0.85833333 0.03916667 0.02333333 0.01333333]\n",
            " [0.01826446 0.01491047 0.03568182 0.86221074 0.0415427  0.02738981]\n",
            " [0.01672381 0.02231111 0.02548571 0.03346032 0.83988571 0.06213333]\n",
            " [0.00954921 0.01352381 0.02622222 0.03420317 0.0484381  0.86806349]] \n",
            "\n",
            "--------\n",
            "stat=-0.617, p=0.546\n",
            "Probably the same distribution\n",
            "\n",
            "\n",
            "********** E5 **********\n",
            "How well is E5 classified in PD data and NC data?\n",
            "\n",
            "---- PD ----\n",
            "\n",
            "[[0.92833333 0.035      0.01333333 0.0075     0.005      0.01083333]\n",
            " [0.02677165 0.87637795 0.04094488 0.00629921 0.02755906 0.02204724]\n",
            " [0.0125     0.04166667 0.84502066 0.03915978 0.02832645 0.03332645]\n",
            " [0.01570937 0.01322314 0.05126722 0.82802342 0.04629477 0.04548209]\n",
            " [0.01290323 0.02258065 0.02580645 0.03387097 0.82177419 0.08306452]\n",
            " [0.00472441 0.01575428 0.01574803 0.02285339 0.05829271 0.88262717]] \n",
            "\n",
            "---- NC ----\n",
            "\n",
            "[[0.91735537 0.01157025 0.01983471 0.02066116 0.0214876  0.00909091]\n",
            " [0.02487888 0.89742006 0.02950581 0.01243944 0.02487282 0.01088299]\n",
            " [0.0375     0.02833333 0.85833333 0.03916667 0.02333333 0.01333333]\n",
            " [0.01826446 0.01491047 0.03568182 0.86221074 0.0415427  0.02738981]\n",
            " [0.01672381 0.02231111 0.02548571 0.03346032 0.83988571 0.06213333]\n",
            " [0.00954921 0.01352381 0.02622222 0.03420317 0.0484381  0.86806349]] \n",
            "\n",
            "--------\n",
            "stat=-0.359, p=0.724\n",
            "Probably the same distribution\n",
            "\n",
            "\n",
            "********** E6 **********\n",
            "How well is E6 classified in PD data and NC data?\n",
            "\n",
            "---- PD ----\n",
            "\n",
            "[[0.92833333 0.035      0.01333333 0.0075     0.005      0.01083333]\n",
            " [0.02677165 0.87637795 0.04094488 0.00629921 0.02755906 0.02204724]\n",
            " [0.0125     0.04166667 0.84502066 0.03915978 0.02832645 0.03332645]\n",
            " [0.01570937 0.01322314 0.05126722 0.82802342 0.04629477 0.04548209]\n",
            " [0.01290323 0.02258065 0.02580645 0.03387097 0.82177419 0.08306452]\n",
            " [0.00472441 0.01575428 0.01574803 0.02285339 0.05829271 0.88262717]] \n",
            "\n",
            "---- NC ----\n",
            "\n",
            "[[0.91735537 0.01157025 0.01983471 0.02066116 0.0214876  0.00909091]\n",
            " [0.02487888 0.89742006 0.02950581 0.01243944 0.02487282 0.01088299]\n",
            " [0.0375     0.02833333 0.85833333 0.03916667 0.02333333 0.01333333]\n",
            " [0.01826446 0.01491047 0.03568182 0.86221074 0.0415427  0.02738981]\n",
            " [0.01672381 0.02231111 0.02548571 0.03346032 0.83988571 0.06213333]\n",
            " [0.00954921 0.01352381 0.02622222 0.03420317 0.0484381  0.86806349]] \n",
            "\n",
            "--------\n",
            "stat=0.398, p=0.695\n",
            "Probably the same distribution\n",
            "\n",
            "\n"
          ],
          "name": "stdout"
        }
      ]
    },
    {
      "cell_type": "markdown",
      "metadata": {
        "id": "qotz46ZTzjSW"
      },
      "source": [
        "# Comparisons"
      ]
    },
    {
      "cell_type": "markdown",
      "metadata": {
        "id": "YObv1yKN4mQC"
      },
      "source": [
        "HV vs LV Full data: Is there a significant difference between 2D and 3D CNN?"
      ]
    },
    {
      "cell_type": "code",
      "metadata": {
        "colab": {
          "base_uri": "https://localhost:8080/"
        },
        "id": "ZGOvfxmx8BiT",
        "outputId": "06f5227f-3685-4290-aabb-dfbab05d4966"
      },
      "source": [
        "def get_metric(dataPath, metric):\n",
        "  matContent = sio.loadmat(dataPath)\n",
        "  metric = matContent[metric]\n",
        "  return metric\n",
        "\n",
        "# HVLV 2D\n",
        "twoD_hvlv_df = pd.DataFrame()\n",
        "Data = [\"Full\", \"PD\", \"NC\"]\n",
        "for j in Data:\n",
        "  twoD_hvlv_f1 = get_metric('/content/drive/MyDrive/EEG_Analysis_PD_NC/Results/CNN_2D_our/CNN_2D_results_HVLV_'+str(j)+'.mat', 'f1_weightedNet')\n",
        "  data_df = pd.DataFrame({'f1_weightedNet': twoD_hvlv_f1[0], 'Data': len(twoD_hvlv_f1[0])*[str(j)]})\n",
        "  twoD_hvlv_df = twoD_hvlv_df.append(data_df, ignore_index=True)\n",
        "\n",
        "#print(twoD_hvlv_df)\n",
        "\n",
        "# HVLV 3D\n",
        "# Create a DataFrame\n",
        "threeD_hvlv_df = pd.DataFrame()\n",
        "Data = [\"Full\", \"PD\", \"NC\"]\n",
        "for j in Data:\n",
        "  threeD_hvlv_f1 = get_metric('/content/drive/MyDrive/EEG_Analysis_PD_NC/Results/CNN_3D_our/CNN_3D_results_HVLV_'+str(j)+'.mat', 'f1_weightedNet')\n",
        "  data_df = pd.DataFrame({'f1_weightedNet': threeD_hvlv_f1[0], 'Data': len(threeD_hvlv_f1[0])*[str(j)]})\n",
        "  threeD_hvlv_df = threeD_hvlv_df.append(data_df, ignore_index=True)\n",
        "\n",
        "#print(threeD_hvlv_df)\n",
        "\n",
        "# T-test between 2D and 3D results\n",
        "\n",
        "for j in Data:\n",
        "  print(10*\"*\", j, 10*\"*\")\n",
        "  d1=(twoD_hvlv_df[twoD_hvlv_df['Data']==j])\n",
        "  d2=(threeD_hvlv_df[threeD_hvlv_df['Data']==j])\n",
        "\n",
        "  stat, p = ttest_ind(d1['f1_weightedNet'].to_numpy(), d2['f1_weightedNet'].to_numpy(),equal_var=False)\n",
        "  print('stat=%.3f, p=%.3f' % (stat, p))\n",
        "  if p > 0.05:\n",
        "    print('Probably the same distribution')\n",
        "  else:\n",
        "    print('Probably different distributions')\n",
        "  print('\\n')"
      ],
      "execution_count": null,
      "outputs": [
        {
          "output_type": "stream",
          "text": [
            "********** Full **********\n",
            "stat=-0.883, p=0.389\n",
            "Probably the same distribution\n",
            "\n",
            "\n",
            "********** PD **********\n",
            "stat=-1.706, p=0.105\n",
            "Probably the same distribution\n",
            "\n",
            "\n",
            "********** NC **********\n",
            "stat=-0.484, p=0.635\n",
            "Probably the same distribution\n",
            "\n",
            "\n"
          ],
          "name": "stdout"
        }
      ]
    },
    {
      "cell_type": "markdown",
      "metadata": {
        "id": "Ft2EBK_q660W"
      },
      "source": [
        "HA vs LA: Is there a significant difference between 2D and 3D CNN?"
      ]
    },
    {
      "cell_type": "code",
      "metadata": {
        "colab": {
          "base_uri": "https://localhost:8080/"
        },
        "id": "sgOKw4Do7EMK",
        "outputId": "99b32b1c-532d-4f91-9974-be953f698128"
      },
      "source": [
        "def get_metric(dataPath, metric):\n",
        "  matContent = sio.loadmat(dataPath)\n",
        "  metric = matContent[metric]\n",
        "  return metric\n",
        "\n",
        "# HALA 2D\n",
        "twoD_hala_df = pd.DataFrame()\n",
        "Data = [\"Full\", \"PD\", \"NC\"]\n",
        "for j in Data:\n",
        "  twoD_hala_f1 = get_metric('/content/drive/MyDrive/EEG_Analysis_PD_NC/Results/CNN_2D_our/CNN_2D_results_HALA_'+str(j)+'.mat', 'f1_weightedNet')\n",
        "  data_df = pd.DataFrame({'f1_weightedNet': twoD_hala_f1[0], 'Data': len(twoD_hala_f1[0])*[str(j)]})\n",
        "  twoD_hala_df = twoD_hala_df.append(data_df, ignore_index=True)\n",
        "\n",
        "#print(twoD_hvlv_df)\n",
        "\n",
        "# HALA 3D\n",
        "# Create a DataFrame\n",
        "threeD_hala_df = pd.DataFrame()\n",
        "Data = [\"Full\", \"PD\", \"NC\"]\n",
        "for j in Data:\n",
        "  threeD_hala_f1 = get_metric('/content/drive/MyDrive/EEG_Analysis_PD_NC/Results/CNN_3D_our/CNN_3D_results_HALA_'+str(j)+'.mat', 'f1_weightedNet')\n",
        "  data_df = pd.DataFrame({'f1_weightedNet': threeD_hala_f1[0], 'Data': len(threeD_hala_f1[0])*[str(j)]})\n",
        "  threeD_hala_df = threeD_hala_df.append(data_df, ignore_index=True)\n",
        "\n",
        "#print(threeD_hvlv_df)\n",
        "\n",
        "# T-test between Full, 2D and 3D results\n",
        "\n",
        "for j in Data:\n",
        "  print(10*\"*\", j, 10*\"*\")\n",
        "  d1=(twoD_hala_df[twoD_hala_df['Data']==j])\n",
        "  d2=(threeD_hala_df[threeD_hala_df['Data']==j])\n",
        "\n",
        "  stat, p = ttest_ind(d1['f1_weightedNet'].to_numpy(), d2['f1_weightedNet'].to_numpy(),equal_var=False)\n",
        "  print('stat=%.3f, p=%.3f' % (stat, p))\n",
        "  if p > 0.05:\n",
        "    print('Probably the same distribution')\n",
        "  else:\n",
        "    print('Probably different distributions')\n",
        "  print('\\n')"
      ],
      "execution_count": null,
      "outputs": [
        {
          "output_type": "stream",
          "text": [
            "********** Full **********\n",
            "stat=-0.207, p=0.838\n",
            "Probably the same distribution\n",
            "\n",
            "\n",
            "********** PD **********\n",
            "stat=0.271, p=0.789\n",
            "Probably the same distribution\n",
            "\n",
            "\n",
            "********** NC **********\n",
            "stat=-2.418, p=0.027\n",
            "Probably different distributions\n",
            "\n",
            "\n"
          ],
          "name": "stdout"
        }
      ]
    },
    {
      "cell_type": "markdown",
      "metadata": {
        "id": "wPEXBJO59IDP"
      },
      "source": [
        "MultiClass: Is there a significant difference between 2D and 3D CNN?"
      ]
    },
    {
      "cell_type": "code",
      "metadata": {
        "colab": {
          "base_uri": "https://localhost:8080/"
        },
        "id": "EvD7j1sa8lML",
        "outputId": "c5b097de-def1-41e0-bc74-5ff8c95fbc19"
      },
      "source": [
        "def get_metric(dataPath, metric):\n",
        "  matContent = sio.loadmat(dataPath)\n",
        "  metric = matContent[metric]\n",
        "  return metric\n",
        "\n",
        "# MultiClass 2D\n",
        "twoD_multi_df = pd.DataFrame()\n",
        "Data = [\"Full\", \"PD\", \"NC\"]\n",
        "for j in Data:\n",
        "  twoD_multi_f1 = get_metric('/content/drive/MyDrive/EEG_Analysis_PD_NC/Results/CNN_2D_our/CNN_2D_results_MultiClass_'+str(j)+'.mat', 'f1_weightedNet')\n",
        "  data_df = pd.DataFrame({'f1_weightedNet': twoD_multi_f1[0], 'Data': len(twoD_multi_f1[0])*[str(j)]})\n",
        "  twoD_multi_df = twoD_multi_df.append(data_df, ignore_index=True)\n",
        "\n",
        "#print(twoD_multi_df)\n",
        "\n",
        "# MultiClass 3D\n",
        "# Create a DataFrame\n",
        "threeD_multi_df = pd.DataFrame()\n",
        "Data = [\"Full\", \"PD\", \"NC\"]\n",
        "for j in Data:\n",
        "  threeD_multi_f1 = get_metric('/content/drive/MyDrive/EEG_Analysis_PD_NC/Results/CNN_3D_our/CNN_3D_results_HALA_'+str(j)+'.mat', 'f1_weightedNet')\n",
        "  data_df = pd.DataFrame({'f1_weightedNet': threeD_multi_f1[0], 'Data': len(threeD_multi_f1[0])*[str(j)]})\n",
        "  threeD_multi_df = threeD_multi_df.append(data_df, ignore_index=True)\n",
        "\n",
        "#print(threeD_multi_df)\n",
        "\n",
        "# T-test between Full, 2D and 3D results\n",
        "\n",
        "for j in Data:\n",
        "  print(10*\"*\", j, 10*\"*\")\n",
        "  d1=(twoD_multi_df[twoD_multi_df['Data']==j])\n",
        "  d2=(threeD_multi_df[threeD_multi_df['Data']==j])\n",
        "\n",
        "  stat, p = ttest_ind(d1['f1_weightedNet'].to_numpy(), d2['f1_weightedNet'].to_numpy(),equal_var=False)\n",
        "  print('stat=%.3f, p=%.3f' % (stat, p))\n",
        "  if p > 0.05:\n",
        "    print('Probably the same distribution')\n",
        "  else:\n",
        "    print('Probably different distributions')\n",
        "  print('\\n')"
      ],
      "execution_count": null,
      "outputs": [
        {
          "output_type": "stream",
          "text": [
            "********** Full **********\n",
            "stat=-4.981, p=0.001\n",
            "Probably different distributions\n",
            "\n",
            "\n",
            "********** PD **********\n",
            "stat=-3.654, p=0.004\n",
            "Probably different distributions\n",
            "\n",
            "\n",
            "********** NC **********\n",
            "stat=-3.801, p=0.003\n",
            "Probably different distributions\n",
            "\n",
            "\n"
          ],
          "name": "stdout"
        }
      ]
    },
    {
      "cell_type": "markdown",
      "metadata": {
        "id": "MGZe0mBbLDPq"
      },
      "source": [
        "# Archive"
      ]
    },
    {
      "cell_type": "code",
      "metadata": {
        "id": "BO_nm_64RmY8",
        "colab": {
          "base_uri": "https://localhost:8080/",
          "height": 426
        },
        "outputId": "05cf0dd4-09f1-4f40-9142-cb998d984b9c"
      },
      "source": [
        "pdnc_full_2d = sio.loadmat('/content/drive/MyDrive/EEG_Analysis_PD_NC/Results/CNN_2D_our/CNN_2D_results_PDNC_Full.mat')\n",
        "pdnc_full_1d = sio.loadmat('/content/drive/MyDrive/EEG_Analysis_PD_NC/Results/CNN_1D/CNN_1D_Spectral/CNN_1D_results_PDNC_spectral_Full.mat')\n",
        "\n",
        "hvlv_full_2d = sio.loadmat('/content/drive/MyDrive/EEG_Analysis_PD_NC/Results/CNN_2D_our/CNN_2D_results_HVLV_Full.mat')\n",
        "hvlv_full_1d = sio.loadmat('/content/drive/MyDrive/EEG_Analysis_PD_NC/Results/CNN_1D/CNN_1D_Spectral/CNN_1D_results_HVLV_spectral_Full.mat')\n",
        "\n",
        "hala_full_2d = sio.loadmat('/content/drive/MyDrive/EEG_Analysis_PD_NC/Results/CNN_2D_our/CNN_2D_results_HALA_Full.mat')\n",
        "hala_full_1d = sio.loadmat('/content/drive/MyDrive/EEG_Analysis_PD_NC/Results/CNN_1D/CNN_1D_Spectral/CNN_1D_results_HALA_spectral_Full.mat')\n",
        "\n",
        "multi_full_2d = sio.loadmat('/content/drive/MyDrive/EEG_Analysis_PD_NC/Results/CNN_2D_our/CNN_2D_results_MultiClass_Full.mat')\n",
        "multi_full_1d = sio.loadmat('/content/drive/MyDrive/EEG_Analysis_PD_NC/Results/CNN_1D/CNN_1D_Spectral/CNN_1D_results_MultiClass_spectral_Full.mat')"
      ],
      "execution_count": null,
      "outputs": [
        {
          "output_type": "error",
          "ename": "FileNotFoundError",
          "evalue": "ignored",
          "traceback": [
            "\u001b[0;31m---------------------------------------------------------------------------\u001b[0m",
            "\u001b[0;31mFileNotFoundError\u001b[0m                         Traceback (most recent call last)",
            "\u001b[0;32m/usr/local/lib/python3.7/dist-packages/scipy/io/matlab/mio.py\u001b[0m in \u001b[0;36m_open_file\u001b[0;34m(file_like, appendmat, mode)\u001b[0m\n\u001b[1;32m     38\u001b[0m     \u001b[0;32mtry\u001b[0m\u001b[0;34m:\u001b[0m\u001b[0;34m\u001b[0m\u001b[0;34m\u001b[0m\u001b[0m\n\u001b[0;32m---> 39\u001b[0;31m         \u001b[0;32mreturn\u001b[0m \u001b[0mopen\u001b[0m\u001b[0;34m(\u001b[0m\u001b[0mfile_like\u001b[0m\u001b[0;34m,\u001b[0m \u001b[0mmode\u001b[0m\u001b[0;34m)\u001b[0m\u001b[0;34m,\u001b[0m \u001b[0;32mTrue\u001b[0m\u001b[0;34m\u001b[0m\u001b[0;34m\u001b[0m\u001b[0m\n\u001b[0m\u001b[1;32m     40\u001b[0m     \u001b[0;32mexcept\u001b[0m \u001b[0mIOError\u001b[0m\u001b[0;34m:\u001b[0m\u001b[0;34m\u001b[0m\u001b[0;34m\u001b[0m\u001b[0m\n",
            "\u001b[0;31mFileNotFoundError\u001b[0m: [Errno 2] No such file or directory: '/content/drive/MyDrive/EEG_Analysis_PD_NC/Results/CNN_2D_our/CNN_2D_results_PDNC_Full.mat'",
            "\nDuring handling of the above exception, another exception occurred:\n",
            "\u001b[0;31mFileNotFoundError\u001b[0m                         Traceback (most recent call last)",
            "\u001b[0;32m<ipython-input-61-6c1c97331dae>\u001b[0m in \u001b[0;36m<module>\u001b[0;34m()\u001b[0m\n\u001b[0;32m----> 1\u001b[0;31m \u001b[0mpdnc_full_2d\u001b[0m \u001b[0;34m=\u001b[0m \u001b[0msio\u001b[0m\u001b[0;34m.\u001b[0m\u001b[0mloadmat\u001b[0m\u001b[0;34m(\u001b[0m\u001b[0;34m'/content/drive/MyDrive/EEG_Analysis_PD_NC/Results/CNN_2D_our/CNN_2D_results_PDNC_Full.mat'\u001b[0m\u001b[0;34m)\u001b[0m\u001b[0;34m\u001b[0m\u001b[0;34m\u001b[0m\u001b[0m\n\u001b[0m\u001b[1;32m      2\u001b[0m \u001b[0mpdnc_full_1d\u001b[0m \u001b[0;34m=\u001b[0m \u001b[0msio\u001b[0m\u001b[0;34m.\u001b[0m\u001b[0mloadmat\u001b[0m\u001b[0;34m(\u001b[0m\u001b[0;34m'/content/drive/MyDrive/EEG_Analysis_PD_NC/Results/CNN_1D/CNN_1D_Spectral/CNN_1D_results_PDNC_spectral_Full.mat'\u001b[0m\u001b[0;34m)\u001b[0m\u001b[0;34m\u001b[0m\u001b[0;34m\u001b[0m\u001b[0m\n\u001b[1;32m      3\u001b[0m \u001b[0;34m\u001b[0m\u001b[0m\n\u001b[1;32m      4\u001b[0m \u001b[0mhvlv_full_2d\u001b[0m \u001b[0;34m=\u001b[0m \u001b[0msio\u001b[0m\u001b[0;34m.\u001b[0m\u001b[0mloadmat\u001b[0m\u001b[0;34m(\u001b[0m\u001b[0;34m'/content/drive/MyDrive/EEG_Analysis_PD_NC/Results/CNN_2D_our/CNN_2D_results_HVLV_Full.mat'\u001b[0m\u001b[0;34m)\u001b[0m\u001b[0;34m\u001b[0m\u001b[0;34m\u001b[0m\u001b[0m\n\u001b[1;32m      5\u001b[0m \u001b[0mhvlv_full_1d\u001b[0m \u001b[0;34m=\u001b[0m \u001b[0msio\u001b[0m\u001b[0;34m.\u001b[0m\u001b[0mloadmat\u001b[0m\u001b[0;34m(\u001b[0m\u001b[0;34m'/content/drive/MyDrive/EEG_Analysis_PD_NC/Results/CNN_1D/CNN_1D_Spectral/CNN_1D_results_HVLV_spectral_Full.mat'\u001b[0m\u001b[0;34m)\u001b[0m\u001b[0;34m\u001b[0m\u001b[0;34m\u001b[0m\u001b[0m\n",
            "\u001b[0;32m/usr/local/lib/python3.7/dist-packages/scipy/io/matlab/mio.py\u001b[0m in \u001b[0;36mloadmat\u001b[0;34m(file_name, mdict, appendmat, **kwargs)\u001b[0m\n\u001b[1;32m    214\u001b[0m     \"\"\"\n\u001b[1;32m    215\u001b[0m     \u001b[0mvariable_names\u001b[0m \u001b[0;34m=\u001b[0m \u001b[0mkwargs\u001b[0m\u001b[0;34m.\u001b[0m\u001b[0mpop\u001b[0m\u001b[0;34m(\u001b[0m\u001b[0;34m'variable_names'\u001b[0m\u001b[0;34m,\u001b[0m \u001b[0;32mNone\u001b[0m\u001b[0;34m)\u001b[0m\u001b[0;34m\u001b[0m\u001b[0;34m\u001b[0m\u001b[0m\n\u001b[0;32m--> 216\u001b[0;31m     \u001b[0;32mwith\u001b[0m \u001b[0m_open_file_context\u001b[0m\u001b[0;34m(\u001b[0m\u001b[0mfile_name\u001b[0m\u001b[0;34m,\u001b[0m \u001b[0mappendmat\u001b[0m\u001b[0;34m)\u001b[0m \u001b[0;32mas\u001b[0m \u001b[0mf\u001b[0m\u001b[0;34m:\u001b[0m\u001b[0;34m\u001b[0m\u001b[0;34m\u001b[0m\u001b[0m\n\u001b[0m\u001b[1;32m    217\u001b[0m         \u001b[0mMR\u001b[0m\u001b[0;34m,\u001b[0m \u001b[0m_\u001b[0m \u001b[0;34m=\u001b[0m \u001b[0mmat_reader_factory\u001b[0m\u001b[0;34m(\u001b[0m\u001b[0mf\u001b[0m\u001b[0;34m,\u001b[0m \u001b[0;34m**\u001b[0m\u001b[0mkwargs\u001b[0m\u001b[0;34m)\u001b[0m\u001b[0;34m\u001b[0m\u001b[0;34m\u001b[0m\u001b[0m\n\u001b[1;32m    218\u001b[0m         \u001b[0mmatfile_dict\u001b[0m \u001b[0;34m=\u001b[0m \u001b[0mMR\u001b[0m\u001b[0;34m.\u001b[0m\u001b[0mget_variables\u001b[0m\u001b[0;34m(\u001b[0m\u001b[0mvariable_names\u001b[0m\u001b[0;34m)\u001b[0m\u001b[0;34m\u001b[0m\u001b[0;34m\u001b[0m\u001b[0m\n",
            "\u001b[0;32m/usr/lib/python3.7/contextlib.py\u001b[0m in \u001b[0;36m__enter__\u001b[0;34m(self)\u001b[0m\n\u001b[1;32m    110\u001b[0m         \u001b[0;32mdel\u001b[0m \u001b[0mself\u001b[0m\u001b[0;34m.\u001b[0m\u001b[0margs\u001b[0m\u001b[0;34m,\u001b[0m \u001b[0mself\u001b[0m\u001b[0;34m.\u001b[0m\u001b[0mkwds\u001b[0m\u001b[0;34m,\u001b[0m \u001b[0mself\u001b[0m\u001b[0;34m.\u001b[0m\u001b[0mfunc\u001b[0m\u001b[0;34m\u001b[0m\u001b[0;34m\u001b[0m\u001b[0m\n\u001b[1;32m    111\u001b[0m         \u001b[0;32mtry\u001b[0m\u001b[0;34m:\u001b[0m\u001b[0;34m\u001b[0m\u001b[0;34m\u001b[0m\u001b[0m\n\u001b[0;32m--> 112\u001b[0;31m             \u001b[0;32mreturn\u001b[0m \u001b[0mnext\u001b[0m\u001b[0;34m(\u001b[0m\u001b[0mself\u001b[0m\u001b[0;34m.\u001b[0m\u001b[0mgen\u001b[0m\u001b[0;34m)\u001b[0m\u001b[0;34m\u001b[0m\u001b[0;34m\u001b[0m\u001b[0m\n\u001b[0m\u001b[1;32m    113\u001b[0m         \u001b[0;32mexcept\u001b[0m \u001b[0mStopIteration\u001b[0m\u001b[0;34m:\u001b[0m\u001b[0;34m\u001b[0m\u001b[0;34m\u001b[0m\u001b[0m\n\u001b[1;32m    114\u001b[0m             \u001b[0;32mraise\u001b[0m \u001b[0mRuntimeError\u001b[0m\u001b[0;34m(\u001b[0m\u001b[0;34m\"generator didn't yield\"\u001b[0m\u001b[0;34m)\u001b[0m \u001b[0;32mfrom\u001b[0m \u001b[0;32mNone\u001b[0m\u001b[0;34m\u001b[0m\u001b[0;34m\u001b[0m\u001b[0m\n",
            "\u001b[0;32m/usr/local/lib/python3.7/dist-packages/scipy/io/matlab/mio.py\u001b[0m in \u001b[0;36m_open_file_context\u001b[0;34m(file_like, appendmat, mode)\u001b[0m\n\u001b[1;32m     17\u001b[0m \u001b[0;34m@\u001b[0m\u001b[0mcontextmanager\u001b[0m\u001b[0;34m\u001b[0m\u001b[0;34m\u001b[0m\u001b[0m\n\u001b[1;32m     18\u001b[0m \u001b[0;32mdef\u001b[0m \u001b[0m_open_file_context\u001b[0m\u001b[0;34m(\u001b[0m\u001b[0mfile_like\u001b[0m\u001b[0;34m,\u001b[0m \u001b[0mappendmat\u001b[0m\u001b[0;34m,\u001b[0m \u001b[0mmode\u001b[0m\u001b[0;34m=\u001b[0m\u001b[0;34m'rb'\u001b[0m\u001b[0;34m)\u001b[0m\u001b[0;34m:\u001b[0m\u001b[0;34m\u001b[0m\u001b[0;34m\u001b[0m\u001b[0m\n\u001b[0;32m---> 19\u001b[0;31m     \u001b[0mf\u001b[0m\u001b[0;34m,\u001b[0m \u001b[0mopened\u001b[0m \u001b[0;34m=\u001b[0m \u001b[0m_open_file\u001b[0m\u001b[0;34m(\u001b[0m\u001b[0mfile_like\u001b[0m\u001b[0;34m,\u001b[0m \u001b[0mappendmat\u001b[0m\u001b[0;34m,\u001b[0m \u001b[0mmode\u001b[0m\u001b[0;34m)\u001b[0m\u001b[0;34m\u001b[0m\u001b[0;34m\u001b[0m\u001b[0m\n\u001b[0m\u001b[1;32m     20\u001b[0m     \u001b[0;32myield\u001b[0m \u001b[0mf\u001b[0m\u001b[0;34m\u001b[0m\u001b[0;34m\u001b[0m\u001b[0m\n\u001b[1;32m     21\u001b[0m     \u001b[0;32mif\u001b[0m \u001b[0mopened\u001b[0m\u001b[0;34m:\u001b[0m\u001b[0;34m\u001b[0m\u001b[0;34m\u001b[0m\u001b[0m\n",
            "\u001b[0;32m/usr/local/lib/python3.7/dist-packages/scipy/io/matlab/mio.py\u001b[0m in \u001b[0;36m_open_file\u001b[0;34m(file_like, appendmat, mode)\u001b[0m\n\u001b[1;32m     43\u001b[0m             \u001b[0;32mif\u001b[0m \u001b[0mappendmat\u001b[0m \u001b[0;32mand\u001b[0m \u001b[0;32mnot\u001b[0m \u001b[0mfile_like\u001b[0m\u001b[0;34m.\u001b[0m\u001b[0mendswith\u001b[0m\u001b[0;34m(\u001b[0m\u001b[0;34m'.mat'\u001b[0m\u001b[0;34m)\u001b[0m\u001b[0;34m:\u001b[0m\u001b[0;34m\u001b[0m\u001b[0;34m\u001b[0m\u001b[0m\n\u001b[1;32m     44\u001b[0m                 \u001b[0mfile_like\u001b[0m \u001b[0;34m+=\u001b[0m \u001b[0;34m'.mat'\u001b[0m\u001b[0;34m\u001b[0m\u001b[0;34m\u001b[0m\u001b[0m\n\u001b[0;32m---> 45\u001b[0;31m             \u001b[0;32mreturn\u001b[0m \u001b[0mopen\u001b[0m\u001b[0;34m(\u001b[0m\u001b[0mfile_like\u001b[0m\u001b[0;34m,\u001b[0m \u001b[0mmode\u001b[0m\u001b[0;34m)\u001b[0m\u001b[0;34m,\u001b[0m \u001b[0;32mTrue\u001b[0m\u001b[0;34m\u001b[0m\u001b[0;34m\u001b[0m\u001b[0m\n\u001b[0m\u001b[1;32m     46\u001b[0m         \u001b[0;32melse\u001b[0m\u001b[0;34m:\u001b[0m\u001b[0;34m\u001b[0m\u001b[0;34m\u001b[0m\u001b[0m\n\u001b[1;32m     47\u001b[0m             \u001b[0;32mraise\u001b[0m \u001b[0mIOError\u001b[0m\u001b[0;34m(\u001b[0m\u001b[0;34m'Reader needs file name or open file-like object'\u001b[0m\u001b[0;34m)\u001b[0m\u001b[0;34m\u001b[0m\u001b[0;34m\u001b[0m\u001b[0m\n",
            "\u001b[0;31mFileNotFoundError\u001b[0m: [Errno 2] No such file or directory: '/content/drive/MyDrive/EEG_Analysis_PD_NC/Results/CNN_2D_our/CNN_2D_results_PDNC_Full.mat'"
          ]
        }
      ]
    },
    {
      "cell_type": "code",
      "metadata": {
        "colab": {
          "base_uri": "https://localhost:8080/",
          "height": 215
        },
        "id": "igZFt4LhQSoM",
        "outputId": "6340f9c5-f0df-459b-d377-b95ce9d52feb"
      },
      "source": [
        "pdnc_acc_2d = pdnc_full_2d['accNet']\n",
        "pdnc_acc_1d = pdnc_full_1d['accNet']\n",
        "\n",
        "stats.ttest_ind(pdnc_acc_2d[0],pdnc_acc_1d[0])"
      ],
      "execution_count": null,
      "outputs": [
        {
          "output_type": "error",
          "ename": "NameError",
          "evalue": "ignored",
          "traceback": [
            "\u001b[0;31m---------------------------------------------------------------------------\u001b[0m",
            "\u001b[0;31mNameError\u001b[0m                                 Traceback (most recent call last)",
            "\u001b[0;32m<ipython-input-62-521080b2fb30>\u001b[0m in \u001b[0;36m<module>\u001b[0;34m()\u001b[0m\n\u001b[0;32m----> 1\u001b[0;31m \u001b[0mpdnc_acc_2d\u001b[0m \u001b[0;34m=\u001b[0m \u001b[0mpdnc_full_2d\u001b[0m\u001b[0;34m[\u001b[0m\u001b[0;34m'accNet'\u001b[0m\u001b[0;34m]\u001b[0m\u001b[0;34m\u001b[0m\u001b[0;34m\u001b[0m\u001b[0m\n\u001b[0m\u001b[1;32m      2\u001b[0m \u001b[0mpdnc_acc_1d\u001b[0m \u001b[0;34m=\u001b[0m \u001b[0mpdnc_full_1d\u001b[0m\u001b[0;34m[\u001b[0m\u001b[0;34m'accNet'\u001b[0m\u001b[0;34m]\u001b[0m\u001b[0;34m\u001b[0m\u001b[0;34m\u001b[0m\u001b[0m\n\u001b[1;32m      3\u001b[0m \u001b[0;34m\u001b[0m\u001b[0m\n\u001b[1;32m      4\u001b[0m \u001b[0mstats\u001b[0m\u001b[0;34m.\u001b[0m\u001b[0mttest_ind\u001b[0m\u001b[0;34m(\u001b[0m\u001b[0mpdnc_acc_2d\u001b[0m\u001b[0;34m[\u001b[0m\u001b[0;36m0\u001b[0m\u001b[0;34m]\u001b[0m\u001b[0;34m,\u001b[0m\u001b[0mpdnc_acc_1d\u001b[0m\u001b[0;34m[\u001b[0m\u001b[0;36m0\u001b[0m\u001b[0;34m]\u001b[0m\u001b[0;34m)\u001b[0m\u001b[0;34m\u001b[0m\u001b[0;34m\u001b[0m\u001b[0m\n",
            "\u001b[0;31mNameError\u001b[0m: name 'pdnc_full_2d' is not defined"
          ]
        }
      ]
    },
    {
      "cell_type": "code",
      "metadata": {
        "id": "H2sQ8M0hSWpt"
      },
      "source": [
        "hvlv_f1_2d = hvlv_full_2d['f1_weightedNet']\n",
        "hvlv_f1_1d = hvlv_full_1d['f1_weightedNet']\n",
        "\n",
        "stats.ttest_ind(hvlv_f1_2d[0],hvlv_f1_1d[0])"
      ],
      "execution_count": null,
      "outputs": []
    },
    {
      "cell_type": "code",
      "metadata": {
        "id": "w5DxbIBFSrvI"
      },
      "source": [
        "hala_f1_2d = hala_full_2d['f1_weightedNet']\n",
        "hala_f1_1d = hala_full_1d['f1_weightedNet']\n",
        "\n",
        "stats.ttest_ind(hala_f1_2d[0],hala_f1_1d[0])"
      ],
      "execution_count": null,
      "outputs": []
    },
    {
      "cell_type": "code",
      "metadata": {
        "id": "VvIcHdmnSrp-"
      },
      "source": [
        "multi_acc_2d = multi_full_2d['accNet']\n",
        "multi_acc_1d = multi_full_1d['accNet']\n",
        "\n",
        "stats.ttest_ind(multi_acc_2d[0],multi_acc_1d[0])"
      ],
      "execution_count": null,
      "outputs": []
    },
    {
      "cell_type": "code",
      "metadata": {
        "id": "9qSEfAph8rZL"
      },
      "source": [
        "pd_hala = sio.loadmat('/content/drive/MyDrive/EEG_Analysis_PD_NC/Results/CNN_2D_our/CNN_2D_results_HALA_PD.mat')\n",
        "nc_hala = sio.loadmat('/content/drive/MyDrive/EEG_Analysis_PD_NC/Results/CNN_2D_our/CNN_2D_results_HALA_NC.mat')\n",
        "\n",
        "pd_hvlv = sio.loadmat('/content/drive/MyDrive/EEG_Analysis_PD_NC/Results/CNN_2D_our/CNN_2D_results_HVLV_PD.mat')\n",
        "nc_hvlv = sio.loadmat('/content/drive/MyDrive/EEG_Analysis_PD_NC/Results/CNN_2D_our/CNN_2D_results_HVLV_NC.mat')\n",
        "\n",
        "pd_multi = sio.loadmat('/content/drive/MyDrive/EEG_Analysis_PD_NC/Results/CNN_2D_our/CNN_2D_results_MultiClass_PD.mat')\n",
        "nc_multi = sio.loadmat('/content/drive/MyDrive/EEG_Analysis_PD_NC/Results/CNN_2D_our/CNN_2D_results_MultiClass_NC.mat')"
      ],
      "execution_count": null,
      "outputs": []
    },
    {
      "cell_type": "code",
      "metadata": {
        "id": "5_SMJGvx9zil"
      },
      "source": [
        "pd_multi.keys()"
      ],
      "execution_count": null,
      "outputs": []
    },
    {
      "cell_type": "code",
      "metadata": {
        "id": "xBoqlgQH-IFo"
      },
      "source": [
        "pd_f1_hvlv = pd_hvlv['f1_weightedNet']\n",
        "nc_f1_hvlv = nc_hvlv['f1_weightedNet']\n",
        "\n",
        "stats.ttest_ind(pd_f1_hvlv[0],nc_f1_hvlv[0])"
      ],
      "execution_count": null,
      "outputs": []
    },
    {
      "cell_type": "code",
      "metadata": {
        "id": "z08WebCKLoN-"
      },
      "source": [
        "pd_f1_hala = pd_hala['f1_weightedNet']\n",
        "nc_f1_hala = nc_hala['f1_weightedNet']\n",
        "\n",
        "stats.ttest_ind(pd_f1_hala[0],nc_f1_hala[0])"
      ],
      "execution_count": null,
      "outputs": []
    },
    {
      "cell_type": "code",
      "metadata": {
        "id": "m1boOajvYKeW"
      },
      "source": [
        "pd_f1_multi = pd_multi['f1_weightedNet']\n",
        "nc_f1_multi = nc_multi['f1_weightedNet']\n",
        "\n",
        "stats.ttest_ind(pd_f1_multi[0],nc_f1_multi[0])"
      ],
      "execution_count": null,
      "outputs": []
    },
    {
      "cell_type": "code",
      "metadata": {
        "id": "Q6PsVkizbH67"
      },
      "source": [
        "stats.ttest_ind(pd_f1_hvlv[0],pd_f1_hala[0])"
      ],
      "execution_count": null,
      "outputs": []
    },
    {
      "cell_type": "code",
      "metadata": {
        "id": "LhZ84IYJk32X"
      },
      "source": [
        "stats.ttest_ind(nc_f1_hvlv[0],nc_f1_hala[0])"
      ],
      "execution_count": null,
      "outputs": []
    },
    {
      "cell_type": "code",
      "metadata": {
        "id": "lRo3yESfThzT"
      },
      "source": [
        "e1_pdnc = sio.loadmat('/content/drive/MyDrive/EEG_Analysis_PD_NC/Results/CNN_2D_our/CNN_2D_results_PDNC_E1.mat')\n",
        "\n",
        "e2_pdnc = sio.loadmat('/content/drive/MyDrive/EEG_Analysis_PD_NC/Results/CNN_2D_our/CNN_2D_results_PDNC_E2.mat')\n",
        "\n",
        "e3_pdnc = sio.loadmat('/content/drive/MyDrive/EEG_Analysis_PD_NC/Results/CNN_2D_our/CNN_2D_results_PDNC_E3.mat')\n",
        "\n",
        "e4_pdnc = sio.loadmat('/content/drive/MyDrive/EEG_Analysis_PD_NC/Results/CNN_2D_our/CNN_2D_results_PDNC_E4.mat')\n",
        "\n",
        "e5_pdnc = sio.loadmat('/content/drive/MyDrive/EEG_Analysis_PD_NC/Results/CNN_2D_our/CNN_2D_results_PDNC_E5.mat')\n",
        "\n",
        "e6_pdnc = sio.loadmat('/content/drive/MyDrive/EEG_Analysis_PD_NC/Results/CNN_2D_our/CNN_2D_results_PDNC_E6.mat')"
      ],
      "execution_count": null,
      "outputs": []
    },
    {
      "cell_type": "code",
      "metadata": {
        "id": "jNtJcuUTUasf"
      },
      "source": [
        "e1_acc = e1_pdnc['accNet']\n",
        "e2_acc = e2_pdnc['accNet']\n",
        "e3_acc = e3_pdnc['accNet']\n",
        "e4_acc = e4_pdnc['accNet']\n",
        "e5_acc = e5_pdnc['accNet']\n",
        "e6_acc = e6_pdnc['accNet']\n",
        "\n",
        "stats.f_oneway(e1_acc[0], e2_acc[0], e3_acc[0], e4_acc[0], e5_acc[0], e6_acc[0])"
      ],
      "execution_count": null,
      "outputs": []
    },
    {
      "cell_type": "code",
      "metadata": {
        "id": "oxFpljI18CzM"
      },
      "source": [
        "df = pd.DataFrame({'e1':e1_acc[0], 'e2':e2_acc[0], 'e3':e3_acc[0],\n",
        "                   'e4':e4_acc[0], 'e5':e5_acc[0], 'e6':e6_acc[0]})"
      ],
      "execution_count": null,
      "outputs": []
    },
    {
      "cell_type": "code",
      "metadata": {
        "id": "Soao_oLEbaG3"
      },
      "source": [
        "#Plot comparing sensitivity of NC and PD.\n",
        "labels = ['ML', '1D', '2D', '3D']\n",
        "x_pos = np.arange(len(labels))\n",
        "\n",
        "sens_hvlv_pd_m = [hv_hv_pd_ml[0], hv_hv_1pd[0], hv_hv_2pd[0], hv_hv_3pd[0]]\n",
        "sens_hvlv_pd_s = [hv_hv_pd_ml[1], hv_hv_1pd[1], hv_hv_2pd[1], hv_hv_3pd[1]]\n",
        "\n",
        "sens_hvlv_nc_m = [hv_hv_nc_ml[0], hv_hv_1nc[0], hv_hv_2nc[0], hv_hv_3nc[0]]\n",
        "sens_hvlv_nc_s = [hv_hv_nc_ml[1], hv_hv_1nc[1], hv_hv_2nc[1], hv_hv_3nc[1]]\n",
        "\n",
        "#ax = fig.add_axes([0,0,1,1])\n",
        "barWidth = 0.25\n",
        "p1 = plt.bar(x_pos - barWidth/2, sens_hvlv_pd_m, yerr=sens_hvlv_pd_s, align='center', alpha=0.5,\n",
        "             width = barWidth)\n",
        "p2 = plt.bar(x_pos + barWidth/2, sens_hvlv_nc_m, yerr=sens_hvlv_nc_s, align='center', alpha=0.5,\n",
        "            width = barWidth)\n",
        "#plt.ylabel('Mean brands recalled',fontsize=14,weight='bold')\n",
        "#plt.xlabel('Methods',fontsize=14,weight='bold')\n",
        "plt.ylim(0,1)\n",
        "plt.xticks(ticks=[0,1,2,3], labels=labels, weight='bold')\n",
        "plt.yticks(weight='bold')\n",
        "plt.legend((p1[0], p2[0]), ('PD', 'NC'))\n",
        "plt.title('Sensitivity in Valence Classification')\n",
        "\n",
        "#Statistical significance\n",
        "\n",
        "# T-test between PD and NC data\n",
        "\n",
        "print(\"---ML---\")\n",
        "stat, p = ttest_ind([i[1][1] for i in hvlv_nc_ml],[i[1][1] for i in hvlv_pd_ml],equal_var=False)\n",
        "print('stat=%.3f, p=%.3f' % (stat, p))\n",
        "\n",
        "print(\"---1D---\")\n",
        "stat, p = ttest_ind([i[1][1] for i in hvlv_nc_1d],[i[1][1] for i in hvlv_pd_1d],equal_var=False)\n",
        "print('stat=%.3f, p=%.3f' % (stat, p))\n",
        "\n",
        "print(\"---2D---\")\n",
        "stat, p = ttest_ind([i[1][1] for i in hvlv_nc_2d],[i[1][1] for i in hvlv_pd_2d],equal_var=False)\n",
        "print('stat=%.3f, p=%.3f' % (stat, p))\n",
        "\n",
        "print(\"---3D---\")\n",
        "stat, p = ttest_ind([i[1][1] for i in hvlv_nc_3d],[i[1][1] for i in hvlv_pd_3d],equal_var=False)\n",
        "print('stat=%.3f, p=%.3f' % (stat, p))\n",
        "\n",
        "#plt.savefig('U2_IFbrrec.png',bbox_inches='tight')\n",
        "#files.download('U2_IFbrrec.png')"
      ],
      "execution_count": null,
      "outputs": []
    },
    {
      "cell_type": "code",
      "metadata": {
        "id": "7wmDekd6bfM4"
      },
      "source": [
        "#Plot comparing specificity of NC and PD.\n",
        "labels = ['ML', '1D', '2D', '3D']\n",
        "x_pos = np.arange(len(labels))\n",
        "\n",
        "spec_hvlv_pd_m = [lv_lv_pd_ml[0], lv_lv_1pd[0], lv_lv_2pd[0], lv_lv_3pd[0]]\n",
        "spec_hvlv_pd_s = [lv_lv_pd_ml[1], lv_lv_1pd[1], lv_lv_2pd[1], lv_lv_3pd[1]]\n",
        "\n",
        "spec_hvlv_nc_m = [lv_lv_nc_ml[0], lv_lv_1nc[0], lv_lv_2nc[0], lv_lv_3nc[0]]\n",
        "spec_hvlv_nc_s = [lv_lv_nc_ml[1], lv_lv_1nc[1], lv_lv_2nc[1], lv_lv_3nc[1]]\n",
        "\n",
        "#ax = fig.add_axes([0,0,1,1])\n",
        "barWidth = 0.25\n",
        "p3 = plt.bar(x_pos - barWidth/2, spec_hvlv_pd_m, yerr=spec_hvlv_pd_s, align='center', alpha=0.5,\n",
        "             width = barWidth)\n",
        "p4 = plt.bar(x_pos + barWidth/2, spec_hvlv_nc_m, yerr=spec_hvlv_nc_s, align='center', alpha=0.5,\n",
        "            width = barWidth)\n",
        "#plt.ylabel('Mean brands recalled',fontsize=14,weight='bold')\n",
        "#plt.xlabel('Methods',fontsize=14,weight='bold')\n",
        "plt.ylim(0.5,1)\n",
        "plt.xticks(ticks=[0,1,2,3], labels=labels, weight='bold')\n",
        "plt.yticks(weight='bold')\n",
        "plt.legend((p3[0], p4[0]), ('PD', 'NC'))\n",
        "plt.title('Specificity in Valence Classification')\n",
        "\n",
        "#plt.savefig('U2_IFbrrec.png',bbox_inches='tight')\n",
        "#files.download('U2_IFbrrec.png')"
      ],
      "execution_count": null,
      "outputs": []
    },
    {
      "cell_type": "code",
      "metadata": {
        "colab": {
          "base_uri": "https://localhost:8080/",
          "height": 298
        },
        "id": "JYuqg06Ig-t8",
        "outputId": "9cf537ad-37f8-41ff-9571-ffb4fd7276cd"
      },
      "source": [
        "#Plot comparing FNR of NC and PD.\n",
        "labels = ['ML', '1D', '2D', '3D']\n",
        "x_pos = np.arange(len(labels))\n",
        "\n",
        "fnr_hvlv_pd_m = [hv_lv_pd_ml[0], hv_lv_1pd[0], hv_lv_2pd[0], hv_lv_3pd[0]]\n",
        "fnr_hvlv_pd_s = [hv_lv_pd_ml[1], hv_lv_1pd[1], hv_lv_2pd[1], hv_lv_3pd[1]]\n",
        "\n",
        "fnr_hvlv_nc_m = [hv_lv_nc_ml[0], hv_lv_1nc[0], hv_lv_2nc[0], hv_lv_3nc[0]]\n",
        "fnr_hvlv_nc_s = [hv_lv_nc_ml[1], hv_lv_1nc[1], hv_lv_2nc[1], hv_lv_3nc[1]]\n",
        "\n",
        "#ax = fig.add_axes([0,0,1,1])\n",
        "barWidth = 0.25\n",
        "q3 = plt.bar(x_pos - barWidth/2, fnr_hvlv_pd_m, yerr=fnr_hvlv_pd_s, align='center', alpha=0.5,\n",
        "             width = barWidth)\n",
        "q4 = plt.bar(x_pos + barWidth/2, fnr_hvlv_nc_m, yerr=fnr_hvlv_nc_s, align='center', alpha=0.5,\n",
        "            width = barWidth)\n",
        "#plt.ylabel('Mean brands recalled',fontsize=14,weight='bold')\n",
        "#plt.xlabel('Methods',fontsize=14,weight='bold')\n",
        "plt.ylim(0,0.5)\n",
        "plt.xticks(ticks=[0,1,2,3], labels=labels, weight='bold')\n",
        "plt.yticks(ticks=[0,0.1,0.2,0.3,0.4,0.5], weight='bold')\n",
        "plt.legend((q3[0], q4[0]), ('PD', 'NC'))\n",
        "plt.title('FNR in Valence Classification')\n",
        "\n",
        "#plt.savefig('U2_IFbrrec.png',bbox_inches='tight')\n",
        "#files.download('U2_IFbrrec.png')"
      ],
      "execution_count": null,
      "outputs": [
        {
          "output_type": "execute_result",
          "data": {
            "text/plain": [
              "Text(0.5, 1.0, 'FNR in Valence Classification')"
            ]
          },
          "metadata": {
            "tags": []
          },
          "execution_count": 41
        },
        {
          "output_type": "display_data",
          "data": {
            "image/png": "[encoded data removed]",
            "text/plain": [
              "<Figure size 432x288 with 1 Axes>"
            ]
          },
          "metadata": {
            "tags": [],
            "needs_background": "light"
          }
        }
      ]
    },
    {
      "cell_type": "code",
      "metadata": {
        "colab": {
          "base_uri": "https://localhost:8080/",
          "height": 298
        },
        "id": "ajuK6xzRgKF6",
        "outputId": "01a5a461-a12e-4df9-f227-bd87353c4c47"
      },
      "source": [
        "#Plot comparing FPR of NC and PD.\n",
        "labels = ['ML', '1D', '2D', '3D']\n",
        "x_pos = np.arange(len(labels))\n",
        "\n",
        "fpr_hvlv_pd_m = [lv_hv_pd_ml[0], lv_hv_1pd[0], lv_hv_2pd[0], lv_hv_3pd[0]]\n",
        "fpr_hvlv_pd_s = [lv_hv_pd_ml[1], lv_hv_1pd[1], lv_hv_2pd[1], lv_hv_3pd[1]]\n",
        "\n",
        "fpr_hvlv_nc_m = [lv_hv_nc_ml[0], lv_hv_1nc[0], lv_hv_2nc[0], lv_hv_3nc[0]]\n",
        "fpr_hvlv_nc_s = [lv_hv_nc_ml[1], lv_hv_1nc[1], lv_hv_2nc[1], lv_hv_3nc[1]]\n",
        "\n",
        "#ax = fig.add_axes([0,0,1,1])\n",
        "barWidth = 0.25\n",
        "q1 = plt.bar(x_pos - barWidth/2, fpr_hvlv_pd_m, yerr=fpr_hvlv_pd_s, align='center', alpha=0.5,\n",
        "             width = barWidth)\n",
        "q2 = plt.bar(x_pos + barWidth/2, fpr_hvlv_nc_m, yerr=fpr_hvlv_nc_s, align='center', alpha=0.5,\n",
        "            width = barWidth)\n",
        "#plt.ylabel('Mean brands recalled',fontsize=14,weight='bold')\n",
        "#plt.xlabel('Methods',fontsize=14,weight='bold')\n",
        "plt.ylim(0,0.5)\n",
        "plt.xticks(ticks=[0,1,2,3], labels=labels, weight='bold')\n",
        "plt.yticks(ticks=[0,0.1,0.2,0.3,0.4,0.5], weight='bold')\n",
        "plt.legend((q1[0], q2[0]), ('PD', 'NC'))\n",
        "plt.title('FPR in Valence Classification')\n",
        "\n",
        "#plt.savefig('U2_IFbrrec.png',bbox_inches='tight')\n",
        "#files.download('U2_IFbrrec.png')"
      ],
      "execution_count": null,
      "outputs": [
        {
          "output_type": "execute_result",
          "data": {
            "text/plain": [
              "Text(0.5, 1.0, 'FPR in Valence Classification')"
            ]
          },
          "metadata": {
            "tags": []
          },
          "execution_count": 40
        },
        {
          "output_type": "display_data",
          "data": {
            "image/png": "[encoded data removed]",
            "text/plain": [
              "<Figure size 432x288 with 1 Axes>"
            ]
          },
          "metadata": {
            "tags": [],
            "needs_background": "light"
          }
        }
      ]
    },
    {
      "cell_type": "code",
      "metadata": {
        "colab": {
          "base_uri": "https://localhost:8080/",
          "height": 298
        },
        "id": "eWvFkW-TtIYu",
        "outputId": "3d956965-12b0-4d64-f75a-7edcd15d664d"
      },
      "source": [
        "#Plot comparing sensitivity and specificity within PD.\n",
        "labels = ['ML', '1D', '2D', '3D']\n",
        "x_pos = np.arange(len(labels))\n",
        "\n",
        "sens_hvlv_pd_m = [hv_hv_pd_ml[0], hv_hv_1pd[0], hv_hv_2pd[0], hv_hv_3pd[0]]\n",
        "sens_hvlv_pd_s = [hv_hv_pd_ml[1], hv_hv_1pd[1], hv_hv_2pd[1], hv_hv_3pd[1]]\n",
        "\n",
        "spec_hvlv_pd_m = [lv_lv_pd_ml[0], lv_lv_1pd[0], lv_lv_2pd[0], lv_lv_3pd[0]]\n",
        "spec_hvlv_pd_s = [lv_lv_pd_ml[1], lv_lv_1pd[1], lv_lv_2pd[1], lv_lv_3pd[1]]\n",
        "\n",
        "#ax = fig.add_axes([0,0,1,1])\n",
        "barWidth = 0.25\n",
        "p5 = plt.bar(x_pos - barWidth/2, sens_hvlv_pd_m, yerr=sens_hvlv_pd_s, align='center', alpha=0.5,\n",
        "             width = barWidth)\n",
        "p6 = plt.bar(x_pos + barWidth/2, spec_hvlv_pd_m, yerr=spec_hvlv_pd_s, align='center', alpha=0.5,\n",
        "            width = barWidth)\n",
        "#plt.ylabel('Mean brands recalled',fontsize=14,weight='bold')\n",
        "#plt.xlabel('Methods',fontsize=14,weight='bold')\n",
        "plt.ylim(0,1)\n",
        "plt.xticks(ticks=[0,1,2,3], labels=labels, weight='bold')\n",
        "plt.yticks(weight='bold')\n",
        "plt.legend((p5[0], p6[0]), ('Sensitivity', 'Specificity'))\n",
        "plt.title('Sensitivity and Specificity within PD')\n",
        "\n",
        "#plt.savefig('U2_IFbrrec.png',bbox_inches='tight')\n",
        "#files.download('U2_IFbrrec.png')"
      ],
      "execution_count": null,
      "outputs": [
        {
          "output_type": "execute_result",
          "data": {
            "text/plain": [
              "Text(0.5, 1.0, 'Sensitivity and Specificity within PD')"
            ]
          },
          "metadata": {
            "tags": []
          },
          "execution_count": 51
        },
        {
          "output_type": "display_data",
          "data": {
            "image/png": "[encoded data removed]",
            "text/plain": [
              "<Figure size 432x288 with 1 Axes>"
            ]
          },
          "metadata": {
            "tags": [],
            "needs_background": "light"
          }
        }
      ]
    },
    {
      "cell_type": "code",
      "metadata": {
        "colab": {
          "base_uri": "https://localhost:8080/",
          "height": 298
        },
        "id": "raxm5oTtuc0n",
        "outputId": "9f0f64ed-6113-4c18-8972-e415c51292c3"
      },
      "source": [
        "#Plot comparing FNR and FPR within PD.\n",
        "labels = ['ML', '1D', '2D', '3D']\n",
        "x_pos = np.arange(len(labels))\n",
        "\n",
        "fnr_hvlv_pd_m = [hv_lv_pd_ml[0], hv_lv_1pd[0], hv_lv_2pd[0], hv_lv_3pd[0]]\n",
        "fnr_hvlv_pd_s = [hv_lv_pd_ml[1], hv_lv_1pd[1], hv_lv_2pd[1], hv_lv_3pd[1]]\n",
        "\n",
        "fpr_hvlv_pd_m = [lv_hv_pd_ml[0], lv_hv_1pd[0], lv_hv_2pd[0], lv_hv_3pd[0]]\n",
        "fpr_hvlv_pd_s = [lv_hv_pd_ml[1], lv_hv_1pd[1], lv_hv_2pd[1], lv_hv_3pd[1]]\n",
        "\n",
        "#ax = fig.add_axes([0,0,1,1])\n",
        "barWidth = 0.25\n",
        "p7 = plt.bar(x_pos - barWidth/2, fnr_hvlv_pd_m, yerr=fnr_hvlv_pd_s, align='center', alpha=0.5,\n",
        "             width = barWidth)\n",
        "p8 = plt.bar(x_pos + barWidth/2, fpr_hvlv_pd_m, yerr=fpr_hvlv_pd_s, align='center', alpha=0.5,\n",
        "            width = barWidth)\n",
        "#plt.ylabel('Mean brands recalled',fontsize=14,weight='bold')\n",
        "#plt.xlabel('Methods',fontsize=14,weight='bold')\n",
        "plt.ylim(0,0.5)\n",
        "plt.xticks(ticks=[0,1,2,3], labels=labels, weight='bold')\n",
        "plt.yticks(weight='bold')\n",
        "plt.legend((p7[0], p8[0]), ('Sensitivity', 'Specificity'))\n",
        "plt.title('FNR and FPR within PD')\n",
        "\n",
        "#plt.savefig('U2_IFbrrec.png',bbox_inches='tight')\n",
        "#files.download('U2_IFbrrec.png')"
      ],
      "execution_count": null,
      "outputs": [
        {
          "output_type": "execute_result",
          "data": {
            "text/plain": [
              "Text(0.5, 1.0, 'FNR and FPR within PD')"
            ]
          },
          "metadata": {
            "tags": []
          },
          "execution_count": 53
        },
        {
          "output_type": "display_data",
          "data": {
            "image/png": "[encoded data removed]",
            "text/plain": [
              "<Figure size 432x288 with 1 Axes>"
            ]
          },
          "metadata": {
            "tags": [],
            "needs_background": "light"
          }
        }
      ]
    },
    {
      "cell_type": "code",
      "metadata": {
        "colab": {
          "base_uri": "https://localhost:8080/",
          "height": 298
        },
        "id": "Dal7Xd1cm7Bg",
        "outputId": "9adf0f69-8862-4eab-aee1-1c265f38da24"
      },
      "source": [
        "#Plot comparing sensitivity of NC and PD.\n",
        "labels = ['ML', '1D', '2D', '3D']\n",
        "x_pos = np.arange(len(labels))\n",
        "\n",
        "sens_hala_pd_m = [ha_ha_pd_ml[0], ha_ha_1pd[0], ha_ha_2pd[0], ha_ha_3pd[0]]\n",
        "sens_hala_pd_s = [ha_ha_pd_ml[1], ha_ha_1pd[1], ha_ha_2pd[1], ha_ha_3pd[1]]\n",
        "\n",
        "sens_hala_nc_m = [ha_ha_nc_ml[0], ha_ha_1nc[0], ha_ha_2nc[0], ha_ha_3nc[0]]\n",
        "sens_hala_nc_s = [ha_ha_nc_ml[1], ha_ha_1nc[1], ha_ha_2nc[1], ha_ha_3nc[1]]\n",
        "\n",
        "#ax = fig.add_axes([0,0,1,1])\n",
        "barWidth = 0.25\n",
        "a1 = plt.bar(x_pos - barWidth/2, sens_hala_pd_m, yerr=sens_hala_pd_s, align='center', alpha=0.5,\n",
        "             width = barWidth)\n",
        "a2 = plt.bar(x_pos + barWidth/2, sens_hala_nc_m, yerr=sens_hala_nc_s, align='center', alpha=0.5,\n",
        "            width = barWidth)\n",
        "#plt.ylabel('Mean brands recalled',fontsize=14,weight='bold')\n",
        "#plt.xlabel('Methods',fontsize=14,weight='bold')\n",
        "plt.ylim(0,1)\n",
        "plt.xticks(ticks=[0,1,2,3], labels=labels, weight='bold')\n",
        "plt.yticks(weight='bold')\n",
        "plt.legend((a1[0], a2[0]), ('PD', 'NC'))\n",
        "plt.title('Sensitivity in Arousal Classification')\n",
        "\n",
        "#plt.savefig('U2_IFbrrec.png',bbox_inches='tight')\n",
        "#files.download('U2_IFbrrec.png')"
      ],
      "execution_count": null,
      "outputs": [
        {
          "output_type": "execute_result",
          "data": {
            "text/plain": [
              "Text(0.5, 1.0, 'Sensitivity in Arousal Classification')"
            ]
          },
          "metadata": {
            "tags": []
          },
          "execution_count": 43
        },
        {
          "output_type": "display_data",
          "data": {
            "image/png": "[encoded data removed]",
            "text/plain": [
              "<Figure size 432x288 with 1 Axes>"
            ]
          },
          "metadata": {
            "tags": [],
            "needs_background": "light"
          }
        }
      ]
    },
    {
      "cell_type": "code",
      "metadata": {
        "colab": {
          "base_uri": "https://localhost:8080/",
          "height": 298
        },
        "id": "RNNuYnCRnm37",
        "outputId": "72563ba0-083a-40f0-b9b8-6ef4c63ae771"
      },
      "source": [
        "#Plot comparing Specificity of NC and PD.\n",
        "labels = ['ML', '1D', '2D', '3D']\n",
        "x_pos = np.arange(len(labels))\n",
        "\n",
        "spec_hala_pd_m = [la_la_pd_ml[0], la_la_1pd[0], la_la_2pd[0], la_la_3pd[0]]\n",
        "spec_hala_pd_s = [la_la_pd_ml[1], la_la_1pd[1], la_la_2pd[1], la_la_3pd[1]]\n",
        "\n",
        "spec_hala_nc_m = [la_la_nc_ml[0], la_la_1nc[0], la_la_2nc[0], la_la_3nc[0]]\n",
        "spec_hala_nc_s = [la_la_nc_ml[1], la_la_1nc[1], la_la_2nc[1], la_la_3nc[1]]\n",
        "\n",
        "#ax = fig.add_axes([0,0,1,1])\n",
        "barWidth = 0.25\n",
        "a3 = plt.bar(x_pos - barWidth/2, spec_hala_pd_m, yerr=spec_hala_pd_s, align='center', alpha=0.5,\n",
        "             width = barWidth)\n",
        "a4 = plt.bar(x_pos + barWidth/2, spec_hala_nc_m, yerr=spec_hala_nc_s, align='center', alpha=0.5,\n",
        "            width = barWidth)\n",
        "#plt.ylabel('Mean brands recalled',fontsize=14,weight='bold')\n",
        "#plt.xlabel('Methods',fontsize=14,weight='bold')\n",
        "plt.ylim(0,1)\n",
        "plt.xticks(ticks=[0,1,2,3], labels=labels, weight='bold')\n",
        "plt.yticks(weight='bold')\n",
        "plt.legend((a3[0], a4[0]), ('PD', 'NC'))\n",
        "plt.title('Specificity in Arousal Classification')\n",
        "\n",
        "#plt.savefig('U2_IFbrrec.png',bbox_inches='tight')\n",
        "#files.download('U2_IFbrrec.png')"
      ],
      "execution_count": null,
      "outputs": [
        {
          "output_type": "execute_result",
          "data": {
            "text/plain": [
              "Text(0.5, 1.0, 'Specificity in Arousal Classification')"
            ]
          },
          "metadata": {
            "tags": []
          },
          "execution_count": 45
        },
        {
          "output_type": "display_data",
          "data": {
            "image/png": "[encoded data removed]",
            "text/plain": [
              "<Figure size 432x288 with 1 Axes>"
            ]
          },
          "metadata": {
            "tags": [],
            "needs_background": "light"
          }
        }
      ]
    },
    {
      "cell_type": "code",
      "metadata": {
        "colab": {
          "base_uri": "https://localhost:8080/",
          "height": 298
        },
        "id": "JyNzPpAjoKe0",
        "outputId": "58920e4a-d2bb-4052-e384-a58c52c0ca47"
      },
      "source": [
        "#Plot comparing FNR of NC and PD.\n",
        "labels = ['ML', '1D', '2D', '3D']\n",
        "x_pos = np.arange(len(labels))\n",
        "\n",
        "fnr_hala_pd_m = [ha_la_pd_ml[0], ha_la_1pd[0], ha_la_2pd[0], ha_la_3pd[0]]\n",
        "fnr_hala_pd_s = [ha_la_pd_ml[1], ha_la_1pd[1], ha_la_2pd[1], ha_la_3pd[1]]\n",
        "\n",
        "fnr_hala_nc_m = [ha_la_nc_ml[0], ha_la_1nc[0], ha_la_2nc[0], ha_la_3nc[0]]\n",
        "fnr_hala_nc_s = [ha_la_nc_ml[1], ha_la_1nc[1], ha_la_2nc[1], ha_la_3nc[1]]\n",
        "\n",
        "#ax = fig.add_axes([0,0,1,1])\n",
        "barWidth = 0.25\n",
        "b1 = plt.bar(x_pos - barWidth/2, fnr_hala_pd_m, yerr=fnr_hala_pd_s, align='center', alpha=0.5,\n",
        "             width = barWidth)\n",
        "b2 = plt.bar(x_pos + barWidth/2, fnr_hala_nc_m, yerr=fnr_hala_nc_s, align='center', alpha=0.5,\n",
        "            width = barWidth)\n",
        "#plt.ylabel('Mean brands recalled',fontsize=14,weight='bold')\n",
        "#plt.xlabel('Methods',fontsize=14,weight='bold')\n",
        "plt.ylim(0,0.5)\n",
        "plt.xticks(ticks=[0,1,2,3], labels=labels, weight='bold')\n",
        "plt.yticks(ticks=[0,0.1,0.2,0.3,0.4,0.5], weight='bold')\n",
        "plt.legend((b1[0], b2[0]), ('PD', 'NC'))\n",
        "plt.title('FNR in Valence Classification')\n",
        "\n",
        "#plt.savefig('U2_IFbrrec.png',bbox_inches='tight')\n",
        "#files.download('U2_IFbrrec.png')"
      ],
      "execution_count": null,
      "outputs": [
        {
          "output_type": "execute_result",
          "data": {
            "text/plain": [
              "Text(0.5, 1.0, 'FNR in Valence Classification')"
            ]
          },
          "metadata": {
            "tags": []
          },
          "execution_count": 46
        },
        {
          "output_type": "display_data",
          "data": {
            "image/png": "[encoded data removed]",
            "text/plain": [
              "<Figure size 432x288 with 1 Axes>"
            ]
          },
          "metadata": {
            "tags": [],
            "needs_background": "light"
          }
        }
      ]
    },
    {
      "cell_type": "code",
      "metadata": {
        "colab": {
          "base_uri": "https://localhost:8080/",
          "height": 298
        },
        "id": "fDRplkF9orGX",
        "outputId": "d088a55a-d8c1-44ab-eb11-7a87263256aa"
      },
      "source": [
        "#Plot comparing FPR of NC and PD.\n",
        "labels = ['ML', '1D', '2D', '3D']\n",
        "x_pos = np.arange(len(labels))\n",
        "\n",
        "fpr_hala_pd_m = [la_ha_pd_ml[0], la_ha_1pd[0], la_ha_2pd[0], la_ha_3pd[0]]\n",
        "fpr_hala_pd_s = [la_ha_pd_ml[1], la_ha_1pd[1], la_ha_2pd[1], la_ha_3pd[1]]\n",
        "\n",
        "fpr_hala_nc_m = [la_ha_nc_ml[0], la_ha_1nc[0], la_ha_2nc[0], la_ha_3nc[0]]\n",
        "fpr_hala_nc_s = [la_ha_nc_ml[1], la_ha_1nc[1], la_ha_2nc[1], la_ha_3nc[1]]\n",
        "\n",
        "#ax = fig.add_axes([0,0,1,1])\n",
        "barWidth = 0.25\n",
        "b3 = plt.bar(x_pos - barWidth/2, fpr_hala_pd_m, yerr=fpr_hala_pd_s, align='center', alpha=0.5,\n",
        "             width = barWidth)\n",
        "b4 = plt.bar(x_pos + barWidth/2, fpr_hala_nc_m, yerr=fpr_hala_nc_s, align='center', alpha=0.5,\n",
        "            width = barWidth)\n",
        "#plt.ylabel('Mean brands recalled',fontsize=14,weight='bold')\n",
        "#plt.xlabel('Methods',fontsize=14,weight='bold')\n",
        "plt.ylim(0,0.5)\n",
        "plt.xticks(ticks=[0,1,2,3], labels=labels, weight='bold')\n",
        "plt.yticks(ticks=[0,0.1,0.2,0.3,0.4,0.5], weight='bold')\n",
        "plt.legend((b1[0], b2[0]), ('PD', 'NC'))\n",
        "plt.title('FPR in Valence Classification')\n",
        "\n",
        "#plt.savefig('U2_IFbrrec.png',bbox_inches='tight')\n",
        "#files.download('U2_IFbrrec.png')"
      ],
      "execution_count": null,
      "outputs": [
        {
          "output_type": "execute_result",
          "data": {
            "text/plain": [
              "Text(0.5, 1.0, 'FPR in Valence Classification')"
            ]
          },
          "metadata": {
            "tags": []
          },
          "execution_count": 49
        },
        {
          "output_type": "display_data",
          "data": {
            "image/png": "[encoded data removed]",
            "text/plain": [
              "<Figure size 432x288 with 1 Axes>"
            ]
          },
          "metadata": {
            "tags": [],
            "needs_background": "light"
          }
        }
      ]
    },
    {
      "cell_type": "code",
      "metadata": {
        "colab": {
          "base_uri": "https://localhost:8080/",
          "height": 298
        },
        "id": "MvyvH_qAsz1N",
        "outputId": "6ad8df69-b05e-454b-a570-82c788682fd7"
      },
      "source": [
        "#Plot comparing sensitivity and specificity within PD.\n",
        "labels = ['ML', '1D', '2D', '3D']\n",
        "x_pos = np.arange(len(labels))\n",
        "\n",
        "sens_hala_pd_m = [ha_ha_pd_ml[0], ha_ha_1pd[0], ha_ha_2pd[0], ha_ha_3pd[0]]\n",
        "sens_hala_pd_s = [ha_ha_pd_ml[1], ha_ha_1pd[1], ha_ha_2pd[1], ha_ha_3pd[1]]\n",
        "\n",
        "spec_hala_pd_m = [la_la_pd_ml[0], la_la_1pd[0], la_la_2pd[0], la_la_3pd[0]]\n",
        "spec_hala_pd_s = [la_la_pd_ml[1], la_la_1pd[1], la_la_2pd[1], la_la_3pd[1]]\n",
        "\n",
        "#ax = fig.add_axes([0,0,1,1])\n",
        "barWidth = 0.25\n",
        "a5 = plt.bar(x_pos - barWidth/2, sens_hala_pd_m, yerr=sens_hala_pd_s, align='center', alpha=0.5,\n",
        "             width = barWidth)\n",
        "a6 = plt.bar(x_pos + barWidth/2, spec_hala_pd_m, yerr=spec_hala_pd_s, align='center', alpha=0.5,\n",
        "            width = barWidth)\n",
        "#plt.ylabel('Mean brands recalled',fontsize=14,weight='bold')\n",
        "#plt.xlabel('Methods',fontsize=14,weight='bold')\n",
        "plt.ylim(0,1)\n",
        "plt.xticks(ticks=[0,1,2,3], labels=labels, weight='bold')\n",
        "plt.yticks(weight='bold')\n",
        "plt.legend((a5[0], a6[0]), ('Sensitivity', 'Specificity'))\n",
        "plt.title('Sensitivity and Specificity within PD')\n",
        "\n",
        "#plt.savefig('U2_IFbrrec.png',bbox_inches='tight')\n",
        "#files.download('U2_IFbrrec.png')"
      ],
      "execution_count": null,
      "outputs": [
        {
          "output_type": "execute_result",
          "data": {
            "text/plain": [
              "Text(0.5, 1.0, 'Sensitivity and Specificity within PD')"
            ]
          },
          "metadata": {
            "tags": []
          },
          "execution_count": 54
        },
        {
          "output_type": "display_data",
          "data": {
            "image/png": "[encoded data removed]",
            "text/plain": [
              "<Figure size 432x288 with 1 Axes>"
            ]
          },
          "metadata": {
            "tags": [],
            "needs_background": "light"
          }
        }
      ]
    },
    {
      "cell_type": "code",
      "metadata": {
        "colab": {
          "base_uri": "https://localhost:8080/",
          "height": 298
        },
        "id": "U5x7CSHuwDd6",
        "outputId": "c32f1f88-5bd6-4336-b1e9-e9b72057238c"
      },
      "source": [
        "#Plot comparing FNR and FPR within PD.\n",
        "labels = ['ML', '1D', '2D', '3D']\n",
        "x_pos = np.arange(len(labels))\n",
        "\n",
        "fnr_hala_pd_m = [ha_la_pd_ml[0], ha_la_1pd[0], ha_la_2pd[0], ha_la_3pd[0]]\n",
        "fnr_hala_pd_s = [ha_la_pd_ml[1], ha_la_1pd[1], ha_la_2pd[1], ha_la_3pd[1]]\n",
        "\n",
        "fpr_hala_pd_m = [la_ha_pd_ml[0], la_ha_1pd[0], la_ha_2pd[0], la_ha_3pd[0]]\n",
        "fpr_hala_pd_s = [la_ha_pd_ml[1], la_ha_1pd[1], la_ha_2pd[1], la_ha_3pd[1]]\n",
        "\n",
        "#ax = fig.add_axes([0,0,1,1])\n",
        "barWidth = 0.25\n",
        "a7 = plt.bar(x_pos - barWidth/2, fnr_hala_pd_m, yerr=fnr_hala_pd_s, align='center', alpha=0.5,\n",
        "             width = barWidth)\n",
        "a8 = plt.bar(x_pos + barWidth/2, fpr_hala_pd_m, yerr=fpr_hala_pd_s, align='center', alpha=0.5,\n",
        "            width = barWidth)\n",
        "#plt.ylabel('Mean brands recalled',fontsize=14,weight='bold')\n",
        "#plt.xlabel('Methods',fontsize=14,weight='bold')\n",
        "plt.ylim(0,0.5)\n",
        "plt.xticks(ticks=[0,1,2,3], labels=labels, weight='bold')\n",
        "plt.yticks(weight='bold')\n",
        "plt.legend((a7[0], a8[0]), ('FNR', 'FPR'))\n",
        "plt.title('FNR and FPR within PD')\n",
        "\n",
        "#plt.savefig('U2_IFbrrec.png',bbox_inches='tight')\n",
        "#files.download('U2_IFbrrec.png')"
      ],
      "execution_count": null,
      "outputs": [
        {
          "output_type": "execute_result",
          "data": {
            "text/plain": [
              "Text(0.5, 1.0, 'FNR and FPR within PD')"
            ]
          },
          "metadata": {
            "tags": []
          },
          "execution_count": 55
        },
        {
          "output_type": "display_data",
          "data": {
            "image/png": "[encoded data removed]",
            "text/plain": [
              "<Figure size 432x288 with 1 Axes>"
            ]
          },
          "metadata": {
            "tags": [],
            "needs_background": "light"
          }
        }
      ]
    },
    {
      "cell_type": "markdown",
      "metadata": {
        "id": "KRPpyukgDWog"
      },
      "source": [
        "# Result - Plots"
      ]
    },
    {
      "cell_type": "markdown",
      "metadata": {
        "id": "aiSCGyqdiNbO"
      },
      "source": [
        "## Valence"
      ]
    },
    {
      "cell_type": "code",
      "metadata": {
        "id": "HxCiNnQlQWXv",
        "colab": {
          "base_uri": "https://localhost:8080/"
        },
        "outputId": "dacd57ff-4dc9-4511-91c7-8063e4aa004c"
      },
      "source": [
        "def get_metric(dataPath, metric):\n",
        "  matContent = sio.loadmat(dataPath)\n",
        "  metric = matContent[metric]\n",
        "  return metric\n",
        "\n",
        "def specificity(metric):\n",
        "  pos_list = [i[0][0] for i in metric]\n",
        "  pos_list_m = round(np.mean(pos_list),2)\n",
        "  pos_list_s = round(np.std(pos_list),2)\n",
        "  return [pos_list_m, pos_list_s] \n",
        "\n",
        "def sensitivity(metric):\n",
        "  neg_list = [i[1][1] for i in metric]\n",
        "  neg_list_m = round(np.mean(neg_list),2)\n",
        "  neg_list_s = round(np.std(neg_list),2)\n",
        "  return [neg_list_m, neg_list_s] \n",
        "\n",
        "def fpr(metric):\n",
        "  fpr_list = [i[0][1] for i in metric]\n",
        "  fpr_list_m = round(np.mean(fpr_list),2)\n",
        "  fpr_list_s = round(np.std(fpr_list),2)\n",
        "  return [fpr_list_m, fpr_list_s]\n",
        "\n",
        "def fnr(metric):\n",
        "  fnr_list = [i[1][0] for i in metric]\n",
        "  fnr_list_m = round(np.mean(fnr_list),2)\n",
        "  fnr_list_s = round(np.std(fnr_list),2)\n",
        "  return [fnr_list_m, fnr_list_s]\n",
        "\n",
        "\n",
        "data = 'PD'\n",
        "print(\"-----\", data, \"----\")\n",
        "print(\"-----3D----\")\n",
        "hvlv_pd_3d = get_metric('/content/drive/MyDrive/EEG_Analysis_PD_NC/Results/CNN_3D_our/CNN_3D_results_HVLV_'+str(data)+'.mat', 'conf_mat_list')\n",
        "hv_hv_3pd = sensitivity(hvlv_pd_3d)\n",
        "lv_lv_3pd = specificity(hvlv_pd_3d)\n",
        "hv_lv_3pd = fnr(hvlv_pd_3d)\n",
        "lv_hv_3pd = fpr(hvlv_pd_3d)\n",
        "print('Sensitivity:',hv_hv_3pd[0],'+-',hv_hv_3pd[1])\n",
        "print('Specificity:',lv_lv_3pd[0],'+-',lv_lv_3pd[1])\n",
        "print('FPR:',lv_hv_3pd[0],'+-',lv_hv_3pd[1])\n",
        "print('FNR:',hv_lv_3pd[0],'+-',hv_lv_3pd[1])\n",
        "\n",
        "print(\"-----2D----\")\n",
        "hvlv_pd_2d = get_metric('/content/drive/MyDrive/EEG_Analysis_PD_NC/Results/CNN_2D_our/CNN_2D_results_HVLV_'+str(data)+'.mat', 'conf_mat_list')\n",
        "hv_hv_2pd = sensitivity(hvlv_pd_2d)\n",
        "lv_lv_2pd = specificity(hvlv_pd_2d)\n",
        "hv_lv_2pd = fnr(hvlv_pd_2d)\n",
        "lv_hv_2pd = fpr(hvlv_pd_2d)\n",
        "print('Sensitivity:',hv_hv_2pd[0],'+-',hv_hv_2pd[1])\n",
        "print('Specificity:',lv_lv_2pd[0],'+-',lv_lv_2pd[1])\n",
        "print('FPR:',lv_hv_2pd[0],'+-',lv_hv_2pd[1])\n",
        "print('FNR:',hv_lv_2pd[0],'+-',hv_lv_2pd[1])\n",
        "\n",
        "print(\"-----1D----\")\n",
        "hvlv_pd_1d = get_metric('/content/drive/MyDrive/EEG_Analysis_PD_NC/Results/1D_CNN_Results/CSP/CNN_1D_results_HVLV_CSP_'+str(data)+'.mat', 'conf_mat_list')\n",
        "hv_hv_1pd = sensitivity(hvlv_pd_1d)\n",
        "lv_lv_1pd = specificity(hvlv_pd_1d)\n",
        "hv_lv_1pd = fnr(hvlv_pd_1d)\n",
        "lv_hv_1pd = fpr(hvlv_pd_1d)\n",
        "print('Sensitivity:',hv_hv_1pd[0],'+-',hv_hv_1pd[1])\n",
        "print('Specificity:',lv_lv_1pd[0],'+-',lv_lv_1pd[1])\n",
        "print('FPR:',lv_hv_1pd[0],'+-',lv_hv_1pd[1])\n",
        "print('FNR:',hv_lv_1pd[0],'+-',hv_lv_1pd[1])\n",
        "\n",
        "print(\"-----ML----\")\n",
        "hvlv_pd_ml = get_metric('/content/drive/MyDrive/EEG_Analysis_PD_NC/Results/MLResults/CSP/ML_HVLV_CSP_'+str(data)+'.mat', 'conf_mat_list')\n",
        "hv_hv_pd_ml = sensitivity(hvlv_pd_ml)\n",
        "lv_lv_pd_ml = specificity(hvlv_pd_ml)\n",
        "hv_lv_pd_ml = fnr(hvlv_pd_ml)\n",
        "lv_hv_pd_ml = fpr(hvlv_pd_ml)\n",
        "print('Sensitivity:',hv_hv_pd_ml[0],'+-',hv_hv_pd_ml[1])\n",
        "print('Specificity:',lv_lv_pd_ml[0],'+-',lv_lv_pd_ml[1])\n",
        "print('FPR:',lv_hv_pd_ml[0],'+-',lv_hv_pd_ml[1])\n",
        "print('FNR:',hv_lv_pd_ml[0],'+-',hv_lv_pd_ml[1])\n",
        "\n",
        "data = 'NC'\n",
        "print(\"-----\", data, \"----\")\n",
        "print(\"-----3D----\")\n",
        "hvlv_nc_3d = get_metric('/content/drive/MyDrive/EEG_Analysis_PD_NC/Results/CNN_3D_our/CNN_3D_results_HVLV_'+str(data)+'.mat', 'conf_mat_list')\n",
        "hv_hv_3nc = sensitivity(hvlv_nc_3d)\n",
        "lv_lv_3nc = specificity(hvlv_nc_3d)\n",
        "hv_lv_3nc = fnr(hvlv_nc_3d)\n",
        "lv_hv_3nc = fpr(hvlv_nc_3d)\n",
        "print('Sensitivity:',hv_hv_3nc[0],'+-',hv_hv_3nc[1])\n",
        "print('Specificity:',lv_lv_3nc[0],'+-',lv_lv_3nc[1])\n",
        "print('FPR:',lv_hv_3nc[0],'+-',lv_hv_3nc[1])\n",
        "print('FNR:',hv_lv_3nc[0],'+-',hv_lv_3nc[1])\n",
        "\n",
        "print(\"-----2D----\")\n",
        "hvlv_nc_2d = get_metric('/content/drive/MyDrive/EEG_Analysis_PD_NC/Results/CNN_2D_our/CNN_2D_results_HVLV_'+str(data)+'.mat', 'conf_mat_list')\n",
        "hv_hv_2nc = sensitivity(hvlv_nc_2d)\n",
        "lv_lv_2nc = specificity(hvlv_nc_2d)\n",
        "hv_lv_2nc = fnr(hvlv_nc_2d)\n",
        "lv_hv_2nc = fpr(hvlv_nc_2d)\n",
        "print('Sensitivity:',hv_hv_2nc[0],'+-',hv_hv_2nc[1])\n",
        "print('Specificity:',lv_lv_2nc[0],'+-',lv_lv_2nc[1])\n",
        "print('FPR:',lv_hv_2nc[0],'+-',lv_hv_2nc[1])\n",
        "print('FNR:',hv_lv_2nc[0],'+-',hv_lv_2nc[1])\n",
        "\n",
        "print(\"-----1D----\")\n",
        "hvlv_nc_1d = get_metric('/content/drive/MyDrive/EEG_Analysis_PD_NC/Results/1D_CNN_Results/CSP/CNN_1D_results_HVLV_CSP_'+str(data)+'.mat', 'conf_mat_list')\n",
        "hv_hv_1nc = sensitivity(hvlv_nc_1d)\n",
        "lv_lv_1nc = specificity(hvlv_nc_1d)\n",
        "hv_lv_1nc = fnr(hvlv_nc_1d)\n",
        "lv_hv_1nc = fpr(hvlv_nc_1d)\n",
        "print('Sensitivity:',hv_hv_1nc[0],'+-',hv_hv_1nc[1])\n",
        "print('Specificity:',lv_lv_1nc[0],'+-',lv_lv_1nc[1])\n",
        "print('FPR:',lv_hv_1nc[0],'+-',lv_hv_1nc[1])\n",
        "print('FNR:',hv_lv_1nc[0],'+-',hv_lv_1nc[1])\n",
        "\n",
        "print(\"-----ML----\")\n",
        "hvlv_nc_ml = get_metric('/content/drive/MyDrive/EEG_Analysis_PD_NC/Results/MLResults/CSP/ML_HVLV_CSP_'+str(data)+'.mat', 'conf_mat_list')\n",
        "hv_hv_nc_ml = sensitivity(hvlv_nc_ml)\n",
        "lv_lv_nc_ml = specificity(hvlv_nc_ml)\n",
        "hv_lv_nc_ml = fnr(hvlv_nc_ml)\n",
        "lv_hv_nc_ml = fpr(hvlv_nc_ml)\n",
        "print('Sensitivity:',hv_hv_nc_ml[0],'+-',hv_hv_nc_ml[1])\n",
        "print('Specificity:',lv_lv_nc_ml[0],'+-',lv_lv_nc_ml[1])\n",
        "print('FPR:',lv_hv_nc_ml[0],'+-',lv_hv_nc_ml[1])\n",
        "print('FNR:',hv_lv_nc_ml[0],'+-',hv_lv_nc_ml[1])\n",
        "\n"
      ],
      "execution_count": null,
      "outputs": [
        {
          "output_type": "stream",
          "name": "stdout",
          "text": [
            "----- PD ----\n",
            "-----3D----\n",
            "Sensitivity: 0.85 +- 0.13\n",
            "Specificity: 0.95 +- 0.04\n",
            "FPR: 0.05 +- 0.04\n",
            "FNR: 0.15 +- 0.13\n",
            "-----2D----\n",
            "Sensitivity: 0.75 +- 0.13\n",
            "Specificity: 0.92 +- 0.04\n",
            "FPR: 0.08 +- 0.04\n",
            "FNR: 0.25 +- 0.13\n",
            "-----1D----\n",
            "Sensitivity: 0.74 +- 0.06\n",
            "Specificity: 0.92 +- 0.03\n",
            "FPR: 0.08 +- 0.03\n",
            "FNR: 0.26 +- 0.06\n",
            "-----ML----\n",
            "Sensitivity: 0.67 +- 0.03\n",
            "Specificity: 0.94 +- 0.01\n",
            "FPR: 0.06 +- 0.01\n",
            "FNR: 0.33 +- 0.03\n",
            "----- NC ----\n",
            "-----3D----\n",
            "Sensitivity: 0.89 +- 0.07\n",
            "Specificity: 0.94 +- 0.04\n",
            "FPR: 0.06 +- 0.04\n",
            "FNR: 0.11 +- 0.07\n",
            "-----2D----\n",
            "Sensitivity: 0.86 +- 0.12\n",
            "Specificity: 0.94 +- 0.04\n",
            "FPR: 0.06 +- 0.04\n",
            "FNR: 0.14 +- 0.12\n",
            "-----1D----\n",
            "Sensitivity: 0.82 +- 0.08\n",
            "Specificity: 0.92 +- 0.03\n",
            "FPR: 0.08 +- 0.03\n",
            "FNR: 0.18 +- 0.08\n",
            "-----ML----\n",
            "Sensitivity: 0.73 +- 0.02\n",
            "Specificity: 0.91 +- 0.01\n",
            "FPR: 0.09 +- 0.01\n",
            "FNR: 0.27 +- 0.02\n"
          ]
        }
      ]
    },
    {
      "cell_type": "code",
      "metadata": {
        "colab": {
          "base_uri": "https://localhost:8080/"
        },
        "id": "u6SBmWVOA4_s",
        "outputId": "9f81b8fe-3b19-49a7-97e7-4ccef5097293"
      },
      "source": [
        "data1 = {'Sensitivity': [i[1][1] for i in hvlv_nc_ml], 'Specificity': [i[0][0] for i in hvlv_nc_ml],\n",
        "          'Data': len([i[1][1] for i in hvlv_nc_ml])*['NC'], 'Model': len([i[1][1] for i in hvlv_nc_ml])*['ML']}\n",
        "df1 = pd.DataFrame(data1)\n",
        "data2 = {'Sensitivity': [i[1][1] for i in hvlv_pd_ml], 'Specificity': [i[0][0] for i in hvlv_pd_ml],\n",
        "          'Data': len([i[1][1] for i in hvlv_pd_ml])*['PD'], 'Model': len([i[1][1] for i in hvlv_pd_ml])*['ML']}\n",
        "df2 = pd.DataFrame(data2)\n",
        "data3 = {'Sensitivity': [i[1][1] for i in hvlv_pd_1d], 'Specificity': [i[0][0] for i in hvlv_pd_1d],\n",
        "          'Data': len([i[1][1] for i in hvlv_pd_1d])*['PD'], 'Model': len([i[1][1] for i in hvlv_pd_1d])*['1D CNN']}\n",
        "df3 = pd.DataFrame(data3)\n",
        "data4 = {'Sensitivity': [i[1][1] for i in hvlv_nc_1d], 'Specificity': [i[0][0] for i in hvlv_nc_1d],\n",
        "          'Data': len([i[1][1] for i in hvlv_nc_1d])*['NC'], 'Model': len([i[1][1] for i in hvlv_nc_1d])*['1D CNN']}\n",
        "df4 = pd.DataFrame(data4)\n",
        "data5 = {'Sensitivity': [i[1][1] for i in hvlv_pd_2d], 'Specificity': [i[0][0] for i in hvlv_pd_2d],\n",
        "          'Data': len([i[1][1] for i in hvlv_pd_2d])*['PD'], 'Model': len([i[1][1] for i in hvlv_pd_2d])*['2D CNN']}\n",
        "df5 = pd.DataFrame(data5)\n",
        "data6 = {'Sensitivity': [i[1][1] for i in hvlv_nc_2d], 'Specificity': [i[0][0] for i in hvlv_nc_2d],\n",
        "          'Data': len([i[1][1] for i in hvlv_nc_2d])*['NC'], 'Model': len([i[1][1] for i in hvlv_nc_2d])*['2D CNN']}\n",
        "df6 = pd.DataFrame(data6)\n",
        "data7 = {'Sensitivity': [i[1][1] for i in hvlv_pd_3d], 'Specificity': [i[0][0] for i in hvlv_pd_3d],\n",
        "          'Data': len([i[1][1] for i in hvlv_pd_3d])*['PD'], 'Model': len([i[1][1] for i in hvlv_pd_3d])*['3D CNN']}\n",
        "df7 = pd.DataFrame(data7)\n",
        "data8 = {'Sensitivity': [i[1][1] for i in hvlv_nc_3d], 'Specificity': [i[0][0] for i in hvlv_nc_3d],\n",
        "          'Data': len([i[1][1] for i in hvlv_nc_3d])*['NC'], 'Model': len([i[1][1] for i in hvlv_nc_3d])*['3D CNN']}\n",
        "df8 = pd.DataFrame(data8)\n",
        "\n",
        "valence_df = pd.concat([df1, df2, df3, df4, df5, df6, df7, df8], axis=0).reset_index()\n",
        "print(valence_df)"
      ],
      "execution_count": null,
      "outputs": [
        {
          "output_type": "stream",
          "name": "stdout",
          "text": [
            "    index  Sensitivity  Specificity Data   Model\n",
            "0       0     0.696000     0.892116   NC      ML\n",
            "1       1     0.736000     0.917012   NC      ML\n",
            "2       2     0.736000     0.898340   NC      ML\n",
            "3       3     0.712000     0.908714   NC      ML\n",
            "4       4     0.724000     0.900415   NC      ML\n",
            "..    ...          ...          ...  ...     ...\n",
            "75      5     0.956693     0.971253   NC  3D CNN\n",
            "76      6     0.913386     0.963039   NC  3D CNN\n",
            "77      7     0.933071     0.977413   NC  3D CNN\n",
            "78      8     0.937008     0.981520   NC  3D CNN\n",
            "79      9     0.964567     0.956879   NC  3D CNN\n",
            "\n",
            "[80 rows x 5 columns]\n"
          ]
        }
      ]
    },
    {
      "cell_type": "code",
      "metadata": {
        "colab": {
          "base_uri": "https://localhost:8080/",
          "height": 503
        },
        "id": "UFQKOZ4fQItr",
        "outputId": "a3630f75-cfd9-4b0e-a403-ba5e4d345f50"
      },
      "source": [
        "x = \"Model\"\n",
        "y = \"Sensitivity\"\n",
        "hue = \"Data\"\n",
        "sns.set_style(\"white\")\n",
        "ax = sns.barplot(data=valence_df, x=x, y=y, hue=hue, palette = \"Blues\", capsize=.05, ci=68)\n",
        "ax.set_ylim(bottom=0.4)\n",
        "ax.legend(loc='upper left', bbox_to_anchor=(0, 1))\n",
        "ax.set_xlabel('Model',fontsize = 13, weight='bold')\n",
        "ax.set_ylabel('Sensitivity',fontsize = 13, weight='bold' )\n",
        "ax.set_xticklabels([\"ML\", \"1D CNN\", \"2D CNN\", \"3D CNN\"], rotation=0, fontsize = 10, weight = 'bold')\n",
        "#_, ylabels = plt.yticks()\n",
        "#ax.set_yticklabels(ylabels, fontsize = 10, weight = 'bold');\n",
        "ax.set_yticklabels([\"0.4\", \"0.5\", \"0.6\", \"0.7\", \"0.8\", \"0.9\", \"1.0\"], size= 10, weight='bold')\n",
        "add_stat_annotation(ax, data=valence_df, x=x, y=y, hue=hue,\n",
        "                    box_pairs=[((\"ML\", \"PD\"), (\"ML\", \"NC\")),\n",
        "                                 ((\"1D CNN\", \"PD\"), (\"1D CNN\", \"NC\")),\n",
        "                                 ((\"2D CNN\", \"PD\"), (\"2D CNN\", \"NC\")),\n",
        "                               ((\"3D CNN\", \"PD\"), (\"3D CNN\", \"NC\"))\n",
        "                                ],\n",
        "                    test='t-test_ind', text_format='star', loc='inside', verbose=2)\n",
        "\n",
        "\n",
        "plt.savefig('sensitivity_valence.eps', format='eps', bbox_inches='tight')\n",
        "#FILE.download('sensitivity_valence.eps')"
      ],
      "execution_count": null,
      "outputs": [
        {
          "output_type": "stream",
          "name": "stdout",
          "text": [
            "p-value annotation legend:\n",
            "ns: 5.00e-02 < p <= 1.00e+00\n",
            "*: 1.00e-02 < p <= 5.00e-02\n",
            "**: 1.00e-03 < p <= 1.00e-02\n",
            "***: 1.00e-04 < p <= 1.00e-03\n",
            "****: p <= 1.00e-04\n",
            "\n",
            "1D CNN_NC v.s. 1D CNN_PD: t-test independent samples with Bonferroni correction, P_val=1.059e-01 stat=2.417e+00\n",
            "ML_NC v.s. ML_PD: t-test independent samples with Bonferroni correction, P_val=1.600e-04 stat=5.393e+00\n",
            "2D CNN_NC v.s. 2D CNN_PD: t-test independent samples with Bonferroni correction, P_val=2.958e-01 stat=1.897e+00\n",
            "3D CNN_NC v.s. 3D CNN_PD: t-test independent samples with Bonferroni correction, P_val=1.000e+00 stat=1.042e+00\n"
          ]
        },
        {
          "output_type": "stream",
          "name": "stderr",
          "text": [
            "The PostScript backend does not support transparency; partially transparent artists will be rendered opaque.\n",
            "The PostScript backend does not support transparency; partially transparent artists will be rendered opaque.\n"
          ]
        },
        {
          "output_type": "display_data",
          "data": {
            "image/png": "[encoded data removed]",
            "text/plain": [
              "<Figure size 432x288 with 1 Axes>"
            ]
          },
          "metadata": {}
        }
      ]
    },
    {
      "cell_type": "code",
      "metadata": {
        "colab": {
          "base_uri": "https://localhost:8080/"
        },
        "id": "-UJA6LQR7a_F",
        "outputId": "e8fe53a7-b0e5-4aec-8b55-0df1ed760dc7"
      },
      "source": [
        "list(ax.get_yticklabels())"
      ],
      "execution_count": null,
      "outputs": [
        {
          "output_type": "execute_result",
          "data": {
            "text/plain": [
              "[Text(0, 0.4, '0.4'),\n",
              " Text(0, 0.5, '0.5'),\n",
              " Text(0, 0.6000000000000001, '0.6000000000000001'),\n",
              " Text(0, 0.7000000000000001, '0.7000000000000001'),\n",
              " Text(0, 0.8, '0.8'),\n",
              " Text(0, 0.9, '0.9'),\n",
              " Text(0, 1.0, '1.0'),\n",
              " Text(0, 1.1, '')]"
            ]
          },
          "metadata": {
            "tags": []
          },
          "execution_count": 23
        }
      ]
    },
    {
      "cell_type": "code",
      "metadata": {
        "colab": {
          "base_uri": "https://localhost:8080/",
          "height": 503
        },
        "id": "l0OCMnH5UYpu",
        "outputId": "df00bed9-b98d-4840-ec1b-bccaa7db40be"
      },
      "source": [
        "x = \"Model\"\n",
        "y = \"Specificity\"\n",
        "hue = \"Data\"\n",
        "ax = sns.barplot(data=valence_df, x=x, y=y, hue=hue, palette = \"Blues\", capsize=.05, ci=68)\n",
        "ax.set_ylim(bottom=0.8)\n",
        "ax.legend(loc='upper left', bbox_to_anchor=(0,1))\n",
        "ax.set_xlabel('Model',fontsize = 13, weight='bold')\n",
        "ax.set_ylabel('Specificity',fontsize = 13, weight='bold')\n",
        "ax.set_xticklabels([\"ML\", \"1D CNN\", \"2D CNN\", \"3D CNN\"], rotation=0, fontsize = 10, weight='bold')\n",
        "#_, ylabels = plt.yticks()\n",
        "#ax.set_yticklabels(ylabels, fontsize = 10, weight = 'bold');\n",
        "#ax.set_yticklabels(ax.get_yticklabels(), size= 10, weight='bold')\n",
        "ax.set_yticklabels([\"0.80\", \"0.85\", \"0.90\", \"0.95\", \"1.00\"], size= 10, weight='bold')\n",
        "add_stat_annotation(ax, data=valence_df, x=x, y=y, hue=hue,\n",
        "                    box_pairs=[((\"ML\", \"PD\"), (\"ML\", \"NC\")),\n",
        "                                 ((\"1D CNN\", \"PD\"), (\"1D CNN\", \"NC\")),\n",
        "                                 ((\"2D CNN\", \"PD\"), (\"2D CNN\", \"NC\")),\n",
        "                               ((\"3D CNN\", \"PD\"), (\"3D CNN\", \"NC\"))\n",
        "                                ],\n",
        "                    test='t-test_ind', text_format='star', loc='inside', verbose=2)\n",
        "\n",
        "plt.savefig('specificity_valence.eps', format='eps', bbox_inches='tight')\n",
        "#FILE.download('sensitivity_valence.eps')"
      ],
      "execution_count": null,
      "outputs": [
        {
          "output_type": "stream",
          "text": [
            "p-value annotation legend:\n",
            "ns: 5.00e-02 < p <= 1.00e+00\n",
            "*: 1.00e-02 < p <= 5.00e-02\n",
            "**: 1.00e-03 < p <= 1.00e-02\n",
            "***: 1.00e-04 < p <= 1.00e-03\n",
            "****: p <= 1.00e-04\n",
            "\n",
            "1D CNN_NC v.s. 1D CNN_PD: t-test independent samples with Bonferroni correction, P_val=1.000e+00 stat=-4.614e-01\n",
            "ML_NC v.s. ML_PD: t-test independent samples with Bonferroni correction, P_val=4.051e-07 stat=-8.506e+00\n",
            "2D CNN_NC v.s. 2D CNN_PD: t-test independent samples with Bonferroni correction, P_val=6.461e-01 stat=1.460e+00\n",
            "3D CNN_NC v.s. 3D CNN_PD: t-test independent samples with Bonferroni correction, P_val=1.000e+00 stat=-1.727e-01\n"
          ],
          "name": "stdout"
        },
        {
          "output_type": "stream",
          "text": [
            "The PostScript backend does not support transparency; partially transparent artists will be rendered opaque.\n",
            "The PostScript backend does not support transparency; partially transparent artists will be rendered opaque.\n"
          ],
          "name": "stderr"
        },
        {
          "output_type": "display_data",
          "data": {
            "image/png": "[encoded data removed]",
            "text/plain": [
              "<Figure size 432x288 with 1 Axes>"
            ]
          },
          "metadata": {
            "tags": []
          }
        }
      ]
    },
    {
      "cell_type": "code",
      "metadata": {
        "colab": {
          "base_uri": "https://localhost:8080/",
          "height": 523
        },
        "id": "0nhXTnkTVs1L",
        "outputId": "15996710-7b0d-4970-bec7-8a17fdab6c77"
      },
      "source": [
        "valence_df_new = pd.melt(valence_df[valence_df['Data']=='PD'], id_vars=['Model'], value_vars=['Sensitivity', 'Specificity'],\n",
        "        var_name='Test', value_name='Value')\n",
        "x = \"Model\"\n",
        "y = \"Value\"\n",
        "hue = \"Test\"\n",
        "ax = sns.barplot(data=valence_df_new, x=x, y=y, hue = hue, palette = \"Blues\", capsize=.05, ci=68)\n",
        "ax.set_ylim(bottom=0.5)\n",
        "ax.legend(loc='lower right', bbox_to_anchor=(1,0))\n",
        "ax.set_xlabel('Model',fontsize = 13, weight='bold')\n",
        "ax.set_ylabel('Sensitivity/Specificity',fontsize = 13, weight='bold')\n",
        "ax.set_xticklabels([\"ML\", \"1D CNN\", \"2D CNN\", \"3D CNN\"], rotation=0, fontsize = 10, weight='bold');\n",
        "ax.set_yticklabels([\"0.5\", \"0.6\", \"0.7\", \"0.8\", \"0.9\", \"1.0\"], size= 10, weight='bold')\n",
        "#ax.set_yticklabels(ax.get_yticklabels(), size= 10, weight='bold')\n",
        "add_stat_annotation(ax, data=valence_df_new, x=x, y=y, hue=hue,\n",
        "                    box_pairs=[((\"ML\", \"Sensitivity\"), (\"ML\", \"Specificity\")),\n",
        "                                 ((\"1D CNN\", \"Sensitivity\"), (\"1D CNN\", \"Specificity\")),\n",
        "                                 ((\"2D CNN\", \"Sensitivity\"), (\"2D CNN\", \"Specificity\")),\n",
        "                               ((\"3D CNN\", \"Sensitivity\"), (\"3D CNN\", \"Specificity\"))\n",
        "                                ],\n",
        "                    test='t-test_ind', text_format='star', loc='inside', verbose=2)\n",
        "\n",
        "plt.savefig('sens_and_speci_valence.eps', format='eps', bbox_inches='tight')\n",
        "#FILE.download('sensitivity_valence.eps')"
      ],
      "execution_count": null,
      "outputs": [
        {
          "output_type": "stream",
          "text": [
            "p-value annotation legend:\n",
            "ns: 5.00e-02 < p <= 1.00e+00\n",
            "*: 1.00e-02 < p <= 5.00e-02\n",
            "**: 1.00e-03 < p <= 1.00e-02\n",
            "***: 1.00e-04 < p <= 1.00e-03\n",
            "****: p <= 1.00e-04\n",
            "\n",
            "1D CNN_Sensitivity v.s. 1D CNN_Specificity: t-test independent samples with Bonferroni correction, P_val=3.192e-07 stat=-8.645e+00\n",
            "ML_Sensitivity v.s. ML_Specificity: t-test independent samples with Bonferroni correction, P_val=2.091e-16 stat=-3.073e+01\n",
            "2D CNN_Sensitivity v.s. 2D CNN_Specificity: t-test independent samples with Bonferroni correction, P_val=8.861e-03 stat=-3.565e+00\n",
            "3D CNN_Sensitivity v.s. 3D CNN_Specificity: t-test independent samples with Bonferroni correction, P_val=1.403e-01 stat=-2.279e+00\n"
          ],
          "name": "stdout"
        },
        {
          "output_type": "stream",
          "text": [
            "The PostScript backend does not support transparency; partially transparent artists will be rendered opaque.\n",
            "The PostScript backend does not support transparency; partially transparent artists will be rendered opaque.\n"
          ],
          "name": "stderr"
        },
        {
          "output_type": "display_data",
          "data": {
            "image/png": "[encoded data removed]",
            "text/plain": [
              "<Figure size 432x288 with 1 Axes>"
            ]
          },
          "metadata": {
            "tags": []
          }
        }
      ]
    },
    {
      "cell_type": "code",
      "metadata": {
        "colab": {
          "base_uri": "https://localhost:8080/"
        },
        "id": "TYVMUAOUa3sX",
        "outputId": "24275ffe-156d-48c0-cacd-57ae660e6742"
      },
      "source": [
        "data = 'PD'\n",
        "print(\"-----\", data, \"----\")\n",
        "hvlv_pd_3d = get_metric('/content/drive/MyDrive/EEG_Analysis_PD_NC/Results/CNN_3D_our/CNN_3D_results_HVLV_'+str(data)+'.mat', 'f1_weightedNet')\n",
        "hvlv_pd_2d = get_metric('/content/drive/MyDrive/EEG_Analysis_PD_NC/Results/CNN_2D_our/CNN_2D_results_HVLV_'+str(data)+'.mat', 'f1_weightedNet')\n",
        "hvlv_pd_1d = get_metric('/content/drive/MyDrive/EEG_Analysis_PD_NC/Results/1D_CNN_Results/CSP/CNN_1D_results_HVLV_CSP_'+str(data)+'.mat', 'f1_weightedNet')\n",
        "hvlv_pd_ml = get_metric('/content/drive/MyDrive/EEG_Analysis_PD_NC/Results/MLResults/CSP/ML_HVLV_CSP_'+str(data)+'.mat', 'wtd_f1_list')\n",
        "\n",
        "data = 'NC'\n",
        "hvlv_nc_3d = get_metric('/content/drive/MyDrive/EEG_Analysis_PD_NC/Results/CNN_3D_our/CNN_3D_results_HVLV_'+str(data)+'.mat', 'f1_weightedNet')\n",
        "hvlv_nc_2d = get_metric('/content/drive/MyDrive/EEG_Analysis_PD_NC/Results/CNN_2D_our/CNN_2D_results_HVLV_'+str(data)+'.mat', 'f1_weightedNet')\n",
        "hvlv_nc_1d = get_metric('/content/drive/MyDrive/EEG_Analysis_PD_NC/Results/1D_CNN_Results/CSP/CNN_1D_results_HVLV_CSP_'+str(data)+'.mat', 'f1_weightedNet')\n",
        "hvlv_nc_ml = get_metric('/content/drive/MyDrive/EEG_Analysis_PD_NC/Results/MLResults/CSP/ML_HVLV_CSP_'+str(data)+'.mat', 'wtd_f1_list')\n",
        "\n",
        "data1 = {'F-Score': hvlv_nc_ml[0], 'Data': len(hvlv_nc_ml[0])*['NC'], 'Model': len(hvlv_nc_ml[0])*['ML']}\n",
        "df1 = pd.DataFrame(data1)\n",
        "data2 = {'F-Score': hvlv_pd_ml[0], 'Data': len(hvlv_pd_ml[0])*['PD'], 'Model': len(hvlv_pd_ml[0])*['ML']}\n",
        "df2 = pd.DataFrame(data2)\n",
        "data3 = {'F-Score': hvlv_nc_1d[0], 'Data': len(hvlv_nc_1d[0])*['NC'], 'Model': len(hvlv_nc_1d[0])*['1D CNN']}\n",
        "df3 = pd.DataFrame(data3)\n",
        "data4 = {'F-Score': hvlv_pd_1d[0], 'Data': len(hvlv_pd_1d[0])*['PD'], 'Model': len(hvlv_pd_1d[0])*['1D CNN']}\n",
        "df4 = pd.DataFrame(data4)\n",
        "data5 = {'F-Score': hvlv_nc_2d[0], 'Data': len(hvlv_nc_2d[0])*['NC'], 'Model': len(hvlv_nc_2d[0])*['2D CNN']}\n",
        "df5 = pd.DataFrame(data5)\n",
        "data6 = {'F-Score': hvlv_pd_2d[0], 'Data': len(hvlv_pd_2d[0])*['PD'], 'Model': len(hvlv_pd_2d[0])*['2D CNN']}\n",
        "df6 = pd.DataFrame(data6)\n",
        "data7 = {'F-Score': hvlv_nc_3d[0], 'Data': len(hvlv_nc_3d[0])*['NC'], 'Model': len(hvlv_nc_3d[0])*['3D CNN']}\n",
        "df7 = pd.DataFrame(data7)\n",
        "data8 = {'F-Score': hvlv_pd_3d[0], 'Data': len(hvlv_pd_3d[0])*['PD'], 'Model': len(hvlv_pd_3d[0])*['3D CNN']}\n",
        "df8 = pd.DataFrame(data8)\n",
        "\n",
        "valence_fscore_df = pd.concat([df1, df2, df3, df4, df5, df6, df7, df8], axis=0).reset_index()\n",
        "print(valence_fscore_df)\n"
      ],
      "execution_count": null,
      "outputs": [
        {
          "output_type": "stream",
          "text": [
            "----- PD ----\n",
            "    index   F-Score Data   Model\n",
            "0       0  0.822852   NC      ML\n",
            "1       1  0.853121   NC      ML\n",
            "2       2  0.841493   NC      ML\n",
            "3       3  0.839066   NC      ML\n",
            "4       4  0.838364   NC      ML\n",
            "..    ...       ...  ...     ...\n",
            "75      5  0.951466   PD  3D CNN\n",
            "76      6  0.956859   PD  3D CNN\n",
            "77      7  0.960814   PD  3D CNN\n",
            "78      8  0.968789   PD  3D CNN\n",
            "79      9  0.952308   PD  3D CNN\n",
            "\n",
            "[80 rows x 4 columns]\n"
          ],
          "name": "stdout"
        }
      ]
    },
    {
      "cell_type": "code",
      "metadata": {
        "colab": {
          "base_uri": "https://localhost:8080/",
          "height": 503
        },
        "id": "M25FWf5ueCRt",
        "outputId": "f4668f57-68dd-4e85-e2d6-3dbd41923e2d"
      },
      "source": [
        "x = \"Model\"\n",
        "y = \"F-Score\"\n",
        "hue = \"Data\"\n",
        "ax = sns.barplot(data=valence_fscore_df, x=x, y=y, hue=hue, palette = \"Blues\", capsize=.05, ci=68)\n",
        "ax.set_ylim(bottom=0.6)\n",
        "ax.legend(loc='upper left', bbox_to_anchor=(0,1))\n",
        "ax.set_xlabel('Model',fontsize = 13, weight='bold')\n",
        "ax.set_ylabel('F-Score',fontsize = 13, weight='bold')\n",
        "ax.set_xticklabels([\"ML\", \"1D CNN\", \"2D CNN\", \"3D CNN\"], rotation=0, fontsize = 10, weight='bold')\n",
        "#_, ylabels = plt.yticks()\n",
        "#ax.set_yticklabels(ylabels, fontsize = 10, weight = 'bold');\n",
        "#ax.set_yticklabels(ax.get_yticklabels(), size= 10, weight='bold')\n",
        "ax.set_yticklabels([\"0.60\", \"0.70\", \"0.80\", \"0.90\", \"1.00\"], size= 10, weight='bold')\n",
        "add_stat_annotation(ax, data=valence_fscore_df, x=x, y=y, hue=hue,\n",
        "                    box_pairs=[((\"ML\", \"PD\"), (\"ML\", \"NC\")),\n",
        "                                 ((\"1D CNN\", \"PD\"), (\"1D CNN\", \"NC\")),\n",
        "                                 ((\"2D CNN\", \"PD\"), (\"2D CNN\", \"NC\")),\n",
        "                               ((\"3D CNN\", \"PD\"), (\"3D CNN\", \"NC\"))\n",
        "                                ],\n",
        "                    test='t-test_ind', text_format='star', loc='inside', verbose=2)\n",
        "\n",
        "plt.savefig('f-score_valence.eps', format='eps', bbox_inches='tight')\n",
        "#FILE.download('sensitivity_valence.eps')"
      ],
      "execution_count": null,
      "outputs": [
        {
          "output_type": "stream",
          "text": [
            "p-value annotation legend:\n",
            "ns: 5.00e-02 < p <= 1.00e+00\n",
            "*: 1.00e-02 < p <= 5.00e-02\n",
            "**: 1.00e-03 < p <= 1.00e-02\n",
            "***: 1.00e-04 < p <= 1.00e-03\n",
            "****: p <= 1.00e-04\n",
            "\n",
            "1D CNN_NC v.s. 1D CNN_PD: t-test independent samples with Bonferroni correction, P_val=5.603e-01 stat=1.544e+00\n",
            "ML_NC v.s. ML_PD: t-test independent samples with Bonferroni correction, P_val=1.000e+00 stat=-5.793e-02\n",
            "2D CNN_NC v.s. 2D CNN_PD: t-test independent samples with Bonferroni correction, P_val=3.132e-01 stat=1.867e+00\n",
            "3D CNN_NC v.s. 3D CNN_PD: t-test independent samples with Bonferroni correction, P_val=1.000e+00 stat=5.571e-01\n"
          ],
          "name": "stdout"
        },
        {
          "output_type": "stream",
          "text": [
            "The PostScript backend does not support transparency; partially transparent artists will be rendered opaque.\n",
            "The PostScript backend does not support transparency; partially transparent artists will be rendered opaque.\n"
          ],
          "name": "stderr"
        },
        {
          "output_type": "display_data",
          "data": {
            "image/png": "[encoded data removed]",
            "text/plain": [
              "<Figure size 432x288 with 1 Axes>"
            ]
          },
          "metadata": {
            "tags": []
          }
        }
      ]
    },
    {
      "cell_type": "markdown",
      "metadata": {
        "id": "7tK-fio1iLLy"
      },
      "source": [
        "## Arousal"
      ]
    },
    {
      "cell_type": "code",
      "metadata": {
        "colab": {
          "base_uri": "https://localhost:8080/"
        },
        "id": "iLvYI0FOiPrT",
        "outputId": "72c49101-f8bb-4607-9313-562acb7afbad"
      },
      "source": [
        "def get_metric(dataPath, metric):\n",
        "  matContent = sio.loadmat(dataPath)\n",
        "  metric = matContent[metric]\n",
        "  return metric\n",
        "\n",
        "def specificity(metric):\n",
        "  pos_list = [i[0][0] for i in metric]\n",
        "  pos_list_m = round(np.mean(pos_list),2)\n",
        "  pos_list_s = round(np.std(pos_list),2)\n",
        "  return [pos_list_m, pos_list_s] \n",
        "\n",
        "def sensitivity(metric):\n",
        "  neg_list = [i[1][1] for i in metric]\n",
        "  neg_list_m = round(np.mean(neg_list),2)\n",
        "  neg_list_s = round(np.std(neg_list),2)\n",
        "  return [neg_list_m, neg_list_s] \n",
        "\n",
        "def fpr(metric):\n",
        "  fpr_list = [i[0][1] for i in metric]\n",
        "  fpr_list_m = round(np.mean(fpr_list),2)\n",
        "  fpr_list_s = round(np.std(fpr_list),2)\n",
        "  return [fpr_list_m, fpr_list_s]\n",
        "\n",
        "def fnr(metric):\n",
        "  fnr_list = [i[1][0] for i in metric]\n",
        "  fnr_list_m = round(np.mean(fnr_list),2)\n",
        "  fnr_list_s = round(np.std(fnr_list),2)\n",
        "  return [fnr_list_m, fnr_list_s]\n",
        "\n",
        "\n",
        "data = 'PD'\n",
        "print(\"-----\", data, \"----\")\n",
        "print(\"-----3D----\")\n",
        "hala_pd_3d = get_metric('/content/drive/MyDrive/EEG_Analysis_PD_NC/Results/CNN_3D_our/CNN_3D_results_HALA_'+str(data)+'.mat', 'conf_mat_list')\n",
        "ha_ha_3pd = sensitivity(hala_pd_3d)\n",
        "la_la_3pd = specificity(hala_pd_3d)\n",
        "ha_la_3pd = fnr(hala_pd_3d)\n",
        "la_ha_3pd = fpr(hala_pd_3d)\n",
        "print('Sensitivity:',ha_ha_3pd[0],'+-',ha_ha_3pd[1])\n",
        "print('Specificity:',la_la_3pd[0],'+-',la_la_3pd[1])\n",
        "print('FPR:',la_ha_3pd[0],'+-',la_ha_3pd[1])\n",
        "print('FNR:',ha_la_3pd[0],'+-',ha_la_3pd[1])\n",
        "\n",
        "print(\"-----2D----\")\n",
        "hala_pd_2d = get_metric('/content/drive/MyDrive/EEG_Analysis_PD_NC/Results/CNN_2D_our/CNN_2D_results_HALA_'+str(data)+'.mat', 'conf_mat_list')\n",
        "ha_ha_2pd = sensitivity(hala_pd_2d)\n",
        "la_la_2pd = specificity(hala_pd_2d)\n",
        "ha_la_2pd = fnr(hala_pd_2d)\n",
        "la_ha_2pd = fpr(hala_pd_2d)\n",
        "print('Sensitivity:',ha_ha_2pd[0],'+-',ha_ha_2pd[1])\n",
        "print('Specificity:',la_la_2pd[0],'+-',la_la_2pd[1])\n",
        "print('FPR:',la_ha_2pd[0],'+-',la_ha_2pd[1])\n",
        "print('FNR:',ha_la_2pd[0],'+-',ha_la_2pd[1])\n",
        "\n",
        "print(\"-----1D----\")\n",
        "hala_pd_1d = get_metric('/content/drive/MyDrive/EEG_Analysis_PD_NC/Results/1D_CNN_Results/CSP/CNN_1D_results_HALA_CSP_'+str(data)+'.mat', 'conf_mat_list')\n",
        "ha_ha_1pd = sensitivity(hala_pd_1d)\n",
        "la_la_1pd = specificity(hala_pd_1d)\n",
        "ha_la_1pd = fnr(hala_pd_1d)\n",
        "la_ha_1pd = fpr(hala_pd_1d)\n",
        "print('Sensitivity:',ha_ha_1pd[0],'+-',ha_ha_1pd[1])\n",
        "print('Specificity:',la_la_1pd[0],'+-',la_la_1pd[1])\n",
        "print('FPR:',la_ha_1pd[0],'+-',la_ha_1pd[1])\n",
        "print('FNR:',ha_la_1pd[0],'+-',ha_la_1pd[1])\n",
        "\n",
        "print(\"-----ML----\")\n",
        "hala_pd_ml = get_metric('/content/drive/MyDrive/EEG_Analysis_PD_NC/Results/MLResults/CSP/ML_HALA_CSP_'+str(data)+'.mat', 'conf_mat_list')\n",
        "ha_ha_pd_ml = sensitivity(hala_pd_ml)\n",
        "la_la_pd_ml = specificity(hala_pd_ml)\n",
        "ha_la_pd_ml = fnr(hala_pd_ml)\n",
        "la_ha_pd_ml = fpr(hala_pd_ml)\n",
        "print('Sensitivity:',ha_ha_pd_ml[0],'+-',ha_ha_pd_ml[1])\n",
        "print('Specificity:',la_la_pd_ml[0],'+-',la_la_pd_ml[1])\n",
        "print('FPR:',la_ha_pd_ml[0],'+-',la_ha_pd_ml[1])\n",
        "print('FNR:',ha_la_pd_ml[0],'+-',ha_la_pd_ml[1])\n",
        "\n",
        "data = 'NC'\n",
        "print(\"-----\", data, \"----\")\n",
        "print(\"-----3D----\")\n",
        "hala_nc_3d = get_metric('/content/drive/MyDrive/EEG_Analysis_PD_NC/Results/CNN_3D_our/CNN_3D_results_HALA_'+str(data)+'.mat', 'conf_mat_list')\n",
        "ha_ha_3nc = sensitivity(hala_nc_3d)\n",
        "la_la_3nc = specificity(hala_nc_3d)\n",
        "ha_la_3nc = fnr(hala_nc_3d)\n",
        "la_ha_3nc = fpr(hala_nc_3d)\n",
        "print('Sensitivity:',ha_ha_3nc[0],'+-',ha_ha_3nc[1])\n",
        "print('Specificity:',la_la_3nc[0],'+-',la_la_3nc[1])\n",
        "print('FPR:',la_ha_3nc[0],'+-',la_ha_3nc[1])\n",
        "print('FNR:',ha_la_3nc[0],'+-',ha_la_3nc[1])\n",
        "\n",
        "print(\"-----2D----\")\n",
        "hala_nc_2d = get_metric('/content/drive/MyDrive/EEG_Analysis_PD_NC/Results/CNN_2D_our/CNN_2D_results_HALA_'+str(data)+'.mat', 'conf_mat_list')\n",
        "ha_ha_2nc = sensitivity(hala_nc_2d)\n",
        "la_la_2nc = specificity(hala_nc_2d)\n",
        "ha_la_2nc = fnr(hala_nc_2d)\n",
        "la_ha_2nc = fpr(hala_nc_2d)\n",
        "print('Sensitivity:',ha_ha_2nc[0],'+-',ha_ha_2nc[1])\n",
        "print('Specificity:',la_la_2nc[0],'+-',la_la_2nc[1])\n",
        "print('FPR:',la_ha_2nc[0],'+-',la_ha_2nc[1])\n",
        "print('FNR:',ha_la_2nc[0],'+-',ha_la_2nc[1])\n",
        "\n",
        "print(\"-----1D----\")\n",
        "hala_nc_1d = get_metric('/content/drive/MyDrive/EEG_Analysis_PD_NC/Results/1D_CNN_Results/Spectral/CNN_1D_results_HALA_Spectral_'+str(data)+'.mat', 'conf_mat_list')\n",
        "ha_ha_1nc = sensitivity(hala_nc_1d)\n",
        "la_la_1nc = specificity(hala_nc_1d)\n",
        "ha_la_1nc = fnr(hala_nc_1d)\n",
        "la_ha_1nc = fpr(hala_nc_1d)\n",
        "print('Sensitivity:',ha_ha_1nc[0],'+-',ha_ha_1nc[1])\n",
        "print('Specificity:',la_la_1nc[0],'+-',la_la_1nc[1])\n",
        "print('FPR:',la_ha_1nc[0],'+-',la_ha_1nc[1])\n",
        "print('FNR:',ha_la_1nc[0],'+-',ha_la_1nc[1])\n",
        "\n",
        "print(\"-----ML----\")\n",
        "hala_nc_ml = get_metric('/content/drive/MyDrive/EEG_Analysis_PD_NC/Results/MLResults/CSP/ML_HALA_CSP_'+str(data)+'.mat', 'conf_mat_list')\n",
        "ha_ha_nc_ml = sensitivity(hala_nc_ml)\n",
        "la_la_nc_ml = specificity(hala_nc_ml)\n",
        "ha_la_nc_ml = fnr(hala_nc_ml)\n",
        "la_ha_nc_ml = fpr(hala_nc_ml)\n",
        "print('Sensitivity:',ha_ha_nc_ml[0],'+-',ha_ha_nc_ml[1])\n",
        "print('Specificity:',la_la_nc_ml[0],'+-',la_la_nc_ml[1])\n",
        "print('FPR:',la_ha_nc_ml[0],'+-',la_ha_nc_ml[1])\n",
        "print('FNR:',ha_la_nc_ml[0],'+-',ha_la_nc_ml[1])"
      ],
      "execution_count": null,
      "outputs": [
        {
          "output_type": "stream",
          "text": [
            "----- PD ----\n",
            "-----3D----\n",
            "Sensitivity: 0.98 +- 0.02\n",
            "Specificity: 0.91 +- 0.06\n",
            "FPR: 0.09 +- 0.06\n",
            "FNR: 0.02 +- 0.02\n",
            "-----2D----\n",
            "Sensitivity: 0.99 +- 0.01\n",
            "Specificity: 0.91 +- 0.11\n",
            "FPR: 0.09 +- 0.11\n",
            "FNR: 0.01 +- 0.01\n",
            "-----1D----\n",
            "Sensitivity: 0.96 +- 0.02\n",
            "Specificity: 0.73 +- 0.06\n",
            "FPR: 0.27 +- 0.06\n",
            "FNR: 0.04 +- 0.02\n",
            "-----ML----\n",
            "Sensitivity: 0.97 +- 0.01\n",
            "Specificity: 0.76 +- 0.06\n",
            "FPR: 0.24 +- 0.06\n",
            "FNR: 0.03 +- 0.01\n",
            "----- NC ----\n",
            "-----3D----\n",
            "Sensitivity: 0.98 +- 0.01\n",
            "Specificity: 0.88 +- 0.09\n",
            "FPR: 0.12 +- 0.09\n",
            "FNR: 0.02 +- 0.01\n",
            "-----2D----\n",
            "Sensitivity: 0.97 +- 0.03\n",
            "Specificity: 0.79 +- 0.09\n",
            "FPR: 0.21 +- 0.09\n",
            "FNR: 0.03 +- 0.03\n",
            "-----1D----\n",
            "Sensitivity: 0.97 +- 0.02\n",
            "Specificity: 0.66 +- 0.25\n",
            "FPR: 0.34 +- 0.25\n",
            "FNR: 0.03 +- 0.02\n",
            "-----ML----\n",
            "Sensitivity: 0.98 +- 0.01\n",
            "Specificity: 0.78 +- 0.05\n",
            "FPR: 0.22 +- 0.05\n",
            "FNR: 0.02 +- 0.01\n"
          ],
          "name": "stdout"
        }
      ]
    },
    {
      "cell_type": "code",
      "metadata": {
        "colab": {
          "base_uri": "https://localhost:8080/"
        },
        "id": "JLcYILBFcEm7",
        "outputId": "4889a0e5-5bc3-4030-de24-87fa5b2566c4"
      },
      "source": [
        "data1 = {'Sensitivity': [i[1][1] for i in hala_nc_ml], 'Specificity': [i[0][0] for i in hala_nc_ml],\n",
        "          'Data': len([i[1][1] for i in hala_nc_ml])*['NC'], 'Model': len([i[1][1] for i in hala_nc_ml])*['ML']}\n",
        "df1 = pd.DataFrame(data1)\n",
        "data2 = {'Sensitivity': [i[1][1] for i in hala_pd_ml], 'Specificity': [i[0][0] for i in hala_pd_ml],\n",
        "          'Data': len([i[1][1] for i in hala_pd_ml])*['PD'], 'Model': len([i[1][1] for i in hala_pd_ml])*['ML']}\n",
        "df2 = pd.DataFrame(data2)\n",
        "data3 = {'Sensitivity': [i[1][1] for i in hala_pd_1d], 'Specificity': [i[0][0] for i in hala_pd_1d],\n",
        "          'Data': len([i[1][1] for i in hala_pd_1d])*['PD'], 'Model': len([i[1][1] for i in hala_pd_1d])*['1D CNN']}\n",
        "df3 = pd.DataFrame(data3)\n",
        "data4 = {'Sensitivity': [i[1][1] for i in hala_nc_1d], 'Specificity': [i[0][0] for i in hala_nc_1d],\n",
        "          'Data': len([i[1][1] for i in hala_nc_1d])*['NC'], 'Model': len([i[1][1] for i in hala_nc_1d])*['1D CNN']}\n",
        "df4 = pd.DataFrame(data4)\n",
        "data5 = {'Sensitivity': [i[1][1] for i in hala_pd_2d], 'Specificity': [i[0][0] for i in hala_pd_2d],\n",
        "          'Data': len([i[1][1] for i in hala_pd_2d])*['PD'], 'Model': len([i[1][1] for i in hala_pd_2d])*['2D CNN']}\n",
        "df5 = pd.DataFrame(data5)\n",
        "data6 = {'Sensitivity': [i[1][1] for i in hala_nc_2d], 'Specificity': [i[0][0] for i in hala_nc_2d],\n",
        "          'Data': len([i[1][1] for i in hala_nc_2d])*['NC'], 'Model': len([i[1][1] for i in hala_nc_2d])*['2D CNN']}\n",
        "df6 = pd.DataFrame(data6)\n",
        "data7 = {'Sensitivity': [i[1][1] for i in hala_pd_3d], 'Specificity': [i[0][0] for i in hala_pd_3d],\n",
        "          'Data': len([i[1][1] for i in hala_pd_3d])*['PD'], 'Model': len([i[1][1] for i in hala_pd_3d])*['3D CNN']}\n",
        "df7 = pd.DataFrame(data7)\n",
        "data8 = {'Sensitivity': [i[1][1] for i in hala_nc_3d], 'Specificity': [i[0][0] for i in hala_nc_3d],\n",
        "          'Data': len([i[1][1] for i in hala_nc_3d])*['NC'], 'Model': len([i[1][1] for i in hala_nc_3d])*['3D CNN']}\n",
        "df8 = pd.DataFrame(data8)\n",
        "\n",
        "arousal_df = pd.concat([df1, df2, df3, df4, df5, df6, df7, df8], axis=0).reset_index()\n",
        "print(arousal_df)"
      ],
      "execution_count": null,
      "outputs": [
        {
          "output_type": "stream",
          "text": [
            "    index  Sensitivity  Specificity Data   Model\n",
            "0       0     0.978723     0.702479   NC      ML\n",
            "1       1     0.980392     0.800000   NC      ML\n",
            "2       2     0.978758     0.700000   NC      ML\n",
            "3       3     0.959150     0.858333   NC      ML\n",
            "4       4     0.982026     0.800000   NC      ML\n",
            "..    ...          ...          ...  ...     ...\n",
            "75      5     0.993548     0.892562   NC  3D CNN\n",
            "76      6     0.988710     0.884298   NC  3D CNN\n",
            "77      7     0.977419     0.917355   NC  3D CNN\n",
            "78      8     0.993548     0.958678   NC  3D CNN\n",
            "79      9     0.991935     0.942149   NC  3D CNN\n",
            "\n",
            "[80 rows x 5 columns]\n"
          ],
          "name": "stdout"
        }
      ]
    },
    {
      "cell_type": "code",
      "metadata": {
        "colab": {
          "base_uri": "https://localhost:8080/",
          "height": 554
        },
        "id": "pCCTtxfUc8JD",
        "outputId": "c1716fd7-0023-49fd-ed16-e60b8adb9b13"
      },
      "source": [
        "x = \"Model\"\n",
        "y = \"Sensitivity\"\n",
        "hue = \"Data\"\n",
        "ax = sns.barplot(data=arousal_df, x=x, y=y, hue=hue, palette = \"Blues\", capsize=0.05, ci=68)\n",
        "ax.set_ylim(bottom=0.9)\n",
        "ax.legend(loc='upper left', bbox_to_anchor=(0, 1))\n",
        "ax.set_xlabel('Model',fontsize = 13, weight='bold' )\n",
        "ax.set_ylabel('Sensitivity',fontsize = 13 , weight='bold')\n",
        "ax.set_xticklabels([\"ML\", \"1D CNN\", \"2D CNN\", \"3D CNN\"], rotation=0, fontsize = 10, weight='bold');\n",
        "ax.set_yticklabels([\"0.90\", \"0.92\", \"0.94\", \"0.96\", \"0.98\", \"1.0\"], size= 10, weight='bold')\n",
        "#ax.set_yticklabels(ax.get_yticklabels(), size= 10, weight='bold')\n",
        "add_stat_annotation(ax, data=arousal_df, x=x, y=y, hue=hue,\n",
        "                    box_pairs=[((\"ML\", \"PD\"), (\"ML\", \"NC\")),\n",
        "                                 ((\"1D CNN\", \"PD\"), (\"1D CNN\", \"NC\")),\n",
        "                                 ((\"2D CNN\", \"PD\"), (\"2D CNN\", \"NC\")),\n",
        "                               ((\"3D CNN\", \"PD\"), (\"3D CNN\", \"NC\"))\n",
        "                                ],\n",
        "                    test='t-test_ind', text_format='star', loc='inside', verbose=2)\n",
        "\n",
        "#plt.savefig('sensitivity_arousal.eps', format='eps', bbox_inches='tight')\n",
        "#FILE.download('sensitivity_valence.eps')"
      ],
      "execution_count": null,
      "outputs": [
        {
          "output_type": "stream",
          "text": [
            "p-value annotation legend:\n",
            "ns: 5.00e-02 < p <= 1.00e+00\n",
            "*: 1.00e-02 < p <= 5.00e-02\n",
            "**: 1.00e-03 < p <= 1.00e-02\n",
            "***: 1.00e-04 < p <= 1.00e-03\n",
            "****: p <= 1.00e-04\n",
            "\n",
            "1D CNN_NC v.s. 1D CNN_PD: t-test independent samples with Bonferroni correction, P_val=1.000e+00 stat=1.073e+00\n",
            "ML_NC v.s. ML_PD: t-test independent samples with Bonferroni correction, P_val=5.130e-01 stat=1.594e+00\n",
            "2D CNN_NC v.s. 2D CNN_PD: t-test independent samples with Bonferroni correction, P_val=3.125e-01 stat=-1.868e+00\n",
            "3D CNN_NC v.s. 3D CNN_PD: t-test independent samples with Bonferroni correction, P_val=1.000e+00 stat=4.760e-02\n"
          ],
          "name": "stdout"
        },
        {
          "output_type": "execute_result",
          "data": {
            "text/plain": [
              "(<matplotlib.axes._subplots.AxesSubplot at 0x7f260edadb90>,\n",
              " [<statannot.StatResult.StatResult at 0x7f260e551c10>,\n",
              "  <statannot.StatResult.StatResult at 0x7f260f082b10>,\n",
              "  <statannot.StatResult.StatResult at 0x7f260ed2bd10>,\n",
              "  <statannot.StatResult.StatResult at 0x7f260ebb2390>])"
            ]
          },
          "metadata": {
            "tags": []
          },
          "execution_count": 26
        },
        {
          "output_type": "display_data",
          "data": {
            "image/png": "[encoded data removed]",
            "text/plain": [
              "<Figure size 432x288 with 1 Axes>"
            ]
          },
          "metadata": {
            "tags": [],
            "needs_background": "light"
          }
        }
      ]
    },
    {
      "cell_type": "code",
      "metadata": {
        "colab": {
          "base_uri": "https://localhost:8080/",
          "height": 503
        },
        "id": "4hQQdhIzdHEb",
        "outputId": "d86adb98-222d-4d1f-eacf-2acb54558e1b"
      },
      "source": [
        "x = \"Model\"\n",
        "y = \"Specificity\"\n",
        "hue = \"Data\"\n",
        "ax = sns.barplot(data=arousal_df, x=x, y=y, hue=hue, palette = \"Blues\", capsize=0.05, ci=68)\n",
        "ax.set_ylim(bottom=0.4)\n",
        "ax.legend(loc='upper left', bbox_to_anchor=(0, 1))\n",
        "ax.set_xlabel('Model',fontsize = 13, weight='bold')\n",
        "ax.set_ylabel('Specificity',fontsize = 13, weight='bold')\n",
        "ax.set_xticklabels([\"ML\", \"1D CNN\", \"2D CNN\", \"3D CNN\"], rotation=0, fontsize = 10, weight='bold');\n",
        "ax.set_yticklabels([\"0.4\", \"0.5\", \"0.6\", \"0.7\", \"0.8\", \"0.9\", \"1.0\"], size= 10, weight='bold')\n",
        "add_stat_annotation(ax, data=arousal_df, x=x, y=y, hue=hue,\n",
        "                    box_pairs=[((\"ML\", \"PD\"), (\"ML\", \"NC\")),\n",
        "                                 ((\"1D CNN\", \"PD\"), (\"1D CNN\", \"NC\")),\n",
        "                                 ((\"2D CNN\", \"PD\"), (\"2D CNN\", \"NC\")),\n",
        "                               ((\"3D CNN\", \"PD\"), (\"3D CNN\", \"NC\"))\n",
        "                                ],\n",
        "                    test='t-test_ind', text_format='star', loc='inside', verbose=2)\n",
        "\n",
        "plt.savefig('specificity_arousal.eps', format='eps', bbox_inches='tight')\n",
        "#FILE.download('sensitivity_valence.eps')"
      ],
      "execution_count": null,
      "outputs": [
        {
          "output_type": "stream",
          "text": [
            "p-value annotation legend:\n",
            "ns: 5.00e-02 < p <= 1.00e+00\n",
            "*: 1.00e-02 < p <= 5.00e-02\n",
            "**: 1.00e-03 < p <= 1.00e-02\n",
            "***: 1.00e-04 < p <= 1.00e-03\n",
            "****: p <= 1.00e-04\n",
            "\n",
            "1D CNN_NC v.s. 1D CNN_PD: t-test independent samples with Bonferroni correction, P_val=1.000e+00 stat=-7.771e-01\n",
            "ML_NC v.s. ML_PD: t-test independent samples with Bonferroni correction, P_val=1.000e+00 stat=6.178e-01\n",
            "2D CNN_NC v.s. 2D CNN_PD: t-test independent samples with Bonferroni correction, P_val=8.325e-02 stat=-2.533e+00\n",
            "3D CNN_NC v.s. 3D CNN_PD: t-test independent samples with Bonferroni correction, P_val=1.000e+00 stat=-8.230e-01\n"
          ],
          "name": "stdout"
        },
        {
          "output_type": "stream",
          "text": [
            "The PostScript backend does not support transparency; partially transparent artists will be rendered opaque.\n",
            "The PostScript backend does not support transparency; partially transparent artists will be rendered opaque.\n"
          ],
          "name": "stderr"
        },
        {
          "output_type": "display_data",
          "data": {
            "image/png": "[encoded data removed]",
            "text/plain": [
              "<Figure size 432x288 with 1 Axes>"
            ]
          },
          "metadata": {
            "tags": []
          }
        }
      ]
    },
    {
      "cell_type": "code",
      "metadata": {
        "colab": {
          "base_uri": "https://localhost:8080/",
          "height": 526
        },
        "id": "QD895DcsdRnl",
        "outputId": "f961f1b9-72a2-4cb1-f042-760c9fb70093"
      },
      "source": [
        "arousal_df_new = pd.melt(arousal_df[valence_df['Data']=='PD'], id_vars=['Model'], value_vars=['Sensitivity', 'Specificity'],\n",
        "        var_name='Test', value_name='Value')\n",
        "x = \"Model\"\n",
        "y = \"Value\"\n",
        "hue = \"Test\"\n",
        "ax = sns.barplot(data=arousal_df_new, x=x, y=y, hue = hue, palette = \"Blues\", capsize=0.05, ci=68)\n",
        "ax.set_ylim(bottom=0.6)\n",
        "ax.legend(loc='lower right', bbox_to_anchor=(1,0))\n",
        "ax.set_xlabel('Model',fontsize = 13, weight='bold')\n",
        "ax.set_ylabel('Sensitivity/Specificity',fontsize = 13, weight='bold')\n",
        "ax.set_xticklabels([\"ML\", \"1D CNN\", \"2D CNN\", \"3D CNN\"], rotation=0, fontsize = 13, weight='bold');\n",
        "ax.set_yticklabels([\"0.6\", \"0.7\", \"0.8\", \"0.9\", \"1.0\"], size= 10, weight='bold')\n",
        "add_stat_annotation(ax, data=arousal_df_new, x=x, y=y, hue=hue,\n",
        "                    box_pairs=[((\"ML\", \"Sensitivity\"), (\"ML\", \"Specificity\")),\n",
        "                                 ((\"1D CNN\", \"Sensitivity\"), (\"1D CNN\", \"Specificity\")),\n",
        "                                 ((\"2D CNN\", \"Sensitivity\"), (\"2D CNN\", \"Specificity\")),\n",
        "                               ((\"3D CNN\", \"Sensitivity\"), (\"3D CNN\", \"Specificity\"))\n",
        "                                ],\n",
        "                    test='t-test_ind', text_format='star', loc='inside', verbose=2)\n",
        "\n",
        "plt.savefig('sens_and_speci_arousal.eps', format='eps', bbox_inches='tight')\n",
        "#FILE.download('sensitivity_valence.eps')"
      ],
      "execution_count": null,
      "outputs": [
        {
          "output_type": "stream",
          "text": [
            "p-value annotation legend:\n",
            "ns: 5.00e-02 < p <= 1.00e+00\n",
            "*: 1.00e-02 < p <= 5.00e-02\n",
            "**: 1.00e-03 < p <= 1.00e-02\n",
            "***: 1.00e-04 < p <= 1.00e-03\n",
            "****: p <= 1.00e-04\n",
            "\n",
            "1D CNN_Sensitivity v.s. 1D CNN_Specificity: t-test independent samples with Bonferroni correction, P_val=1.449e-08 stat=1.060e+01\n",
            "ML_Sensitivity v.s. ML_Specificity: t-test independent samples with Bonferroni correction, P_val=6.295e-09 stat=1.118e+01\n",
            "2D CNN_Sensitivity v.s. 2D CNN_Specificity: t-test independent samples with Bonferroni correction, P_val=2.136e-01 stat=2.067e+00\n",
            "3D CNN_Sensitivity v.s. 3D CNN_Specificity: t-test independent samples with Bonferroni correction, P_val=8.291e-03 stat=3.594e+00\n"
          ],
          "name": "stdout"
        },
        {
          "output_type": "stream",
          "text": [
            "The PostScript backend does not support transparency; partially transparent artists will be rendered opaque.\n",
            "The PostScript backend does not support transparency; partially transparent artists will be rendered opaque.\n"
          ],
          "name": "stderr"
        },
        {
          "output_type": "display_data",
          "data": {
            "image/png": "[encoded data removed]",
            "text/plain": [
              "<Figure size 432x288 with 1 Axes>"
            ]
          },
          "metadata": {
            "tags": []
          }
        }
      ]
    },
    {
      "cell_type": "code",
      "metadata": {
        "colab": {
          "base_uri": "https://localhost:8080/"
        },
        "id": "b_Llza1Dfqdc",
        "outputId": "0fcd96ca-39e2-4e4d-cd8a-59c92eb8de25"
      },
      "source": [
        "data = 'PD'\n",
        "print(\"-----\", data, \"----\")\n",
        "hala_pd_3d = get_metric('/content/drive/MyDrive/EEG_Analysis_PD_NC/Results/CNN_3D_our/CNN_3D_results_HALA_'+str(data)+'.mat', 'f1_weightedNet')\n",
        "hala_pd_2d = get_metric('/content/drive/MyDrive/EEG_Analysis_PD_NC/Results/CNN_2D_our/CNN_2D_results_HALA_'+str(data)+'.mat', 'f1_weightedNet')\n",
        "hala_pd_1d = get_metric('/content/drive/MyDrive/EEG_Analysis_PD_NC/Results/1D_CNN_Results/CSP/CNN_1D_results_HALA_CSP_'+str(data)+'.mat', 'f1_weightedNet')\n",
        "hala_pd_ml = get_metric('/content/drive/MyDrive/EEG_Analysis_PD_NC/Results/MLResults/CSP/ML_HALA_CSP_'+str(data)+'.mat', 'wtd_f1_list')\n",
        "\n",
        "data = 'NC'\n",
        "hala_nc_3d = get_metric('/content/drive/MyDrive/EEG_Analysis_PD_NC/Results/CNN_3D_our/CNN_3D_results_HALA_'+str(data)+'.mat', 'f1_weightedNet')\n",
        "hala_nc_2d = get_metric('/content/drive/MyDrive/EEG_Analysis_PD_NC/Results/CNN_2D_our/CNN_2D_results_HALA_'+str(data)+'.mat', 'f1_weightedNet')\n",
        "hala_nc_1d = get_metric('/content/drive/MyDrive/EEG_Analysis_PD_NC/Results/1D_CNN_Results/CSP/CNN_1D_results_HALA_CSP_'+str(data)+'.mat', 'f1_weightedNet')\n",
        "hala_nc_ml = get_metric('/content/drive/MyDrive/EEG_Analysis_PD_NC/Results/MLResults/CSP/ML_HALA_CSP_'+str(data)+'.mat', 'wtd_f1_list')\n",
        "\n",
        "data1 = {'F-Score': hala_nc_ml[0], 'Data': len(hala_nc_ml[0])*['NC'], 'Model': len(hala_nc_ml[0])*['ML']}\n",
        "df1 = pd.DataFrame(data1)\n",
        "data2 = {'F-Score': hala_pd_ml[0], 'Data': len(hala_pd_ml[0])*['PD'], 'Model': len(hala_pd_ml[0])*['ML']}\n",
        "df2 = pd.DataFrame(data2)\n",
        "data3 = {'F-Score': hala_nc_1d[0], 'Data': len(hala_nc_1d[0])*['NC'], 'Model': len(hala_nc_1d[0])*['1D CNN']}\n",
        "df3 = pd.DataFrame(data3)\n",
        "data4 = {'F-Score': hala_pd_1d[0], 'Data': len(hala_pd_1d[0])*['PD'], 'Model': len(hala_pd_1d[0])*['1D CNN']}\n",
        "df4 = pd.DataFrame(data4)\n",
        "data5 = {'F-Score': hala_nc_2d[0], 'Data': len(hala_nc_2d[0])*['NC'], 'Model': len(hala_nc_2d[0])*['2D CNN']}\n",
        "df5 = pd.DataFrame(data5)\n",
        "data6 = {'F-Score': hala_pd_2d[0], 'Data': len(hala_pd_2d[0])*['PD'], 'Model': len(hala_pd_2d[0])*['2D CNN']}\n",
        "df6 = pd.DataFrame(data6)\n",
        "data7 = {'F-Score': hala_nc_3d[0], 'Data': len(hala_nc_3d[0])*['NC'], 'Model': len(hala_nc_3d[0])*['3D CNN']}\n",
        "df7 = pd.DataFrame(data7)\n",
        "data8 = {'F-Score': hala_pd_3d[0], 'Data': len(hala_pd_3d[0])*['PD'], 'Model': len(hala_pd_3d[0])*['3D CNN']}\n",
        "df8 = pd.DataFrame(data8)\n",
        "\n",
        "arousal_fscore_df = pd.concat([df1, df2, df3, df4, df5, df6, df7, df8], axis=0).reset_index()\n",
        "print(arousal_fscore_df)\n"
      ],
      "execution_count": null,
      "outputs": [
        {
          "output_type": "stream",
          "text": [
            "----- PD ----\n",
            "    index   F-Score Data   Model\n",
            "0       0  0.930163   NC      ML\n",
            "1       1  0.949764   NC      ML\n",
            "2       2  0.930130   NC      ML\n",
            "3       3  0.943360   NC      ML\n",
            "4       4  0.951068   NC      ML\n",
            "..    ...       ...  ...     ...\n",
            "75      5  0.977965   PD  3D CNN\n",
            "76      6  0.980991   PD  3D CNN\n",
            "77      7  0.980991   PD  3D CNN\n",
            "78      8  0.991870   PD  3D CNN\n",
            "79      9  0.982039   PD  3D CNN\n",
            "\n",
            "[80 rows x 4 columns]\n"
          ],
          "name": "stdout"
        }
      ]
    },
    {
      "cell_type": "code",
      "metadata": {
        "colab": {
          "base_uri": "https://localhost:8080/",
          "height": 503
        },
        "id": "Zor5HWzMgVl6",
        "outputId": "c7574c69-5c30-41cb-ab2a-ab77ecfaa27d"
      },
      "source": [
        "x = \"Model\"\n",
        "y = \"F-Score\"\n",
        "hue = \"Data\"\n",
        "ax = sns.barplot(data=arousal_fscore_df, x=x, y=y, hue=hue, palette = \"Blues\", capsize=.05, ci=68)\n",
        "ax.set_ylim(bottom=0.8)\n",
        "ax.legend(loc='upper left', bbox_to_anchor=(0,1))\n",
        "ax.set_xlabel('Model',fontsize = 13, weight='bold')\n",
        "ax.set_ylabel('F-Score',fontsize = 13, weight='bold')\n",
        "ax.set_xticklabels([\"ML\", \"1D CNN\", \"2D CNN\", \"3D CNN\"], rotation=0, fontsize = 10, weight='bold')\n",
        "#_, ylabels = plt.yticks()\n",
        "#ax.set_yticklabels(ylabels, fontsize = 10, weight = 'bold');\n",
        "#ax.set_yticklabels(ax.get_yticklabels(), size= 10, weight='bold')\n",
        "ax.set_yticklabels([\"0.80\", \"0.85\", \"0.90\", \"0.95\", \"1.00\"], size= 10, weight='bold')\n",
        "add_stat_annotation(ax, data=arousal_fscore_df, x=x, y=y, hue=hue,\n",
        "                    box_pairs=[((\"ML\", \"PD\"), (\"ML\", \"NC\")),\n",
        "                                 ((\"1D CNN\", \"PD\"), (\"1D CNN\", \"NC\")),\n",
        "                                 ((\"2D CNN\", \"PD\"), (\"2D CNN\", \"NC\")),\n",
        "                               ((\"3D CNN\", \"PD\"), (\"3D CNN\", \"NC\"))\n",
        "                                ],\n",
        "                    test='t-test_ind', text_format='star', loc='inside', verbose=2)\n",
        "\n",
        "plt.savefig('f-score_arousal.eps', format='eps', bbox_inches='tight')\n",
        "#FILE.download('sensitivity_valence.eps')"
      ],
      "execution_count": null,
      "outputs": [
        {
          "output_type": "stream",
          "text": [
            "p-value annotation legend:\n",
            "ns: 5.00e-02 < p <= 1.00e+00\n",
            "*: 1.00e-02 < p <= 5.00e-02\n",
            "**: 1.00e-03 < p <= 1.00e-02\n",
            "***: 1.00e-04 < p <= 1.00e-03\n",
            "****: p <= 1.00e-04\n",
            "\n",
            "1D CNN_NC v.s. 1D CNN_PD: t-test independent samples with Bonferroni correction, P_val=4.918e-04 stat=4.871e+00\n",
            "ML_NC v.s. ML_PD: t-test independent samples with Bonferroni correction, P_val=5.793e-01 stat=1.524e+00\n",
            "2D CNN_NC v.s. 2D CNN_PD: t-test independent samples with Bonferroni correction, P_val=2.404e-02 stat=-3.113e+00\n",
            "3D CNN_NC v.s. 3D CNN_PD: t-test independent samples with Bonferroni correction, P_val=1.000e+00 stat=-4.937e-01\n"
          ],
          "name": "stdout"
        },
        {
          "output_type": "stream",
          "text": [
            "The PostScript backend does not support transparency; partially transparent artists will be rendered opaque.\n",
            "The PostScript backend does not support transparency; partially transparent artists will be rendered opaque.\n"
          ],
          "name": "stderr"
        },
        {
          "output_type": "display_data",
          "data": {
            "image/png": "[encoded data removed]",
            "text/plain": [
              "<Figure size 432x288 with 1 Axes>"
            ]
          },
          "metadata": {
            "tags": []
          }
        }
      ]
    },
    {
      "cell_type": "markdown",
      "metadata": {
        "id": "DP1eLw6Sx661"
      },
      "source": [
        "## Multiclass"
      ]
    },
    {
      "cell_type": "code",
      "metadata": {
        "colab": {
          "base_uri": "https://localhost:8080/"
        },
        "id": "4-bfJk_3x59R",
        "outputId": "4f3860e9-48f9-4637-ecb9-e7ddf53e51a7"
      },
      "source": [
        "def get_metric(dataPath, metric):\n",
        "  matContent = sio.loadmat(dataPath)\n",
        "  metric = matContent[metric]\n",
        "  return metric\n",
        "\n",
        "def sad_acc(metric):\n",
        "  pos_list = [i[0][0] for i in metric]\n",
        "  pos_list_m = round(np.mean(pos_list),2)\n",
        "  pos_list_s = round(np.std(pos_list),2)\n",
        "  return [pos_list_m, pos_list_s] \n",
        "\n",
        "def happy_acc(metric):\n",
        "  pos_list = [i[1][1] for i in metric]\n",
        "  pos_list_m = round(np.mean(pos_list),2)\n",
        "  pos_list_s = round(np.std(pos_list),2)\n",
        "  return [pos_list_m, pos_list_s]\n",
        "\n",
        "def fear_acc(metric):\n",
        "  pos_list = [i[2][2] for i in metric]\n",
        "  pos_list_m = round(np.mean(pos_list),2)\n",
        "  pos_list_s = round(np.std(pos_list),2)\n",
        "  return [pos_list_m, pos_list_s]\n",
        "\n",
        "def disgust_acc(metric):\n",
        "  pos_list = [i[3][3] for i in metric]\n",
        "  pos_list_m = round(np.mean(pos_list),2)\n",
        "  pos_list_s = round(np.std(pos_list),2)\n",
        "  return [pos_list_m, pos_list_s] \n",
        "\n",
        "def surprise_acc(metric):\n",
        "  pos_list = [i[4][4] for i in metric]\n",
        "  pos_list_m = round(np.mean(pos_list),2)\n",
        "  pos_list_s = round(np.std(pos_list),2)\n",
        "  return [pos_list_m, pos_list_s]  \n",
        "\n",
        "def anger_acc(metric):\n",
        "  pos_list = [i[5][5] for i in metric]\n",
        "  pos_list_m = round(np.mean(pos_list),2)\n",
        "  pos_list_s = round(np.std(pos_list),2)\n",
        "  return [pos_list_m, pos_list_s]  \n",
        "\n",
        "\n",
        "data = 'PD'\n",
        "print(\"-----\", data, \"----\")\n",
        "print(\"-----3D----\")\n",
        "multi_pd_3d = get_metric('/content/drive/MyDrive/EEG_Analysis_PD_NC/Results/CNN_3D_our/CNN_3D_results_MultiClass_'+str(data)+'.mat', 'conf_mat_list')\n",
        "sad_3pd = sad_acc(multi_pd_3d)\n",
        "happy_3pd = happy_acc(multi_pd_3d)\n",
        "fear_3pd = fear_acc(multi_pd_3d)\n",
        "disgust_3pd = disgust_acc(multi_pd_3d)\n",
        "surprise_3pd = surprise_acc(multi_pd_3d)\n",
        "anger_3pd = anger_acc(multi_pd_3d)\n",
        "print('Sad:',sad_3pd[0],'+-',sad_3pd[1])\n",
        "print('Happy:',happy_3pd[0],'+-',happy_3pd[1])\n",
        "print('Fear:',fear_3pd[0],'+-',fear_3pd[1])\n",
        "print('Disgust:',disgust_3pd[0],'+-',disgust_3pd[1])\n",
        "print('Surprise:',surprise_3pd[0],'+-',surprise_3pd[1])\n",
        "print('Anger:',anger_3pd[0],'+-',anger_3pd[1])\n",
        "\n",
        "print(\"-----2D----\")\n",
        "multi_pd_2d = get_metric('/content/drive/MyDrive/EEG_Analysis_PD_NC/Results/CNN_2D_our/CNN_2D_results_MultiClass_'+str(data)+'.mat', 'conf_mat_list')\n",
        "sad_2pd = sad_acc(multi_pd_2d)\n",
        "happy_2pd = happy_acc(multi_pd_2d)\n",
        "fear_2pd = fear_acc(multi_pd_2d)\n",
        "disgust_2pd = disgust_acc(multi_pd_2d)\n",
        "surprise_2pd = surprise_acc(multi_pd_2d)\n",
        "anger_2pd = anger_acc(multi_pd_2d)\n",
        "print('Sad:',sad_2pd[0],'+-',sad_2pd[1])\n",
        "print('Happy:',happy_2pd[0],'+-',happy_2pd[1])\n",
        "print('Fear:',fear_2pd[0],'+-',fear_2pd[1])\n",
        "print('Disgust:',disgust_2pd[0],'+-',disgust_2pd[1])\n",
        "print('Surprise:',surprise_2pd[0],'+-',surprise_2pd[1])\n",
        "print('Anger:',anger_2pd[0],'+-',anger_2pd[1])\n",
        "\n",
        "print(\"-----1D----\")\n",
        "multi_pd_1d = get_metric('/content/drive/MyDrive/EEG_Analysis_PD_NC/Results/1D_CNN_Results/IIR/CNN_1D_results_MultiClass_IIR_'+str(data)+'.mat', 'conf_mat_list')\n",
        "sad_1pd = sad_acc(multi_pd_1d)\n",
        "happy_1pd = happy_acc(multi_pd_1d)\n",
        "fear_1pd = fear_acc(multi_pd_1d)\n",
        "disgust_1pd = disgust_acc(multi_pd_1d)\n",
        "surprise_1pd = surprise_acc(multi_pd_1d)\n",
        "anger_1pd = anger_acc(multi_pd_1d)\n",
        "print('Sad:',sad_1pd[0],'+-',sad_1pd[1])\n",
        "print('Happy:',happy_1pd[0],'+-',happy_1pd[1])\n",
        "print('Fear:',fear_1pd[0],'+-',fear_1pd[1])\n",
        "print('Disgust:',disgust_1pd[0],'+-',disgust_1pd[1])\n",
        "print('Surprise:',surprise_1pd[0],'+-',surprise_1pd[1])\n",
        "print('Anger:',anger_1pd[0],'+-',anger_1pd[1])\n",
        "\n",
        "print(\"-----ML----\")\n",
        "multi_pd_ml = get_metric('/content/drive/MyDrive/EEG_Analysis_PD_NC/Results/MLResults/CSP/ML_MultiClass_CSP_'+str(data)+'.mat', 'conf_mat_list')\n",
        "sad_pd_ml = sad_acc(multi_pd_ml)\n",
        "happy_pd_ml = happy_acc(multi_pd_ml)\n",
        "fear_pd_ml = fear_acc(multi_pd_ml)\n",
        "disgust_pd_ml = disgust_acc(multi_pd_ml)\n",
        "surprise_pd_ml = surprise_acc(multi_pd_ml)\n",
        "anger_pd_ml = anger_acc(multi_pd_ml)\n",
        "print('Sad:',sad_pd_ml[0],'+-',sad_pd_ml[1])\n",
        "print('Happy:',happy_pd_ml[0],'+-',happy_pd_ml[1])\n",
        "print('Fear:',fear_pd_ml[0],'+-',fear_pd_ml[1])\n",
        "print('Disgust:',disgust_pd_ml[0],'+-',disgust_pd_ml[1])\n",
        "print('Surprise:',surprise_pd_ml[0],'+-',surprise_pd_ml[1])\n",
        "print('Anger:',anger_pd_ml[0],'+-',anger_pd_ml[1])\n",
        "\n",
        "data = 'NC'\n",
        "print(\"-----\", data, \"----\")\n",
        "print(\"-----3D----\")\n",
        "multi_nc_3d = get_metric('/content/drive/MyDrive/EEG_Analysis_PD_NC/Results/CNN_3D_our/CNN_3D_results_MultiClass_'+str(data)+'.mat', 'conf_mat_list')\n",
        "sad_3nc = sad_acc(multi_nc_3d)\n",
        "happy_3nc = happy_acc(multi_nc_3d)\n",
        "fear_3nc = fear_acc(multi_nc_3d)\n",
        "disgust_3nc = disgust_acc(multi_nc_3d)\n",
        "surprise_3nc = surprise_acc(multi_nc_3d)\n",
        "anger_3nc = anger_acc(multi_nc_3d)\n",
        "print('Sad:',sad_3nc[0],'+-',sad_3nc[1])\n",
        "print('Happy:',happy_3nc[0],'+-',happy_3nc[1])\n",
        "print('Fear:',fear_3nc[0],'+-',fear_3nc[1])\n",
        "print('Disgust:',disgust_3nc[0],'+-',disgust_3nc[1])\n",
        "print('Surprise:',surprise_3nc[0],'+-',surprise_3nc[1])\n",
        "print('Anger:',anger_3nc[0],'+-',anger_3nc[1])\n",
        "\n",
        "print(\"-----2D----\")\n",
        "multi_nc_2d = get_metric('/content/drive/MyDrive/EEG_Analysis_PD_NC/Results/CNN_2D_our/CNN_2D_results_MultiClass_'+str(data)+'.mat', 'conf_mat_list')\n",
        "sad_2nc = sad_acc(multi_nc_2d)\n",
        "happy_2nc = happy_acc(multi_nc_2d)\n",
        "fear_2nc = fear_acc(multi_nc_2d)\n",
        "disgust_2nc = disgust_acc(multi_nc_2d)\n",
        "surprise_2nc = surprise_acc(multi_nc_2d)\n",
        "anger_2nc = anger_acc(multi_nc_2d)\n",
        "print('Sad:',sad_2nc[0],'+-',sad_2nc[1])\n",
        "print('Happy:',happy_2nc[0],'+-',happy_2nc[1])\n",
        "print('Fear:',fear_2nc[0],'+-',fear_2nc[1])\n",
        "print('Disgust:',disgust_2nc[0],'+-',disgust_2nc[1])\n",
        "print('Surprise:',surprise_2nc[0],'+-',surprise_2nc[1])\n",
        "print('Anger:',anger_2nc[0],'+-',anger_2nc[1])\n",
        "\n",
        "print(\"-----1D----\")\n",
        "multi_nc_1d = get_metric('/content/drive/MyDrive/EEG_Analysis_PD_NC/Results/1D_CNN_Results/IIR/CNN_1D_results_MultiClass_IIR_'+str(data)+'.mat', 'conf_mat_list')\n",
        "sad_1nc = sad_acc(multi_nc_1d)\n",
        "happy_1nc = happy_acc(multi_nc_1d)\n",
        "fear_1nc = fear_acc(multi_nc_1d)\n",
        "disgust_1nc = disgust_acc(multi_nc_1d)\n",
        "surprise_1nc = surprise_acc(multi_nc_1d)\n",
        "anger_1nc = anger_acc(multi_nc_1d)\n",
        "print('Sad:',sad_1nc[0],'+-',sad_1nc[1])\n",
        "print('Happy:',happy_1nc[0],'+-',happy_1nc[1])\n",
        "print('Fear:',fear_1nc[0],'+-',fear_1nc[1])\n",
        "print('Disgust:',disgust_1nc[0],'+-',disgust_1nc[1])\n",
        "print('Surprise:',surprise_1nc[0],'+-',surprise_1nc[1])\n",
        "print('Anger:',anger_1nc[0],'+-',anger_1nc[1])\n",
        "\n",
        "print(\"-----ML----\")\n",
        "multi_nc_ml = get_metric('/content/drive/MyDrive/EEG_Analysis_PD_NC/Results/MLResults/CSP/ML_MultiClass_CSP_'+str(data)+'.mat', 'conf_mat_list')\n",
        "sad_nc_ml = sad_acc(multi_nc_ml)\n",
        "happy_nc_ml = happy_acc(multi_nc_ml)\n",
        "fear_nc_ml = fear_acc(multi_nc_ml)\n",
        "disgust_nc_ml = disgust_acc(multi_nc_ml)\n",
        "surprise_nc_ml = surprise_acc(multi_nc_ml)\n",
        "anger_nc_ml = anger_acc(multi_nc_ml)\n",
        "print('Sad:',sad_nc_ml[0],'+-',sad_nc_ml[1])\n",
        "print('Happy:',happy_nc_ml[0],'+-',happy_nc_ml[1])\n",
        "print('Fear:',fear_nc_ml[0],'+-',fear_nc_ml[1])\n",
        "print('Disgust:',disgust_nc_ml[0],'+-',disgust_nc_ml[1])\n",
        "print('Surprise:',surprise_nc_ml[0],'+-',surprise_nc_ml[1])\n",
        "print('Anger:',anger_nc_ml[0],'+-',anger_nc_ml[1])"
      ],
      "execution_count": null,
      "outputs": [
        {
          "output_type": "stream",
          "text": [
            "----- PD ----\n",
            "-----3D----\n",
            "Sad: 0.94 +- 0.08\n",
            "Happy: 0.87 +- 0.11\n",
            "Fear: 0.85 +- 0.12\n",
            "Disgust: 0.87 +- 0.12\n",
            "Surprise: 0.87 +- 0.09\n",
            "Anger: 0.88 +- 0.11\n",
            "-----2D----\n",
            "Sad: 0.93 +- 0.05\n",
            "Happy: 0.86 +- 0.11\n",
            "Fear: 0.81 +- 0.13\n",
            "Disgust: 0.82 +- 0.14\n",
            "Surprise: 0.8 +- 0.13\n",
            "Anger: 0.83 +- 0.11\n",
            "-----1D----\n",
            "Sad: 0.87 +- 0.15\n",
            "Happy: 0.84 +- 0.18\n",
            "Fear: 0.8 +- 0.21\n",
            "Disgust: 0.78 +- 0.22\n",
            "Surprise: 0.79 +- 0.25\n",
            "Anger: 0.81 +- 0.24\n",
            "-----ML----\n",
            "Sad: 0.81 +- 0.02\n",
            "Happy: 0.77 +- 0.04\n",
            "Fear: 0.75 +- 0.03\n",
            "Disgust: 0.76 +- 0.03\n",
            "Surprise: 0.71 +- 0.04\n",
            "Anger: 0.75 +- 0.03\n",
            "----- NC ----\n",
            "-----3D----\n",
            "Sad: 0.93 +- 0.07\n",
            "Happy: 0.92 +- 0.07\n",
            "Fear: 0.89 +- 0.09\n",
            "Disgust: 0.88 +- 0.09\n",
            "Surprise: 0.89 +- 0.08\n",
            "Anger: 0.91 +- 0.06\n",
            "-----2D----\n",
            "Sad: 0.9 +- 0.08\n",
            "Happy: 0.91 +- 0.07\n",
            "Fear: 0.82 +- 0.08\n",
            "Disgust: 0.85 +- 0.08\n",
            "Surprise: 0.83 +- 0.12\n",
            "Anger: 0.88 +- 0.07\n",
            "-----1D----\n",
            "Sad: 0.75 +- 0.25\n",
            "Happy: 0.76 +- 0.27\n",
            "Fear: 0.82 +- 0.24\n",
            "Disgust: 0.8 +- 0.17\n",
            "Surprise: 0.76 +- 0.22\n",
            "Anger: 0.79 +- 0.22\n",
            "-----ML----\n",
            "Sad: 0.83 +- 0.03\n",
            "Happy: 0.78 +- 0.03\n",
            "Fear: 0.65 +- 0.03\n",
            "Disgust: 0.7 +- 0.03\n",
            "Surprise: 0.72 +- 0.06\n",
            "Anger: 0.74 +- 0.04\n"
          ],
          "name": "stdout"
        }
      ]
    },
    {
      "cell_type": "code",
      "metadata": {
        "colab": {
          "base_uri": "https://localhost:8080/"
        },
        "id": "nMNEsJXLhZHJ",
        "outputId": "0b70b345-9740-4935-d671-ce28d521c25a"
      },
      "source": [
        "data1 = {'Sad': [i[0][0] for i in multi_nc_ml], 'Happy': [i[1][1] for i in multi_nc_ml],\n",
        "         'Fear': [i[2][2] for i in multi_nc_ml], 'Disgust':[i[3][3] for i in multi_nc_ml],\n",
        "         'Surprise': [i[4][4] for i in multi_nc_ml], 'Anger': [i[5][5] for i in multi_nc_ml],\n",
        "          'Data': len([i[1][1] for i in multi_nc_ml])*['NC'], 'Model': len([i[1][1] for i in multi_nc_ml])*['ML']}\n",
        "df1 = pd.DataFrame(data1)\n",
        "data2 = {'Sad': [i[0][0] for i in multi_pd_ml], 'Happy': [i[1][1] for i in multi_pd_ml],\n",
        "         'Fear': [i[2][2] for i in multi_pd_ml], 'Disgust':[i[3][3] for i in multi_pd_ml],\n",
        "         'Surprise': [i[4][4] for i in multi_pd_ml], 'Anger': [i[5][5] for i in multi_pd_ml],\n",
        "          'Data': len([i[1][1] for i in multi_pd_ml])*['PD'], 'Model': len([i[1][1] for i in multi_pd_ml])*['ML']}\n",
        "df2 = pd.DataFrame(data2)\n",
        "data3 = {'Sad': [i[0][0] for i in multi_pd_1d], 'Happy': [i[1][1] for i in multi_pd_1d],\n",
        "         'Fear': [i[2][2] for i in multi_pd_1d], 'Disgust':[i[3][3] for i in multi_pd_1d],\n",
        "         'Surprise': [i[4][4] for i in multi_pd_1d], 'Anger': [i[5][5] for i in multi_pd_1d],\n",
        "          'Data': len([i[1][1] for i in multi_pd_1d])*['PD'], 'Model': len([i[1][1] for i in multi_pd_1d])*['1D CNN']}\n",
        "df3 = pd.DataFrame(data3)\n",
        "data4 = {'Sad': [i[0][0] for i in multi_nc_1d], 'Happy': [i[1][1] for i in multi_nc_1d],\n",
        "         'Fear': [i[2][2] for i in multi_nc_1d], 'Disgust':[i[3][3] for i in multi_nc_1d],\n",
        "         'Surprise': [i[4][4] for i in multi_nc_1d], 'Anger': [i[5][5] for i in multi_nc_1d],\n",
        "          'Data': len([i[1][1] for i in multi_nc_1d])*['NC'], 'Model': len([i[1][1] for i in multi_nc_1d])*['1D CNN']}\n",
        "df4 = pd.DataFrame(data4)\n",
        "data5 = {'Sad': [i[0][0] for i in multi_pd_2d], 'Happy': [i[1][1] for i in multi_pd_2d],\n",
        "         'Fear': [i[2][2] for i in multi_pd_2d], 'Disgust':[i[3][3] for i in multi_pd_2d],\n",
        "         'Surprise': [i[4][4] for i in multi_pd_2d], 'Anger': [i[5][5] for i in multi_pd_2d],\n",
        "          'Data': len([i[1][1] for i in multi_pd_2d])*['PD'], 'Model': len([i[1][1] for i in multi_pd_2d])*['2D CNN']}\n",
        "df5 = pd.DataFrame(data5)\n",
        "data6 = {'Sad': [i[0][0] for i in multi_nc_2d], 'Happy': [i[1][1] for i in multi_nc_2d],\n",
        "         'Fear': [i[2][2] for i in multi_nc_2d], 'Disgust':[i[3][3] for i in multi_nc_2d],\n",
        "         'Surprise': [i[4][4] for i in multi_nc_2d], 'Anger': [i[5][5] for i in multi_nc_2d],\n",
        "          'Data': len([i[1][1] for i in multi_nc_2d])*['NC'], 'Model': len([i[1][1] for i in multi_nc_2d])*['2D CNN']}\n",
        "df6 = pd.DataFrame(data6)\n",
        "data7 = {'Sad': [i[0][0] for i in multi_pd_3d], 'Happy': [i[1][1] for i in multi_pd_3d],\n",
        "         'Fear': [i[2][2] for i in multi_pd_3d], 'Disgust':[i[3][3] for i in multi_pd_3d],\n",
        "         'Surprise': [i[4][4] for i in multi_pd_3d], 'Anger': [i[5][5] for i in multi_pd_3d],\n",
        "          'Data': len([i[1][1] for i in multi_pd_3d])*['PD'], 'Model': len([i[1][1] for i in multi_pd_3d])*['3D CNN']}\n",
        "df7 = pd.DataFrame(data7)\n",
        "data8 = {'Sad': [i[0][0] for i in multi_nc_3d], 'Happy': [i[1][1] for i in multi_nc_3d],\n",
        "         'Fear': [i[2][2] for i in multi_nc_3d], 'Disgust':[i[3][3] for i in multi_nc_3d],\n",
        "         'Surprise': [i[4][4] for i in multi_nc_3d], 'Anger': [i[5][5] for i in multi_nc_3d],\n",
        "          'Data': len([i[1][1] for i in multi_nc_3d])*['NC'], 'Model': len([i[1][1] for i in multi_nc_3d])*['3D CNN']}\n",
        "df8 = pd.DataFrame(data8)\n",
        "\n",
        "multi_df = pd.concat([df1, df2, df3, df4, df5, df6, df7, df8], axis=0).reset_index()\n",
        "print(multi_df)"
      ],
      "execution_count": null,
      "outputs": [
        {
          "output_type": "stream",
          "text": [
            "    index       Sad     Happy      Fear  ...  Surprise     Anger  Data   Model\n",
            "0       0  0.867769  0.744000  0.680672  ...  0.800000  0.739837    NC      ML\n",
            "1       1  0.816667  0.769841  0.652542  ...  0.664000  0.707317    NC      ML\n",
            "2       2  0.783333  0.769841  0.677966  ...  0.629032  0.774194    NC      ML\n",
            "3       3  0.825000  0.769841  0.593220  ...  0.701613  0.830645    NC      ML\n",
            "4       4  0.833333  0.785714  0.635593  ...  0.758065  0.774194    NC      ML\n",
            "..    ...       ...       ...       ...  ...       ...       ...   ...     ...\n",
            "75      5  0.966942  0.930233  0.883333  ...  0.928000  0.912698    NC  3D CNN\n",
            "76      6  0.958678  0.953488  0.900000  ...  0.936000  0.920635    NC  3D CNN\n",
            "77      7  0.933884  0.961240  0.941667  ...  0.952000  0.952381    NC  3D CNN\n",
            "78      8  0.983471  0.968992  0.950000  ...  0.904000  0.968254    NC  3D CNN\n",
            "79      9  0.958678  0.976744  0.941667  ...  0.952000  0.984127    NC  3D CNN\n",
            "\n",
            "[80 rows x 9 columns]\n"
          ],
          "name": "stdout"
        }
      ]
    },
    {
      "cell_type": "code",
      "metadata": {
        "colab": {
          "base_uri": "https://localhost:8080/",
          "height": 1000
        },
        "id": "Hoanoh4Yr28Q",
        "outputId": "d66e3ed0-1fdb-49f9-b5c9-0ecb8143d82c"
      },
      "source": [
        "multi_df_new = pd.melt(multi_df, id_vars=['Model', 'Data'], value_vars=['Sad', 'Happy', 'Fear', 'Disgust',\n",
        "                                                                'Surprise', 'Anger'],\n",
        "        var_name='Emotions', value_name='Accuracy')\n",
        "\n",
        "x = \"Emotions\"\n",
        "y = \"Accuracy\"\n",
        "hue = \"Data\"\n",
        "\n",
        "\n",
        "fig = plt.figure(figsize=(15, 10))\n",
        "fig.subplots_adjust(hspace=0.08, wspace=0.1)\n",
        "ax = fig.add_subplot(2, 2, 1)\n",
        "plt.setp(ax, ylim=(0.5, 1.0))\n",
        "g1 = sns.barplot(data=multi_df_new[multi_df_new['Model']=='ML'], x=x, y=y, hue=hue,\n",
        "                 ax=ax, palette = \"Blues\", capsize=0.05, ci=68, hue_order = [\"NC\", \"PD\"])\n",
        "#g1.set_ylim(bottom=0.55, top=1.0)\n",
        "#g1.legend(loc='upper left', bbox_to_anchor=(0,1))\n",
        "#g.set_xlabel('',fontsize = 13, weight='bold')\n",
        "#g1.set_ylabel('Accuracy',fontsize = 13, weight='bold')\n",
        "#g.set_xticklabels([\"ML\", \"1D CNN\", \"2D CNN\", \"3D CNN\"], rotation=0, fontsize = 10, weight='bold')\n",
        "#_, ylabels = plt.yticks()\n",
        "#ax.set_yticklabels(ylabels, fontsize = 10, weight = 'bold');\n",
        "#ax.set_yticklabels(ax.get_yticklabels(), size= 10, weight='bold')\n",
        "#ax.set_yticklabels([\"0.80\", \"0.85\", \"0.90\", \"0.95\", \"1.00\"], size= 10, weight='bold')\n",
        "add_stat_annotation(g1, data=multi_df_new[multi_df_new['Model']=='ML'], x=x, y=y, hue=hue,\n",
        "                    box_pairs=[((\"Sad\", \"PD\"), (\"Sad\", \"NC\")),\n",
        "                                 ((\"Happy\", \"PD\"), (\"Happy\", \"NC\")),\n",
        "                                 ((\"Fear\", \"PD\"), (\"Fear\", \"NC\")),\n",
        "                               ((\"Disgust\", \"PD\"), (\"Disgust\", \"NC\")),\n",
        "                               ((\"Surprise\", \"PD\"), (\"Surprise\", \"NC\")),\n",
        "                               ((\"Anger\", \"PD\"), (\"Anger\", \"NC\"))\n",
        "                                ],\n",
        "                    test='t-test_ind', text_format='star', loc='inside', verbose=2)\n",
        "ax.set_ylabel('')    \n",
        "ax.set_xlabel('')\n",
        "g1.legend_.remove()\n",
        "\n",
        "ax = fig.add_subplot(2, 2, 2)\n",
        "plt.setp(ax, ylim=(0.5, 1.0))\n",
        "g2 = sns.barplot(data=multi_df_new[multi_df_new['Model']=='1D CNN'], x=x, y=y,\n",
        "                 hue=hue, ax=ax, palette = \"Blues\", capsize=0.05, ci=68, hue_order = [\"NC\", \"PD\"])\n",
        "#g2.set_ylim(bottom=0.55, top=1.0)\n",
        "#g2.legend(loc='upper left', bbox_to_anchor=(0,1))\n",
        "#g.set_xlabel('',fontsize = 13, weight='bold')\n",
        "#g1.set_ylabel('Accuracy',fontsize = 13, weight='bold')\n",
        "#g.set_xticklabels([\"ML\", \"1D CNN\", \"2D CNN\", \"3D CNN\"], rotation=0, fontsize = 10, weight='bold')\n",
        "#_, ylabels = plt.yticks()\n",
        "#ax.set_yticklabels(ylabels, fontsize = 10, weight = 'bold');\n",
        "#ax.set_yticklabels(ax.get_yticklabels(), size= 10, weight='bold')\n",
        "#ax.set_yticklabels([\"0.80\", \"0.85\", \"0.90\", \"0.95\", \"1.00\"], size= 10, weight='bold')\n",
        "add_stat_annotation(g2, data=multi_df_new[multi_df_new['Model']=='1D CNN'], x=x, y=y, hue=hue,\n",
        "                    box_pairs=[((\"Sad\", \"PD\"), (\"Sad\", \"NC\")),\n",
        "                                 ((\"Happy\", \"PD\"), (\"Happy\", \"NC\")),\n",
        "                                 ((\"Fear\", \"PD\"), (\"Fear\", \"NC\")),\n",
        "                               ((\"Disgust\", \"PD\"), (\"Disgust\", \"NC\")),\n",
        "                               ((\"Surprise\", \"PD\"), (\"Surprise\", \"NC\")),\n",
        "                               ((\"Anger\", \"PD\"), (\"Anger\", \"NC\"))\n",
        "                                ],\n",
        "                    test='t-test_ind', text_format='star', loc='inside', verbose=2)\n",
        "\n",
        "ax.set_ylabel('')    \n",
        "ax.set_xlabel('')\n",
        "g2.legend_.remove()\n",
        "\n",
        "ax = fig.add_subplot(2, 2, 3)\n",
        "plt.setp(ax, ylim=(0.5, 1.0))\n",
        "g3 = sns.barplot(data=multi_df_new[multi_df_new['Model']=='2D CNN'], x=x, y=y,\n",
        "                 hue=hue, ax=ax, palette = \"Blues\", capsize=0.05, ci=68, hue_order = [\"NC\", \"PD\"])\n",
        "#g3.set_ylim(bottom=0.55, top=1.0)\n",
        "#g2.legend(loc='upper left', bbox_to_anchor=(0,1))\n",
        "#g.set_xlabel('',fontsize = 13, weight='bold')\n",
        "#g1.set_ylabel('Accuracy',fontsize = 13, weight='bold')\n",
        "#_, ylabels = plt.yticks()\n",
        "#ax.set_yticklabels(ylabels, fontsize = 10, weight = 'bold');\n",
        "#ax.set_yticklabels(ax.get_yticklabels(), size= 10, weight='bold')\n",
        "#ax.set_yticklabels([\"0.80\", \"0.85\", \"0.90\", \"0.95\", \"1.00\"], size= 10, weight='bold')\n",
        "add_stat_annotation(g3, data=multi_df_new[multi_df_new['Model']=='3D CNN'], x=x, y=y, hue=hue,\n",
        "                    box_pairs=[((\"Sad\", \"PD\"), (\"Sad\", \"NC\")),\n",
        "                                 ((\"Happy\", \"PD\"), (\"Happy\", \"NC\")),\n",
        "                                 ((\"Fear\", \"PD\"), (\"Fear\", \"NC\")),\n",
        "                               ((\"Disgust\", \"PD\"), (\"Disgust\", \"NC\")),\n",
        "                               ((\"Surprise\", \"PD\"), (\"Surprise\", \"NC\")),\n",
        "                               ((\"Anger\", \"PD\"), (\"Anger\", \"NC\"))\n",
        "                                ],\n",
        "                    test='t-test_ind', text_format='star', loc='inside', verbose=2)\n",
        "\n",
        "ax.set_ylabel('')    \n",
        "ax.set_xlabel('')\n",
        "g3.legend_.remove()\n",
        "\n",
        "#ax.set_xticklabels(ax.get_xticklabels(), rotation=90)\n",
        "ax = fig.add_subplot(2, 2, 4)\n",
        "plt.setp(ax, ylim=(0.5, 1.0))\n",
        "g4 = sns.barplot(data=multi_df_new[multi_df_new['Model']=='3D CNN'], x=x, y=y,\n",
        "                 hue=hue, ax=ax, palette = \"Blues\", capsize=0.05, ci=68, hue_order = [\"NC\", \"PD\"])\n",
        "#g4.set_ylim(bottom=0.55, top=1.0)\n",
        "g4.legend(loc='lower right', bbox_to_anchor=(1,0))\n",
        "#g.set_xlabel('',fontsize = 13, weight='bold')\n",
        "#g1.set_ylabel('Accuracy',fontsize = 13, weight='bold')\n",
        "#g.set_xticklabels([\"ML\", \"1D CNN\", \"2D CNN\", \"3D CNN\"], rotation=0, fontsize = 10, weight='bold')\n",
        "#_, ylabels = plt.yticks()\n",
        "#ax.set_yticklabels(ylabels, fontsize = 10, weight = 'bold');\n",
        "#g4.set_yticklabels(g4.get_yticklabels(), size= 10, weight='bold')\n",
        "#ax.set_yticklabels([\"0.80\", \"0.85\", \"0.90\", \"0.95\", \"1.00\"], size= 10, weight='bold')\n",
        "add_stat_annotation(g4, data=multi_df_new[multi_df_new['Model']=='3D CNN'], x=x, y=y, hue=hue,\n",
        "                    box_pairs=[((\"Sad\", \"PD\"), (\"Sad\", \"NC\")),\n",
        "                                 ((\"Happy\", \"PD\"), (\"Happy\", \"NC\")),\n",
        "                                 ((\"Fear\", \"PD\"), (\"Fear\", \"NC\")),\n",
        "                               ((\"Disgust\", \"PD\"), (\"Disgust\", \"NC\")),\n",
        "                               ((\"Surprise\", \"PD\"), (\"Surprise\", \"NC\")),\n",
        "                               ((\"Anger\", \"PD\"), (\"Anger\", \"NC\"))\n",
        "                                ],\n",
        "                    test='t-test_ind', text_format='star', loc='inside', verbose=2)\n",
        "ax.set_ylabel('')    \n",
        "ax.set_xlabel('')\n",
        "\n",
        "props = dict(boxstyle='round', facecolor='none', edgecolor='black', alpha=0.5)\n",
        "\n",
        "# place a text box in upper left in axes coords\n",
        "g1.text(0.7, 0.96, \"ML\", transform=g1.transAxes, fontsize=14,\n",
        "        verticalalignment='top', bbox=props)\n",
        "g2.text(0.7, 0.96, \"1D CNN\", transform=g2.transAxes, fontsize=14,\n",
        "        verticalalignment='top', bbox=props)\n",
        "g3.text(0.7, 0.96, \"2D CNN\", transform=g3.transAxes, fontsize=14,\n",
        "        verticalalignment='top', bbox=props)\n",
        "g4.text(0.7, 0.96, \"3D CNN\", transform=g4.transAxes, fontsize=14,\n",
        "        verticalalignment='top', bbox=props)\n",
        "\n",
        "g1.set_xticklabels([\"Sad\", \"Happy\", \"Fear\", \"Disgust\", \"Surprise\", \"Anger\"], rotation=0, fontsize = 10, weight='bold')\n",
        "g2.set_xticklabels([\"Sad\", \"Happy\", \"Fear\", \"Disgust\", \"Surprise\", \"Anger\"], rotation=0, fontsize = 10, weight='bold')\n",
        "g3.set_xticklabels([\"Sad\", \"Happy\", \"Fear\", \"Disgust\", \"Surprise\", \"Anger\"], rotation=0, fontsize = 10, weight='bold')\n",
        "g4.set_xticklabels([\"Sad\", \"Happy\", \"Fear\", \"Disgust\", \"Surprise\", \"Anger\"], rotation=0, fontsize = 10, weight='bold')\n",
        "#plt.setp(ax, ylim=(0.5, 1.0))\n",
        "\n",
        "fig.text(0.5, 0.08, 'Emotions', ha='center', fontsize = 13, weight='bold')\n",
        "fig.text(0.09, 0.5, 'Accuracy', va='center', rotation='vertical', fontsize = 13, weight='bold')\n",
        "\n",
        "plt.show()\n",
        "\n",
        "plt.savefig('multi_class.eps', format='eps', bbox_inches='tight')\n",
        "#FILE.download('sensitivity_valence.eps')"
      ],
      "execution_count": null,
      "outputs": [
        {
          "output_type": "stream",
          "text": [
            "p-value annotation legend:\n",
            "ns: 5.00e-02 < p <= 1.00e+00\n",
            "*: 1.00e-02 < p <= 5.00e-02\n",
            "**: 1.00e-03 < p <= 1.00e-02\n",
            "***: 1.00e-04 < p <= 1.00e-03\n",
            "****: p <= 1.00e-04\n",
            "\n",
            "Happy_NC v.s. Happy_PD: t-test independent samples with Bonferroni correction, P_val=1.000e+00 stat=6.064e-01\n",
            "Sad_NC v.s. Sad_PD: t-test independent samples with Bonferroni correction, P_val=2.467e-01 stat=2.200e+00\n",
            "Fear_NC v.s. Fear_PD: t-test independent samples with Bonferroni correction, P_val=9.158e-05 stat=-5.853e+00\n",
            "Disgust_NC v.s. Disgust_PD: t-test independent samples with Bonferroni correction, P_val=3.458e-03 stat=-4.169e+00\n",
            "Surprise_NC v.s. Surprise_PD: t-test independent samples with Bonferroni correction, P_val=1.000e+00 stat=7.104e-01\n",
            "Anger_NC v.s. Anger_PD: t-test independent samples with Bonferroni correction, P_val=1.000e+00 stat=-6.714e-01\n",
            "p-value annotation legend:\n",
            "ns: 5.00e-02 < p <= 1.00e+00\n",
            "*: 1.00e-02 < p <= 5.00e-02\n",
            "**: 1.00e-03 < p <= 1.00e-02\n",
            "***: 1.00e-04 < p <= 1.00e-03\n",
            "****: p <= 1.00e-04\n",
            "\n",
            "Happy_PD v.s. Happy_NC: t-test independent samples with Bonferroni correction, P_val=1.000e+00 stat=7.334e-01\n",
            "Sad_PD v.s. Sad_NC: t-test independent samples with Bonferroni correction, P_val=1.000e+00 stat=1.153e+00\n",
            "Fear_PD v.s. Fear_NC: t-test independent samples with Bonferroni correction, P_val=1.000e+00 stat=-2.247e-01\n",
            "Disgust_PD v.s. Disgust_NC: t-test independent samples with Bonferroni correction, P_val=1.000e+00 stat=-1.518e-01\n",
            "Surprise_PD v.s. Surprise_NC: t-test independent samples with Bonferroni correction, P_val=1.000e+00 stat=2.596e-01\n",
            "Anger_PD v.s. Anger_NC: t-test independent samples with Bonferroni correction, P_val=1.000e+00 stat=1.477e-01\n",
            "p-value annotation legend:\n",
            "ns: 5.00e-02 < p <= 1.00e+00\n",
            "*: 1.00e-02 < p <= 5.00e-02\n",
            "**: 1.00e-03 < p <= 1.00e-02\n",
            "***: 1.00e-04 < p <= 1.00e-03\n",
            "****: p <= 1.00e-04\n",
            "\n",
            "Happy_PD v.s. Happy_NC: t-test independent samples with Bonferroni correction, P_val=1.000e+00 stat=-1.114e+00\n",
            "Sad_PD v.s. Sad_NC: t-test independent samples with Bonferroni correction, P_val=1.000e+00 stat=3.331e-01\n",
            "Fear_PD v.s. Fear_NC: t-test independent samples with Bonferroni correction, P_val=1.000e+00 stat=-8.535e-01\n",
            "Disgust_PD v.s. Disgust_NC: t-test independent samples with Bonferroni correction, P_val=1.000e+00 stat=-2.716e-01\n",
            "Surprise_PD v.s. Surprise_NC: t-test independent samples with Bonferroni correction, P_val=1.000e+00 stat=-4.052e-01\n",
            "Anger_PD v.s. Anger_NC: t-test independent samples with Bonferroni correction, P_val=1.000e+00 stat=-7.237e-01\n",
            "p-value annotation legend:\n",
            "ns: 5.00e-02 < p <= 1.00e+00\n",
            "*: 1.00e-02 < p <= 5.00e-02\n",
            "**: 1.00e-03 < p <= 1.00e-02\n",
            "***: 1.00e-04 < p <= 1.00e-03\n",
            "****: p <= 1.00e-04\n",
            "\n",
            "Happy_PD v.s. Happy_NC: t-test independent samples with Bonferroni correction, P_val=1.000e+00 stat=-1.114e+00\n",
            "Sad_PD v.s. Sad_NC: t-test independent samples with Bonferroni correction, P_val=1.000e+00 stat=3.331e-01\n",
            "Fear_PD v.s. Fear_NC: t-test independent samples with Bonferroni correction, P_val=1.000e+00 stat=-8.535e-01\n",
            "Disgust_PD v.s. Disgust_NC: t-test independent samples with Bonferroni correction, P_val=1.000e+00 stat=-2.716e-01\n",
            "Surprise_PD v.s. Surprise_NC: t-test independent samples with Bonferroni correction, P_val=1.000e+00 stat=-4.052e-01\n",
            "Anger_PD v.s. Anger_NC: t-test independent samples with Bonferroni correction, P_val=1.000e+00 stat=-7.237e-01\n"
          ],
          "name": "stdout"
        },
        {
          "output_type": "display_data",
          "data": {
            "image/png": "[encoded data removed]",
            "text/plain": [
              "<Figure size 1080x720 with 4 Axes>"
            ]
          },
          "metadata": {
            "tags": []
          }
        },
        {
          "output_type": "display_data",
          "data": {
            "text/plain": [
              "<Figure size 432x288 with 0 Axes>"
            ]
          },
          "metadata": {
            "tags": []
          }
        }
      ]
    },
    {
      "cell_type": "code",
      "metadata": {
        "colab": {
          "base_uri": "https://localhost:8080/",
          "height": 614
        },
        "id": "ESvB_c4lsRpC",
        "outputId": "bef9d8b3-fb7e-46c4-ef9b-ca750da172ec"
      },
      "source": [
        "from itertools import combinations\n",
        "\n",
        "multi_df_new = pd.melt(multi_df, id_vars=['Model', 'Data'], value_vars=['Sad', 'Happy', 'Fear', 'Disgust',\n",
        "                                                                'Surprise', 'Anger'],\n",
        "        var_name='Emotions', value_name='Accuracy')\n",
        "\n",
        "x = \"Data\"\n",
        "y = \"Accuracy\"\n",
        "hue = \"Emotions\"\n",
        "order = [\"NC\", \"PD\"]\n",
        "hue_order = ['Sad', 'Happy', 'Fear', 'Disgust','Surprise', 'Anger']\n",
        "box_pairs=[]\n",
        "box_pairs1 = [(('PD', emot[0]), ('PD', emot[1])) for emot in list(combinations(multi_df_new['Emotions'].unique(), 2))]\n",
        "box_pairs2 = [(('NC', emot[0]), ('NC', emot[1])) for emot in list(combinations(multi_df_new['Emotions'].unique(), 2))]\n",
        "\n",
        "\n",
        "fig = plt.figure(figsize=(15, 10))\n",
        "fig.subplots_adjust(hspace=0.08, wspace=0.1)\n",
        "ax = fig.add_subplot(2, 2, 1)\n",
        "plt.setp(ax, ylim=(0.6, 1.2))\n",
        "#palette = \"ch:start=.2,rot=-.3\"\n",
        "#palette = \"ch:s=.2,r=-.2\"\n",
        "palette = \"dark:#73D4FE_r\"\n",
        "g1 = sns.barplot(data=multi_df_new[multi_df_new['Model']=='ML'], x=x, y=y, hue=hue, order=order,\n",
        "                 ax=ax, capsize=0.03,palette = palette, ci=68, hue_order = hue_order)\n",
        "\n",
        "#add_stat_annotation(g1, data=multi_df_new[multi_df_new['Model']=='ML'], x=x, y=y, hue=hue,\n",
        "#                    box_pairs=box_pairs1,line_offset_to_box=0.2, line_offset=0.1, line_height=0.05,\n",
        "#                    test='t-test_ind', text_format='star', loc='inside', verbose=2)\n",
        "#add_stat_annotation(g1, data=multi_df_new[multi_df_new['Model']=='ML'], x=x, y=y, hue=hue,\n",
        "#                    box_pairs=box_pairs2,line_offset_to_box=0.2, line_offset=0.1, line_height=0.05,\n",
        "#                    test='t-test_ind', text_format='star', loc='inside', verbose=2)\n",
        "\n",
        "\n",
        "ax.set_ylabel('')    \n",
        "ax.set_xlabel('')\n",
        "g1.legend_.remove()\n",
        "\n",
        "ax = fig.add_subplot(2, 2, 2)\n",
        "plt.setp(ax, ylim=(0.6, 1.2))\n",
        "g2 = sns.barplot(data=multi_df_new[multi_df_new['Model']=='1D CNN'], x=x, y=y, order=order,\n",
        "                 hue=hue, ax=ax, palette = palette, capsize=0.03, ci=68, hue_order = hue_order)\n",
        "#add_stat_annotation(g2, data=multi_df_new[multi_df_new['Model']=='1D CNN'], x=x, y=y, hue=hue,\n",
        "#                    box_pairs=box_pairs1,line_offset_to_box=0.2, line_offset=0.1, line_height=0.05,\n",
        "#                    test='t-test_ind', text_format='star', loc='inside', verbose=2)\n",
        "#\n",
        "#add_stat_annotation(g2, data=multi_df_new[multi_df_new['Model']=='1D CNN'], x=x, y=y, hue=hue,\n",
        "#                    box_pairs=box_pairs2,line_offset_to_box=0.2, line_offset=0.1, line_height=0.05,\n",
        "#                    test='t-test_ind', text_format='star', loc='inside', verbose=2)\n",
        "\n",
        "ax.set_ylabel('')    \n",
        "ax.set_xlabel('')\n",
        "g2.legend_.remove()\n",
        "\n",
        "ax = fig.add_subplot(2, 2, 3)\n",
        "plt.setp(ax, ylim=(0.6, 1.2))\n",
        "g3 = sns.barplot(data=multi_df_new[multi_df_new['Model']=='2D CNN'], x=x, y=y, order=order,\n",
        "                 hue=hue, ax=ax, palette = palette, capsize=0.03, ci=68, hue_order = hue_order)\n",
        "#add_stat_annotation(g3, data=multi_df_new[multi_df_new['Model']=='2D CNN'], x=x, y=y, hue=hue,\n",
        "#                    box_pairs=box_pairs1,line_offset_to_box=0.2, line_offset=0.1, line_height=0.05,\n",
        "#                    test='t-test_ind', text_format='star', loc='inside', verbose=2)\n",
        "#add_stat_annotation(g3, data=multi_df_new[multi_df_new['Model']=='2D CNN'], x=x, y=y, hue=hue,\n",
        "#                    box_pairs=box_pairs2,line_offset_to_box=0.2, line_offset=0.1, line_height=0.05,\n",
        "#                    test='t-test_ind', text_format='star', loc='inside', verbose=2)\n",
        "\n",
        "ax.set_ylabel('')    \n",
        "ax.set_xlabel('')\n",
        "g3.legend_.remove()\n",
        "\n",
        "#ax.set_xticklabels(ax.get_xticklabels(), rotation=90)\n",
        "ax = fig.add_subplot(2, 2, 4)\n",
        "plt.setp(ax, ylim=(0.6, 1.2))\n",
        "g4 = sns.barplot(data=multi_df_new[multi_df_new['Model']=='3D CNN'], x=x, y=y, order=order,\n",
        "                 hue=hue, ax=ax, palette = palette, capsize=0.03, ci=68, hue_order = hue_order)\n",
        "#g4.set_ylim(bottom=0.55, top=1.0)\n",
        "g4.legend(loc='lower right', bbox_to_anchor=(1,0))\n",
        "#add_stat_annotation(g4, data=multi_df_new[multi_df_new['Model']=='3D CNN'], x=x, y=y, hue=hue,\n",
        "#                    box_pairs=box_pairs1,line_offset_to_box=0.2, line_offset=0.1, line_height=0.05,\n",
        "#                    test='t-test_ind', text_format='star', loc='inside', verbose=2)\n",
        "#add_stat_annotation(g4, data=multi_df_new[multi_df_new['Model']=='3D CNN'], x=x, y=y, hue=hue,\n",
        "#                    box_pairs=box_pairs2,line_offset_to_box=0.2, line_offset=0.1, line_height=0.05,\n",
        "#                    test='t-test_ind', text_format='star', loc='inside', verbose=2)\n",
        "ax.set_ylabel('')    \n",
        "ax.set_xlabel('')\n",
        "\n",
        "props = dict(boxstyle='round', facecolor='none', edgecolor='black', alpha=0.5)\n",
        "\n",
        "# place a text box in upper left in axes coords\n",
        "g1.text(0.48, 0.96, \"ML\", transform=g1.transAxes, fontsize=14,\n",
        "        verticalalignment='top', bbox=props)\n",
        "g2.text(0.45, 0.96, \"1D CNN\", transform=g2.transAxes, fontsize=14,\n",
        "        verticalalignment='top', bbox=props)\n",
        "g3.text(0.45, 0.96, \"2D CNN\", transform=g3.transAxes, fontsize=14,\n",
        "        verticalalignment='top', bbox=props)\n",
        "g4.text(0.45, 0.96, \"3D CNN\", transform=g4.transAxes, fontsize=14,\n",
        "        verticalalignment='top', bbox=props)\n",
        "'''\n",
        "g1.set_xticklabels([\"Sad\", \"Happy\", \"Fear\", \"Disgust\", \"Surprise\", \"Anger\"], rotation=0, fontsize = 10, weight='bold')\n",
        "g2.set_xticklabels([\"Sad\", \"Happy\", \"Fear\", \"Disgust\", \"Surprise\", \"Anger\"], rotation=0, fontsize = 10, weight='bold')\n",
        "g3.set_xticklabels([\"Sad\", \"Happy\", \"Fear\", \"Disgust\", \"Surprise\", \"Anger\"], rotation=0, fontsize = 10, weight='bold')\n",
        "g4.set_xticklabels([\"Sad\", \"Happy\", \"Fear\", \"Disgust\", \"Surprise\", \"Anger\"], rotation=0, fontsize = 10, weight='bold')\n",
        "#plt.setp(ax, ylim=(0.5, 1.0))\n",
        "'''\n",
        "fig.text(0.5, 0.08, 'Data', ha='center', fontsize = 13, weight='bold')\n",
        "fig.text(0.09, 0.5, 'Accuracy', va='center', rotation='vertical', fontsize = 13, weight='bold')\n",
        "\n",
        "plt.show()\n",
        "\n",
        "fig.savefig('multi_class.jpg', format='jpg', bbox_inches='tight')\n",
        "#FILE.download('sensitivity_valence.eps')\n"
      ],
      "execution_count": null,
      "outputs": [
        {
          "output_type": "display_data",
          "data": {
            "image/png": "[encoded data removed]",
            "text/plain": [
              "<Figure size 1080x720 with 4 Axes>"
            ]
          },
          "metadata": {
            "tags": [],
            "needs_background": "light"
          }
        }
      ]
    },
    {
      "cell_type": "code",
      "metadata": {
        "colab": {
          "base_uri": "https://localhost:8080/",
          "height": 431
        },
        "id": "sdFLmOsXlGhf",
        "outputId": "46c8c8fd-72cd-432a-c917-04f132c77d66"
      },
      "source": [
        "2multi_df_new = pd.melt(multi_df, id_vars=['Model', 'Data'], value_vars=['Sad', 'Happy', 'Fear', 'Disgust',\n",
        "                                                                'Surprise', 'Anger'],\n",
        "        var_name='Emotions', value_name='Accuracy')\n",
        "x = \"Emotions\"\n",
        "y = \"Accuracy\"\n",
        "hue = \"Model\"\n",
        "\n",
        "g = sns.catplot(data=multi_df_new, x=x, y=y, hue = hue, palette = \"Blues\",\n",
        "                 col=\"Data\", kind=\"bar\", height=4, aspect=2)\n",
        "g.set(ylim=(0.4, None))\n",
        "g.set_titles(\"{col_name} {col_var}\")\n",
        "g.set_axis_lables(\"Emotions\", \"Accuracy\")\n",
        "#ax.legend(loc='upper left', bbox_to_anchor=(0, 1))\n",
        "ax.set_xlabel('Emotions',fontsize = 15, )\n",
        "#ax.set_ylabel('Sensitivity',fontsize = 15 )\n",
        "#ax.set_xticklabels([\"ML\", \"1D CNN\", \"2D CNN\", \"3D CNN\"], rotation=0, fontsize = 13);\n",
        "'''\n",
        "add_stat_annotation(ax, data=arousal_df_new, x=x, y=y, hue=hue,\n",
        "                    box_pairs=[((\"ML\", \"PD\"), (\"ML\", \"NC\")),\n",
        "                                 ((\"1D CNN\", \"PD\"), (\"1D CNN\", \"NC\")),\n",
        "                                 ((\"2D CNN\", \"PD\"), (\"2D CNN\", \"NC\")),\n",
        "                               ((\"3D CNN\", \"PD\"), (\"3D CNN\", \"NC\"))\n",
        "                                ],\n",
        "                    test='t-test_ind', text_format='star', loc='inside', verbose=2)\n",
        "                    '''"
      ],
      "execution_count": null,
      "outputs": [
        {
          "output_type": "error",
          "ename": "AttributeError",
          "evalue": "ignored",
          "traceback": [
            "\u001b[0;31m---------------------------------------------------------------------------\u001b[0m",
            "\u001b[0;31mAttributeError\u001b[0m                            Traceback (most recent call last)",
            "\u001b[0;32m<ipython-input-107-72c78c87cec9>\u001b[0m in \u001b[0;36m<module>\u001b[0;34m()\u001b[0m\n\u001b[1;32m     10\u001b[0m \u001b[0mg\u001b[0m\u001b[0;34m.\u001b[0m\u001b[0mset\u001b[0m\u001b[0;34m(\u001b[0m\u001b[0mylim\u001b[0m\u001b[0;34m=\u001b[0m\u001b[0;34m(\u001b[0m\u001b[0;36m0.4\u001b[0m\u001b[0;34m,\u001b[0m \u001b[0;32mNone\u001b[0m\u001b[0;34m)\u001b[0m\u001b[0;34m)\u001b[0m\u001b[0;34m\u001b[0m\u001b[0;34m\u001b[0m\u001b[0m\n\u001b[1;32m     11\u001b[0m \u001b[0mg\u001b[0m\u001b[0;34m.\u001b[0m\u001b[0mset_titles\u001b[0m\u001b[0;34m(\u001b[0m\u001b[0;34m\"{col_name} {col_var}\"\u001b[0m\u001b[0;34m)\u001b[0m\u001b[0;34m\u001b[0m\u001b[0;34m\u001b[0m\u001b[0m\n\u001b[0;32m---> 12\u001b[0;31m \u001b[0mg\u001b[0m\u001b[0;34m.\u001b[0m\u001b[0mset_axis_lables\u001b[0m\u001b[0;34m(\u001b[0m\u001b[0;34m\"Emotions\"\u001b[0m\u001b[0;34m,\u001b[0m \u001b[0;34m\"Accuracy\"\u001b[0m\u001b[0;34m)\u001b[0m\u001b[0;34m\u001b[0m\u001b[0;34m\u001b[0m\u001b[0m\n\u001b[0m\u001b[1;32m     13\u001b[0m \u001b[0;31m#ax.legend(loc='upper left', bbox_to_anchor=(0, 1))\u001b[0m\u001b[0;34m\u001b[0m\u001b[0;34m\u001b[0m\u001b[0;34m\u001b[0m\u001b[0m\n\u001b[1;32m     14\u001b[0m \u001b[0max\u001b[0m\u001b[0;34m.\u001b[0m\u001b[0mset_xlabel\u001b[0m\u001b[0;34m(\u001b[0m\u001b[0;34m'Emotions'\u001b[0m\u001b[0;34m,\u001b[0m\u001b[0mfontsize\u001b[0m \u001b[0;34m=\u001b[0m \u001b[0;36m15\u001b[0m\u001b[0;34m,\u001b[0m \u001b[0;34m)\u001b[0m\u001b[0;34m\u001b[0m\u001b[0;34m\u001b[0m\u001b[0m\n",
            "\u001b[0;31mAttributeError\u001b[0m: 'FacetGrid' object has no attribute 'set_axis_lables'"
          ]
        },
        {
          "output_type": "display_data",
          "data": {
            "image/png": "[encoded data removed]",
            "text/plain": [
              "<Figure size 1227.12x288 with 2 Axes>"
            ]
          },
          "metadata": {
            "tags": []
          }
        }
      ]
    },
    {
      "cell_type": "code",
      "metadata": {
        "colab": {
          "base_uri": "https://localhost:8080/",
          "height": 298
        },
        "id": "6mKo6TigwA5Q",
        "outputId": "0396257e-0af9-4e73-8372-058cc3180226"
      },
      "source": [
        "#Plot comparing sensitivity of NC and PD.\n",
        "labels = ['Sad', 'Happy', 'Fear', 'Disgust', 'Surprise', 'Anger']\n",
        "x_pos = np.arange(len(labels))\n",
        "\n",
        "multi_pd_m = [sad_3pd[0], happy_3pd[0], fear_3pd[0], disgust_3pd[0], surprise_3pd[0], anger_3pd[0]]\n",
        "multi_pd_s = [sad_3pd[1], happy_3pd[1], fear_3pd[1], disgust_3pd[1], surprise_3pd[1], anger_3pd[1]]\n",
        "\n",
        "multi_nc_m = [sad_3nc[0], happy_3nc[0], fear_3nc[0], disgust_3nc[0], surprise_3nc[0], anger_3nc[0]]\n",
        "multi_nc_s = [sad_3nc[1], happy_3nc[1], fear_3nc[1], disgust_3nc[1], surprise_3nc[1], anger_3nc[1]]\n",
        "\n",
        "#ax = fig.add_axes([0,0,1,1])\n",
        "barWidth = 0.25\n",
        "m1 = plt.bar(x_pos - barWidth/2, multi_pd_m, yerr=multi_pd_s, align='center', alpha=0.5,\n",
        "             width = barWidth)\n",
        "m2 = plt.bar(x_pos + barWidth/2, multi_nc_m, yerr=multi_nc_s, align='center', alpha=0.5,\n",
        "            width = barWidth)\n",
        "#plt.ylabel('Mean brands recalled',fontsize=14,weight='bold')\n",
        "#plt.xlabel('Methods',fontsize=14,weight='bold')\n",
        "plt.ylim(0,1.05)\n",
        "plt.ylim(bottom = 0.6)\n",
        "plt.xticks(ticks=[0,1,2,3,4,5], labels=labels, weight='bold')\n",
        "plt.yticks(weight='bold')\n",
        "plt.legend((m1[0], m2[0]), ('PD', 'NC'))\n",
        "plt.title('MultiClass Classification')\n",
        "\n",
        "#plt.savefig('U2_IFbrrec.png',bbox_inches='tight')\n",
        "#files.download('U2_IFbrrec.png')"
      ],
      "execution_count": null,
      "outputs": [
        {
          "output_type": "execute_result",
          "data": {
            "text/plain": [
              "Text(0.5, 1.0, 'MultiClass Classification')"
            ]
          },
          "metadata": {
            "tags": []
          },
          "execution_count": 15
        },
        {
          "output_type": "display_data",
          "data": {
            "image/png": "[encoded data removed]",
            "text/plain": [
              "<Figure size 432x288 with 1 Axes>"
            ]
          },
          "metadata": {
            "tags": [],
            "needs_background": "light"
          }
        }
      ]
    },
    {
      "cell_type": "markdown",
      "metadata": {
        "id": "SBZoInt-knRr"
      },
      "source": [
        "## PDNC"
      ]
    },
    {
      "cell_type": "code",
      "metadata": {
        "id": "Tv2pcZookpPp"
      },
      "source": [
        "def get_metric(dataPath, metric):\n",
        "  matContent = sio.loadmat(dataPath)\n",
        "  metric = matContent[metric]\n",
        "  return metric\n",
        "\n",
        "data = 'Full'\n",
        "pdnc_Full_ml = get_metric('/content/drive/MyDrive/EEG_Analysis_PD_NC/Results/MLResults/Spectral/ML_PDNC_spectral_'+str(data)+'.mat', 'conf_mat_list')\n",
        "pdnc_Full_1d = get_metric('/content/drive/MyDrive/EEG_Analysis_PD_NC/Results/1D_CNN_Results/Spectral/CNN_1D_results_PDNC_Spectral_'+str(data)+'.mat', 'conf_mat_list')\n",
        "pdnc_Full_2d = get_metric('/content/drive/MyDrive/EEG_Analysis_PD_NC/Results/CNN_2D_our/CNN_2D_results_PDNC_'+str(data)+'.mat', 'conf_mat_list')\n",
        "\n",
        "data = 'E1'\n",
        "pdnc_E1_ml = get_metric('/content/drive/MyDrive/EEG_Analysis_PD_NC/Results/MLResults/Spectral/ML_PDNC_spectral_'+str(data)+'.mat', 'conf_mat_list')\n",
        "pdnc_E1_1d = get_metric('/content/drive/MyDrive/EEG_Analysis_PD_NC/Results/1D_CNN_Results/Spectral/CNN_1D_results_PDNC_Spectral_'+str(data)+'.mat', 'conf_mat_list')\n",
        "pdnc_E1_2d = get_metric('/content/drive/MyDrive/EEG_Analysis_PD_NC/Results/CNN_2D_our/CNN_2D_results_PDNC_'+str(data)+'.mat', 'conf_mat_list')\n",
        "\n",
        "data = 'E2'\n",
        "pdnc_E2_ml = get_metric('/content/drive/MyDrive/EEG_Analysis_PD_NC/Results/MLResults/Spectral/ML_PDNC_spectral_'+str(data)+'.mat', 'conf_mat_list')\n",
        "pdnc_E2_1d = get_metric('/content/drive/MyDrive/EEG_Analysis_PD_NC/Results/1D_CNN_Results/IIR/CNN_1D_results_PDNC_IIR_'+str(data)+'.mat', 'conf_mat_list')\n",
        "pdnc_E2_2d = get_metric('/content/drive/MyDrive/EEG_Analysis_PD_NC/Results/CNN_2D_our/CNN_2D_results_PDNC_'+str(data)+'.mat', 'conf_mat_list')\n",
        "\n",
        "data = 'E3'\n",
        "pdnc_E3_ml = get_metric('/content/drive/MyDrive/EEG_Analysis_PD_NC/Results/MLResults/Spectral/ML_PDNC_spectral_'+str(data)+'.mat', 'conf_mat_list')\n",
        "pdnc_E3_1d = get_metric('/content/drive/MyDrive/EEG_Analysis_PD_NC/Results/1D_CNN_Results/Spectral/CNN_1D_results_PDNC_Spectral_'+str(data)+'.mat', 'conf_mat_list')\n",
        "pdnc_E3_2d = get_metric('/content/drive/MyDrive/EEG_Analysis_PD_NC/Results/CNN_2D_our/CNN_2D_results_PDNC_'+str(data)+'.mat', 'conf_mat_list')\n",
        "\n",
        "data = 'E4'\n",
        "pdnc_E4_ml = get_metric('/content/drive/MyDrive/EEG_Analysis_PD_NC/Results/MLResults/Spectral/ML_PDNC_spectral_'+str(data)+'.mat', 'conf_mat_list')\n",
        "pdnc_E4_1d = get_metric('/content/drive/MyDrive/EEG_Analysis_PD_NC/Results/1D_CNN_Results/Spectral/CNN_1D_results_PDNC_Spectral_'+str(data)+'.mat', 'conf_mat_list')\n",
        "pdnc_E4_2d = get_metric('/content/drive/MyDrive/EEG_Analysis_PD_NC/Results/CNN_2D_our/CNN_2D_results_PDNC_'+str(data)+'.mat', 'conf_mat_list')\n",
        "\n",
        "data = 'E5'\n",
        "pdnc_E5_ml = get_metric('/content/drive/MyDrive/EEG_Analysis_PD_NC/Results/MLResults/Spectral/ML_PDNC_spectral_'+str(data)+'.mat', 'conf_mat_list')\n",
        "pdnc_E5_1d = get_metric('/content/drive/MyDrive/EEG_Analysis_PD_NC/Results/1D_CNN_Results/IIR/CNN_1D_results_PDNC_IIR_'+str(data)+'.mat', 'conf_mat_list')\n",
        "pdnc_E5_2d = get_metric('/content/drive/MyDrive/EEG_Analysis_PD_NC/Results/CNN_2D_our/CNN_2D_results_PDNC_'+str(data)+'.mat', 'conf_mat_list')\n",
        "\n",
        "data = 'E6'\n",
        "pdnc_E6_ml = get_metric('/content/drive/MyDrive/EEG_Analysis_PD_NC/Results/MLResults/Spectral/ML_PDNC_spectral_'+str(data)+'.mat', 'conf_mat_list')\n",
        "pdnc_E6_1d = get_metric('/content/drive/MyDrive/EEG_Analysis_PD_NC/Results/1D_CNN_Results/Spectral/CNN_1D_results_PDNC_Spectral_'+str(data)+'.mat', 'conf_mat_list')\n",
        "pdnc_E6_2d = get_metric('/content/drive/MyDrive/EEG_Analysis_PD_NC/Results/CNN_2D_our/CNN_2D_results_PDNC_'+str(data)+'.mat', 'conf_mat_list')\n"
      ],
      "execution_count": null,
      "outputs": []
    },
    {
      "cell_type": "code",
      "metadata": {
        "id": "NQchgYKLswuF",
        "colab": {
          "base_uri": "https://localhost:8080/"
        },
        "outputId": "e9bf5598-7564-4932-ab0c-55721a4f3df5"
      },
      "source": [
        "data1 = {'Sensitivity': [i[1][1] for i in pdnc_Full_ml], 'Specificity': [i[0][0] for i in pdnc_Full_ml],\n",
        "          'Data': len([i[1][1] for i in pdnc_Full_ml])*['Full'], 'Model': len([i[1][1] for i in pdnc_Full_ml])*['ML']}\n",
        "df1 = pd.DataFrame(data1)\n",
        "data2 = {'Sensitivity': [i[1][1] for i in pdnc_Full_1d], 'Specificity': [i[0][0] for i in pdnc_Full_1d],\n",
        "          'Data': len([i[1][1] for i in pdnc_Full_1d])*['Full'], 'Model': len([i[1][1] for i in pdnc_Full_1d])*['1D CNN']}\n",
        "df2 = pd.DataFrame(data2)\n",
        "data3 = {'Sensitivity': [i[1][1] for i in pdnc_Full_2d], 'Specificity': [i[0][0] for i in pdnc_Full_2d],\n",
        "          'Data': len([i[1][1] for i in pdnc_Full_2d])*['Full'], 'Model': len([i[1][1] for i in pdnc_Full_2d])*['2D CNN']}\n",
        "df3 = pd.DataFrame(data3)\n",
        "\n",
        "data4 = {'Sensitivity': [i[1][1] for i in pdnc_E1_ml], 'Specificity': [i[0][0] for i in pdnc_E1_ml],\n",
        "          'Data': len([i[1][1] for i in pdnc_E1_ml])*['Sad'], 'Model': len([i[1][1] for i in pdnc_E1_ml])*['ML']}\n",
        "df4 = pd.DataFrame(data4)\n",
        "data5 = {'Sensitivity': [i[1][1] for i in pdnc_E1_1d], 'Specificity': [i[0][0] for i in pdnc_E1_1d],\n",
        "          'Data': len([i[1][1] for i in pdnc_E1_1d])*['Sad'], 'Model': len([i[1][1] for i in pdnc_E1_1d])*['1D CNN']}\n",
        "df5 = pd.DataFrame(data5)\n",
        "data6 = {'Sensitivity': [i[1][1] for i in pdnc_E1_2d], 'Specificity': [i[0][0] for i in pdnc_E1_2d],\n",
        "          'Data': len([i[1][1] for i in pdnc_E1_2d])*['Sad'], 'Model': len([i[1][1] for i in pdnc_E1_2d])*['2D CNN']}\n",
        "df6 = pd.DataFrame(data6)\n",
        "\n",
        "data7 = {'Sensitivity': [i[1][1] for i in pdnc_E2_ml], 'Specificity': [i[0][0] for i in pdnc_E2_ml],\n",
        "          'Data': len([i[1][1] for i in pdnc_E2_ml])*['Happy'], 'Model': len([i[1][1] for i in pdnc_E2_ml])*['ML']}\n",
        "df7 = pd.DataFrame(data7)\n",
        "data8 = {'Sensitivity': [i[1][1] for i in pdnc_E2_1d], 'Specificity': [i[0][0] for i in pdnc_E2_1d],\n",
        "          'Data': len([i[1][1] for i in pdnc_E2_1d])*['Happy'], 'Model': len([i[1][1] for i in pdnc_E2_1d])*['1D CNN']}\n",
        "df8 = pd.DataFrame(data8)\n",
        "data9 = {'Sensitivity': [i[1][1] for i in pdnc_E2_2d], 'Specificity': [i[0][0] for i in pdnc_E2_2d],\n",
        "          'Data': len([i[1][1] for i in pdnc_E2_2d])*['Happy'], 'Model': len([i[1][1] for i in pdnc_E2_2d])*['2D CNN']}\n",
        "df9 = pd.DataFrame(data9)\n",
        "\n",
        "data10 = {'Sensitivity': [i[1][1] for i in pdnc_E3_ml], 'Specificity': [i[0][0] for i in pdnc_E3_ml],\n",
        "          'Data': len([i[1][1] for i in pdnc_E3_ml])*['Fear'], 'Model': len([i[1][1] for i in pdnc_E3_ml])*['ML']}\n",
        "df10 = pd.DataFrame(data10)\n",
        "data11 = {'Sensitivity': [i[1][1] for i in pdnc_E3_1d], 'Specificity': [i[0][0] for i in pdnc_E3_1d],\n",
        "          'Data': len([i[1][1] for i in pdnc_E3_1d])*['Fear'], 'Model': len([i[1][1] for i in pdnc_E3_1d])*['1D CNN']}\n",
        "df11 = pd.DataFrame(data11)\n",
        "data12 = {'Sensitivity': [i[1][1] for i in pdnc_E3_2d], 'Specificity': [i[0][0] for i in pdnc_E3_2d],\n",
        "          'Data': len([i[1][1] for i in pdnc_E3_2d])*['Fear'], 'Model': len([i[1][1] for i in pdnc_E3_2d])*['2D CNN']}\n",
        "df12 = pd.DataFrame(data12)\n",
        "\n",
        "data13 = {'Sensitivity': [i[1][1] for i in pdnc_E4_ml], 'Specificity': [i[0][0] for i in pdnc_E4_ml],\n",
        "          'Data': len([i[1][1] for i in pdnc_E4_ml])*['Disgust'], 'Model': len([i[1][1] for i in pdnc_E4_ml])*['ML']}\n",
        "df13 = pd.DataFrame(data13)\n",
        "data14 = {'Sensitivity': [i[1][1] for i in pdnc_E4_1d], 'Specificity': [i[0][0] for i in pdnc_E4_1d],\n",
        "          'Data': len([i[1][1] for i in pdnc_E4_1d])*['Disgust'], 'Model': len([i[1][1] for i in pdnc_E4_1d])*['1D CNN']}\n",
        "df14 = pd.DataFrame(data14)\n",
        "data15 = {'Sensitivity': [i[1][1] for i in pdnc_E4_2d], 'Specificity': [i[0][0] for i in pdnc_E4_2d],\n",
        "          'Data': len([i[1][1] for i in pdnc_E4_2d])*['Disgust'], 'Model': len([i[1][1] for i in pdnc_E4_2d])*['2D CNN']}\n",
        "df15 = pd.DataFrame(data15)\n",
        "\n",
        "data16 = {'Sensitivity': [i[1][1] for i in pdnc_E5_ml], 'Specificity': [i[0][0] for i in pdnc_E5_ml],\n",
        "          'Data': len([i[1][1] for i in pdnc_E5_ml])*['Surprise'], 'Model': len([i[1][1] for i in pdnc_E5_ml])*['ML']}\n",
        "df16 = pd.DataFrame(data16)\n",
        "data17 = {'Sensitivity': [i[1][1] for i in pdnc_E5_1d], 'Specificity': [i[0][0] for i in pdnc_E5_1d],\n",
        "          'Data': len([i[1][1] for i in pdnc_E5_1d])*['Surprise'], 'Model': len([i[1][1] for i in pdnc_E5_1d])*['1D CNN']}\n",
        "df17 = pd.DataFrame(data17)\n",
        "data18 = {'Sensitivity': [i[1][1] for i in pdnc_E5_2d], 'Specificity': [i[0][0] for i in pdnc_E5_2d],\n",
        "          'Data': len([i[1][1] for i in pdnc_E5_2d])*['Surprise'], 'Model': len([i[1][1] for i in pdnc_E5_2d])*['2D CNN']}\n",
        "df18 = pd.DataFrame(data18)\n",
        "\n",
        "data19 = {'Sensitivity': [i[1][1] for i in pdnc_E6_ml], 'Specificity': [i[0][0] for i in pdnc_E6_ml],\n",
        "          'Data': len([i[1][1] for i in pdnc_E6_ml])*['Anger'], 'Model': len([i[1][1] for i in pdnc_E6_ml])*['ML']}\n",
        "df19 = pd.DataFrame(data19)\n",
        "data20 = {'Sensitivity': [i[1][1] for i in pdnc_E6_1d], 'Specificity': [i[0][0] for i in pdnc_E6_1d],\n",
        "          'Data': len([i[1][1] for i in pdnc_E6_1d])*['Anger'], 'Model': len([i[1][1] for i in pdnc_E6_1d])*['1D CNN']}\n",
        "df20 = pd.DataFrame(data20)\n",
        "data21 = {'Sensitivity': [i[1][1] for i in pdnc_E6_2d], 'Specificity': [i[0][0] for i in pdnc_E6_2d],\n",
        "          'Data': len([i[1][1] for i in pdnc_E6_2d])*['Anger'], 'Model': len([i[1][1] for i in pdnc_E6_2d])*['2D CNN']}\n",
        "df21 = pd.DataFrame(data21)\n",
        "\n",
        "\n",
        "pdnc_df = pd.concat([df1, df2, df3, df4, df5, df6, df7, df8, df9, df10,\n",
        "                        df11, df12, df13, df14, df15, df16, df17, df18, df19,\n",
        "                        df20, df21], axis=0).reset_index()\n",
        "print(pdnc_df)"
      ],
      "execution_count": null,
      "outputs": [
        {
          "output_type": "stream",
          "text": [
            "     index  Sensitivity  Specificity   Data   Model\n",
            "0        0     0.971545     0.967655   Full      ML\n",
            "1        1     0.975610     0.963612   Full      ML\n",
            "2        2     0.976996     0.971660   Full      ML\n",
            "3        3     0.967524     0.970310   Full      ML\n",
            "4        4     0.964817     0.962213   Full      ML\n",
            "..     ...          ...          ...    ...     ...\n",
            "205      5     0.984252     0.992063  Anger  2D CNN\n",
            "206      6     0.976378     0.992063  Anger  2D CNN\n",
            "207      7     1.000000     1.000000  Anger  2D CNN\n",
            "208      8     0.984127     0.992063  Anger  2D CNN\n",
            "209      9     1.000000     1.000000  Anger  2D CNN\n",
            "\n",
            "[210 rows x 5 columns]\n"
          ],
          "name": "stdout"
        }
      ]
    },
    {
      "cell_type": "code",
      "metadata": {
        "colab": {
          "base_uri": "https://localhost:8080/"
        },
        "id": "aH_F7V5xla6i",
        "outputId": "dda46f41-8376-4186-9f94-8b666ee38f4d"
      },
      "source": [
        "pdnc_df_new = pd.melt(pdnc_df[pdnc_df['Model']=='ML'], id_vars=['Data'], value_vars=['Sensitivity', 'Specificity'],\n",
        "        var_name='Test', value_name='Value')\n",
        "temp = pdnc_df_new[pdnc_df_new['Data']=='Full']\n",
        "print(\"Sensitivity for full data\")\n",
        "print(temp[temp['Test']=='Sensitivity'].mean())\n",
        "print(temp[temp['Test']=='Sensitivity'].std())\n",
        "\n",
        "print(\"Specificity for full data\")\n",
        "print(temp[temp['Test']=='Specificity'].mean())\n",
        "print(temp[temp['Test']=='Specificity'].std())"
      ],
      "execution_count": null,
      "outputs": [
        {
          "output_type": "stream",
          "text": [
            "Sensitivity for full data\n",
            "Value    0.971847\n",
            "dtype: float64\n",
            "Value    0.007541\n",
            "dtype: float64\n",
            "Specificity for full data\n",
            "Value    0.963032\n",
            "dtype: float64\n",
            "Value    0.006308\n",
            "dtype: float64\n"
          ],
          "name": "stdout"
        }
      ]
    },
    {
      "cell_type": "code",
      "metadata": {
        "colab": {
          "base_uri": "https://localhost:8080/",
          "height": 1000
        },
        "id": "ctMmIfnj0Lak",
        "outputId": "4b70ae9f-4315-4633-df0d-55545f10c449"
      },
      "source": [
        "#print mean and std sensitivity or specificity for each data\n",
        "pdnc_df_new = pd.melt(pdnc_df[pdnc_df['Model']=='ML'], id_vars=['Data'], value_vars=['Sensitivity', 'Specificity'],\n",
        "        var_name='Test', value_name='Value')\n",
        "print(pdnc_df_new)\n",
        "\n",
        "df_dummy_ml = pdnc_df_new.groupby(['Data','Test']).mean().round(2)\n",
        "print(df_dummy_ml)\n",
        "df_dummy_ml['SE'] = pdnc_df_new.groupby(['Data','Test']).sem().round(3)\n",
        "print(df_dummy_ml)\n",
        "pdnc_df_new.groupby(['Data','Test']).mean().round(3)"
      ],
      "execution_count": null,
      "outputs": [
        {
          "output_type": "stream",
          "text": [
            "      Data         Test     Value\n",
            "0     Full  Sensitivity  0.971545\n",
            "1     Full  Sensitivity  0.975610\n",
            "2     Full  Sensitivity  0.976996\n",
            "3     Full  Sensitivity  0.967524\n",
            "4     Full  Sensitivity  0.964817\n",
            "..     ...          ...       ...\n",
            "135  Anger  Specificity  0.952381\n",
            "136  Anger  Specificity  0.968254\n",
            "137  Anger  Specificity  0.976190\n",
            "138  Anger  Specificity  0.944444\n",
            "139  Anger  Specificity  0.976000\n",
            "\n",
            "[140 rows x 3 columns]\n",
            "                      Value\n",
            "Data     Test              \n",
            "Anger    Sensitivity   0.97\n",
            "         Specificity   0.96\n",
            "Disgust  Sensitivity   0.96\n",
            "         Specificity   0.96\n",
            "Fear     Sensitivity   0.98\n",
            "         Specificity   0.95\n",
            "Full     Sensitivity   0.97\n",
            "         Specificity   0.96\n",
            "Happy    Sensitivity   0.95\n",
            "         Specificity   0.98\n",
            "Sad      Sensitivity   0.98\n",
            "         Specificity   0.97\n",
            "Surprise Sensitivity   0.97\n",
            "         Specificity   0.94\n",
            "                      Value     SE\n",
            "Data     Test                     \n",
            "Anger    Sensitivity   0.97  0.006\n",
            "         Specificity   0.96  0.006\n",
            "Disgust  Sensitivity   0.96  0.012\n",
            "         Specificity   0.96  0.006\n",
            "Fear     Sensitivity   0.98  0.004\n",
            "         Specificity   0.95  0.005\n",
            "Full     Sensitivity   0.97  0.002\n",
            "         Specificity   0.96  0.002\n",
            "Happy    Sensitivity   0.95  0.007\n",
            "         Specificity   0.98  0.003\n",
            "Sad      Sensitivity   0.98  0.004\n",
            "         Specificity   0.97  0.005\n",
            "Surprise Sensitivity   0.97  0.006\n",
            "         Specificity   0.94  0.008\n"
          ],
          "name": "stdout"
        },
        {
          "output_type": "execute_result",
          "data": {
            "text/html": [
              "<div>\n",
              "<style scoped>\n",
              "    .dataframe tbody tr th:only-of-type {\n",
              "        vertical-align: middle;\n",
              "    }\n",
              "\n",
              "    .dataframe tbody tr th {\n",
              "        vertical-align: top;\n",
              "    }\n",
              "\n",
              "    .dataframe thead th {\n",
              "        text-align: right;\n",
              "    }\n",
              "</style>\n",
              "<table border=\"1\" class=\"dataframe\">\n",
              "  <thead>\n",
              "    <tr style=\"text-align: right;\">\n",
              "      <th></th>\n",
              "      <th></th>\n",
              "      <th>Value</th>\n",
              "    </tr>\n",
              "    <tr>\n",
              "      <th>Data</th>\n",
              "      <th>Test</th>\n",
              "      <th></th>\n",
              "    </tr>\n",
              "  </thead>\n",
              "  <tbody>\n",
              "    <tr>\n",
              "      <th rowspan=\"2\" valign=\"top\">Anger</th>\n",
              "      <th>Sensitivity</th>\n",
              "      <td>0.966</td>\n",
              "    </tr>\n",
              "    <tr>\n",
              "      <th>Specificity</th>\n",
              "      <td>0.959</td>\n",
              "    </tr>\n",
              "    <tr>\n",
              "      <th rowspan=\"2\" valign=\"top\">Disgust</th>\n",
              "      <th>Sensitivity</th>\n",
              "      <td>0.964</td>\n",
              "    </tr>\n",
              "    <tr>\n",
              "      <th>Specificity</th>\n",
              "      <td>0.960</td>\n",
              "    </tr>\n",
              "    <tr>\n",
              "      <th rowspan=\"2\" valign=\"top\">Fear</th>\n",
              "      <th>Sensitivity</th>\n",
              "      <td>0.977</td>\n",
              "    </tr>\n",
              "    <tr>\n",
              "      <th>Specificity</th>\n",
              "      <td>0.952</td>\n",
              "    </tr>\n",
              "    <tr>\n",
              "      <th rowspan=\"2\" valign=\"top\">Full</th>\n",
              "      <th>Sensitivity</th>\n",
              "      <td>0.972</td>\n",
              "    </tr>\n",
              "    <tr>\n",
              "      <th>Specificity</th>\n",
              "      <td>0.963</td>\n",
              "    </tr>\n",
              "    <tr>\n",
              "      <th rowspan=\"2\" valign=\"top\">Happy</th>\n",
              "      <th>Sensitivity</th>\n",
              "      <td>0.952</td>\n",
              "    </tr>\n",
              "    <tr>\n",
              "      <th>Specificity</th>\n",
              "      <td>0.982</td>\n",
              "    </tr>\n",
              "    <tr>\n",
              "      <th rowspan=\"2\" valign=\"top\">Sad</th>\n",
              "      <th>Sensitivity</th>\n",
              "      <td>0.977</td>\n",
              "    </tr>\n",
              "    <tr>\n",
              "      <th>Specificity</th>\n",
              "      <td>0.971</td>\n",
              "    </tr>\n",
              "    <tr>\n",
              "      <th rowspan=\"2\" valign=\"top\">Surprise</th>\n",
              "      <th>Sensitivity</th>\n",
              "      <td>0.968</td>\n",
              "    </tr>\n",
              "    <tr>\n",
              "      <th>Specificity</th>\n",
              "      <td>0.937</td>\n",
              "    </tr>\n",
              "  </tbody>\n",
              "</table>\n",
              "</div>"
            ],
            "text/plain": [
              "                      Value\n",
              "Data     Test              \n",
              "Anger    Sensitivity  0.966\n",
              "         Specificity  0.959\n",
              "Disgust  Sensitivity  0.964\n",
              "         Specificity  0.960\n",
              "Fear     Sensitivity  0.977\n",
              "         Specificity  0.952\n",
              "Full     Sensitivity  0.972\n",
              "         Specificity  0.963\n",
              "Happy    Sensitivity  0.952\n",
              "         Specificity  0.982\n",
              "Sad      Sensitivity  0.977\n",
              "         Specificity  0.971\n",
              "Surprise Sensitivity  0.968\n",
              "         Specificity  0.937"
            ]
          },
          "metadata": {
            "tags": []
          },
          "execution_count": 7
        }
      ]
    },
    {
      "cell_type": "code",
      "metadata": {
        "colab": {
          "base_uri": "https://localhost:8080/",
          "height": 829
        },
        "id": "j0ZYw3lmF22I",
        "outputId": "a70707c8-896f-49a8-bb5b-a35af9157874"
      },
      "source": [
        "pdnc_df_new = pd.melt(pdnc_df[pdnc_df['Model']=='ML'], id_vars=['Data'], value_vars=['Sensitivity', 'Specificity'],\n",
        "        var_name='Test', value_name='Value')\n",
        "print(pdnc_df_new)\n",
        "\n",
        "\n",
        "x = \"Data\"\n",
        "y = \"Value\"\n",
        "hue = \"Test\"\n",
        "\n",
        "ax = sns.barplot(data=pdnc_df_new, x=x, y=y, hue = hue, palette = \"Blues\", capsize=.05, ci=68)\n",
        "ax.set_ylim(bottom=0.9)\n",
        "ax.legend(loc='upper right', bbox_to_anchor=(1,1))\n",
        "ax.set_xlabel('Data',fontsize = 13, weight='bold')\n",
        "ax.set_ylabel('Sensitivity/Specificity',fontsize = 13, weight='bold')\n",
        "#ax.set_xticklabels([\"Full\", \"Sad\", \"Happy\", \"Fear\", \"Disgust\", \"Surprise\", \"Anger\"], rotation=0, fontsize = 10, weight='bold');\n",
        "#ax.set_yticklabels([\"0.5\", \"0.6\", \"0.7\", \"0.8\", \"0.9\", \"1.0\"], size= 10, weight='bold')\n",
        "#ax.set_yticklabels(ax.get_yticklabels(), size= 10, weight='bold')\n",
        "add_stat_annotation(ax, data=pdnc_df_new, x=x, y=y, hue=hue,\n",
        "                    box_pairs=[((\"Full\", \"Sensitivity\"), (\"Full\", \"Specificity\")),\n",
        "                                ((\"Sad\", \"Sensitivity\"), (\"Sad\", \"Specificity\")),\n",
        "                                 ((\"Happy\", \"Sensitivity\"), (\"Happy\", \"Specificity\")),\n",
        "                               ((\"Fear\", \"Sensitivity\"), (\"Fear\", \"Specificity\")),\n",
        "                               ((\"Disgust\", \"Sensitivity\"), (\"Disgust\", \"Specificity\")),\n",
        "                               ((\"Surprise\", \"Sensitivity\"), (\"Surprise\", \"Specificity\")),\n",
        "                               ((\"Anger\", \"Sensitivity\"), (\"Anger\", \"Specificity\"))\n",
        "                                ],\n",
        "                    test='t-test_ind', text_format='star', loc='inside', verbose=2)\n",
        "\n",
        "\n",
        "props = dict(boxstyle='round', facecolor='none', edgecolor='black', alpha=0.5)\n",
        "\n",
        "# place a text box in upper left in axes coords\n",
        "ax.text(0.45, 0.95, \"ML\", transform=ax.transAxes, fontsize=14,\n",
        "        verticalalignment='top', bbox=props)\n",
        "\n",
        "plt.savefig('sens_and_speci_pdnc_ml.eps', format='eps', bbox_inches='tight')\n",
        "#FILE.download('sensitivity_valence.eps')"
      ],
      "execution_count": null,
      "outputs": [
        {
          "output_type": "stream",
          "text": [
            "      Data         Test     Value\n",
            "0     Full  Sensitivity  0.971545\n",
            "1     Full  Sensitivity  0.975610\n",
            "2     Full  Sensitivity  0.976996\n",
            "3     Full  Sensitivity  0.967524\n",
            "4     Full  Sensitivity  0.964817\n",
            "..     ...          ...       ...\n",
            "135  Anger  Specificity  0.952381\n",
            "136  Anger  Specificity  0.968254\n",
            "137  Anger  Specificity  0.976190\n",
            "138  Anger  Specificity  0.944444\n",
            "139  Anger  Specificity  0.976000\n",
            "\n",
            "[140 rows x 3 columns]\n",
            "p-value annotation legend:\n",
            "ns: 5.00e-02 < p <= 1.00e+00\n",
            "*: 1.00e-02 < p <= 5.00e-02\n",
            "**: 1.00e-03 < p <= 1.00e-02\n",
            "***: 1.00e-04 < p <= 1.00e-03\n",
            "****: p <= 1.00e-04\n",
            "\n",
            "Sad_Sensitivity v.s. Sad_Specificity: t-test independent samples with Bonferroni correction, P_val=1.000e+00 stat=8.543e-01\n",
            "Full_Sensitivity v.s. Full_Specificity: t-test independent samples with Bonferroni correction, P_val=7.683e-02 stat=2.835e+00\n",
            "Happy_Sensitivity v.s. Happy_Specificity: t-test independent samples with Bonferroni correction, P_val=4.699e-03 stat=-4.101e+00\n",
            "Fear_Sensitivity v.s. Fear_Specificity: t-test independent samples with Bonferroni correction, P_val=1.511e-02 stat=3.576e+00\n",
            "Disgust_Sensitivity v.s. Disgust_Specificity: t-test independent samples with Bonferroni correction, P_val=1.000e+00 stat=3.373e-01\n",
            "Surprise_Sensitivity v.s. Surprise_Specificity: t-test independent samples with Bonferroni correction, P_val=4.934e-02 stat=3.040e+00\n",
            "Anger_Sensitivity v.s. Anger_Specificity: t-test independent samples with Bonferroni correction, P_val=1.000e+00 stat=9.211e-01\n"
          ],
          "name": "stdout"
        },
        {
          "output_type": "stream",
          "text": [
            "The PostScript backend does not support transparency; partially transparent artists will be rendered opaque.\n",
            "The PostScript backend does not support transparency; partially transparent artists will be rendered opaque.\n",
            "The PostScript backend does not support transparency; partially transparent artists will be rendered opaque.\n"
          ],
          "name": "stderr"
        },
        {
          "output_type": "display_data",
          "data": {
            "image/png": "[encoded data removed]",
            "text/plain": [
              "<Figure size 432x288 with 1 Axes>"
            ]
          },
          "metadata": {
            "tags": [],
            "needs_background": "light"
          }
        }
      ]
    },
    {
      "cell_type": "code",
      "metadata": {
        "colab": {
          "base_uri": "https://localhost:8080/",
          "height": 1000
        },
        "id": "T_FpcxSa56j1",
        "outputId": "31452080-4cee-4a7c-82e5-0e19f7888baa"
      },
      "source": [
        "#print mean and std sensitivity or specificity for each data\n",
        "pdnc_df_new = pd.melt(pdnc_df[pdnc_df['Model']=='1D CNN'], id_vars=['Data'], value_vars=['Sensitivity', 'Specificity'],\n",
        "        var_name='Test', value_name='Value')\n",
        "print(pdnc_df_new)\n",
        "\n",
        "df_dummy = pdnc_df_new.groupby(['Data','Test']).mean().round(2)\n",
        "print(df_dummy)\n",
        "df_dummy['SE'] = pdnc_df_new.groupby(['Data','Test']).sem().round(3)\n",
        "print(df_dummy)\n",
        "\n",
        "#pdnc_df_new.groupby(['Data','Test']).mean().round(2)\n",
        "pdnc_df_new.groupby(['Data','Test']).sem().round(3)"
      ],
      "execution_count": null,
      "outputs": [
        {
          "output_type": "stream",
          "text": [
            "      Data         Test     Value\n",
            "0     Full  Sensitivity  0.966125\n",
            "1     Full  Sensitivity  0.933604\n",
            "2     Full  Sensitivity  0.968877\n",
            "3     Full  Sensitivity  0.986468\n",
            "4     Full  Sensitivity  0.994587\n",
            "..     ...          ...       ...\n",
            "135  Anger  Specificity  0.992063\n",
            "136  Anger  Specificity  0.825397\n",
            "137  Anger  Specificity  1.000000\n",
            "138  Anger  Specificity  0.976000\n",
            "139  Anger  Specificity  1.000000\n",
            "\n",
            "[140 rows x 3 columns]\n",
            "                      Value\n",
            "Data     Test              \n",
            "Anger    Sensitivity   0.90\n",
            "         Specificity   0.93\n",
            "Disgust  Sensitivity   0.98\n",
            "         Specificity   0.97\n",
            "Fear     Sensitivity   0.96\n",
            "         Specificity   0.96\n",
            "Full     Sensitivity   0.98\n",
            "         Specificity   0.99\n",
            "Happy    Sensitivity   0.92\n",
            "         Specificity   0.98\n",
            "Sad      Sensitivity   0.95\n",
            "         Specificity   0.98\n",
            "Surprise Sensitivity   0.95\n",
            "         Specificity   0.93\n",
            "                      Value     SE\n",
            "Data     Test                     \n",
            "Anger    Sensitivity   0.90  0.047\n",
            "         Specificity   0.93  0.037\n",
            "Disgust  Sensitivity   0.98  0.008\n",
            "         Specificity   0.97  0.014\n",
            "Fear     Sensitivity   0.96  0.016\n",
            "         Specificity   0.96  0.008\n",
            "Full     Sensitivity   0.98  0.007\n",
            "         Specificity   0.99  0.001\n",
            "Happy    Sensitivity   0.92  0.059\n",
            "         Specificity   0.98  0.012\n",
            "Sad      Sensitivity   0.95  0.016\n",
            "         Specificity   0.98  0.008\n",
            "Surprise Sensitivity   0.95  0.029\n",
            "         Specificity   0.93  0.060\n"
          ],
          "name": "stdout"
        },
        {
          "output_type": "execute_result",
          "data": {
            "text/html": [
              "<div>\n",
              "<style scoped>\n",
              "    .dataframe tbody tr th:only-of-type {\n",
              "        vertical-align: middle;\n",
              "    }\n",
              "\n",
              "    .dataframe tbody tr th {\n",
              "        vertical-align: top;\n",
              "    }\n",
              "\n",
              "    .dataframe thead th {\n",
              "        text-align: right;\n",
              "    }\n",
              "</style>\n",
              "<table border=\"1\" class=\"dataframe\">\n",
              "  <thead>\n",
              "    <tr style=\"text-align: right;\">\n",
              "      <th></th>\n",
              "      <th></th>\n",
              "      <th>Value</th>\n",
              "    </tr>\n",
              "    <tr>\n",
              "      <th>Data</th>\n",
              "      <th>Test</th>\n",
              "      <th></th>\n",
              "    </tr>\n",
              "  </thead>\n",
              "  <tbody>\n",
              "    <tr>\n",
              "      <th rowspan=\"2\" valign=\"top\">Anger</th>\n",
              "      <th>Sensitivity</th>\n",
              "      <td>0.047</td>\n",
              "    </tr>\n",
              "    <tr>\n",
              "      <th>Specificity</th>\n",
              "      <td>0.037</td>\n",
              "    </tr>\n",
              "    <tr>\n",
              "      <th rowspan=\"2\" valign=\"top\">Disgust</th>\n",
              "      <th>Sensitivity</th>\n",
              "      <td>0.008</td>\n",
              "    </tr>\n",
              "    <tr>\n",
              "      <th>Specificity</th>\n",
              "      <td>0.014</td>\n",
              "    </tr>\n",
              "    <tr>\n",
              "      <th rowspan=\"2\" valign=\"top\">Fear</th>\n",
              "      <th>Sensitivity</th>\n",
              "      <td>0.016</td>\n",
              "    </tr>\n",
              "    <tr>\n",
              "      <th>Specificity</th>\n",
              "      <td>0.008</td>\n",
              "    </tr>\n",
              "    <tr>\n",
              "      <th rowspan=\"2\" valign=\"top\">Full</th>\n",
              "      <th>Sensitivity</th>\n",
              "      <td>0.007</td>\n",
              "    </tr>\n",
              "    <tr>\n",
              "      <th>Specificity</th>\n",
              "      <td>0.001</td>\n",
              "    </tr>\n",
              "    <tr>\n",
              "      <th rowspan=\"2\" valign=\"top\">Happy</th>\n",
              "      <th>Sensitivity</th>\n",
              "      <td>0.059</td>\n",
              "    </tr>\n",
              "    <tr>\n",
              "      <th>Specificity</th>\n",
              "      <td>0.012</td>\n",
              "    </tr>\n",
              "    <tr>\n",
              "      <th rowspan=\"2\" valign=\"top\">Sad</th>\n",
              "      <th>Sensitivity</th>\n",
              "      <td>0.016</td>\n",
              "    </tr>\n",
              "    <tr>\n",
              "      <th>Specificity</th>\n",
              "      <td>0.008</td>\n",
              "    </tr>\n",
              "    <tr>\n",
              "      <th rowspan=\"2\" valign=\"top\">Surprise</th>\n",
              "      <th>Sensitivity</th>\n",
              "      <td>0.029</td>\n",
              "    </tr>\n",
              "    <tr>\n",
              "      <th>Specificity</th>\n",
              "      <td>0.060</td>\n",
              "    </tr>\n",
              "  </tbody>\n",
              "</table>\n",
              "</div>"
            ],
            "text/plain": [
              "                      Value\n",
              "Data     Test              \n",
              "Anger    Sensitivity  0.047\n",
              "         Specificity  0.037\n",
              "Disgust  Sensitivity  0.008\n",
              "         Specificity  0.014\n",
              "Fear     Sensitivity  0.016\n",
              "         Specificity  0.008\n",
              "Full     Sensitivity  0.007\n",
              "         Specificity  0.001\n",
              "Happy    Sensitivity  0.059\n",
              "         Specificity  0.012\n",
              "Sad      Sensitivity  0.016\n",
              "         Specificity  0.008\n",
              "Surprise Sensitivity  0.029\n",
              "         Specificity  0.060"
            ]
          },
          "metadata": {
            "tags": []
          },
          "execution_count": 33
        }
      ]
    },
    {
      "cell_type": "code",
      "metadata": {
        "colab": {
          "base_uri": "https://localhost:8080/"
        },
        "id": "_RVefigpour5",
        "outputId": "8d33acdd-f580-447e-c848-1689d26a5ba3"
      },
      "source": [
        "pdnc_df_new = pd.melt(pdnc_df[pdnc_df['Model']=='1D CNN'], id_vars=['Data'], value_vars=['Sensitivity', 'Specificity'],\n",
        "        var_name='Test', value_name='Value')\n",
        "temp = pdnc_df_new[pdnc_df_new['Data']=='Full']\n",
        "print(\"Sensitivity for full data\")\n",
        "print(temp[temp['Test']=='Sensitivity'].mean())\n",
        "print(temp[temp['Test']=='Sensitivity'].std())\n",
        "\n",
        "print(\"Specificity for full data\")\n",
        "print(temp[temp['Test']=='Specificity'].mean())\n",
        "print(temp[temp['Test']=='Specificity'].std())"
      ],
      "execution_count": null,
      "outputs": [
        {
          "output_type": "stream",
          "text": [
            "Sensitivity for full data\n",
            "Value    0.979283\n",
            "dtype: float64\n",
            "Value    0.021028\n",
            "dtype: float64\n",
            "Specificity for full data\n",
            "Value    0.993661\n",
            "dtype: float64\n",
            "Value    0.004493\n",
            "dtype: float64\n"
          ],
          "name": "stdout"
        }
      ]
    },
    {
      "cell_type": "code",
      "metadata": {
        "colab": {
          "base_uri": "https://localhost:8080/",
          "height": 799
        },
        "id": "0SicVKeJG5KD",
        "outputId": "b3ce7e82-0a89-44ed-ca44-854c9066e847"
      },
      "source": [
        "pdnc_df_new = pd.melt(pdnc_df[pdnc_df['Model']=='1D CNN'], id_vars=['Data'], value_vars=['Sensitivity', 'Specificity'],\n",
        "        var_name='Test', value_name='Value')\n",
        "print(pdnc_df_new)\n",
        "\n",
        "x = \"Data\"\n",
        "y = \"Value\"\n",
        "hue = \"Test\"\n",
        "\n",
        "ax = sns.barplot(data=pdnc_df_new, x=x, y=y, hue = hue, palette = \"Blues\", capsize=.05, ci=68)\n",
        "ax.set_ylim(bottom=0.80, top = 1.10)\n",
        "ax.legend(loc='upper right', bbox_to_anchor=(1,1))\n",
        "ax.set_xlabel('Data',fontsize = 13, weight='bold')\n",
        "ax.set_ylabel('Sensitivity/Specificity',fontsize = 13, weight='bold')\n",
        "add_stat_annotation(ax, data=pdnc_df_new, x=x, y=y, hue=hue,\n",
        "                    box_pairs=[((\"Full\", \"Sensitivity\"), (\"Full\", \"Specificity\")),\n",
        "                                ((\"Sad\", \"Sensitivity\"), (\"Sad\", \"Specificity\")),\n",
        "                                 ((\"Happy\", \"Sensitivity\"), (\"Happy\", \"Specificity\")),\n",
        "                               ((\"Fear\", \"Sensitivity\"), (\"Fear\", \"Specificity\")),\n",
        "                               ((\"Disgust\", \"Sensitivity\"), (\"Disgust\", \"Specificity\")),\n",
        "                               ((\"Surprise\", \"Sensitivity\"), (\"Surprise\", \"Specificity\")),\n",
        "                               ((\"Anger\", \"Sensitivity\"), (\"Anger\", \"Specificity\"))\n",
        "                                ],\n",
        "                    test='t-test_ind', text_format='star', loc='inside', verbose=2)\n",
        "\n",
        "\n",
        "props = dict(boxstyle='round', facecolor='none', edgecolor='black', alpha=0.5)\n",
        "\n",
        "# place a text box in upper left in axes coords\n",
        "ax.text(0.40, 0.95, \"1D CNN\", transform=ax.transAxes, fontsize=14,\n",
        "        verticalalignment='top', bbox=props)\n",
        "\n",
        "plt.savefig('sens_and_speci_pdnc_1d.eps', format='eps', bbox_inches='tight')\n",
        "#FILE.download('sensitivity_valence.eps')"
      ],
      "execution_count": null,
      "outputs": [
        {
          "output_type": "stream",
          "text": [
            "      Data         Test     Value\n",
            "0     Full  Sensitivity  0.966125\n",
            "1     Full  Sensitivity  0.933604\n",
            "2     Full  Sensitivity  0.968877\n",
            "3     Full  Sensitivity  0.986468\n",
            "4     Full  Sensitivity  0.994587\n",
            "..     ...          ...       ...\n",
            "135  Anger  Specificity  0.992063\n",
            "136  Anger  Specificity  0.825397\n",
            "137  Anger  Specificity  1.000000\n",
            "138  Anger  Specificity  0.976000\n",
            "139  Anger  Specificity  1.000000\n",
            "\n",
            "[140 rows x 3 columns]\n",
            "p-value annotation legend:\n",
            "ns: 5.00e-02 < p <= 1.00e+00\n",
            "*: 1.00e-02 < p <= 5.00e-02\n",
            "**: 1.00e-03 < p <= 1.00e-02\n",
            "***: 1.00e-04 < p <= 1.00e-03\n",
            "****: p <= 1.00e-04\n",
            "\n",
            "Sad_Sensitivity v.s. Sad_Specificity: t-test independent samples with Bonferroni correction, P_val=1.000e+00 stat=-1.357e+00\n",
            "Full_Sensitivity v.s. Full_Specificity: t-test independent samples with Bonferroni correction, P_val=3.408e-01 stat=-2.115e+00\n",
            "Happy_Sensitivity v.s. Happy_Specificity: t-test independent samples with Bonferroni correction, P_val=1.000e+00 stat=-9.185e-01\n",
            "Fear_Sensitivity v.s. Fear_Specificity: t-test independent samples with Bonferroni correction, P_val=1.000e+00 stat=-4.539e-01\n",
            "Disgust_Sensitivity v.s. Disgust_Specificity: t-test independent samples with Bonferroni correction, P_val=1.000e+00 stat=7.150e-01\n",
            "Surprise_Sensitivity v.s. Surprise_Specificity: t-test independent samples with Bonferroni correction, P_val=1.000e+00 stat=2.819e-01\n",
            "Anger_Sensitivity v.s. Anger_Specificity: t-test independent samples with Bonferroni correction, P_val=1.000e+00 stat=-5.074e-01\n"
          ],
          "name": "stdout"
        },
        {
          "output_type": "stream",
          "text": [
            "The PostScript backend does not support transparency; partially transparent artists will be rendered opaque.\n"
          ],
          "name": "stderr"
        },
        {
          "output_type": "display_data",
          "data": {
            "image/png": "[encoded data removed]",
            "text/plain": [
              "<Figure size 432x288 with 1 Axes>"
            ]
          },
          "metadata": {
            "tags": [],
            "needs_background": "light"
          }
        }
      ]
    },
    {
      "cell_type": "code",
      "metadata": {
        "colab": {
          "base_uri": "https://localhost:8080/",
          "height": 1000
        },
        "id": "tmF2P6CK7qXk",
        "outputId": "72296108-4190-4395-e2c6-5d8af10c6716"
      },
      "source": [
        "#print mean and std sensitivity or specificity for each data\n",
        "pdnc_df_new = pd.melt(pdnc_df[pdnc_df['Model']=='2D CNN'], id_vars=['Data'], value_vars=['Sensitivity', 'Specificity'],\n",
        "        var_name='Test', value_name='Value')\n",
        "print(pdnc_df_new)\n",
        "\n",
        "df_dummy = pdnc_df_new.groupby(['Data','Test']).mean().round(2)\n",
        "print(df_dummy)\n",
        "df_dummy['SE'] = pdnc_df_new.groupby(['Data','Test']).sem().round(3)\n",
        "print(df_dummy)\n",
        "\n",
        "#pdnc_df_new.groupby(['Data','Test']).mean().round(2)\n",
        "pdnc_df_new.groupby(['Data','Test']).sem().round(3)"
      ],
      "execution_count": null,
      "outputs": [
        {
          "output_type": "stream",
          "text": [
            "      Data         Test     Value\n",
            "0     Full  Sensitivity  0.970230\n",
            "1     Full  Sensitivity  0.985115\n",
            "2     Full  Sensitivity  0.994587\n",
            "3     Full  Sensitivity  0.994587\n",
            "4     Full  Sensitivity  0.990528\n",
            "..     ...          ...       ...\n",
            "135  Anger  Specificity  0.992063\n",
            "136  Anger  Specificity  0.992063\n",
            "137  Anger  Specificity  1.000000\n",
            "138  Anger  Specificity  0.992063\n",
            "139  Anger  Specificity  1.000000\n",
            "\n",
            "[140 rows x 3 columns]\n",
            "                      Value\n",
            "Data     Test              \n",
            "Anger    Sensitivity   0.99\n",
            "         Specificity   0.98\n",
            "Disgust  Sensitivity   0.98\n",
            "         Specificity   0.98\n",
            "Fear     Sensitivity   0.99\n",
            "         Specificity   0.98\n",
            "Full     Sensitivity   0.99\n",
            "         Specificity   0.99\n",
            "Happy    Sensitivity   0.99\n",
            "         Specificity   0.97\n",
            "Sad      Sensitivity   0.99\n",
            "         Specificity   0.99\n",
            "Surprise Sensitivity   0.97\n",
            "         Specificity   0.98\n",
            "                      Value     SE\n",
            "Data     Test                     \n",
            "Anger    Sensitivity   0.99  0.003\n",
            "         Specificity   0.98  0.012\n",
            "Disgust  Sensitivity   0.98  0.010\n",
            "         Specificity   0.98  0.006\n",
            "Fear     Sensitivity   0.99  0.004\n",
            "         Specificity   0.98  0.006\n",
            "Full     Sensitivity   0.99  0.003\n",
            "         Specificity   0.99  0.004\n",
            "Happy    Sensitivity   0.99  0.003\n",
            "         Specificity   0.97  0.012\n",
            "Sad      Sensitivity   0.99  0.006\n",
            "         Specificity   0.99  0.004\n",
            "Surprise Sensitivity   0.97  0.016\n",
            "         Specificity   0.98  0.004\n"
          ],
          "name": "stdout"
        },
        {
          "output_type": "execute_result",
          "data": {
            "text/html": [
              "<div>\n",
              "<style scoped>\n",
              "    .dataframe tbody tr th:only-of-type {\n",
              "        vertical-align: middle;\n",
              "    }\n",
              "\n",
              "    .dataframe tbody tr th {\n",
              "        vertical-align: top;\n",
              "    }\n",
              "\n",
              "    .dataframe thead th {\n",
              "        text-align: right;\n",
              "    }\n",
              "</style>\n",
              "<table border=\"1\" class=\"dataframe\">\n",
              "  <thead>\n",
              "    <tr style=\"text-align: right;\">\n",
              "      <th></th>\n",
              "      <th></th>\n",
              "      <th>Value</th>\n",
              "    </tr>\n",
              "    <tr>\n",
              "      <th>Data</th>\n",
              "      <th>Test</th>\n",
              "      <th></th>\n",
              "    </tr>\n",
              "  </thead>\n",
              "  <tbody>\n",
              "    <tr>\n",
              "      <th rowspan=\"2\" valign=\"top\">Anger</th>\n",
              "      <th>Sensitivity</th>\n",
              "      <td>0.003</td>\n",
              "    </tr>\n",
              "    <tr>\n",
              "      <th>Specificity</th>\n",
              "      <td>0.012</td>\n",
              "    </tr>\n",
              "    <tr>\n",
              "      <th rowspan=\"2\" valign=\"top\">Disgust</th>\n",
              "      <th>Sensitivity</th>\n",
              "      <td>0.010</td>\n",
              "    </tr>\n",
              "    <tr>\n",
              "      <th>Specificity</th>\n",
              "      <td>0.006</td>\n",
              "    </tr>\n",
              "    <tr>\n",
              "      <th rowspan=\"2\" valign=\"top\">Fear</th>\n",
              "      <th>Sensitivity</th>\n",
              "      <td>0.004</td>\n",
              "    </tr>\n",
              "    <tr>\n",
              "      <th>Specificity</th>\n",
              "      <td>0.006</td>\n",
              "    </tr>\n",
              "    <tr>\n",
              "      <th rowspan=\"2\" valign=\"top\">Full</th>\n",
              "      <th>Sensitivity</th>\n",
              "      <td>0.003</td>\n",
              "    </tr>\n",
              "    <tr>\n",
              "      <th>Specificity</th>\n",
              "      <td>0.004</td>\n",
              "    </tr>\n",
              "    <tr>\n",
              "      <th rowspan=\"2\" valign=\"top\">Happy</th>\n",
              "      <th>Sensitivity</th>\n",
              "      <td>0.003</td>\n",
              "    </tr>\n",
              "    <tr>\n",
              "      <th>Specificity</th>\n",
              "      <td>0.012</td>\n",
              "    </tr>\n",
              "    <tr>\n",
              "      <th rowspan=\"2\" valign=\"top\">Sad</th>\n",
              "      <th>Sensitivity</th>\n",
              "      <td>0.006</td>\n",
              "    </tr>\n",
              "    <tr>\n",
              "      <th>Specificity</th>\n",
              "      <td>0.004</td>\n",
              "    </tr>\n",
              "    <tr>\n",
              "      <th rowspan=\"2\" valign=\"top\">Surprise</th>\n",
              "      <th>Sensitivity</th>\n",
              "      <td>0.016</td>\n",
              "    </tr>\n",
              "    <tr>\n",
              "      <th>Specificity</th>\n",
              "      <td>0.004</td>\n",
              "    </tr>\n",
              "  </tbody>\n",
              "</table>\n",
              "</div>"
            ],
            "text/plain": [
              "                      Value\n",
              "Data     Test              \n",
              "Anger    Sensitivity  0.003\n",
              "         Specificity  0.012\n",
              "Disgust  Sensitivity  0.010\n",
              "         Specificity  0.006\n",
              "Fear     Sensitivity  0.004\n",
              "         Specificity  0.006\n",
              "Full     Sensitivity  0.003\n",
              "         Specificity  0.004\n",
              "Happy    Sensitivity  0.003\n",
              "         Specificity  0.012\n",
              "Sad      Sensitivity  0.006\n",
              "         Specificity  0.004\n",
              "Surprise Sensitivity  0.016\n",
              "         Specificity  0.004"
            ]
          },
          "metadata": {
            "tags": []
          },
          "execution_count": 35
        }
      ]
    },
    {
      "cell_type": "code",
      "metadata": {
        "colab": {
          "base_uri": "https://localhost:8080/"
        },
        "id": "XSRcXbw3oylD",
        "outputId": "4b5eb97e-7c82-4d89-800c-4a213a476169"
      },
      "source": [
        "pdnc_df_new = pd.melt(pdnc_df[pdnc_df['Model']=='2D CNN'], id_vars=['Data'], value_vars=['Sensitivity', 'Specificity'],\n",
        "        var_name='Test', value_name='Value')\n",
        "temp = pdnc_df_new[pdnc_df_new['Data']=='Full']\n",
        "print(\"Sensitivity for full data\")\n",
        "print(temp[temp['Test']=='Sensitivity'].mean())\n",
        "print(temp[temp['Test']=='Sensitivity'].std())\n",
        "\n",
        "print(\"Specificity for full data\")\n",
        "print(temp[temp['Test']=='Specificity'].mean())\n",
        "print(temp[temp['Test']=='Specificity'].std())"
      ],
      "execution_count": null,
      "outputs": [
        {
          "output_type": "stream",
          "text": [
            "Sensitivity for full data\n",
            "Value    0.990526\n",
            "dtype: float64\n",
            "Value    0.007916\n",
            "dtype: float64\n",
            "Specificity for full data\n",
            "Value    0.987719\n",
            "dtype: float64\n",
            "Value    0.012873\n",
            "dtype: float64\n"
          ],
          "name": "stdout"
        }
      ]
    },
    {
      "cell_type": "code",
      "metadata": {
        "colab": {
          "base_uri": "https://localhost:8080/",
          "height": 829
        },
        "id": "eCmsLWnQHKeE",
        "outputId": "68719d19-7233-416a-8bda-13c78256be9f"
      },
      "source": [
        "pdnc_df_new = pd.melt(pdnc_df[pdnc_df['Model']=='2D CNN'], id_vars=['Data'], value_vars=['Sensitivity', 'Specificity'],\n",
        "        var_name='Test', value_name='Value')\n",
        "print(pdnc_df_new)\n",
        "\n",
        "x = \"Data\"\n",
        "y = \"Value\"\n",
        "hue = \"Test\"\n",
        "\n",
        "ax = sns.barplot(data=pdnc_df_new, x=x, y=y, hue = hue, palette = \"Blues\", capsize=.05, ci=68)\n",
        "ax.set_ylim(bottom=0.80)\n",
        "ax.legend(loc='lower right', bbox_to_anchor=(1,0))\n",
        "ax.set_xlabel('Data',fontsize = 13, weight='bold')\n",
        "ax.set_ylabel('Sensitivity/Specificity',fontsize = 13, weight='bold')\n",
        "add_stat_annotation(ax, data=pdnc_df_new, x=x, y=y, hue=hue,\n",
        "                    box_pairs=[((\"Full\", \"Sensitivity\"), (\"Full\", \"Specificity\")),\n",
        "                                ((\"Sad\", \"Sensitivity\"), (\"Sad\", \"Specificity\")),\n",
        "                                 ((\"Happy\", \"Sensitivity\"), (\"Happy\", \"Specificity\")),\n",
        "                               ((\"Fear\", \"Sensitivity\"), (\"Fear\", \"Specificity\")),\n",
        "                               ((\"Disgust\", \"Sensitivity\"), (\"Disgust\", \"Specificity\")),\n",
        "                               ((\"Surprise\", \"Sensitivity\"), (\"Surprise\", \"Specificity\")),\n",
        "                               ((\"Anger\", \"Sensitivity\"), (\"Anger\", \"Specificity\"))\n",
        "                                ],\n",
        "                    test='t-test_ind', text_format='star', loc='inside', verbose=2)\n",
        "\n",
        "\n",
        "props = dict(boxstyle='round', facecolor='none', edgecolor='black', alpha=0.5)\n",
        "\n",
        "# place a text box in upper left in axes coords\n",
        "ax.text(0.4, 0.98, \"2D CNN\", transform=ax.transAxes, fontsize=14,\n",
        "        verticalalignment='top', bbox=props)\n",
        "\n",
        "plt.savefig('sens_and_speci_pdnc_2d.eps', format='eps', bbox_inches='tight')\n",
        "#FILE.download('sensitivity_valence.eps')"
      ],
      "execution_count": null,
      "outputs": [
        {
          "output_type": "stream",
          "text": [
            "      Data         Test     Value\n",
            "0     Full  Sensitivity  0.970230\n",
            "1     Full  Sensitivity  0.985115\n",
            "2     Full  Sensitivity  0.994587\n",
            "3     Full  Sensitivity  0.994587\n",
            "4     Full  Sensitivity  0.990528\n",
            "..     ...          ...       ...\n",
            "135  Anger  Specificity  0.992063\n",
            "136  Anger  Specificity  0.992063\n",
            "137  Anger  Specificity  1.000000\n",
            "138  Anger  Specificity  0.992063\n",
            "139  Anger  Specificity  1.000000\n",
            "\n",
            "[140 rows x 3 columns]\n",
            "p-value annotation legend:\n",
            "ns: 5.00e-02 < p <= 1.00e+00\n",
            "*: 1.00e-02 < p <= 5.00e-02\n",
            "**: 1.00e-03 < p <= 1.00e-02\n",
            "***: 1.00e-04 < p <= 1.00e-03\n",
            "****: p <= 1.00e-04\n",
            "\n",
            "Sad_Sensitivity v.s. Sad_Specificity: t-test independent samples with Bonferroni correction, P_val=1.000e+00 stat=-1.382e-01\n",
            "Full_Sensitivity v.s. Full_Specificity: t-test independent samples with Bonferroni correction, P_val=1.000e+00 stat=5.873e-01\n",
            "Happy_Sensitivity v.s. Happy_Specificity: t-test independent samples with Bonferroni correction, P_val=1.000e+00 stat=1.391e+00\n",
            "Fear_Sensitivity v.s. Fear_Specificity: t-test independent samples with Bonferroni correction, P_val=1.000e+00 stat=2.395e-01\n",
            "Disgust_Sensitivity v.s. Disgust_Specificity: t-test independent samples with Bonferroni correction, P_val=1.000e+00 stat=-4.976e-01\n",
            "Surprise_Sensitivity v.s. Surprise_Specificity: t-test independent samples with Bonferroni correction, P_val=1.000e+00 stat=-6.843e-01\n",
            "Anger_Sensitivity v.s. Anger_Specificity: t-test independent samples with Bonferroni correction, P_val=1.000e+00 stat=9.009e-01\n"
          ],
          "name": "stdout"
        },
        {
          "output_type": "stream",
          "text": [
            "The PostScript backend does not support transparency; partially transparent artists will be rendered opaque.\n",
            "The PostScript backend does not support transparency; partially transparent artists will be rendered opaque.\n",
            "The PostScript backend does not support transparency; partially transparent artists will be rendered opaque.\n"
          ],
          "name": "stderr"
        },
        {
          "output_type": "display_data",
          "data": {
            "image/png": "[encoded data removed]",
            "text/plain": [
              "<Figure size 432x288 with 1 Axes>"
            ]
          },
          "metadata": {
            "tags": [],
            "needs_background": "light"
          }
        }
      ]
    }
  ]
}