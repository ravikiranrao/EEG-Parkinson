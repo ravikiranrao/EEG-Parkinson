{
 "cells": [
  {
   "cell_type": "markdown",
   "metadata": {
    "pycharm": {
     "name": "#%% md\n"
    }
   },
   "source": [
    "This file is used for generating *EEG Images* from Spectral Power Vectors (SPV) features using the method specified [here](https://arxiv.org/abs/1511.06448). SPV features are obtained using `eeg_spectral.ipynb`. Refer Section III-E in the paper for the process involved in transforming SPV features to *EEG Images*. The highlighted part in the following image indicate the pipeline of the current file.\n",
    "\n",
    "Note: Thanks to Pouya Bashivan. Snippets in this code are based on [https://github.com/pbashivan/EEGLearn](https://github.com/pbashivan/EEGLearn)\n",
    "\n",
    "\n",
    "![EEG features to EEG Images](images/eeg_images.png)"
   ]
  },
  {
   "cell_type": "markdown",
   "metadata": {
    "pycharm": {
     "name": "#%% md\n"
    }
   },
   "source": [
    "# Imports"
   ]
  },
  {
   "cell_type": "code",
   "execution_count": 1,
   "metadata": {
    "pycharm": {
     "name": "#%%\n"
    }
   },
   "outputs": [],
   "source": [
    "import math as m\n",
    "import numpy as np\n",
    "from scipy.io import loadmat, savemat\n",
    "from scipy.interpolate import griddata\n",
    "from sklearn.preprocessing import scale"
   ]
  },
  {
   "cell_type": "markdown",
   "metadata": {
    "pycharm": {
     "name": "#%% md\n"
    }
   },
   "source": [
    "# EEG signal to Images"
   ]
  },
  {
   "cell_type": "code",
   "execution_count": 2,
   "metadata": {
    "id": "RRqq3MSVHlFx",
    "pycharm": {
     "name": "#%%\n"
    }
   },
   "outputs": [],
   "source": [
    "\n",
    "def cart2sph(x, y, z):\n",
    "    \"\"\"\n",
    "    Transform Cartesian coordinates to spherical\n",
    "    :param x: X coordinate\n",
    "    :param y: Y coordinate\n",
    "    :param z: Z coordinate\n",
    "    :return: radius, elevation, azimuth\n",
    "    \"\"\"\n",
    "    x2_y2 = x**2 + y**2\n",
    "    r = m.sqrt(x2_y2 + z**2)                    # r\n",
    "    elev = m.atan2(z, m.sqrt(x2_y2))            # Elevation\n",
    "    az = m.atan2(y, x)                          # Azimuth\n",
    "    return r, elev, az\n",
    "\n",
    "\n",
    "def pol2cart(theta, rho):\n",
    "    \"\"\"\n",
    "    Transform polar coordinates to Cartesian\n",
    "    :param theta: angle value\n",
    "    :param rho: radius value\n",
    "    :return: X, Y\n",
    "    \"\"\"\n",
    "    return rho * m.cos(theta), rho * m.sin(theta)\n",
    "\n",
    "\n",
    "def azim_proj(pos):\n",
    "    \"\"\"\n",
    "    Computes the Azimuthal Equidistant Projection of input point in 3D Cartesian Coordinates.\n",
    "    Imagine a plane being placed against (tangent to) a globe. If\n",
    "    a light source inside the globe projects the graticule onto\n",
    "    the plane the result would be a planar, or azimuthal, map\n",
    "    projection.\n",
    "\n",
    "    :param pos: position in 3D Cartesian coordinates\n",
    "    :return: projected coordinates using Azimuthal Equidistant Projection\n",
    "    \"\"\"\n",
    "    [r, elev, az] = cart2sph(pos[0], pos[1], pos[2])\n",
    "    return pol2cart(az, m.pi / 2 - elev)\n",
    "\n",
    "def augment_EEG(data, stdMult, pca=False, n_components=2):\n",
    "    \"\"\"\n",
    "    Augment data by adding normal noise to each feature.\n",
    "    :param data: EEG feature data as a matrix (n_samples x n_features)\n",
    "    :param stdMult: Multiplier for std of added noise\n",
    "    :param pca: if True will perform PCA on data and add noise proportional to PCA components.\n",
    "    :param n_components: Number of components to consider when using PCA.\n",
    "    :return: Augmented data as a matrix (n_samples x n_features)\n",
    "    \"\"\"\n",
    "    augData = np.zeros(data.shape)\n",
    "    if pca:\n",
    "        pca = PCA(n_components=n_components)\n",
    "        pca.fit(data)\n",
    "        components = pca.components_\n",
    "        variances = pca.explained_variance_ratio_\n",
    "        coeffs = np.random.normal(scale=stdMult, size=pca.n_components) * variances\n",
    "        for s, sample in enumerate(data):\n",
    "            augData[s, :] = sample + (components * coeffs.reshape((n_components, -1))).sum(axis=0)\n",
    "    else:\n",
    "        # Add Gaussian noise with std determined by weighted std of each feature\n",
    "        for f, feat in enumerate(data.transpose()):\n",
    "            augData[:, f] = feat + np.random.normal(scale=stdMult*np.std(feat), size=feat.size)\n",
    "    return augData\n",
    "    \n",
    "def gen_images(locs, features, n_gridpoints, normalize=True,\n",
    "               augment=False, pca=False, std_mult=0.1, n_components=2, edgeless=False):\n",
    "    \"\"\"\n",
    "    Generates EEG images given electrode locations in 2D space and multiple feature values for each electrode\n",
    "\n",
    "    :param locs: An array with shape [n_electrodes, 2] containing X, Y\n",
    "                        coordinates for each electrode.\n",
    "    :param features: Feature matrix as [n_samples, n_features]\n",
    "                                Features are as columns.\n",
    "                                Features corresponding to each frequency band are concatenated.\n",
    "                                (alpha1, alpha2, ..., beta1, beta2,...)\n",
    "    :param n_gridpoints: Number of pixels in the output images\n",
    "    :param normalize:   Flag for whether to normalize each band over all samples\n",
    "    :param augment:     Flag for generating augmented images\n",
    "    :param pca:         Flag for PCA based data augmentation\n",
    "    :param std_mult     Multiplier for std of added noise\n",
    "    :param n_components: Number of components in PCA to retain for augmentation\n",
    "    :param edgeless:    If True generates edgeless images by adding artificial channels\n",
    "                        at four corners of the image with value = 0 (default=False).\n",
    "    :return:            Tensor of size [samples, colors, W, H] containing generated\n",
    "                        images.\n",
    "    \"\"\"\n",
    "    feat_array_temp = []\n",
    "    nElectrodes = locs.shape[0]     # Number of electrodes\n",
    "\n",
    "    # Test whether the feature vector length is divisible by number of electrodes\n",
    "    assert features.shape[1] % nElectrodes == 0\n",
    "    n_colors = features.shape[1] / nElectrodes\n",
    "    for c in range(int(n_colors)):\n",
    "        feat_array_temp.append(features[:, c * nElectrodes : nElectrodes * (c+1)])\n",
    "    #print(feat_array_temp)\n",
    "    if augment:\n",
    "        if pca:\n",
    "            for c in range(int(n_colors)):\n",
    "                feat_array_temp[c] = augment_EEG(feat_array_temp[c], std_mult, pca=True, n_components=n_components)\n",
    "        else:\n",
    "            for c in range(int(n_colors)):\n",
    "                feat_array_temp[c] = augment_EEG(feat_array_temp[c], std_mult, pca=False, n_components=n_components)\n",
    "    n_samples = features.shape[0]\n",
    "    #print(n_samples)\n",
    "    # Interpolate the values\n",
    "    grid_x, grid_y = np.mgrid[\n",
    "                     min(locs[:, 0]):max(locs[:, 0]):n_gridpoints*1j,\n",
    "                     min(locs[:, 1]):max(locs[:, 1]):n_gridpoints*1j\n",
    "                     ]\n",
    "    temp_interp = []\n",
    "    for c in range(int(n_colors)):\n",
    "        temp_interp.append(np.zeros([n_samples, n_gridpoints, n_gridpoints]))\n",
    "    #print(temp_interp)\n",
    "    # Generate edgeless images\n",
    "    if edgeless:\n",
    "        min_x, min_y = np.min(locs, axis=0)\n",
    "        max_x, max_y = np.max(locs, axis=0)\n",
    "        locs = np.append(locs, np.array([[min_x, min_y], [min_x, max_y], [max_x, min_y], [max_x, max_y]]), axis=0)\n",
    "        for c in range(n_colors):\n",
    "            feat_array_temp[c] = np.append(feat_array_temp[c], np.zeros((n_samples, 4)), axis=1)\n",
    "\n",
    "    # Interpolating\n",
    "    for i in range(n_samples):\n",
    "      for c in range(int(n_colors)):\n",
    "        temp_interp[c][i, :, :] = griddata(locs, feat_array_temp[c][i, :], (grid_x, grid_y),\n",
    "                                           method='cubic', fill_value=np.nan)\n",
    "        #print('Interpolating {0}/{1}\\n'.format(i + 1, n_samples), end='\\n')\n",
    "    #print(temp_interp)\n",
    "\n",
    "    # Normalizing\n",
    "    del feat_array_temp\n",
    "    \n",
    "    for c in range(int(n_colors)):\n",
    "        if normalize:\n",
    "            temp_interp[c][~np.isnan(temp_interp[c])] = temp_interp[c][~np.isnan(temp_interp[c])].astype(float)\n",
    "            temp_interp[c][~np.isnan(temp_interp[c])] = \\\n",
    "                scale(temp_interp[c][~np.isnan(temp_interp[c])])\n",
    "        temp_interp[c] = np.nan_to_num(temp_interp[c])\n",
    "    return np.swapaxes(np.asarray(temp_interp), 0, 1)     # swap axes to have [samples, colors, W, H]\n",
    "\n",
    "\n",
    "def gen_images_3d(locs, features, n_gridpoints, normalize=True,\n",
    "               augment=False, pca=False, std_mult=0.1, n_components=2, edgeless=False):\n",
    "  \"\"\"\n",
    "  EEG to images for 3D CNNs.\n",
    "  :features: Feature matrix of the shape [n_samples, length, n_features] (eg: (14800, 5, 42))\n",
    "  \"\"\"\n",
    "  n_samples = features.shape[0]\n",
    "  nElectrodes = locs.shape[0]     # Number of electrodes\n",
    "  # Test whether the feature vector length is divisible by number of electrodes\n",
    "  assert features.shape[2] % nElectrodes == 0\n",
    "  n_colors = features.shape[2] / nElectrodes\n",
    "\n",
    "  images_mat = np.empty((0, int(features.shape[1]),int(n_colors), n_gridpoints, n_gridpoints)) #shape (0, 5, 3, 32, 32)\n",
    "  for sample in range(n_samples):\n",
    "    feature_split = features[sample, :, :] #shape (5, 42)\n",
    "    temp_images_mat = gen_images(locs, feature_split, n_gridpoints, normalize=True, augment=False, \n",
    "                                 pca=False, std_mult=0.1, n_components =2, edgeless=False)\n",
    "    temp_images_mat = np.expand_dims(temp_images_mat, axis=0) #shape (1, 5, 3, 32, 32)\n",
    "    images_mat = np.concatenate((images_mat, temp_images_mat), axis=0) # shape (samples, 5, 3, 32, 32)\n",
    "    #print(images_mat.shape)\n",
    "  return images_mat\n"
   ]
  },
  {
   "cell_type": "markdown",
   "metadata": {
    "pycharm": {
     "name": "#%% md\n"
    }
   },
   "source": [
    "# Main loop"
   ]
  },
  {
   "cell_type": "code",
   "execution_count": null,
   "metadata": {
    "colab": {
     "base_uri": "https://localhost:8080/"
    },
    "id": "M4GNri34HlF0",
    "outputId": "5eb9e50f-1cb2-4909-920c-70296d6795cc",
    "pycharm": {
     "is_executing": true,
     "name": "#%%\n"
    }
   },
   "outputs": [],
   "source": [
    "if __name__ == '__main__':\n",
    " \n",
    "    # Load electrode locations\n",
    "    print('Loading data...')\n",
    "    locs = loadmat('../data/chans.mat')\n",
    "    locs_3d = locs['x']\n",
    "    locs_2d = []\n",
    "    # Convert to 2D\n",
    "    for e in locs_3d:\n",
    "        locs_2d.append(azim_proj(e))\n",
    "    \n",
    "    #matrices = ['full_feat']\n",
    "    matrices = ['full_feat', 'pd_feat', 'nc_feat', 'E1_feat', 'E2_feat', 'E3_feat', 'E4_feat', 'E5_feat', 'E6_feat']\n",
    "    matContent = loadmat('../data/spectral_feat_tensor_full_with_full_labels.mat')\n",
    "    filename = '../data/spectral_feat_tensor_full_with_full_labels_images_128_new.pkl'\n",
    "    n_grid = 128\n",
    "\n",
    "    for matrix in matrices:\n",
    "        features = matContent[matrix]\n",
    "        del matContent[matrix]\n",
    "        print('Generating images for', matrix)\n",
    "        print(matrix, 'shape:', features.shape)\n",
    "        images = gen_images(np.array(locs_2d), features, n_grid, normalize = True)\n",
    "        print('Image size:', np.shape(images))\n",
    "        matContent[matrix+'_img'] = images\n",
    "        del images\n",
    "        print('\\n')\n",
    "    print(\"saving...\")\n",
    "    #savemat(filename, matContent)\n",
    "    print(\"Save file done..\")"
   ]
  },
  {
   "cell_type": "code",
   "execution_count": 7,
   "metadata": {
    "pycharm": {
     "name": "#%%\n"
    }
   },
   "outputs": [],
   "source": [
    "\n",
    "import pickle\n",
    "filename = '../data/spectral_feat_tensor_full_with_full_labels_images_128_new.pkl'\n",
    "try:\n",
    "    mat_file = open(filename, 'wb')\n",
    "    #pickle.dump(matContent, mat_file, pickle.HIGHEST_PROTOCOL)\n",
    "    pickle.dump(matContent, mat_file, protocol=4)\n",
    "    mat_file.close()\n",
    "except:\n",
    "    print(\"Something went wrong\")\n"
   ]
  },
  {
   "cell_type": "markdown",
   "metadata": {
    "pycharm": {
     "name": "#%% md\n"
    }
   },
   "source": [
    "# Archive"
   ]
  },
  {
   "cell_type": "code",
   "execution_count": 5,
   "metadata": {
    "colab": {
     "base_uri": "https://localhost:8080/"
    },
    "id": "czmB8mu-HlF4",
    "outputId": "ba1be067-1fec-4749-b1d9-262c187a96f8",
    "pycharm": {
     "name": "#%%\n"
    }
   },
   "outputs": [
    {
     "data": {
      "text/plain": [
       "\"\\nprint('Generating images...')\\nimages = gen_images(np.array(locs_2d),features, 128, normalize=True)\\nprint('\\n')\\n#print(images)\\nprint(np.shape(images))\\n\""
      ]
     },
     "execution_count": 5,
     "metadata": {},
     "output_type": "execute_result"
    }
   ],
   "source": [
    "'''\n",
    "print('Generating images...')\n",
    "images = gen_images(np.array(locs_2d),features, 128, normalize=True)\n",
    "print('\\n')\n",
    "#print(images)\n",
    "print(np.shape(images))\n",
    "'''"
   ]
  },
  {
   "cell_type": "code",
   "execution_count": 6,
   "metadata": {
    "colab": {
     "base_uri": "https://localhost:8080/",
     "height": 334
    },
    "id": "3qCwdL25CE3N",
    "outputId": "b860bb98-e8ec-4b8a-c200-a2115e08168f",
    "pycharm": {
     "name": "#%%\n"
    }
   },
   "outputs": [
    {
     "data": {
      "text/plain": [
       "'\\nimport PIL\\nimport PIL.Image\\nimport tensorflow as tf\\nimport matplotlib.pyplot as plt\\nimages1 = np.swapaxes(images,2,4)\\nprint(images1.shape)\\nimages1 = np.swapaxes(images1,2,3)\\nprint(images1.shape)\\nplt.imshow(images1[1995][3])\\n'"
      ]
     },
     "execution_count": 6,
     "metadata": {},
     "output_type": "execute_result"
    }
   ],
   "source": [
    "'''\n",
    "import PIL\n",
    "import PIL.Image\n",
    "import tensorflow as tf\n",
    "import matplotlib.pyplot as plt\n",
    "images1 = np.swapaxes(images,2,4)\n",
    "print(images1.shape)\n",
    "images1 = np.swapaxes(images1,2,3)\n",
    "print(images1.shape)\n",
    "plt.imshow(images1[1995][3])\n",
    "'''"
   ]
  }
 ],
 "metadata": {
  "colab": {
   "collapsed_sections": [],
   "name": "eeg_to_images.ipynb",
   "provenance": []
  },
  "kernelspec": {
   "display_name": "Python 3",
   "language": "python",
   "name": "python3"
  },
  "language_info": {
   "codemirror_mode": {
    "name": "ipython",
    "version": 3
   },
   "file_extension": ".py",
   "mimetype": "text/x-python",
   "name": "python",
   "nbconvert_exporter": "python",
   "pygments_lexer": "ipython3",
   "version": "3.8.5"
  }
 },
 "nbformat": 4,
 "nbformat_minor": 1
}
